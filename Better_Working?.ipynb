{
  "cells": [
    {
      "cell_type": "markdown",
      "metadata": {
        "id": "view-in-github",
        "colab_type": "text"
      },
      "source": [
        "<a href=\"https://colab.research.google.com/github/Webdev4better/FutureMakers-2022-Team-Deep-Green/blob/master/Better_Working%3F.ipynb\" target=\"_parent\"><img src=\"https://colab.research.google.com/assets/colab-badge.svg\" alt=\"Open In Colab\"/></a>"
      ]
    },
    {
      "cell_type": "code",
      "execution_count": 1,
      "metadata": {
        "id": "2vTvIjkB9hB-"
      },
      "outputs": [],
      "source": [
        "# Clearing backend\n",
        "from tensorflow.keras import backend\n",
        "backend.clear_session()"
      ]
    },
    {
      "cell_type": "markdown",
      "metadata": {
        "id": "89zwr8t3hUIQ"
      },
      "source": [
        "## Data Processing"
      ]
    },
    {
      "cell_type": "code",
      "execution_count": 2,
      "metadata": {
        "colab": {
          "base_uri": "https://localhost:8080/"
        },
        "id": "fCp9jfvzG8cb",
        "outputId": "719874fe-a54c-4af7-f496-1bab82fb4e58"
      },
      "outputs": [
        {
          "output_type": "stream",
          "name": "stdout",
          "text": [
            "Looking in indexes: https://pypi.org/simple, https://us-python.pkg.dev/colab-wheels/public/simple/\n",
            "Requirement already satisfied: kaggle in /usr/local/lib/python3.7/dist-packages (1.5.12)\n",
            "Requirement already satisfied: python-dateutil in /usr/local/lib/python3.7/dist-packages (from kaggle) (2.8.2)\n",
            "Requirement already satisfied: requests in /usr/local/lib/python3.7/dist-packages (from kaggle) (2.23.0)\n",
            "Requirement already satisfied: tqdm in /usr/local/lib/python3.7/dist-packages (from kaggle) (4.64.0)\n",
            "Requirement already satisfied: urllib3 in /usr/local/lib/python3.7/dist-packages (from kaggle) (1.24.3)\n",
            "Requirement already satisfied: certifi in /usr/local/lib/python3.7/dist-packages (from kaggle) (2022.6.15)\n",
            "Requirement already satisfied: six>=1.10 in /usr/local/lib/python3.7/dist-packages (from kaggle) (1.15.0)\n",
            "Requirement already satisfied: python-slugify in /usr/local/lib/python3.7/dist-packages (from kaggle) (6.1.2)\n",
            "Requirement already satisfied: text-unidecode>=1.3 in /usr/local/lib/python3.7/dist-packages (from python-slugify->kaggle) (1.3)\n",
            "Requirement already satisfied: chardet<4,>=3.0.2 in /usr/local/lib/python3.7/dist-packages (from requests->kaggle) (3.0.4)\n",
            "Requirement already satisfied: idna<3,>=2.5 in /usr/local/lib/python3.7/dist-packages (from requests->kaggle) (2.10)\n",
            "Downloading next-day-wildfire-spread.zip to /content\n",
            "100% 2.07G/2.08G [00:11<00:00, 225MB/s]\n",
            "100% 2.08G/2.08G [00:11<00:00, 200MB/s]\n"
          ]
        }
      ],
      "source": [
        "import re\n",
        "from typing import Dict, List, Optional, Text, Tuple\n",
        "import matplotlib.pyplot as plt\n",
        "from matplotlib import colors\n",
        "import numpy as np\n",
        "import tensorflow as tf\n",
        "from tensorflow import keras\n",
        "from tensorflow.keras import layers\n",
        "from tensorflow.keras import *\n",
        "# run these commands in linux terminal and add kaggle.json api from account page\n",
        "! pip install kaggle\n",
        "! mkdir ~/.kaggle\n",
        "! cp kaggle.json ~/.kaggle/\n",
        "\n",
        "! chmod 600 ~/.kaggle/kaggle.json\n",
        "! kaggle datasets download fantineh/next-day-wildfire-spread\n"
      ]
    },
    {
      "cell_type": "code",
      "execution_count": 3,
      "metadata": {
        "colab": {
          "base_uri": "https://localhost:8080/"
        },
        "id": "UTjr8ObrTeNG",
        "outputId": "ac5ee008-dee7-4f80-eec2-da3365ec5579"
      },
      "outputs": [
        {
          "output_type": "stream",
          "name": "stdout",
          "text": [
            "Archive:  next-day-wildfire-spread.zip\n",
            "  inflating: next_day_wildfire_spread_eval_00.tfrecord  \n",
            "  inflating: next_day_wildfire_spread_eval_01.tfrecord  \n",
            "  inflating: next_day_wildfire_spread_test_00.tfrecord  \n",
            "  inflating: next_day_wildfire_spread_test_01.tfrecord  \n",
            "  inflating: next_day_wildfire_spread_train_00.tfrecord  \n",
            "  inflating: next_day_wildfire_spread_train_01.tfrecord  \n",
            "  inflating: next_day_wildfire_spread_train_02.tfrecord  \n",
            "  inflating: next_day_wildfire_spread_train_03.tfrecord  \n",
            "  inflating: next_day_wildfire_spread_train_04.tfrecord  \n",
            "  inflating: next_day_wildfire_spread_train_05.tfrecord  \n",
            "  inflating: next_day_wildfire_spread_train_06.tfrecord  \n",
            "  inflating: next_day_wildfire_spread_train_07.tfrecord  \n",
            "  inflating: next_day_wildfire_spread_train_08.tfrecord  \n",
            "  inflating: next_day_wildfire_spread_train_09.tfrecord  \n",
            "  inflating: next_day_wildfire_spread_train_10.tfrecord  \n",
            "  inflating: next_day_wildfire_spread_train_11.tfrecord  \n",
            "  inflating: next_day_wildfire_spread_train_12.tfrecord  \n",
            "  inflating: next_day_wildfire_spread_train_13.tfrecord  \n",
            "  inflating: next_day_wildfire_spread_train_14.tfrecord  \n"
          ]
        }
      ],
      "source": [
        "!unzip next-day-wildfire-spread.zip"
      ]
    },
    {
      "cell_type": "code",
      "execution_count": 4,
      "metadata": {
        "id": "UfEdraeKSlyh"
      },
      "outputs": [],
      "source": [
        "train_data = '/content/next_day_wildfire_spread_train_*'\n",
        "test_data = '/content/next_day_wildfire_spread_test_*'"
      ]
    },
    {
      "cell_type": "code",
      "execution_count": 5,
      "metadata": {
        "id": "w3wL41YHHFxf"
      },
      "outputs": [],
      "source": [
        "\"\"\"Constants for the data reader.\"\"\"\n",
        "\n",
        "INPUT_FEATURES = ['elevation', 'th', 'vs',  'tmmn', 'tmmx', 'sph', \n",
        "                  'pr', 'pdsi', 'NDVI', 'population', 'erc', 'PrevFireMask']\n",
        "\n",
        "OUTPUT_FEATURES = ['FireMask', ]\n",
        "\n",
        "# Data statistics \n",
        "# For each variable, the statistics are ordered in the form:\n",
        "# (min_clip, max_clip, mean, standard deviation)\n",
        "DATA_STATS = {\n",
        "    # Elevation in m.\n",
        "    # 0.1 percentile, 99.9 percentile\n",
        "    'elevation': (0.0, 3141.0, 657.3003, 649.0147),\n",
        "    # Pressure\n",
        "    # 0.1 percentile, 99.9 percentile\n",
        "    'pdsi': (-6.12974870967865, 7.876040384292651, -0.0052714925, 2.6823447),\n",
        "    'NDVI': (-9821.0, 9996.0, 5157.625, 2466.6677),  # min, max\n",
        "    # Precipitation in mm.\n",
        "    # Negative values do not make sense, so min is set to 0.\n",
        "    # 0., 99.9 percentile\n",
        "    'pr': (0.0, 44.53038024902344, 1.7398051, 4.482833),\n",
        "    # Specific humidity.\n",
        "    # Negative values do not make sense, so min is set to 0.\n",
        "    # The range of specific humidity is up to 100% so max is 1.\n",
        "    'sph': (0., 1., 0.0071658953, 0.0042835088),\n",
        "    # Wind direction in degrees clockwise from north.\n",
        "    # Thus min set to 0 and max set to 360.\n",
        "    'th': (0., 360.0, 190.32976, 72.59854),\n",
        "    # Min/max temperature in Kelvin.\n",
        "    # -20 degree C, 99.9 percentile\n",
        "    'tmmn': (253.15, 298.94891357421875, 281.08768, 8.982386),\n",
        "    # -20 degree C, 99.9 percentile\n",
        "    'tmmx': (253.15, 315.09228515625, 295.17383, 9.815496),\n",
        "    # Wind speed in m/s.\n",
        "    # Negative values do not make sense, given there is a wind direction.\n",
        "    # 0., 99.9 percentile\n",
        "    'vs': (0.0, 10.024310074806237, 3.8500874, 1.4109988),\n",
        "    # NFDRS fire danger index energy release component expressed in BTU's per\n",
        "    # square foot.\n",
        "    # Negative values do not make sense. Thus min set to zero.\n",
        "    # 0., 99.9 percentile\n",
        "    'erc': (0.0, 106.24891662597656, 37.326267, 20.846027),\n",
        "    # Population density\n",
        "    # min, 99.9 percentile\n",
        "    'population': (0., 2534.06298828125, 25.531384, 154.72331),\n",
        "    # We don't want to normalize the FireMasks.\n",
        "    # 1 indicates fire, 0 no fire, -1 unlabeled data\n",
        "    'PrevFireMask': (-1., 1., 0., 1.),\n",
        "    'FireMask': (-1., 1., 0., 1.)\n",
        "}"
      ]
    },
    {
      "cell_type": "code",
      "execution_count": 6,
      "metadata": {
        "id": "lrCIFDZJHGLu"
      },
      "outputs": [],
      "source": [
        "\"\"\"Library of common functions used in deep learning neural networks.\n",
        "\"\"\"\n",
        "def random_crop_input_and_output_images(\n",
        "    input_img: tf.Tensor,\n",
        "    output_img: tf.Tensor,\n",
        "    sample_size: int,\n",
        "    num_in_channels: int,\n",
        "    num_out_channels: int,\n",
        ") -> Tuple[tf.Tensor, tf.Tensor]:\n",
        "  \"\"\"Randomly axis-align crop input and output image tensors.\n",
        "\n",
        "  Args:\n",
        "    input_img: tensor with dimensions HWC.\n",
        "    output_img: tensor with dimensions HWC.\n",
        "    sample_size: side length (square) to crop to.\n",
        "    num_in_channels: number of channels in input_img.\n",
        "    num_out_channels: number of channels in output_img.\n",
        "  Returns:\n",
        "    input_img: tensor with dimensions HWC.\n",
        "    output_img: tensor with dimensions HWC.\n",
        "  \"\"\"\n",
        "  combined = tf.concat([input_img, output_img], axis=2)\n",
        "  combined = tf.image.random_crop(\n",
        "      combined,\n",
        "      [sample_size, sample_size, num_in_channels + num_out_channels])\n",
        "  input_img = combined[:, :, 0:num_in_channels]\n",
        "  output_img = combined[:, :, -num_out_channels:]\n",
        "  return input_img, output_img\n",
        "\n",
        "\n",
        "def center_crop_input_and_output_images(\n",
        "    input_img: tf.Tensor,\n",
        "    output_img: tf.Tensor,\n",
        "    sample_size: int,\n",
        ") -> Tuple[tf.Tensor, tf.Tensor]:\n",
        "  \"\"\"Center crops input and output image tensors.\n",
        "\n",
        "  Args:\n",
        "    input_img: tensor with dimensions HWC.\n",
        "    output_img: tensor with dimensions HWC.\n",
        "    sample_size: side length (square) to crop to.\n",
        "  Returns:\n",
        "    input_img: tensor with dimensions HWC.\n",
        "    output_img: tensor with dimensions HWC.\n",
        "  \"\"\"\n",
        "  central_fraction = sample_size / input_img.shape[0]\n",
        "  input_img = tf.image.central_crop(input_img, central_fraction)\n",
        "  output_img = tf.image.central_crop(output_img, central_fraction)\n",
        "  return input_img, output_img"
      ]
    },
    {
      "cell_type": "code",
      "execution_count": 7,
      "metadata": {
        "id": "j2UFH5wUHN3h"
      },
      "outputs": [],
      "source": [
        "\"\"\"Dataset reader for Earth Engine data.\"\"\"\n",
        "\n",
        "def _get_base_key(key: Text) -> Text:\n",
        "  \"\"\"Extracts the base key from the provided key.\n",
        "\n",
        "  Earth Engine exports TFRecords containing each data variable with its\n",
        "  corresponding variable name. In the case of time sequences, the name of the\n",
        "  data variable is of the form 'variable_1', 'variable_2', ..., 'variable_n',\n",
        "  where 'variable' is the name of the variable, and n the number of elements\n",
        "  in the time sequence. Extracting the base key ensures that each step of the\n",
        "  time sequence goes through the same normalization steps.\n",
        "  The base key obeys the following naming pattern: '([a-zA-Z]+)'\n",
        "  For instance, for an input key 'variable_1', this function returns 'variable'.\n",
        "  For an input key 'variable', this function simply returns 'variable'.\n",
        "\n",
        "  Args:\n",
        "    key: Input key.\n",
        "\n",
        "  Returns:\n",
        "    The corresponding base key.\n",
        "\n",
        "  Raises:\n",
        "    ValueError when `key` does not match the expected pattern.\n",
        "  \"\"\"\n",
        "  match = re.match(r'([a-zA-Z]+)', key)\n",
        "  if match:\n",
        "    return match.group(1)\n",
        "  raise ValueError(\n",
        "      'The provided key does not match the expected pattern: {}'.format(key))\n",
        "\n",
        "\n",
        "def _clip_and_rescale(inputs: tf.Tensor, key: Text) -> tf.Tensor:\n",
        "  \"\"\"Clips and rescales inputs with the stats corresponding to `key`.\n",
        "\n",
        "  Args:\n",
        "    inputs: Inputs to clip and rescale.\n",
        "    key: Key describing the inputs.\n",
        "\n",
        "  Returns:\n",
        "    Clipped and rescaled input.\n",
        "\n",
        "  Raises:\n",
        "    ValueError if there are no data statistics available for `key`.\n",
        "  \"\"\"\n",
        "  base_key = _get_base_key(key)\n",
        "  if base_key not in DATA_STATS:\n",
        "    raise ValueError(\n",
        "        'No data statistics available for the requested key: {}.'.format(key))\n",
        "  min_val, max_val, _, _ = DATA_STATS[base_key]\n",
        "  inputs = tf.clip_by_value(inputs, min_val, max_val)\n",
        "  return tf.math.divide_no_nan((inputs - min_val), (max_val - min_val))\n",
        "\n",
        "\n",
        "def _clip_and_normalize(inputs: tf.Tensor, key: Text) -> tf.Tensor:\n",
        "  \"\"\"Clips and normalizes inputs with the stats corresponding to `key`.\n",
        "\n",
        "  Args:\n",
        "    inputs: Inputs to clip and normalize.\n",
        "    key: Key describing the inputs.\n",
        "\n",
        "  Returns:\n",
        "    Clipped and normalized input.\n",
        "\n",
        "  Raises:\n",
        "    ValueError if there are no data statistics available for `key`.\n",
        "  \"\"\"\n",
        "  base_key = _get_base_key(key)\n",
        "  if base_key not in DATA_STATS:\n",
        "    raise ValueError(\n",
        "        'No data statistics available for the requested key: {}.'.format(key))\n",
        "  min_val, max_val, mean, std = DATA_STATS[base_key]\n",
        "  inputs = tf.clip_by_value(inputs, min_val, max_val)\n",
        "  inputs = inputs - mean\n",
        "  return tf.math.divide_no_nan(inputs, std)\n",
        "\n",
        "def _get_features_dict(\n",
        "    sample_size: int,\n",
        "    features: List[Text],\n",
        ") -> Dict[Text, tf.io.FixedLenFeature]:\n",
        "  \"\"\"Creates a features dictionary for TensorFlow IO.\n",
        "\n",
        "  Args:\n",
        "    sample_size: Size of the input tiles (square).\n",
        "    features: List of feature names.\n",
        "\n",
        "  Returns:\n",
        "    A features dictionary for TensorFlow IO.\n",
        "  \"\"\"\n",
        "  sample_shape = [sample_size, sample_size]\n",
        "  features = set(features)\n",
        "  columns = [\n",
        "      tf.io.FixedLenFeature(shape=sample_shape, dtype=tf.float32)\n",
        "      for _ in features\n",
        "  ]\n",
        "  return dict(zip(features, columns))\n",
        "\n",
        "\n",
        "def _parse_fn(\n",
        "    example_proto: tf.train.Example, data_size: int, sample_size: int,\n",
        "    num_in_channels: int, clip_and_normalize: bool,\n",
        "    clip_and_rescale: bool, random_crop: bool, center_crop: bool,\n",
        ") -> Tuple[tf.Tensor, tf.Tensor]:\n",
        "  \"\"\"Reads a serialized example.\n",
        "\n",
        "  Args:\n",
        "    example_proto: A TensorFlow example protobuf.\n",
        "    data_size: Size of tiles (square) as read from input files.\n",
        "    sample_size: Size the tiles (square) when input into the model.\n",
        "    num_in_channels: Number of input channels.\n",
        "    clip_and_normalize: True if the data should be clipped and normalized.\n",
        "    clip_and_rescale: True if the data should be clipped and rescaled.\n",
        "    random_crop: True if the data should be randomly cropped.\n",
        "    center_crop: True if the data should be cropped in the center.\n",
        "\n",
        "  Returns:\n",
        "    (input_img, output_img) tuple of inputs and outputs to the ML model.\n",
        "  \"\"\"\n",
        "  if (random_crop and center_crop):\n",
        "    raise ValueError('Cannot have both random_crop and center_crop be True')\n",
        "  input_features, output_features = INPUT_FEATURES, OUTPUT_FEATURES\n",
        "  feature_names = input_features + output_features\n",
        "  features_dict = _get_features_dict(data_size, feature_names)\n",
        "  features = tf.io.parse_single_example(example_proto, features_dict)\n",
        "\n",
        "  if clip_and_normalize:\n",
        "    inputs_list = [\n",
        "        _clip_and_normalize(features.get(key), key) for key in input_features\n",
        "    ]\n",
        "  elif clip_and_rescale:\n",
        "    inputs_list = [\n",
        "        _clip_and_rescale(features.get(key), key) for key in input_features\n",
        "    ]\n",
        "  else:\n",
        "    inputs_list = [features.get(key) for key in input_features]\n",
        "  \n",
        "  inputs_stacked = tf.stack(inputs_list, axis=0)\n",
        "  input_img = tf.transpose(inputs_stacked, [1, 2, 0])\n",
        "\n",
        "  outputs_list = [features.get(key) for key in output_features]\n",
        "  assert outputs_list, 'outputs_list should not be empty'\n",
        "  outputs_stacked = tf.stack(outputs_list, axis=0)\n",
        "\n",
        "  outputs_stacked_shape = outputs_stacked.get_shape().as_list()\n",
        "  assert len(outputs_stacked.shape) == 3, ('outputs_stacked should be rank 3'\n",
        "                                            'but dimensions of outputs_stacked'\n",
        "                                            f' are {outputs_stacked_shape}')\n",
        "  output_img = tf.transpose(outputs_stacked, [1, 2, 0])\n",
        "\n",
        "  if random_crop:\n",
        "    input_img, output_img = random_crop_input_and_output_images(\n",
        "        input_img, output_img, sample_size, num_in_channels, 1)\n",
        "  if center_crop:\n",
        "    input_img, output_img = center_crop_input_and_output_images(\n",
        "        input_img, output_img, sample_size)\n",
        "  return input_img, output_img\n",
        "\n",
        "\n",
        "def get_dataset(train_data: Text, data_size: int, sample_size: int,\n",
        "                batch_size: int, num_in_channels: int, compression_type: Text,\n",
        "                clip_and_normalize: bool, clip_and_rescale: bool,\n",
        "                random_crop: bool, center_crop: bool) -> tf.data.Dataset:\n",
        "  \"\"\"Gets the dataset from the file pattern.\n",
        "\n",
        "  Args:\n",
        "    train_data: Input file pattern.\n",
        "    data_size: Size of tiles (square) as read from input files.\n",
        "    sample_size: Size the tiles (square) when input into the model.\n",
        "    batch_size: Batch size.\n",
        "    num_in_channels: Number of input channels.\n",
        "    compression_type: Type of compression used for the input files.\n",
        "    clip_and_normalize: True if the data should be clipped and normalized, False\n",
        "      otherwise.\n",
        "    clip_and_rescale: True if the data should be clipped and rescaled, False\n",
        "      otherwise.\n",
        "    random_crop: True if the data should be randomly cropped.\n",
        "    center_crop: True if the data shoulde be cropped in the center.\n",
        "\n",
        "  Returns:\n",
        "    A TensorFlow dataset loaded from the input file pattern, with features\n",
        "    described in the constants, and with the shapes determined from the input\n",
        "    parameters to this function.\n",
        "  \"\"\"\n",
        "  if (clip_and_normalize and clip_and_rescale):\n",
        "    raise ValueError('Cannot have both normalize and rescale.')\n",
        "  dataset = tf.data.Dataset.list_files(train_data)\n",
        "  dataset = dataset.interleave(\n",
        "      lambda x: tf.data.TFRecordDataset(x, compression_type=compression_type),\n",
        "      num_parallel_calls=tf.data.experimental.AUTOTUNE)\n",
        "  dataset = dataset.prefetch(buffer_size=tf.data.experimental.AUTOTUNE)\n",
        "  dataset = dataset.map(\n",
        "      lambda x: _parse_fn(  # pylint: disable=g-long-lambda\n",
        "          x, data_size, sample_size, num_in_channels, clip_and_normalize,\n",
        "          clip_and_rescale, random_crop, center_crop),\n",
        "      num_parallel_calls=tf.data.experimental.AUTOTUNE)\n",
        "  dataset = dataset.batch(batch_size)\n",
        "  dataset = dataset.prefetch(buffer_size=tf.data.experimental.AUTOTUNE)\n",
        "  return dataset"
      ]
    },
    {
      "cell_type": "markdown",
      "metadata": {
        "id": "cVdrBxS4hPxN"
      },
      "source": [
        "### Data Visualizations"
      ]
    },
    {
      "cell_type": "code",
      "execution_count": 8,
      "metadata": {
        "id": "jTcQPZHEHYis"
      },
      "outputs": [],
      "source": [
        "train_batch = 13200\n",
        "test_batch = 2400\n",
        "\n",
        "dataset = get_dataset(\n",
        "      train_data,\n",
        "      data_size=64,\n",
        "      sample_size=32,\n",
        "      batch_size=train_batch,\n",
        "      num_in_channels=12,\n",
        "      compression_type=None,\n",
        "      clip_and_normalize=False,\n",
        "      clip_and_rescale=False,\n",
        "      random_crop=True,\n",
        "      center_crop=False)\n",
        "test_dataset = get_dataset(\n",
        "      test_data,\n",
        "      data_size=64,\n",
        "      sample_size=32,\n",
        "      batch_size=test_batch,\n",
        "      num_in_channels=12,\n",
        "      compression_type=None,\n",
        "      clip_and_normalize=False,\n",
        "      clip_and_rescale=False,\n",
        "      random_crop=True,\n",
        "      center_crop=False)"
      ]
    },
    {
      "cell_type": "code",
      "execution_count": 9,
      "metadata": {
        "id": "BCpQk9NDHaxs"
      },
      "outputs": [],
      "source": [
        "inputs, labels = next(iter(dataset))\n",
        "x_test, y_test = next(iter(test_dataset))"
      ]
    },
    {
      "cell_type": "code",
      "execution_count": 10,
      "metadata": {
        "id": "RqVLLJb2HbMY"
      },
      "outputs": [],
      "source": [
        "TITLES = [\n",
        "  'Elevation',\n",
        "  'Wind\\ndirection',\n",
        "  'Wind\\nvelocity',\n",
        "  'Min\\ntemp',\n",
        "  'Max\\ntemp',\n",
        "  'Humidity',\n",
        "  'Precip',\n",
        "  'Drought',\n",
        "  'Vegetation',\n",
        "  'Population\\ndensity',\n",
        "  'Energy\\nrelease\\ncomponent',\n",
        "  'Previous\\nfire\\nmask',\n",
        "  'Fire\\nmask'\n",
        "]"
      ]
    },
    {
      "cell_type": "code",
      "execution_count": 11,
      "metadata": {
        "id": "1N5WH2s9Ohfj",
        "colab": {
          "base_uri": "https://localhost:8080/"
        },
        "outputId": "7192c54c-5cd2-47d4-b452-ad1eb5d30bf0"
      },
      "outputs": [
        {
          "output_type": "stream",
          "name": "stdout",
          "text": [
            "tf.Tensor(0.0, shape=(), dtype=float32)\n"
          ]
        }
      ],
      "source": [
        "print(inputs[0][0][0][11])"
      ]
    },
    {
      "cell_type": "code",
      "execution_count": 12,
      "metadata": {
        "id": "aQ8VloKHfcPV",
        "colab": {
          "base_uri": "https://localhost:8080/"
        },
        "outputId": "6e9e47ec-5614-4d6a-d093-8b297ba4547d"
      },
      "outputs": [
        {
          "output_type": "execute_result",
          "data": {
            "text/plain": [
              "<tf.Tensor: shape=(32, 1), dtype=float32, numpy=\n",
              "array([[0.],\n",
              "       [0.],\n",
              "       [0.],\n",
              "       [0.],\n",
              "       [0.],\n",
              "       [0.],\n",
              "       [0.],\n",
              "       [0.],\n",
              "       [0.],\n",
              "       [0.],\n",
              "       [0.],\n",
              "       [0.],\n",
              "       [0.],\n",
              "       [0.],\n",
              "       [0.],\n",
              "       [0.],\n",
              "       [0.],\n",
              "       [0.],\n",
              "       [0.],\n",
              "       [0.],\n",
              "       [0.],\n",
              "       [0.],\n",
              "       [0.],\n",
              "       [0.],\n",
              "       [0.],\n",
              "       [0.],\n",
              "       [0.],\n",
              "       [0.],\n",
              "       [0.],\n",
              "       [0.],\n",
              "       [0.],\n",
              "       [0.]], dtype=float32)>"
            ]
          },
          "metadata": {},
          "execution_count": 12
        }
      ],
      "source": [
        "labels[19][2]"
      ]
    },
    {
      "cell_type": "code",
      "execution_count": 13,
      "metadata": {
        "id": "XJOG4GLkHdcj"
      },
      "outputs": [],
      "source": [
        "# Number of rows of data samples to plot\n",
        "n_rows = 5 \n",
        "# Number of data variables\n",
        "n_features = inputs.shape[3]\n",
        "# Variables for controllong the color map for the fire masks\n",
        "CMAP = colors.ListedColormap(['black', 'silver', 'orangered'])\n",
        "BOUNDS = [-1, -0.1, 0.001, 1]\n",
        "NORM = colors.BoundaryNorm(BOUNDS, CMAP.N)\n",
        "\n",
        "CMAP_PRED = colors.ListedColormap(['silver', 'orangered'])\n",
        "BOUNDS_PRED = [-1, 0.001, 1]\n",
        "NORM_PRED = colors.BoundaryNorm(BOUNDS, CMAP_PRED.N)"
      ]
    },
    {
      "cell_type": "code",
      "execution_count": 14,
      "metadata": {
        "id": "ACuXt4eJlkIn",
        "colab": {
          "base_uri": "https://localhost:8080/",
          "height": 306
        },
        "outputId": "89567e22-0ddb-44b1-ab02-26bce4e95c2a"
      },
      "outputs": [
        {
          "output_type": "execute_result",
          "data": {
            "text/plain": [
              "array([[0., 0.],\n",
              "       [0., 0.]])"
            ]
          },
          "metadata": {},
          "execution_count": 14
        },
        {
          "output_type": "display_data",
          "data": {
            "text/plain": [
              "<Figure size 432x288 with 1 Axes>"
            ],
            "image/png": "[encoded data removed]"
          },
          "metadata": {
            "needs_background": "light"
          }
        }
      ],
      "source": [
        "# Here are the CMAP bounds:\n",
        "# -1 geq black < -0.1\n",
        "# -0.1 geq gray < 0.001\n",
        "# 0.001 geq red leq 1\n",
        "a = 0.\n",
        "arr1 = np.array([[a,a],[a,a]])\n",
        "plt.imshow(arr1,cmap=CMAP,norm=NORM)\n",
        "arr1"
      ]
    },
    {
      "cell_type": "code",
      "execution_count": 15,
      "metadata": {
        "id": "mkPnwnpuHhOU",
        "colab": {
          "base_uri": "https://localhost:8080/",
          "height": 453
        },
        "outputId": "fd4c61bf-c524-4bb2-aeb4-d554b802228a"
      },
      "outputs": [
        {
          "output_type": "stream",
          "name": "stdout",
          "text": [
            "(32, 32)\n",
            "(32, 32)\n",
            "(32, 32)\n",
            "(32, 32)\n",
            "(32, 32)\n"
          ]
        },
        {
          "output_type": "display_data",
          "data": {
            "text/plain": [
              "<Figure size 1080x468 with 65 Axes>"
            ],
            "image/png": "[encoded data removed]"
          },
          "metadata": {
            "needs_background": "light"
          }
        }
      ],
      "source": [
        "fig = plt.figure(figsize=(15,6.5))\n",
        "n_rows1 = n_rows\n",
        "n_rows = 5\n",
        "for i in range(n_rows):\n",
        "  for j in range(n_features + 1):\n",
        "    plt.subplot(n_rows, n_features + 1, i * (n_features + 1) + j + 1)\n",
        "    if i == 0:\n",
        "      plt.title(TITLES[j], fontsize=13)\n",
        "    if j < n_features - 1:\n",
        "      plt.imshow(inputs[i, :, :, j], cmap='viridis')\n",
        "    if j == n_features - 1:\n",
        "      plt.imshow(inputs[i, :, :, -1], cmap=CMAP, norm=NORM)\n",
        "      print(inputs[i,:,:,-1].shape)\n",
        "    if j == n_features:\n",
        "      plt.imshow(labels[i, :, :, 0], cmap=CMAP, norm=NORM) \n",
        "    # plt.axis('off')\n",
        "plt.tight_layout()"
      ]
    },
    {
      "cell_type": "code",
      "execution_count": 16,
      "metadata": {
        "id": "dlN6RoC_ygTH",
        "colab": {
          "base_uri": "https://localhost:8080/",
          "height": 453
        },
        "outputId": "2530d80c-35dd-451d-9c65-ee15183d27ea"
      },
      "outputs": [
        {
          "output_type": "stream",
          "name": "stdout",
          "text": [
            "(32, 32)\n",
            "(32, 32)\n",
            "(32, 32)\n",
            "(32, 32)\n",
            "(32, 32)\n"
          ]
        },
        {
          "output_type": "display_data",
          "data": {
            "text/plain": [
              "<Figure size 1080x468 with 65 Axes>"
            ],
            "image/png": "[encoded data removed]"
          },
          "metadata": {
            "needs_background": "light"
          }
        }
      ],
      "source": [
        "fig = plt.figure(figsize=(15,6.5))\n",
        "n_rows1 = n_rows\n",
        "n_rows = 5\n",
        "for i in range(n_rows):\n",
        "  for j in range(n_features + 1):\n",
        "    plt.subplot(n_rows, n_features + 1, i * (n_features + 1) + j + 1)\n",
        "    if i == 0:\n",
        "      plt.title(TITLES[j], fontsize=13)\n",
        "    if j < n_features - 1:\n",
        "      plt.imshow(x_test[i, :, :, j], cmap='viridis')\n",
        "    if j == n_features - 1:\n",
        "      plt.imshow(x_test[i, :, :, -1], cmap=CMAP, norm=NORM)\n",
        "      print(x_test[i,:,:,-1].shape)\n",
        "    if j == n_features:\n",
        "      plt.imshow(y_test[i, :, :, 0], cmap=CMAP, norm=NORM) \n",
        "    # plt.axis('off')\n",
        "plt.tight_layout()"
      ]
    },
    {
      "cell_type": "markdown",
      "metadata": {
        "id": "t1OmhK1dNOPi"
      },
      "source": [
        "#### Experimenting"
      ]
    },
    {
      "cell_type": "code",
      "execution_count": 17,
      "metadata": {
        "id": "7tV6s88PNQxZ",
        "colab": {
          "base_uri": "https://localhost:8080/",
          "height": 286
        },
        "outputId": "31f91bcb-0773-4afd-cf11-c5e408294aae"
      },
      "outputs": [
        {
          "output_type": "execute_result",
          "data": {
            "text/plain": [
              "<matplotlib.image.AxesImage at 0x7fadda2c58d0>"
            ]
          },
          "metadata": {},
          "execution_count": 17
        },
        {
          "output_type": "display_data",
          "data": {
            "text/plain": [
              "<Figure size 432x288 with 2 Axes>"
            ],
            "image/png": "[encoded data removed]"
          },
          "metadata": {
            "needs_background": "light"
          }
        }
      ],
      "source": [
        "figure,ax = plt.subplots(nrows = 2, ncols=1,sharex=True)\n",
        "ax[0].imshow(labels[0,:,:,0],cmap=CMAP,norm=NORM)\n",
        "ax[1].imshow(inputs[0,:,:,8],cmap='viridis')\n",
        "\n"
      ]
    },
    {
      "cell_type": "code",
      "execution_count": 18,
      "metadata": {
        "id": "Mj4zrv9CUlPI",
        "colab": {
          "base_uri": "https://localhost:8080/"
        },
        "outputId": "0ad83f0a-bc1d-4dcd-cf8f-41bca767feeb"
      },
      "outputs": [
        {
          "output_type": "execute_result",
          "data": {
            "text/plain": [
              "<matplotlib.colors.ListedColormap at 0x7fae4035fc90>"
            ]
          },
          "metadata": {},
          "execution_count": 18
        }
      ],
      "source": [
        "CMAP"
      ]
    },
    {
      "cell_type": "markdown",
      "metadata": {
        "id": "gItXD5PUB73P"
      },
      "source": [
        "## Loss Functions"
      ]
    },
    {
      "cell_type": "markdown",
      "metadata": {
        "id": "gVS8ppH_OzKb"
      },
      "source": [
        "### Custom Loss Functions\n",
        "\n",
        "These are in progress, working on it right now."
      ]
    },
    {
      "cell_type": "code",
      "execution_count": 19,
      "metadata": {
        "id": "UZ508mZIqZ-x",
        "colab": {
          "base_uri": "https://localhost:8080/"
        },
        "outputId": "67a3f258-c37d-4fd4-ac7f-c696683337e3"
      },
      "outputs": [
        {
          "output_type": "execute_result",
          "data": {
            "text/plain": [
              "array([[0.49136941, 0.34167311],\n",
              "       [0.94376136, 0.41918792],\n",
              "       [0.60837957, 0.10224248]])"
            ]
          },
          "metadata": {},
          "execution_count": 19
        }
      ],
      "source": [
        "arr1 = np.array([[1,2],[2,3],[3,4]])\n",
        "a,b = arr1.shape\n",
        "np.random.rand(a,b)"
      ]
    },
    {
      "cell_type": "code",
      "execution_count": 20,
      "metadata": {
        "id": "UD1J5Lf0O2Vw"
      },
      "outputs": [],
      "source": [
        "import numpy as np\n",
        "def fakeLoss(y_true,y_pred):\n",
        "  print(type(y_true))\n",
        "  y_true = tf.make_ndarray(y_true)\n",
        "  y_pred = tf.make_ndarray(y_pred)\n",
        "\n",
        "  return np.sum((y_true+y_pred)**2)\n",
        "\n",
        "def loss_mse(y_true,y_pred):\n",
        "  return tf.reduce_sum(tf.square(y_true + y_pred))\n",
        "\n",
        "# def confidence(array):\n",
        "#   \"\"\"\n",
        "#   Parameters: 2D np array\n",
        "#   Returns: processed 2D np array according to color map rules + difference from the bounds\n",
        "#   \"\"\"\n",
        "#   a,b = array.shape\n",
        "#   f_arr = np.random.rand(a,b)\n",
        "#   for i in range(array.shape[0]):\n",
        "#     for j in range(array.shape[1]):\n",
        "#       bool1 = False\n",
        "#       new_var = array[i,j]\n",
        "#       if new_var <= 1 and new_var >= 0.001:\n",
        "#         f_arr[i,j] = (new_var-1)**2 + (new_var-.001)**2\n",
        "#       elif new_var < 0.001 and new_var >= -0.1:\n",
        "#         f_arr[i,j] = (new_var-0.001)**2 + (new_var+0.1)**2\n",
        "#       elif new_var <= -0.1 and new_var >= -1:\n",
        "#         f_arr[i,j] = (new_var+1)**2 + (new_var+.1)**2\n",
        "#   return f_arr\n",
        "\n",
        "def dice_loss(y_true, y_pred):\n",
        "  y_true = tf.cast(y_true, tf.float32)\n",
        "  y_pred = tf.math.sigmoid(y_pred)\n",
        "  numerator = 2 * tf.reduce_sum(y_true * y_pred)\n",
        "  denominator = tf.reduce_sum(y_true + y_pred)\n",
        "\n",
        "  return 1 - numerator / denominator\n",
        "\n",
        "\n",
        "def convert(array):\n",
        "  \"\"\"\n",
        "  Parameters: 2D tensor\n",
        "  Returns: processed 2D np array according to color map rules + difference from the bounds\n",
        "  0 - red\n",
        "  1 - Gray\n",
        "  2 - Black\n",
        "  \"\"\"\n",
        "  array=tf.reshape(array,[32,32])\n",
        "  a,b = array.shape\n",
        "  f_arr = np.random.rand(32,32)\n",
        "  for i in range(32):\n",
        "    for j in range(32):\n",
        "      new_var = array[i,j]\n",
        "      if new_var >= 0.001:\n",
        "        f_arr[i,j] = 0\n",
        "      elif new_var < 0.001 and new_var >= -0.1:\n",
        "        f_arr[i,j] = 1\n",
        "      elif new_var <= -0.1:\n",
        "        f_arr[i,j] = 2\n",
        "  return f_arr \n",
        "def distance(y_true,a,b,c,d):\n",
        "  \"\"\"\n",
        "  Parameters: (ytrue, numpy 2d array), (a, row index of ytrue right now), (b, column index), (c, )\n",
        "  Output: distance between this point and nearest target value\n",
        "  \"\"\"\n",
        "  return np.sqrt((c-a)**2 + (d-b)**2)\n",
        "def gen_distance(y_true,y_pred):\n",
        "  \"\"\"\n",
        "  Parameters: the converted 2D np array of ytrue and ypredicted\n",
        "  Ouput: An array that has distance values from y_true to y_pred\n",
        "  \"\"\"\n",
        "  assert y_true.shape == y_pred.shape\n",
        "\n",
        "  a,b = y_true.shape\n",
        "  f_arr = np.random.rand(a,b)\n",
        "  for i in range(y_true.shape[0]):\n",
        "    for j in range(y_true.shape[1]):\n",
        "      maxDist=-1\n",
        "      breakVar = False\n",
        "      if y_true[i,j] != y_pred[i,j]:\n",
        "        breakVar = False\n",
        "        maxDist=-1\n",
        "        for a in range(y_true.shape[0]):\n",
        "          for b in range(y_true.shape[1]):\n",
        "              if (distance(y_true,i,j,a,b)>maxDist):\n",
        "                if (distance(y_true,i,j,a,b)>10):\n",
        "                  maxDist=10\n",
        "                  breakVar = True\n",
        "                  break\n",
        "                maxDist = distance(y_true,i,j,a,b)\n",
        "          if (breakVar):\n",
        "            break\n",
        "      else:\n",
        "        f_arr[i,j] = 0\n",
        "  return f_arr\n",
        "\n",
        "def punisher(y_true, y_pred):\n",
        "  yTrue = convert(y_true)\n",
        "  yPred = convert(y_pred)\n",
        "  return np.sum(gen_distance(yTrue,yPred))\n",
        "\n",
        "def mod_cross_entropy_loss(y_true,y_pred):\n",
        "  true_sum = tf.reduce_sum(y_true)\n",
        "  pred_sum = tf.reduce_sum(y_pred)\n",
        "  yTrue = convert(y_true)/true_sum\n",
        "  yPred = convert(y_pred)/pred_sum\n",
        "  sum1 = 0\n",
        "  sum1 = (y_true-y_pred)**2\n",
        "  sum1 = tf.math.sqrt(tf.reduce_sum(sum1))\n",
        "  sum1 = sum1.numpy()\n",
        "  pred_prob = probDist(yPred.numpy())\n",
        "  true_prob = probDist(yTrue.numpy())\n",
        "  cross = -sum([true_prob[i]*math.log(pred_prob[i])/math.log(2) for i in range(len(true_prob))])\n",
        "  return (sum1/1024) + probDist() \n",
        "\n",
        "# punisher(np.random.rand(32,32),np.random.rand(32,32))\n",
        "# import numpy\n",
        "# import torch\n",
        "# import torch.nn as nn\n",
        "# import torch.nn.functional as F\n",
        "# import keras\n",
        "# import keras.backend as K\n",
        "# # class DiceLoss(nn.Module):\n",
        "# #     def __init__(self, weight=None, size_average=True):\n",
        "# #         super(DiceLoss, self).__init__()\n",
        "\n",
        "# #     def forward(self, inputs, targets, smooth=1):\n",
        "        \n",
        "# #         #comment out if your model contains a sigmoid or equivalent activation layer\n",
        "# #         inputs = F.sigmoid(inputs)       \n",
        "        \n",
        "# #         #flatten label and prediction tensors\n",
        "# #         inputs = inputs.view(-1)\n",
        "# #         targets = targets.view(-1)\n",
        "        \n",
        "# #         intersection = (inputs * targets).sum()                            \n",
        "# #         dice = (2.*intersection + smooth)/(inputs.sum() + targets.sum() + smooth)  \n",
        "        \n",
        "# #         return 1 - dice\n",
        "def spec_dice_loss(y_true, y_pred):\n",
        "  y_true = tf.cast(y_true, tf.float32)\n",
        "  y_pred = tf.math.sigmoid(y_pred)\n",
        "  numerator = 2 * tf.reduce_sum(y_true * y_pred)\n",
        "  denominator = tf.reduce_sum(y_true + y_pred)\n",
        "\n",
        "  return 1 - numerator / denominator\n",
        "\n",
        "# from scipy.spatial import distance_matrix\n",
        "# import numpy as np\n",
        "\n",
        "# not_zeros = np.argwhere(img != 0)\n",
        "# zeros = np.argwhere(img == 0)\n",
        "\n",
        "# dist_matrix = distance_matrix(zeros, not_zeros, p=2)\n",
        "# output = np.zeros((HEIGHT, WIDTH, 1), dtype=np.uint8)\n",
        "\n",
        "# i = 0\n",
        "# dist = np.min(dist_matrix, axis=1)\n",
        "# for y in range(HEIGHT):\n",
        "#   for x in range(WIDTH):\n",
        "#     if img[y,x] == 0:\n",
        "#       output[y,x] = dist[i]\n",
        "#       i += 1\n",
        "\n",
        "# from functools import partial\n",
        "\n",
        "# def loss_function(y_true, y_pred, weights):\n",
        "# ...\n",
        "\n",
        "# weight_input = Input(shape=(HEIGHT, WIDTH))\n",
        "# loss = partial(loss_function, weights=weight_input)\n",
        "\n"
      ]
    },
    {
      "cell_type": "markdown",
      "metadata": {
        "id": "N-L6Nq4Zyeae"
      },
      "source": [
        "### Classic Loss Functions"
      ]
    },
    {
      "cell_type": "code",
      "execution_count": 21,
      "metadata": {
        "id": "Oshd3l2LceyJ",
        "colab": {
          "base_uri": "https://localhost:8080/"
        },
        "outputId": "d3828aa9-73e1-4fed-e2d7-14c4f271acd6"
      },
      "outputs": [
        {
          "output_type": "execute_result",
          "data": {
            "text/plain": [
              "<tf.Tensor: shape=(3, 3), dtype=float32, numpy=\n",
              "array([[0.  , 0.02, 0.  ],\n",
              "       [0.02, 0.  , 0.  ],\n",
              "       [0.02, 0.  , 0.96]], dtype=float32)>"
            ]
          },
          "metadata": {},
          "execution_count": 21
        }
      ],
      "source": [
        "y_true = tf.constant([[0,1,0],[1,0,0],[1,0,1]])\n",
        "y_true = tf.cast(y_true,'float')\n",
        "y_pred = tf.constant([[0,1,0],[1,0,0],[1,0,1]],dtype='float')\n",
        "weights = tf.constant([0.02,0.02,0.96],dtype='float')\n",
        "tf.math.multiply(tf.math.multiply(y_true, y_true),weights)"
      ]
    },
    {
      "cell_type": "code",
      "source": [
        "label_subset = labels[:30]\n",
        "freq = [0,0,0]\n",
        "label_subset.shape[0]\n",
        "for i in range(label_subset.shape[0]):\n",
        "  label_subset1 = labels[i, :, :, 0]\n",
        "  for j in range(label_subset1.shape[0]):\n",
        "    for k in range(label_subset1.shape[1]):\n",
        "      if (label_subset1[j][k] == 0):\n",
        "        freq[1] += 1\n",
        "      elif (label_subset1[j][k] == 1):\n",
        "        freq[2]+=1\n",
        "      else:\n",
        "        freq[0]+=1\n",
        "      # print(i,j,k)\n",
        "freq"
      ],
      "metadata": {
        "colab": {
          "base_uri": "https://localhost:8080/"
        },
        "id": "PrTR23HGKzkL",
        "outputId": "51aad9cc-57e0-47ae-bd9e-44836513bd67"
      },
      "execution_count": 22,
      "outputs": [
        {
          "output_type": "execute_result",
          "data": {
            "text/plain": [
              "[1021, 29695, 4]"
            ]
          },
          "metadata": {},
          "execution_count": 22
        }
      ]
    },
    {
      "cell_type": "code",
      "source": [
        "prob = np.array(freq)/sum(freq)\n",
        "prob = 1/prob\n",
        "prob"
      ],
      "metadata": {
        "colab": {
          "base_uri": "https://localhost:8080/"
        },
        "id": "KytfXF96NuTP",
        "outputId": "901381a7-2d6b-4359-b1f8-6643feba1d1d"
      },
      "execution_count": 23,
      "outputs": [
        {
          "output_type": "execute_result",
          "data": {
            "text/plain": [
              "array([3.00881489e+01, 1.03451760e+00, 7.68000000e+03])"
            ]
          },
          "metadata": {},
          "execution_count": 23
        }
      ]
    },
    {
      "cell_type": "code",
      "source": [
        "prob"
      ],
      "metadata": {
        "colab": {
          "base_uri": "https://localhost:8080/"
        },
        "id": "9Cu4ADDEYV8Z",
        "outputId": "b997d761-2c44-4c04-9aa4-9f5cb68b4411"
      },
      "execution_count": 24,
      "outputs": [
        {
          "output_type": "execute_result",
          "data": {
            "text/plain": [
              "array([3.00881489e+01, 1.03451760e+00, 7.68000000e+03])"
            ]
          },
          "metadata": {},
          "execution_count": 24
        }
      ]
    },
    {
      "cell_type": "code",
      "execution_count": 25,
      "metadata": {
        "id": "hUYgbhYnyhKW"
      },
      "outputs": [],
      "source": [
        "from keras import backend as K\n",
        "import math\n",
        "# Focal Tversky_loss\n",
        "def weigthed_cross_ent(y_true,y_pred):\n",
        "  y_true = tf.cast(y_true,'float')\n",
        "  y_pred = tf.cast(y_pred,'float')\n",
        "  weights = tf.constant(prob,dtype='float')\n",
        "  return -tf.reduce_sum(tf.math.multiply(tf.math.multiply(y_true, tf.math.log1p(y_pred)), weights))/1024\n",
        "  # , sample_weight=tf.constant([0.02,0.02, 0.96])\n",
        "  # return tf.keras.losses.CategoricalCrossentropy(y_true,y_pred)(sample_weights)\n",
        "class weighted_loss_func():\n",
        "  def __init__(self,weight):\n",
        "      self.weights = weight\n",
        "  def weighted_cross_entropy(y_true,y_pred):\n",
        "    y_true = tf.cast(y_true,'float')\n",
        "    y_pred = tf.cast(y_pred,'float')\n",
        "    weights = tf.constant(self.weights,dtype='float')\n",
        "    return tf.reduce_sum(tf.math.multiply(tf.math.multiply(y_true, tf.math.log1p(y_pred)), weights))\n",
        "  def getLoss(self):\n",
        "    return self.weighted_cross_entropy()\n",
        "# def weighted_cross_entropy(beta):\n",
        "#   def loss(y_true, y_pred):\n",
        "#     weight_a = beta * tf.cast(y_true, tf.float32)\n",
        "#     weight_b = 1 - tf.cast(y_true, tf.float32)\n",
        "    \n",
        "#     o = (tf.math.log1p(tf.exp(-tf.abs(y_pred))) + tf.nn.relu(-y_pred)) * (weight_a + weight_b) + y_pred * weight_b \n",
        "#     return tf.reduce_mean(o)\n",
        "\n",
        "#   return loss\n",
        "\n",
        "def big_weighted_cross_entropy(y_true, y_pred, beta = 100):\n",
        "  class_weights = tf.constant([[500, 1, 100]])\n",
        "  tf.math.log1p()\n",
        "  o = (tf.math.log1p(tf.exp(-tf.abs(y_pred))) + tf.nn.relu(-y_pred)) * (weight_a + weight_b) + y_pred * weight_b \n",
        "  return tf.reduce_mean(o)\n",
        "\n",
        "def probDist(y):\n",
        "  classes = [0,1,2]\n",
        "  prob = [0,0,0]\n",
        "  for i in range(y.shape[0]):\n",
        "    for j in range(y.shape[1]):\n",
        "      if (y[i,j] == 0):\n",
        "        prob[0]+=1\n",
        "      if (y[i,j] == 1):\n",
        "        prob[1]+=1\n",
        "      if (y[i,j] == 2):\n",
        "        prob[2]+=1\n",
        "  prob = np.array(prob)\n",
        "  return prob/(np.sum(prob))\n",
        "def weighted_bce(y_true, y_pred):\n",
        "  weights = (y_true * 59.) + 1.\n",
        "  bce = K.binary_crossentropy(y_true, y_pred)\n",
        "  weighted_bce = K.mean(bce * weights)\n",
        "  return weighted_bce\n",
        "def class_tversky(y_true, y_pred):\n",
        "    smooth = 1\n",
        "\n",
        "    y_true = K.permute_dimensions(y_true, (3,1,2,0))\n",
        "    y_pred = K.permute_dimensions(y_pred, (3,1,2,0))\n",
        "\n",
        "    y_true_pos = K.batch_flatten(y_true)\n",
        "    y_pred_pos = K.batch_flatten(y_pred)\n",
        "    true_pos = K.sum(y_true_pos * y_pred_pos, 1)\n",
        "    false_neg = K.sum(y_true_pos * (1-y_pred_pos), 1)\n",
        "    false_pos = K.sum((1-y_true_pos)*y_pred_pos, 1)\n",
        "    alpha = 0.7\n",
        "    return (true_pos + smooth)/(true_pos + alpha*false_neg + (1-alpha)*false_pos + smooth)\n",
        "\n",
        "def focal_tversky_loss(y_true,y_pred):\n",
        "    pt_1 = class_tversky(y_true, y_pred)\n",
        "    gamma = 0.75\n",
        "    return K.sum(K.pow((1-pt_1), gamma))\n",
        "\n",
        "# Dice Loss\n",
        "smooth = 1.\n",
        "def dice_coef(y_true, y_pred):\n",
        "    y_true_f = K.flatten(y_true)\n",
        "    y_pred_f = K.flatten(y_pred)\n",
        "    intersection = K.sum(y_true_f * y_pred_f)\n",
        "    return (2. * intersection + smooth) / (K.sum(y_true_f) + K.sum(y_pred_f) + smooth)\n",
        "\n",
        "def dice_coef_loss(y_true, y_pred):\n",
        "    return 1-dice_coef(y_true, y_pred)\n",
        "\n",
        "#Keras\n",
        "ALPHA = 0.8\n",
        "GAMMA = 2\n",
        "\n",
        "def focal_loss(targets, inputs, alpha=ALPHA, gamma=GAMMA):    \n",
        "    \n",
        "    inputs = K.flatten(inputs)\n",
        "    targets = K.flatten(targets)\n",
        "    \n",
        "    BCE = K.binary_crossentropy(targets, inputs)\n",
        "    BCE_EXP = K.exp(-BCE)\n",
        "    focal_loss = K.mean(alpha * K.pow((1-BCE_EXP), gamma) * BCE)\n",
        "    \n",
        "    return focal_loss\n",
        "\n",
        "def dice_coef_binary(y_true, y_pred, smooth=1e-7):\n",
        "    '''\n",
        "    Dice coefficient for 2 categories. Ignores background pixel label 0\n",
        "    Pass to model as metric during compile statement\n",
        "    '''\n",
        "    y_true_f = K.flatten(K.one_hot(K.cast(y_true, 'int32'), num_classes=2)[...,1:])\n",
        "    y_pred_f = K.flatten(y_pred[...,1:])\n",
        "    intersect = K.sum(y_true_f * y_pred_f, axis=-1)\n",
        "    denom = K.sum(y_true_f + y_pred_f, axis=-1)\n",
        "    return K.mean((2. * intersect / (denom + smooth)))\n",
        "\n",
        "\n",
        "def dice_coef_binary_loss(y_true, y_pred):\n",
        "    '''\n",
        "    Dice loss to minimize. Pass to model as loss during compile statement\n",
        "    '''\n",
        "    return 1 - dice_coef_binary(y_true, y_pred)\n",
        "\n",
        "def get_loss_function(loss_function_name):\n",
        "    if loss_function_name == \"focal_tversky_loss\":\n",
        "        loss_function = focal_tversky_loss\n",
        "    elif loss_function_name == \"dice_coef_loss\":\n",
        "        loss_function = dice_coef_loss\n",
        "    elif loss_function_name == \"dice_coef_binary_loss\":\n",
        "        loss_function = dice_coef_binary_loss\n",
        "    elif loss_function_name == \"focal_loss\":\n",
        "        loss_function = focal_loss\n",
        "    elif loss_function_name == \"sparse_categorical_crossentropy\":\n",
        "        loss_function = tf.keras.losses.SparseCategoricalCrossentropy()\n",
        "    else:\n",
        "        loss_function = loss_function_name # for keras implemented losses like \"categorical_crossentropy\"\n",
        "        \n",
        "    return loss_function"
      ]
    },
    {
      "cell_type": "markdown",
      "metadata": {
        "id": "Sd-jbgA0JRnI"
      },
      "source": [
        "## Models"
      ]
    },
    {
      "cell_type": "markdown",
      "metadata": {
        "id": "Mtxtc1_VZMU6"
      },
      "source": [
        "### Keras CNN "
      ]
    },
    {
      "cell_type": "code",
      "execution_count": 26,
      "metadata": {
        "id": "W1lRtXb2YRG2"
      },
      "outputs": [],
      "source": [
        "from tensorflow.keras import Input\n",
        "DROPOUT = 0.5\n",
        "\n",
        "input_arr = [] #size 12\n",
        "models_arr = [] #size 12\n",
        "for i in range(12):\n",
        "  input_arr.append(Input(shape=(32,32,1)))\n",
        "for i in range(12):\n",
        "  models_arr.append(layers.Conv2D(64,(3,3),activation='relu',padding='same')(input_arr[i]))\n",
        "  models_arr[i] = layers.MaxPool2D((2,2))(models_arr[i])\n",
        "  models_arr[i] = layers.BatchNormalization()(models_arr[i])\n",
        "  models_arr[i] = layers.Dropout(DROPOUT)(models_arr[i])\n",
        "\n",
        "\n",
        "  models_arr[i]=layers.Conv2D(16,(3,3),activation='relu',padding='same')(models_arr[i])\n",
        "  models_arr[i] = layers.MaxPool2D((2,2))(models_arr[i])\n",
        "  models_arr[i] = layers.BatchNormalization()(models_arr[i])\n",
        "  models_arr[i] = layers.Dropout(DROPOUT)(models_arr[i])\n",
        "# input_arr = np.array(input_arr)\n",
        "  \n",
        "encoder = layers.concatenate(models_arr)\n",
        "encoder_model = Model(input_arr,encoder)\n",
        "# encoder_model.summary()\n",
        "# models_arr[0].summary()"
      ]
    },
    {
      "cell_type": "code",
      "execution_count": 27,
      "metadata": {
        "id": "wnzRfzvegXfg"
      },
      "outputs": [],
      "source": [
        "autoencoder = layers.Conv2D(16, (3, 3), activation='relu', padding='same')(encoder)\n",
        "autoencoder = (layers.UpSampling2D((2, 2)))(autoencoder)\n",
        "autoencoder = layers.BatchNormalization()(autoencoder)\n",
        "autoencoder = layers.Dropout(DROPOUT)(autoencoder)\n",
        "\n",
        "\n",
        "autoencoder = tf.keras.layers.Conv2D(64, (3, 3), activation='relu', padding='same')(autoencoder)\n",
        "autoencoder = tf.keras.layers.UpSampling2D((2, 2)) (autoencoder)\n",
        "autoencoder = layers.BatchNormalization()(autoencoder)\n",
        "autoencoder = layers.Dropout(DROPOUT)(autoencoder)\n",
        "\n",
        "\n",
        "autoencoder = layers.Conv2D(1, (3, 3), activation='tanh', padding='same')(autoencoder)\n",
        "autoencoder = layers.Dense(3,activation='softmax')(autoencoder)\n",
        "autoencoder = Model(inputs = input_arr,outputs = autoencoder)\n",
        "opt = keras.optimizers.Adam(learning_rate=0.00001)\n",
        "\n",
        "                    # metrics=[tf.keras.metrics.Recall(),tf.keras.metrics.AUC()])\n",
        "\n",
        "\n",
        "\n",
        "\n",
        "# autoencoder.summary()"
      ]
    },
    {
      "cell_type": "markdown",
      "metadata": {
        "id": "5KvuRi9DLI6W"
      },
      "source": [
        "#### Training"
      ]
    },
    {
      "cell_type": "code",
      "execution_count": 28,
      "metadata": {
        "id": "4dj49STCEQRE"
      },
      "outputs": [],
      "source": [
        "from sklearn.preprocessing import LabelBinarizer\n",
        "# tf.enable_eager_execution()\n",
        "enc = LabelBinarizer()\n",
        "labels1 = labels.numpy()\n",
        "y_train_encoded = enc.fit_transform(labels1.flatten())\n",
        "y_val_encoded=enc.transform(y_test.numpy().flatten())\n",
        "\n",
        "y_train_encoded = y_train_encoded.reshape(train_batch,32,32,3)\n",
        "y_val_encoded = y_val_encoded.reshape(1689,32,32,3)\n",
        "\n",
        "# labels.shape"
      ]
    },
    {
      "cell_type": "markdown",
      "metadata": {
        "id": "ENb0DIR057Vs"
      },
      "source": [
        "##### Categorical Training"
      ]
    },
    {
      "cell_type": "code",
      "execution_count": 55,
      "metadata": {
        "id": "G5Hw_QA2LKfX",
        "colab": {
          "base_uri": "https://localhost:8080/"
        },
        "outputId": "e425adfb-5b75-4e41-faf5-4b6db0111e3d"
      },
      "outputs": [
        {
          "output_type": "stream",
          "name": "stdout",
          "text": [
            "Epoch 1/10\n",
            "207/207 - 15s - loss: 1.7411 - recall_3: 0.3957 - auc_3: 0.6351 - val_loss: 0.6112 - val_recall_3: 0.9474 - val_auc_3: 0.9598 - 15s/epoch - 72ms/step\n",
            "Epoch 2/10\n",
            "207/207 - 8s - loss: 0.5285 - recall_3: 0.9472 - auc_3: 0.9562 - val_loss: 0.4367 - val_recall_3: 0.9474 - val_auc_3: 0.9601 - 8s/epoch - 38ms/step\n",
            "Epoch 3/10\n",
            "207/207 - 8s - loss: 0.3816 - recall_3: 0.9522 - auc_3: 0.9622 - val_loss: 0.3461 - val_recall_3: 0.9474 - val_auc_3: 0.9600 - 8s/epoch - 38ms/step\n",
            "Epoch 4/10\n",
            "207/207 - 8s - loss: 0.3103 - recall_3: 0.9530 - auc_3: 0.9627 - val_loss: 0.2991 - val_recall_3: 0.9474 - val_auc_3: 0.9600 - 8s/epoch - 38ms/step\n",
            "Epoch 5/10\n",
            "207/207 - 8s - loss: 0.2717 - recall_3: 0.9533 - auc_3: 0.9643 - val_loss: 0.2734 - val_recall_3: 0.9474 - val_auc_3: 0.9600 - 8s/epoch - 38ms/step\n",
            "Epoch 6/10\n",
            "207/207 - 8s - loss: 0.2500 - recall_3: 0.9534 - auc_3: 0.9647 - val_loss: 0.2591 - val_recall_3: 0.9474 - val_auc_3: 0.9600 - 8s/epoch - 38ms/step\n",
            "Epoch 7/10\n",
            "207/207 - 8s - loss: 0.2373 - recall_3: 0.9535 - auc_3: 0.9648 - val_loss: 0.2511 - val_recall_3: 0.9474 - val_auc_3: 0.9606 - 8s/epoch - 38ms/step\n",
            "Epoch 8/10\n",
            "207/207 - 8s - loss: 0.2299 - recall_3: 0.9536 - auc_3: 0.9661 - val_loss: 0.2467 - val_recall_3: 0.9474 - val_auc_3: 0.9606 - 8s/epoch - 38ms/step\n",
            "Epoch 9/10\n",
            "207/207 - 8s - loss: 0.2260 - recall_3: 0.9535 - auc_3: 0.9645 - val_loss: 0.2443 - val_recall_3: 0.9474 - val_auc_3: 0.9606 - 8s/epoch - 40ms/step\n",
            "Epoch 10/10\n",
            "207/207 - 8s - loss: 0.2243 - recall_3: 0.9533 - auc_3: 0.9649 - val_loss: 0.2431 - val_recall_3: 0.9474 - val_auc_3: 0.9606 - 8s/epoch - 39ms/step\n"
          ]
        }
      ],
      "source": [
        "# lossFunc = weighted_loss_func([1,1,1]).getLoss()\n",
        "autoencoder.compile(optimizer='adam', loss='CategoricalCrossentropy',\n",
        "                    metrics=[tf.keras.metrics.Recall(),tf.keras.metrics.AUC()])\n",
        "\n",
        "\n",
        "# autoencoder.fit({inputs[:,:,:,0:1]},labels)\n",
        "# autoencoder.fit({inputs[:,:,:,0:1]},labels).\n",
        "def dataProcess(data):\n",
        "  k = []\n",
        "  for i in range(12):\n",
        "    k.append(data[:,:,:,i:i+1])\n",
        "  return k\n",
        "\n",
        "\n",
        "k = dataProcess(inputs)\n",
        "mod_x_test = dataProcess(x_test)\n",
        "history_1 = autoencoder.fit(\n",
        "            k, y_train_encoded,\n",
        "            epochs=10,\n",
        "            validation_data = (mod_x_test,y_val_encoded),\n",
        "            batch_size=64,\n",
        "            verbose=2)\n",
        "\n",
        "# l = []\n",
        "# validation_data=(np.random.randn(12,100,32,32,1).tolist(),np.random.randn(100,32,32,1).tolist()),\n",
        "\n",
        "# for i in range(12):\n",
        "#   l.append(inputs[0,:,:,i])\n",
        "# l\n",
        "# # autoencoder.evaluate(l)\n",
        "# # plt.imshow(autoencoder.predict(k[0]))"
      ]
    },
    {
      "cell_type": "code",
      "execution_count": 56,
      "metadata": {
        "id": "W19MJgUIgUCM",
        "colab": {
          "base_uri": "https://localhost:8080/"
        },
        "outputId": "1b7b5c3d-38a4-4f63-f255-31dd1da33bef"
      },
      "outputs": [
        {
          "output_type": "execute_result",
          "data": {
            "text/plain": [
              "array([[[[0, 1, 0],\n",
              "         [0, 1, 0],\n",
              "         [0, 1, 0],\n",
              "         ...,\n",
              "         [0, 1, 0],\n",
              "         [0, 1, 0],\n",
              "         [0, 1, 0]],\n",
              "\n",
              "        [[0, 1, 0],\n",
              "         [0, 1, 0],\n",
              "         [0, 1, 0],\n",
              "         ...,\n",
              "         [0, 1, 0],\n",
              "         [0, 1, 0],\n",
              "         [0, 1, 0]],\n",
              "\n",
              "        [[0, 1, 0],\n",
              "         [0, 1, 0],\n",
              "         [0, 1, 0],\n",
              "         ...,\n",
              "         [0, 1, 0],\n",
              "         [0, 1, 0],\n",
              "         [0, 1, 0]],\n",
              "\n",
              "        ...,\n",
              "\n",
              "        [[0, 1, 0],\n",
              "         [0, 1, 0],\n",
              "         [0, 1, 0],\n",
              "         ...,\n",
              "         [0, 1, 0],\n",
              "         [0, 1, 0],\n",
              "         [0, 1, 0]],\n",
              "\n",
              "        [[0, 1, 0],\n",
              "         [0, 1, 0],\n",
              "         [0, 1, 0],\n",
              "         ...,\n",
              "         [0, 1, 0],\n",
              "         [0, 1, 0],\n",
              "         [0, 1, 0]],\n",
              "\n",
              "        [[0, 1, 0],\n",
              "         [0, 1, 0],\n",
              "         [0, 1, 0],\n",
              "         ...,\n",
              "         [0, 1, 0],\n",
              "         [0, 1, 0],\n",
              "         [0, 1, 0]]],\n",
              "\n",
              "\n",
              "       [[[1, 0, 0],\n",
              "         [1, 0, 0],\n",
              "         [1, 0, 0],\n",
              "         ...,\n",
              "         [1, 0, 0],\n",
              "         [1, 0, 0],\n",
              "         [1, 0, 0]],\n",
              "\n",
              "        [[1, 0, 0],\n",
              "         [1, 0, 0],\n",
              "         [1, 0, 0],\n",
              "         ...,\n",
              "         [1, 0, 0],\n",
              "         [1, 0, 0],\n",
              "         [1, 0, 0]],\n",
              "\n",
              "        [[1, 0, 0],\n",
              "         [1, 0, 0],\n",
              "         [1, 0, 0],\n",
              "         ...,\n",
              "         [1, 0, 0],\n",
              "         [1, 0, 0],\n",
              "         [1, 0, 0]],\n",
              "\n",
              "        ...,\n",
              "\n",
              "        [[1, 0, 0],\n",
              "         [1, 0, 0],\n",
              "         [1, 0, 0],\n",
              "         ...,\n",
              "         [1, 0, 0],\n",
              "         [1, 0, 0],\n",
              "         [1, 0, 0]],\n",
              "\n",
              "        [[1, 0, 0],\n",
              "         [1, 0, 0],\n",
              "         [1, 0, 0],\n",
              "         ...,\n",
              "         [1, 0, 0],\n",
              "         [1, 0, 0],\n",
              "         [1, 0, 0]],\n",
              "\n",
              "        [[1, 0, 0],\n",
              "         [1, 0, 0],\n",
              "         [1, 0, 0],\n",
              "         ...,\n",
              "         [1, 0, 0],\n",
              "         [1, 0, 0],\n",
              "         [1, 0, 0]]],\n",
              "\n",
              "\n",
              "       [[[0, 1, 0],\n",
              "         [0, 1, 0],\n",
              "         [0, 1, 0],\n",
              "         ...,\n",
              "         [0, 1, 0],\n",
              "         [0, 1, 0],\n",
              "         [0, 1, 0]],\n",
              "\n",
              "        [[0, 1, 0],\n",
              "         [0, 1, 0],\n",
              "         [0, 1, 0],\n",
              "         ...,\n",
              "         [0, 1, 0],\n",
              "         [0, 1, 0],\n",
              "         [0, 1, 0]],\n",
              "\n",
              "        [[0, 1, 0],\n",
              "         [0, 1, 0],\n",
              "         [0, 1, 0],\n",
              "         ...,\n",
              "         [0, 1, 0],\n",
              "         [0, 1, 0],\n",
              "         [0, 1, 0]],\n",
              "\n",
              "        ...,\n",
              "\n",
              "        [[0, 1, 0],\n",
              "         [0, 1, 0],\n",
              "         [0, 1, 0],\n",
              "         ...,\n",
              "         [0, 1, 0],\n",
              "         [0, 1, 0],\n",
              "         [0, 1, 0]],\n",
              "\n",
              "        [[0, 1, 0],\n",
              "         [0, 1, 0],\n",
              "         [0, 1, 0],\n",
              "         ...,\n",
              "         [0, 1, 0],\n",
              "         [0, 1, 0],\n",
              "         [0, 1, 0]],\n",
              "\n",
              "        [[0, 1, 0],\n",
              "         [0, 1, 0],\n",
              "         [0, 1, 0],\n",
              "         ...,\n",
              "         [0, 1, 0],\n",
              "         [0, 1, 0],\n",
              "         [0, 1, 0]]],\n",
              "\n",
              "\n",
              "       ...,\n",
              "\n",
              "\n",
              "       [[[0, 0, 1],\n",
              "         [0, 0, 1],\n",
              "         [0, 0, 1],\n",
              "         ...,\n",
              "         [0, 1, 0],\n",
              "         [0, 1, 0],\n",
              "         [0, 1, 0]],\n",
              "\n",
              "        [[0, 1, 0],\n",
              "         [0, 1, 0],\n",
              "         [0, 1, 0],\n",
              "         ...,\n",
              "         [0, 1, 0],\n",
              "         [0, 1, 0],\n",
              "         [0, 1, 0]],\n",
              "\n",
              "        [[0, 0, 1],\n",
              "         [0, 1, 0],\n",
              "         [0, 1, 0],\n",
              "         ...,\n",
              "         [0, 1, 0],\n",
              "         [0, 1, 0],\n",
              "         [0, 1, 0]],\n",
              "\n",
              "        ...,\n",
              "\n",
              "        [[0, 1, 0],\n",
              "         [0, 1, 0],\n",
              "         [0, 1, 0],\n",
              "         ...,\n",
              "         [0, 1, 0],\n",
              "         [0, 1, 0],\n",
              "         [0, 1, 0]],\n",
              "\n",
              "        [[0, 1, 0],\n",
              "         [0, 1, 0],\n",
              "         [0, 1, 0],\n",
              "         ...,\n",
              "         [0, 1, 0],\n",
              "         [0, 1, 0],\n",
              "         [0, 1, 0]],\n",
              "\n",
              "        [[0, 1, 0],\n",
              "         [0, 1, 0],\n",
              "         [0, 1, 0],\n",
              "         ...,\n",
              "         [0, 1, 0],\n",
              "         [0, 1, 0],\n",
              "         [0, 1, 0]]],\n",
              "\n",
              "\n",
              "       [[[0, 1, 0],\n",
              "         [0, 1, 0],\n",
              "         [0, 1, 0],\n",
              "         ...,\n",
              "         [0, 1, 0],\n",
              "         [0, 1, 0],\n",
              "         [0, 1, 0]],\n",
              "\n",
              "        [[0, 1, 0],\n",
              "         [0, 1, 0],\n",
              "         [0, 1, 0],\n",
              "         ...,\n",
              "         [0, 1, 0],\n",
              "         [0, 1, 0],\n",
              "         [0, 1, 0]],\n",
              "\n",
              "        [[0, 1, 0],\n",
              "         [0, 1, 0],\n",
              "         [0, 1, 0],\n",
              "         ...,\n",
              "         [0, 1, 0],\n",
              "         [0, 1, 0],\n",
              "         [0, 1, 0]],\n",
              "\n",
              "        ...,\n",
              "\n",
              "        [[0, 1, 0],\n",
              "         [0, 1, 0],\n",
              "         [0, 1, 0],\n",
              "         ...,\n",
              "         [0, 1, 0],\n",
              "         [0, 1, 0],\n",
              "         [0, 1, 0]],\n",
              "\n",
              "        [[0, 1, 0],\n",
              "         [0, 1, 0],\n",
              "         [0, 1, 0],\n",
              "         ...,\n",
              "         [0, 1, 0],\n",
              "         [0, 1, 0],\n",
              "         [0, 1, 0]],\n",
              "\n",
              "        [[0, 1, 0],\n",
              "         [0, 1, 0],\n",
              "         [0, 1, 0],\n",
              "         ...,\n",
              "         [0, 1, 0],\n",
              "         [0, 1, 0],\n",
              "         [0, 1, 0]]],\n",
              "\n",
              "\n",
              "       [[[0, 1, 0],\n",
              "         [0, 1, 0],\n",
              "         [0, 1, 0],\n",
              "         ...,\n",
              "         [0, 1, 0],\n",
              "         [0, 1, 0],\n",
              "         [0, 1, 0]],\n",
              "\n",
              "        [[0, 1, 0],\n",
              "         [0, 1, 0],\n",
              "         [0, 1, 0],\n",
              "         ...,\n",
              "         [0, 1, 0],\n",
              "         [0, 1, 0],\n",
              "         [0, 1, 0]],\n",
              "\n",
              "        [[0, 1, 0],\n",
              "         [0, 1, 0],\n",
              "         [0, 1, 0],\n",
              "         ...,\n",
              "         [0, 1, 0],\n",
              "         [0, 1, 0],\n",
              "         [0, 1, 0]],\n",
              "\n",
              "        ...,\n",
              "\n",
              "        [[0, 1, 0],\n",
              "         [0, 1, 0],\n",
              "         [0, 1, 0],\n",
              "         ...,\n",
              "         [0, 1, 0],\n",
              "         [0, 1, 0],\n",
              "         [0, 1, 0]],\n",
              "\n",
              "        [[0, 1, 0],\n",
              "         [0, 1, 0],\n",
              "         [0, 1, 0],\n",
              "         ...,\n",
              "         [0, 1, 0],\n",
              "         [0, 1, 0],\n",
              "         [0, 1, 0]],\n",
              "\n",
              "        [[0, 1, 0],\n",
              "         [0, 1, 0],\n",
              "         [0, 1, 0],\n",
              "         ...,\n",
              "         [0, 1, 0],\n",
              "         [0, 1, 0],\n",
              "         [0, 1, 0]]]])"
            ]
          },
          "metadata": {},
          "execution_count": 56
        }
      ],
      "source": [
        "y_val_encoded"
      ]
    },
    {
      "cell_type": "markdown",
      "metadata": {
        "id": "RWns7hn67pHC"
      },
      "source": [
        "## Evaluation Visualizations"
      ]
    },
    {
      "cell_type": "code",
      "execution_count": 57,
      "metadata": {
        "id": "CfInC4rF7vMg"
      },
      "outputs": [],
      "source": [
        "from matplotlib import pyplot as plt\n",
        "from matplotlib.pyplot import figure\n",
        "a,b = 18,0"
      ]
    },
    {
      "cell_type": "markdown",
      "metadata": {
        "id": "gOY1TEko6eae"
      },
      "source": [
        "### Train Predictions"
      ]
    },
    {
      "cell_type": "code",
      "execution_count": 58,
      "metadata": {
        "id": "b1t-sUdZ6iRc",
        "colab": {
          "base_uri": "https://localhost:8080/"
        },
        "outputId": "da79e40a-6b81-4be6-860f-e49fb33e4e88"
      },
      "outputs": [
        {
          "output_type": "execute_result",
          "data": {
            "text/plain": [
              "array([[[[0.03029657, 0.93839693, 0.03130655],\n",
              "         [0.03022554, 0.93864506, 0.03112941],\n",
              "         [0.03022812, 0.9386361 , 0.03113582],\n",
              "         ...,\n",
              "         [0.03022694, 0.9386401 , 0.03113288],\n",
              "         [0.03022417, 0.9386498 , 0.03112599],\n",
              "         [0.03033341, 0.93826795, 0.03139866]],\n",
              "\n",
              "        [[0.03022297, 0.938654  , 0.031123  ],\n",
              "         [0.03022065, 0.93866205, 0.03111723],\n",
              "         [0.03022072, 0.9386619 , 0.03111738],\n",
              "         ...,\n",
              "         [0.0302207 , 0.9386619 , 0.03111735],\n",
              "         [0.03022065, 0.9386622 , 0.03111722],\n",
              "         [0.03022881, 0.9386336 , 0.03113754]],\n",
              "\n",
              "        [[0.03022466, 0.9386481 , 0.03112721],\n",
              "         [0.03022075, 0.93866175, 0.03111747],\n",
              "         [0.03022097, 0.93866104, 0.03111802],\n",
              "         ...,\n",
              "         [0.03022085, 0.93866146, 0.03111774],\n",
              "         [0.0302207 , 0.9386619 , 0.03111733],\n",
              "         [0.03023336, 0.9386179 , 0.03114887]],\n",
              "\n",
              "        ...,\n",
              "\n",
              "        [[0.03022491, 0.9386473 , 0.03112781],\n",
              "         [0.03022078, 0.93866175, 0.03111754],\n",
              "         [0.03022104, 0.9386607 , 0.03111819],\n",
              "         ...,\n",
              "         [0.03022079, 0.93866163, 0.03111756],\n",
              "         [0.03022067, 0.93866205, 0.03111726],\n",
              "         [0.03022928, 0.938632  , 0.0311387 ]],\n",
              "\n",
              "        [[0.03022309, 0.93865365, 0.03112329],\n",
              "         [0.03022067, 0.93866205, 0.03111729],\n",
              "         [0.03022076, 0.93866175, 0.03111751],\n",
              "         ...,\n",
              "         [0.03022067, 0.93866205, 0.03111727],\n",
              "         [0.03022063, 0.9386622 , 0.03111717],\n",
              "         [0.03022612, 0.93864304, 0.03113085]],\n",
              "\n",
              "        [[0.03028498, 0.93843734, 0.03127759],\n",
              "         [0.03022733, 0.93863887, 0.03113387],\n",
              "         [0.03023165, 0.9386237 , 0.03114461],\n",
              "         ...,\n",
              "         [0.03022742, 0.93863857, 0.03113408],\n",
              "         [0.03022455, 0.9386485 , 0.03112694],\n",
              "         [0.03037386, 0.9381262 , 0.0315    ]]],\n",
              "\n",
              "\n",
              "       [[[0.03029657, 0.93839693, 0.03130655],\n",
              "         [0.03022542, 0.9386456 , 0.03112909],\n",
              "         [0.03022772, 0.9386375 , 0.03113482],\n",
              "         ...,\n",
              "         [0.03022694, 0.9386401 , 0.03113288],\n",
              "         [0.03022417, 0.9386498 , 0.03112599],\n",
              "         [0.03033341, 0.93826795, 0.03139866]],\n",
              "\n",
              "        [[0.03022297, 0.938654  , 0.031123  ],\n",
              "         [0.03022067, 0.93866205, 0.03111725],\n",
              "         [0.0302207 , 0.9386619 , 0.03111735],\n",
              "         ...,\n",
              "         [0.03022069, 0.93866205, 0.03111733],\n",
              "         [0.03022064, 0.9386622 , 0.0311172 ],\n",
              "         [0.03022879, 0.93863374, 0.03113748]],\n",
              "\n",
              "        [[0.03022466, 0.9386481 , 0.03112721],\n",
              "         [0.03022074, 0.93866175, 0.03111745],\n",
              "         [0.03022092, 0.93866116, 0.03111791],\n",
              "         ...,\n",
              "         [0.03022085, 0.93866146, 0.03111773],\n",
              "         [0.03022069, 0.93866205, 0.03111732],\n",
              "         [0.03023329, 0.93861794, 0.03114869]],\n",
              "\n",
              "        ...,\n",
              "\n",
              "        [[0.03022491, 0.9386473 , 0.03112781],\n",
              "         [0.03022078, 0.93866175, 0.03111754],\n",
              "         [0.03022104, 0.9386607 , 0.03111821],\n",
              "         ...,\n",
              "         [0.03022078, 0.93866163, 0.03111755],\n",
              "         [0.03022067, 0.93866205, 0.03111726],\n",
              "         [0.03022929, 0.938632  , 0.03113871]],\n",
              "\n",
              "        [[0.03022309, 0.93865365, 0.03112329],\n",
              "         [0.03022068, 0.93866205, 0.0311173 ],\n",
              "         [0.03022078, 0.93866175, 0.03111754],\n",
              "         ...,\n",
              "         [0.03022067, 0.93866205, 0.03111729],\n",
              "         [0.03022063, 0.9386622 , 0.03111718],\n",
              "         [0.03022612, 0.93864304, 0.03113082]],\n",
              "\n",
              "        [[0.030285  , 0.93843734, 0.03127761],\n",
              "         [0.03022734, 0.93863875, 0.03113388],\n",
              "         [0.03023169, 0.9386236 , 0.03114469],\n",
              "         ...,\n",
              "         [0.03022741, 0.93863857, 0.03113405],\n",
              "         [0.03022455, 0.9386485 , 0.03112691],\n",
              "         [0.03037363, 0.9381269 , 0.03149942]]],\n",
              "\n",
              "\n",
              "       [[[0.03029657, 0.93839693, 0.03130654],\n",
              "         [0.03022518, 0.9386463 , 0.03112849],\n",
              "         [0.03022698, 0.93864   , 0.03113299],\n",
              "         ...,\n",
              "         [0.03022673, 0.93864095, 0.03113236],\n",
              "         [0.03022401, 0.93865055, 0.03112556],\n",
              "         [0.03032969, 0.93828094, 0.03138933]],\n",
              "\n",
              "        [[0.03022297, 0.938654  , 0.031123  ],\n",
              "         [0.03022065, 0.9386622 , 0.03111723],\n",
              "         [0.03022069, 0.93866205, 0.03111732],\n",
              "         ...,\n",
              "         [0.03022068, 0.93866205, 0.0311173 ],\n",
              "         [0.03022063, 0.9386622 , 0.03111718],\n",
              "         [0.03022809, 0.9386361 , 0.03113573]],\n",
              "\n",
              "        [[0.03022466, 0.9386481 , 0.03112721],\n",
              "         [0.03022072, 0.9386619 , 0.03111741],\n",
              "         [0.03022087, 0.93866134, 0.03111777],\n",
              "         ...,\n",
              "         [0.03022081, 0.9386616 , 0.03111761],\n",
              "         [0.03022067, 0.93866205, 0.03111729],\n",
              "         [0.03023185, 0.93862313, 0.0311451 ]],\n",
              "\n",
              "        ...,\n",
              "\n",
              "        [[0.03022461, 0.93864834, 0.03112707],\n",
              "         [0.03022074, 0.9386619 , 0.03111743],\n",
              "         [0.0302209 , 0.93866116, 0.03111786],\n",
              "         ...,\n",
              "         [0.03022073, 0.9386619 , 0.03111742],\n",
              "         [0.03022065, 0.93866205, 0.03111723],\n",
              "         [0.03022793, 0.9386368 , 0.03113534]],\n",
              "\n",
              "        [[0.03022302, 0.93865377, 0.03112311],\n",
              "         [0.03022067, 0.93866205, 0.03111725],\n",
              "         [0.03022072, 0.9386619 , 0.03111741],\n",
              "         ...,\n",
              "         [0.03022066, 0.93866205, 0.03111726],\n",
              "         [0.03022063, 0.9386622 , 0.03111716],\n",
              "         [0.03022545, 0.93864536, 0.03112916]],\n",
              "\n",
              "        [[0.03028954, 0.9384215 , 0.03128897],\n",
              "         [0.03022697, 0.93864   , 0.03113296],\n",
              "         [0.03023016, 0.9386289 , 0.0311409 ],\n",
              "         ...,\n",
              "         [0.03022677, 0.9386408 , 0.03113246],\n",
              "         [0.03022421, 0.9386498 , 0.03112608],\n",
              "         [0.03036495, 0.9381573 , 0.03147766]]],\n",
              "\n",
              "\n",
              "       ...,\n",
              "\n",
              "\n",
              "       [[[0.03029657, 0.93839693, 0.03130655],\n",
              "         [0.03022516, 0.93864644, 0.03112843],\n",
              "         [0.03022693, 0.93864024, 0.03113284],\n",
              "         ...,\n",
              "         [0.03022706, 0.9386397 , 0.03113319],\n",
              "         [0.03022417, 0.9386499 , 0.03112598],\n",
              "         [0.03033341, 0.93826795, 0.03139866]],\n",
              "\n",
              "        [[0.03022297, 0.938654  , 0.031123  ],\n",
              "         [0.03022066, 0.93866205, 0.03111724],\n",
              "         [0.03022069, 0.93866205, 0.03111732],\n",
              "         ...,\n",
              "         [0.0302207 , 0.9386619 , 0.03111735],\n",
              "         [0.03022064, 0.9386622 , 0.0311172 ],\n",
              "         [0.03022904, 0.93863285, 0.03113811]],\n",
              "\n",
              "        [[0.03022466, 0.9386481 , 0.03112721],\n",
              "         [0.03022072, 0.9386619 , 0.0311174 ],\n",
              "         [0.03022085, 0.93866146, 0.03111773],\n",
              "         ...,\n",
              "         [0.03022087, 0.93866134, 0.03111777],\n",
              "         [0.0302207 , 0.9386619 , 0.03111734],\n",
              "         [0.03023398, 0.93861556, 0.03115041]],\n",
              "\n",
              "        ...,\n",
              "\n",
              "        [[0.03022491, 0.9386473 , 0.03112781],\n",
              "         [0.03022072, 0.9386619 , 0.0311174 ],\n",
              "         [0.03022088, 0.93866134, 0.03111778],\n",
              "         ...,\n",
              "         [0.03022087, 0.93866134, 0.03111777],\n",
              "         [0.03022071, 0.9386619 , 0.03111738],\n",
              "         [0.03023211, 0.9386222 , 0.03114575]],\n",
              "\n",
              "        [[0.03022309, 0.93865365, 0.03112329],\n",
              "         [0.03022067, 0.93866205, 0.03111725],\n",
              "         [0.03022072, 0.9386619 , 0.0311174 ],\n",
              "         ...,\n",
              "         [0.03022071, 0.9386619 , 0.03111738],\n",
              "         [0.03022065, 0.93866205, 0.03111723],\n",
              "         [0.03022771, 0.9386375 , 0.03113479]],\n",
              "\n",
              "        [[0.03028498, 0.93843734, 0.03127759],\n",
              "         [0.0302267 , 0.9386411 , 0.03113227],\n",
              "         [0.03022999, 0.9386295 , 0.03114046],\n",
              "         ...,\n",
              "         [0.03022885, 0.9386336 , 0.03113761],\n",
              "         [0.03022546, 0.93864536, 0.03112918],\n",
              "         [0.03039587, 0.93804896, 0.03155524]]],\n",
              "\n",
              "\n",
              "       [[[0.03029657, 0.93839693, 0.03130655],\n",
              "         [0.03022554, 0.93864506, 0.03112941],\n",
              "         [0.03022812, 0.9386361 , 0.0311358 ],\n",
              "         ...,\n",
              "         [0.03022706, 0.9386397 , 0.03113316],\n",
              "         [0.03022417, 0.9386498 , 0.031126  ],\n",
              "         [0.03033341, 0.93826795, 0.03139866]],\n",
              "\n",
              "        [[0.03022297, 0.938654  , 0.031123  ],\n",
              "         [0.03022067, 0.93866205, 0.03111725],\n",
              "         [0.03022071, 0.9386619 , 0.03111738],\n",
              "         ...,\n",
              "         [0.0302207 , 0.9386619 , 0.03111735],\n",
              "         [0.03022064, 0.9386622 , 0.0311172 ],\n",
              "         [0.03022904, 0.93863285, 0.03113811]],\n",
              "\n",
              "        [[0.03022466, 0.9386481 , 0.03112721],\n",
              "         [0.03022076, 0.93866175, 0.03111749],\n",
              "         [0.03022097, 0.93866104, 0.03111802],\n",
              "         ...,\n",
              "         [0.03022087, 0.93866134, 0.03111777],\n",
              "         [0.0302207 , 0.9386619 , 0.03111734],\n",
              "         [0.03023398, 0.93861556, 0.03115041]],\n",
              "\n",
              "        ...,\n",
              "\n",
              "        [[0.03022491, 0.9386473 , 0.03112781],\n",
              "         [0.03022071, 0.9386619 , 0.03111738],\n",
              "         [0.03022084, 0.93866146, 0.0311177 ],\n",
              "         ...,\n",
              "         [0.03022082, 0.93866146, 0.03111765],\n",
              "         [0.0302207 , 0.9386619 , 0.03111734],\n",
              "         [0.03023106, 0.9386258 , 0.03114313]],\n",
              "\n",
              "        [[0.03022309, 0.93865365, 0.03112329],\n",
              "         [0.03022066, 0.93866205, 0.03111724],\n",
              "         [0.03022071, 0.9386619 , 0.03111737],\n",
              "         ...,\n",
              "         [0.03022069, 0.93866205, 0.03111732],\n",
              "         [0.03022064, 0.9386622 , 0.0311172 ],\n",
              "         [0.03022707, 0.9386397 , 0.03113322]],\n",
              "\n",
              "        [[0.03028498, 0.93843734, 0.03127759],\n",
              "         [0.03022653, 0.9386417 , 0.03113186],\n",
              "         [0.03022958, 0.938631  , 0.03113943],\n",
              "         ...,\n",
              "         [0.03022812, 0.9386361 , 0.03113582],\n",
              "         [0.03022503, 0.938647  , 0.03112811],\n",
              "         [0.03038694, 0.93808025, 0.03153281]]],\n",
              "\n",
              "\n",
              "       [[[0.03029657, 0.93839693, 0.03130655],\n",
              "         [0.03022533, 0.9386458 , 0.03112887],\n",
              "         [0.03022746, 0.9386383 , 0.03113416],\n",
              "         ...,\n",
              "         [0.03022706, 0.9386397 , 0.03113319],\n",
              "         [0.03022417, 0.9386498 , 0.031126  ],\n",
              "         [0.03033341, 0.93826795, 0.03139866]],\n",
              "\n",
              "        [[0.03022297, 0.938654  , 0.031123  ],\n",
              "         [0.03022065, 0.93866205, 0.03111723],\n",
              "         [0.0302207 , 0.9386619 , 0.03111733],\n",
              "         ...,\n",
              "         [0.0302207 , 0.9386619 , 0.03111734],\n",
              "         [0.03022064, 0.9386622 , 0.0311172 ],\n",
              "         [0.03022904, 0.93863285, 0.03113811]],\n",
              "\n",
              "        [[0.03022466, 0.9386481 , 0.03112721],\n",
              "         [0.03022072, 0.9386619 , 0.03111741],\n",
              "         [0.03022088, 0.93866134, 0.0311178 ],\n",
              "         ...,\n",
              "         [0.03022087, 0.93866134, 0.03111777],\n",
              "         [0.0302207 , 0.9386619 , 0.03111734],\n",
              "         [0.03023398, 0.93861556, 0.03115041]],\n",
              "\n",
              "        ...,\n",
              "\n",
              "        [[0.03022491, 0.9386473 , 0.03112781],\n",
              "         [0.03022079, 0.93866163, 0.03111756],\n",
              "         [0.0302211 , 0.9386605 , 0.03111835],\n",
              "         ...,\n",
              "         [0.03022083, 0.93866146, 0.03111768],\n",
              "         [0.0302207 , 0.9386619 , 0.03111735],\n",
              "         [0.0302314 , 0.93862456, 0.03114399]],\n",
              "\n",
              "        [[0.03022309, 0.93865365, 0.03112329],\n",
              "         [0.03022069, 0.93866205, 0.0311173 ],\n",
              "         [0.03022078, 0.93866163, 0.03111755],\n",
              "         ...,\n",
              "         [0.0302207 , 0.9386619 , 0.03111734],\n",
              "         [0.03022064, 0.9386622 , 0.0311172 ],\n",
              "         [0.03022727, 0.938639  , 0.03113372]],\n",
              "\n",
              "        [[0.03028498, 0.93843734, 0.03127759],\n",
              "         [0.03022759, 0.9386379 , 0.03113449],\n",
              "         [0.03023234, 0.93862134, 0.03114632],\n",
              "         ...,\n",
              "         [0.03022826, 0.9386355 , 0.03113616],\n",
              "         [0.03022512, 0.93864655, 0.03112836],\n",
              "         [0.03038977, 0.93807024, 0.03153991]]]], dtype=float32)"
            ]
          },
          "metadata": {},
          "execution_count": 58
        }
      ],
      "source": [
        "var1 = autoencoder.predict(k)\n",
        "var1"
      ]
    },
    {
      "cell_type": "code",
      "execution_count": 85,
      "metadata": {
        "id": "Syxh63DxQ4ul",
        "colab": {
          "base_uri": "https://localhost:8080/"
        },
        "outputId": "91764a21-b439-4acf-9e0a-643c61165d75"
      },
      "outputs": [
        {
          "output_type": "stream",
          "name": "stdout",
          "text": [
            "0.0 1.0\n"
          ]
        }
      ],
      "source": [
        "def procOneHot(arr):\n",
        "  var2 = np.random.randn(arr.shape[0],arr.shape[1],arr.shape[2],1)\n",
        "  for i in range(arr.shape[0]):\n",
        "    for j in range(arr.shape[1]):\n",
        "      for k in range(arr.shape[2]):\n",
        "        max = -100\n",
        "        index = 1\n",
        "        for a in range(arr.shape[3]):\n",
        "          if (arr[i,j,k,a] > max):\n",
        "            max = arr[i,j,k,a]\n",
        "            index = a\n",
        "        var2[i,j,k,0] = index-1\n",
        "  print(np.min(var2),np.max(var2))\n",
        "  return var2\n",
        "var2 = procOneHot(var1)"
      ]
    },
    {
      "cell_type": "code",
      "source": [
        "var2"
      ],
      "metadata": {
        "colab": {
          "base_uri": "https://localhost:8080/"
        },
        "id": "YgMatVhpulQ5",
        "outputId": "c3e2e932-001b-4053-f60b-1e6e884e9bcd"
      },
      "execution_count": 86,
      "outputs": [
        {
          "output_type": "execute_result",
          "data": {
            "text/plain": [
              "array([[[[0.],\n",
              "         [0.],\n",
              "         [0.],\n",
              "         ...,\n",
              "         [0.],\n",
              "         [0.],\n",
              "         [0.]],\n",
              "\n",
              "        [[0.],\n",
              "         [0.],\n",
              "         [0.],\n",
              "         ...,\n",
              "         [0.],\n",
              "         [0.],\n",
              "         [0.]],\n",
              "\n",
              "        [[0.],\n",
              "         [0.],\n",
              "         [0.],\n",
              "         ...,\n",
              "         [0.],\n",
              "         [0.],\n",
              "         [0.]],\n",
              "\n",
              "        ...,\n",
              "\n",
              "        [[0.],\n",
              "         [0.],\n",
              "         [0.],\n",
              "         ...,\n",
              "         [0.],\n",
              "         [0.],\n",
              "         [0.]],\n",
              "\n",
              "        [[0.],\n",
              "         [0.],\n",
              "         [0.],\n",
              "         ...,\n",
              "         [0.],\n",
              "         [0.],\n",
              "         [0.]],\n",
              "\n",
              "        [[0.],\n",
              "         [0.],\n",
              "         [0.],\n",
              "         ...,\n",
              "         [0.],\n",
              "         [0.],\n",
              "         [0.]]],\n",
              "\n",
              "\n",
              "       [[[0.],\n",
              "         [0.],\n",
              "         [0.],\n",
              "         ...,\n",
              "         [0.],\n",
              "         [0.],\n",
              "         [0.]],\n",
              "\n",
              "        [[0.],\n",
              "         [0.],\n",
              "         [0.],\n",
              "         ...,\n",
              "         [0.],\n",
              "         [0.],\n",
              "         [0.]],\n",
              "\n",
              "        [[0.],\n",
              "         [0.],\n",
              "         [0.],\n",
              "         ...,\n",
              "         [0.],\n",
              "         [0.],\n",
              "         [0.]],\n",
              "\n",
              "        ...,\n",
              "\n",
              "        [[0.],\n",
              "         [0.],\n",
              "         [0.],\n",
              "         ...,\n",
              "         [0.],\n",
              "         [0.],\n",
              "         [0.]],\n",
              "\n",
              "        [[0.],\n",
              "         [0.],\n",
              "         [0.],\n",
              "         ...,\n",
              "         [0.],\n",
              "         [0.],\n",
              "         [0.]],\n",
              "\n",
              "        [[0.],\n",
              "         [0.],\n",
              "         [0.],\n",
              "         ...,\n",
              "         [0.],\n",
              "         [0.],\n",
              "         [0.]]],\n",
              "\n",
              "\n",
              "       [[[0.],\n",
              "         [0.],\n",
              "         [0.],\n",
              "         ...,\n",
              "         [0.],\n",
              "         [0.],\n",
              "         [0.]],\n",
              "\n",
              "        [[0.],\n",
              "         [0.],\n",
              "         [0.],\n",
              "         ...,\n",
              "         [0.],\n",
              "         [0.],\n",
              "         [0.]],\n",
              "\n",
              "        [[0.],\n",
              "         [0.],\n",
              "         [0.],\n",
              "         ...,\n",
              "         [0.],\n",
              "         [0.],\n",
              "         [0.]],\n",
              "\n",
              "        ...,\n",
              "\n",
              "        [[0.],\n",
              "         [0.],\n",
              "         [0.],\n",
              "         ...,\n",
              "         [0.],\n",
              "         [0.],\n",
              "         [0.]],\n",
              "\n",
              "        [[0.],\n",
              "         [0.],\n",
              "         [0.],\n",
              "         ...,\n",
              "         [0.],\n",
              "         [0.],\n",
              "         [0.]],\n",
              "\n",
              "        [[0.],\n",
              "         [0.],\n",
              "         [0.],\n",
              "         ...,\n",
              "         [0.],\n",
              "         [0.],\n",
              "         [0.]]],\n",
              "\n",
              "\n",
              "       ...,\n",
              "\n",
              "\n",
              "       [[[0.],\n",
              "         [0.],\n",
              "         [0.],\n",
              "         ...,\n",
              "         [0.],\n",
              "         [0.],\n",
              "         [0.]],\n",
              "\n",
              "        [[0.],\n",
              "         [0.],\n",
              "         [0.],\n",
              "         ...,\n",
              "         [0.],\n",
              "         [0.],\n",
              "         [0.]],\n",
              "\n",
              "        [[0.],\n",
              "         [0.],\n",
              "         [0.],\n",
              "         ...,\n",
              "         [0.],\n",
              "         [0.],\n",
              "         [0.]],\n",
              "\n",
              "        ...,\n",
              "\n",
              "        [[0.],\n",
              "         [0.],\n",
              "         [0.],\n",
              "         ...,\n",
              "         [0.],\n",
              "         [0.],\n",
              "         [0.]],\n",
              "\n",
              "        [[0.],\n",
              "         [0.],\n",
              "         [0.],\n",
              "         ...,\n",
              "         [0.],\n",
              "         [0.],\n",
              "         [0.]],\n",
              "\n",
              "        [[0.],\n",
              "         [0.],\n",
              "         [0.],\n",
              "         ...,\n",
              "         [0.],\n",
              "         [0.],\n",
              "         [0.]]],\n",
              "\n",
              "\n",
              "       [[[0.],\n",
              "         [0.],\n",
              "         [0.],\n",
              "         ...,\n",
              "         [0.],\n",
              "         [0.],\n",
              "         [0.]],\n",
              "\n",
              "        [[0.],\n",
              "         [0.],\n",
              "         [0.],\n",
              "         ...,\n",
              "         [0.],\n",
              "         [0.],\n",
              "         [0.]],\n",
              "\n",
              "        [[0.],\n",
              "         [0.],\n",
              "         [0.],\n",
              "         ...,\n",
              "         [0.],\n",
              "         [0.],\n",
              "         [0.]],\n",
              "\n",
              "        ...,\n",
              "\n",
              "        [[0.],\n",
              "         [0.],\n",
              "         [0.],\n",
              "         ...,\n",
              "         [0.],\n",
              "         [0.],\n",
              "         [0.]],\n",
              "\n",
              "        [[0.],\n",
              "         [0.],\n",
              "         [0.],\n",
              "         ...,\n",
              "         [0.],\n",
              "         [0.],\n",
              "         [0.]],\n",
              "\n",
              "        [[0.],\n",
              "         [0.],\n",
              "         [0.],\n",
              "         ...,\n",
              "         [0.],\n",
              "         [0.],\n",
              "         [0.]]],\n",
              "\n",
              "\n",
              "       [[[0.],\n",
              "         [0.],\n",
              "         [0.],\n",
              "         ...,\n",
              "         [0.],\n",
              "         [0.],\n",
              "         [0.]],\n",
              "\n",
              "        [[0.],\n",
              "         [0.],\n",
              "         [0.],\n",
              "         ...,\n",
              "         [0.],\n",
              "         [0.],\n",
              "         [0.]],\n",
              "\n",
              "        [[0.],\n",
              "         [0.],\n",
              "         [0.],\n",
              "         ...,\n",
              "         [0.],\n",
              "         [0.],\n",
              "         [0.]],\n",
              "\n",
              "        ...,\n",
              "\n",
              "        [[0.],\n",
              "         [0.],\n",
              "         [0.],\n",
              "         ...,\n",
              "         [0.],\n",
              "         [0.],\n",
              "         [0.]],\n",
              "\n",
              "        [[0.],\n",
              "         [0.],\n",
              "         [0.],\n",
              "         ...,\n",
              "         [0.],\n",
              "         [0.],\n",
              "         [0.]],\n",
              "\n",
              "        [[0.],\n",
              "         [0.],\n",
              "         [0.],\n",
              "         ...,\n",
              "         [0.],\n",
              "         [0.],\n",
              "         [0.]]]])"
            ]
          },
          "metadata": {},
          "execution_count": 86
        }
      ]
    },
    {
      "cell_type": "code",
      "execution_count": 87,
      "metadata": {
        "id": "BmHcepOaSXjE",
        "colab": {
          "base_uri": "https://localhost:8080/"
        },
        "outputId": "128e5684-fe7f-471e-da80-4a4adf7272e1"
      },
      "outputs": [
        {
          "output_type": "execute_result",
          "data": {
            "text/plain": [
              "1.0"
            ]
          },
          "metadata": {},
          "execution_count": 87
        }
      ],
      "source": [
        "np.max(var2)       \n"
      ]
    },
    {
      "cell_type": "code",
      "execution_count": 61,
      "metadata": {
        "id": "GhdJDdPMR7QT",
        "colab": {
          "base_uri": "https://localhost:8080/"
        },
        "outputId": "9f0a2882-b9bc-4e6c-c647-2d592d8bc2a7"
      },
      "outputs": [
        {
          "output_type": "execute_result",
          "data": {
            "text/plain": [
              "TensorShape([13200, 32, 32, 1])"
            ]
          },
          "metadata": {},
          "execution_count": 61
        }
      ],
      "source": [
        "labels.shape"
      ]
    },
    {
      "cell_type": "code",
      "execution_count": 62,
      "metadata": {
        "id": "sTPN7PfVTG_A",
        "colab": {
          "base_uri": "https://localhost:8080/"
        },
        "outputId": "36244467-07d4-4617-df1b-107407a864e3"
      },
      "outputs": [
        {
          "output_type": "execute_result",
          "data": {
            "text/plain": [
              "(13200, 32, 32, 1)"
            ]
          },
          "metadata": {},
          "execution_count": 62
        }
      ],
      "source": [
        "np.reshape(var2, (13200,32,32,1))\n",
        "var2.shape"
      ]
    },
    {
      "cell_type": "code",
      "execution_count": 94,
      "metadata": {
        "id": "T1N5vXvM9zip",
        "colab": {
          "base_uri": "https://localhost:8080/",
          "height": 286
        },
        "outputId": "c7563e82-0fe8-4222-c31b-8ff4afaae250"
      },
      "outputs": [
        {
          "output_type": "execute_result",
          "data": {
            "text/plain": [
              "<matplotlib.image.AxesImage at 0x7faba3897a90>"
            ]
          },
          "metadata": {},
          "execution_count": 94
        },
        {
          "output_type": "display_data",
          "data": {
            "text/plain": [
              "<Figure size 432x288 with 2 Axes>"
            ],
            "image/png": "[encoded data removed]"
          },
          "metadata": {
            "needs_background": "light"
          }
        }
      ],
      "source": [
        "fig1, ax1 = plt.subplots(2,1)\n",
        "a=789\n",
        "ax1[0].imshow(var2[a,:,:,0],cmap=CMAP,norm=NORM)\n",
        "ax1[1].imshow(labels[a,:,:,0],cmap=CMAP,norm=NORM)\n"
      ]
    },
    {
      "cell_type": "code",
      "execution_count": 64,
      "metadata": {
        "id": "n07itI9l6iO6",
        "colab": {
          "base_uri": "https://localhost:8080/",
          "height": 216
        },
        "outputId": "b9f954de-02c0-4a59-af2a-9c63769344e1"
      },
      "outputs": [
        {
          "output_type": "display_data",
          "data": {
            "text/plain": [
              "<Figure size 432x288 with 20 Axes>"
            ],
            "image/png": "[encoded data removed]"
          },
          "metadata": {
            "needs_background": "light"
          }
        },
        {
          "output_type": "display_data",
          "data": {
            "text/plain": [
              "<Figure size 3200x3200 with 0 Axes>"
            ]
          },
          "metadata": {}
        }
      ],
      "source": [
        "fig_tr,ax_tr = plt.subplots(nrows = 2, ncols=10,sharex=True)\n",
        "figure(figsize=(40, 40), dpi=80)\n",
        "for i in range(10):\n",
        "  ax_tr[0][i].imshow(var2[i,:,:,b],cmap=CMAP,norm=NORM)\n",
        "  ax_tr[1][i].imshow(labels[i,:,:,b],cmap=CMAP,norm=NORM)"
      ]
    },
    {
      "cell_type": "code",
      "execution_count": 65,
      "metadata": {
        "id": "gufpMrAq4jRY",
        "colab": {
          "base_uri": "https://localhost:8080/"
        },
        "outputId": "6e2f8551-4a3b-45a0-a5cb-94614b5f1d80"
      },
      "outputs": [
        {
          "output_type": "stream",
          "name": "stdout",
          "text": [
            "53/53 [==============================] - 1s 14ms/step - loss: 0.2431 - recall_3: 0.9474 - auc_3: 0.9606\n"
          ]
        }
      ],
      "source": [
        "accuracy = autoencoder.evaluate(mod_x_test, y_val_encoded, verbose=1)\n",
        "\n"
      ]
    },
    {
      "cell_type": "code",
      "execution_count": 66,
      "metadata": {
        "id": "TPqfp9535dxS"
      },
      "outputs": [],
      "source": [
        "# Here we would get the output as probablities for each category\n",
        "y_pred=autoencoder.predict(mod_x_test)"
      ]
    },
    {
      "cell_type": "code",
      "execution_count": 67,
      "metadata": {
        "id": "mK1xrsPQKBMP",
        "colab": {
          "base_uri": "https://localhost:8080/"
        },
        "outputId": "c1a56678-c44f-4adc-fd9a-bedd2a2f33e3"
      },
      "outputs": [
        {
          "output_type": "execute_result",
          "data": {
            "text/plain": [
              "array([[[[0.03029657, 0.93839693, 0.03130655],\n",
              "         [0.03022554, 0.93864506, 0.03112941],\n",
              "         [0.03022812, 0.9386361 , 0.03113582],\n",
              "         ...,\n",
              "         [0.03022694, 0.9386401 , 0.03113288],\n",
              "         [0.03022417, 0.9386498 , 0.03112599],\n",
              "         [0.03033341, 0.93826795, 0.03139866]],\n",
              "\n",
              "        [[0.03022297, 0.938654  , 0.031123  ],\n",
              "         [0.03022065, 0.93866205, 0.03111723],\n",
              "         [0.03022072, 0.9386619 , 0.03111738],\n",
              "         ...,\n",
              "         [0.0302207 , 0.9386619 , 0.03111735],\n",
              "         [0.03022065, 0.9386622 , 0.03111722],\n",
              "         [0.03022881, 0.9386336 , 0.03113754]],\n",
              "\n",
              "        [[0.03022466, 0.9386481 , 0.03112721],\n",
              "         [0.03022075, 0.93866175, 0.03111747],\n",
              "         [0.03022097, 0.93866104, 0.03111802],\n",
              "         ...,\n",
              "         [0.03022085, 0.93866146, 0.03111774],\n",
              "         [0.0302207 , 0.9386619 , 0.03111733],\n",
              "         [0.03023336, 0.9386179 , 0.03114887]],\n",
              "\n",
              "        ...,\n",
              "\n",
              "        [[0.03022491, 0.9386473 , 0.03112781],\n",
              "         [0.03022078, 0.93866175, 0.03111754],\n",
              "         [0.03022104, 0.9386607 , 0.03111819],\n",
              "         ...,\n",
              "         [0.03022079, 0.93866163, 0.03111756],\n",
              "         [0.03022067, 0.93866205, 0.03111726],\n",
              "         [0.03022928, 0.938632  , 0.0311387 ]],\n",
              "\n",
              "        [[0.03022309, 0.93865365, 0.03112329],\n",
              "         [0.03022067, 0.93866205, 0.03111729],\n",
              "         [0.03022076, 0.93866175, 0.03111751],\n",
              "         ...,\n",
              "         [0.03022067, 0.93866205, 0.03111727],\n",
              "         [0.03022063, 0.9386622 , 0.03111717],\n",
              "         [0.03022612, 0.93864304, 0.03113085]],\n",
              "\n",
              "        [[0.03028498, 0.93843734, 0.03127759],\n",
              "         [0.03022733, 0.93863887, 0.03113387],\n",
              "         [0.03023165, 0.9386237 , 0.03114461],\n",
              "         ...,\n",
              "         [0.03022742, 0.93863857, 0.03113408],\n",
              "         [0.03022455, 0.9386485 , 0.03112694],\n",
              "         [0.03037386, 0.9381262 , 0.0315    ]]],\n",
              "\n",
              "\n",
              "       [[[0.03029657, 0.93839693, 0.03130655],\n",
              "         [0.03022542, 0.9386456 , 0.03112909],\n",
              "         [0.03022772, 0.9386375 , 0.03113482],\n",
              "         ...,\n",
              "         [0.03022694, 0.9386401 , 0.03113288],\n",
              "         [0.03022417, 0.9386498 , 0.03112599],\n",
              "         [0.03033341, 0.93826795, 0.03139866]],\n",
              "\n",
              "        [[0.03022297, 0.938654  , 0.031123  ],\n",
              "         [0.03022067, 0.93866205, 0.03111725],\n",
              "         [0.0302207 , 0.9386619 , 0.03111735],\n",
              "         ...,\n",
              "         [0.03022069, 0.93866205, 0.03111733],\n",
              "         [0.03022064, 0.9386622 , 0.0311172 ],\n",
              "         [0.03022879, 0.93863374, 0.03113748]],\n",
              "\n",
              "        [[0.03022466, 0.9386481 , 0.03112721],\n",
              "         [0.03022074, 0.93866175, 0.03111745],\n",
              "         [0.03022092, 0.93866116, 0.03111791],\n",
              "         ...,\n",
              "         [0.03022085, 0.93866146, 0.03111773],\n",
              "         [0.03022069, 0.93866205, 0.03111732],\n",
              "         [0.03023329, 0.93861794, 0.03114869]],\n",
              "\n",
              "        ...,\n",
              "\n",
              "        [[0.03022491, 0.9386473 , 0.03112781],\n",
              "         [0.03022078, 0.93866175, 0.03111754],\n",
              "         [0.03022104, 0.9386607 , 0.03111821],\n",
              "         ...,\n",
              "         [0.03022078, 0.93866163, 0.03111755],\n",
              "         [0.03022067, 0.93866205, 0.03111726],\n",
              "         [0.03022929, 0.938632  , 0.03113871]],\n",
              "\n",
              "        [[0.03022309, 0.93865365, 0.03112329],\n",
              "         [0.03022068, 0.93866205, 0.0311173 ],\n",
              "         [0.03022078, 0.93866175, 0.03111754],\n",
              "         ...,\n",
              "         [0.03022067, 0.93866205, 0.03111729],\n",
              "         [0.03022063, 0.9386622 , 0.03111718],\n",
              "         [0.03022612, 0.93864304, 0.03113082]],\n",
              "\n",
              "        [[0.030285  , 0.93843734, 0.03127761],\n",
              "         [0.03022734, 0.93863875, 0.03113388],\n",
              "         [0.03023169, 0.9386236 , 0.03114469],\n",
              "         ...,\n",
              "         [0.03022741, 0.93863857, 0.03113405],\n",
              "         [0.03022455, 0.9386485 , 0.03112691],\n",
              "         [0.03037363, 0.9381269 , 0.03149942]]],\n",
              "\n",
              "\n",
              "       [[[0.03029657, 0.93839693, 0.03130654],\n",
              "         [0.03022518, 0.9386463 , 0.03112849],\n",
              "         [0.03022698, 0.93864   , 0.03113299],\n",
              "         ...,\n",
              "         [0.03022673, 0.93864095, 0.03113236],\n",
              "         [0.03022401, 0.93865055, 0.03112556],\n",
              "         [0.03032969, 0.93828094, 0.03138933]],\n",
              "\n",
              "        [[0.03022297, 0.938654  , 0.031123  ],\n",
              "         [0.03022065, 0.9386622 , 0.03111723],\n",
              "         [0.03022069, 0.93866205, 0.03111732],\n",
              "         ...,\n",
              "         [0.03022068, 0.93866205, 0.0311173 ],\n",
              "         [0.03022063, 0.9386622 , 0.03111718],\n",
              "         [0.03022809, 0.9386361 , 0.03113573]],\n",
              "\n",
              "        [[0.03022466, 0.9386481 , 0.03112721],\n",
              "         [0.03022072, 0.9386619 , 0.03111741],\n",
              "         [0.03022087, 0.93866134, 0.03111777],\n",
              "         ...,\n",
              "         [0.03022081, 0.9386616 , 0.03111761],\n",
              "         [0.03022067, 0.93866205, 0.03111729],\n",
              "         [0.03023185, 0.93862313, 0.0311451 ]],\n",
              "\n",
              "        ...,\n",
              "\n",
              "        [[0.03022461, 0.93864834, 0.03112707],\n",
              "         [0.03022074, 0.9386619 , 0.03111743],\n",
              "         [0.0302209 , 0.93866116, 0.03111786],\n",
              "         ...,\n",
              "         [0.03022073, 0.9386619 , 0.03111742],\n",
              "         [0.03022065, 0.93866205, 0.03111723],\n",
              "         [0.03022793, 0.9386368 , 0.03113534]],\n",
              "\n",
              "        [[0.03022302, 0.93865377, 0.03112311],\n",
              "         [0.03022067, 0.93866205, 0.03111725],\n",
              "         [0.03022072, 0.9386619 , 0.03111741],\n",
              "         ...,\n",
              "         [0.03022066, 0.93866205, 0.03111726],\n",
              "         [0.03022063, 0.9386622 , 0.03111716],\n",
              "         [0.03022545, 0.93864536, 0.03112916]],\n",
              "\n",
              "        [[0.03028954, 0.9384215 , 0.03128897],\n",
              "         [0.03022697, 0.93864   , 0.03113296],\n",
              "         [0.03023016, 0.9386289 , 0.0311409 ],\n",
              "         ...,\n",
              "         [0.03022677, 0.9386408 , 0.03113246],\n",
              "         [0.03022421, 0.9386498 , 0.03112608],\n",
              "         [0.03036495, 0.9381573 , 0.03147766]]],\n",
              "\n",
              "\n",
              "       ...,\n",
              "\n",
              "\n",
              "       [[[0.03029657, 0.93839693, 0.03130655],\n",
              "         [0.03022516, 0.93864644, 0.03112843],\n",
              "         [0.03022693, 0.93864024, 0.03113284],\n",
              "         ...,\n",
              "         [0.03022706, 0.9386397 , 0.03113319],\n",
              "         [0.03022417, 0.9386499 , 0.03112598],\n",
              "         [0.03033341, 0.93826795, 0.03139866]],\n",
              "\n",
              "        [[0.03022297, 0.938654  , 0.031123  ],\n",
              "         [0.03022066, 0.93866205, 0.03111724],\n",
              "         [0.03022069, 0.93866205, 0.03111732],\n",
              "         ...,\n",
              "         [0.0302207 , 0.9386619 , 0.03111735],\n",
              "         [0.03022064, 0.9386622 , 0.0311172 ],\n",
              "         [0.03022904, 0.93863285, 0.03113811]],\n",
              "\n",
              "        [[0.03022466, 0.9386481 , 0.03112721],\n",
              "         [0.03022072, 0.9386619 , 0.0311174 ],\n",
              "         [0.03022085, 0.93866146, 0.03111773],\n",
              "         ...,\n",
              "         [0.03022087, 0.93866134, 0.03111777],\n",
              "         [0.0302207 , 0.9386619 , 0.03111734],\n",
              "         [0.03023398, 0.93861556, 0.03115041]],\n",
              "\n",
              "        ...,\n",
              "\n",
              "        [[0.03022491, 0.9386473 , 0.03112781],\n",
              "         [0.03022072, 0.9386619 , 0.0311174 ],\n",
              "         [0.03022088, 0.93866134, 0.03111778],\n",
              "         ...,\n",
              "         [0.03022087, 0.93866134, 0.03111777],\n",
              "         [0.03022071, 0.9386619 , 0.03111738],\n",
              "         [0.03023211, 0.9386222 , 0.03114575]],\n",
              "\n",
              "        [[0.03022309, 0.93865365, 0.03112329],\n",
              "         [0.03022067, 0.93866205, 0.03111725],\n",
              "         [0.03022072, 0.9386619 , 0.0311174 ],\n",
              "         ...,\n",
              "         [0.03022071, 0.9386619 , 0.03111738],\n",
              "         [0.03022065, 0.93866205, 0.03111723],\n",
              "         [0.03022771, 0.9386375 , 0.03113479]],\n",
              "\n",
              "        [[0.03028498, 0.93843734, 0.03127759],\n",
              "         [0.0302267 , 0.9386411 , 0.03113227],\n",
              "         [0.03022999, 0.9386295 , 0.03114046],\n",
              "         ...,\n",
              "         [0.03022885, 0.9386336 , 0.03113761],\n",
              "         [0.03022546, 0.93864536, 0.03112918],\n",
              "         [0.03039587, 0.93804896, 0.03155524]]],\n",
              "\n",
              "\n",
              "       [[[0.03029657, 0.93839693, 0.03130655],\n",
              "         [0.03022554, 0.93864506, 0.03112941],\n",
              "         [0.03022812, 0.9386361 , 0.0311358 ],\n",
              "         ...,\n",
              "         [0.03022706, 0.9386397 , 0.03113316],\n",
              "         [0.03022417, 0.9386498 , 0.031126  ],\n",
              "         [0.03033341, 0.93826795, 0.03139866]],\n",
              "\n",
              "        [[0.03022297, 0.938654  , 0.031123  ],\n",
              "         [0.03022067, 0.93866205, 0.03111725],\n",
              "         [0.03022071, 0.9386619 , 0.03111738],\n",
              "         ...,\n",
              "         [0.0302207 , 0.9386619 , 0.03111735],\n",
              "         [0.03022064, 0.9386622 , 0.0311172 ],\n",
              "         [0.03022904, 0.93863285, 0.03113811]],\n",
              "\n",
              "        [[0.03022466, 0.9386481 , 0.03112721],\n",
              "         [0.03022076, 0.93866175, 0.03111749],\n",
              "         [0.03022097, 0.93866104, 0.03111802],\n",
              "         ...,\n",
              "         [0.03022087, 0.93866134, 0.03111777],\n",
              "         [0.0302207 , 0.9386619 , 0.03111734],\n",
              "         [0.03023398, 0.93861556, 0.03115041]],\n",
              "\n",
              "        ...,\n",
              "\n",
              "        [[0.03022491, 0.9386473 , 0.03112781],\n",
              "         [0.03022071, 0.9386619 , 0.03111738],\n",
              "         [0.03022084, 0.93866146, 0.0311177 ],\n",
              "         ...,\n",
              "         [0.03022082, 0.93866146, 0.03111765],\n",
              "         [0.0302207 , 0.9386619 , 0.03111734],\n",
              "         [0.03023106, 0.9386258 , 0.03114313]],\n",
              "\n",
              "        [[0.03022309, 0.93865365, 0.03112329],\n",
              "         [0.03022066, 0.93866205, 0.03111724],\n",
              "         [0.03022071, 0.9386619 , 0.03111737],\n",
              "         ...,\n",
              "         [0.03022069, 0.93866205, 0.03111732],\n",
              "         [0.03022064, 0.9386622 , 0.0311172 ],\n",
              "         [0.03022707, 0.9386397 , 0.03113322]],\n",
              "\n",
              "        [[0.03028498, 0.93843734, 0.03127759],\n",
              "         [0.03022653, 0.9386417 , 0.03113186],\n",
              "         [0.03022958, 0.938631  , 0.03113943],\n",
              "         ...,\n",
              "         [0.03022812, 0.9386361 , 0.03113582],\n",
              "         [0.03022503, 0.938647  , 0.03112811],\n",
              "         [0.03038694, 0.93808025, 0.03153281]]],\n",
              "\n",
              "\n",
              "       [[[0.03029657, 0.93839693, 0.03130655],\n",
              "         [0.03022533, 0.9386458 , 0.03112887],\n",
              "         [0.03022746, 0.9386383 , 0.03113416],\n",
              "         ...,\n",
              "         [0.03022706, 0.9386397 , 0.03113319],\n",
              "         [0.03022417, 0.9386498 , 0.031126  ],\n",
              "         [0.03033341, 0.93826795, 0.03139866]],\n",
              "\n",
              "        [[0.03022297, 0.938654  , 0.031123  ],\n",
              "         [0.03022065, 0.93866205, 0.03111723],\n",
              "         [0.0302207 , 0.9386619 , 0.03111733],\n",
              "         ...,\n",
              "         [0.0302207 , 0.9386619 , 0.03111734],\n",
              "         [0.03022064, 0.9386622 , 0.0311172 ],\n",
              "         [0.03022904, 0.93863285, 0.03113811]],\n",
              "\n",
              "        [[0.03022466, 0.9386481 , 0.03112721],\n",
              "         [0.03022072, 0.9386619 , 0.03111741],\n",
              "         [0.03022088, 0.93866134, 0.0311178 ],\n",
              "         ...,\n",
              "         [0.03022087, 0.93866134, 0.03111777],\n",
              "         [0.0302207 , 0.9386619 , 0.03111734],\n",
              "         [0.03023398, 0.93861556, 0.03115041]],\n",
              "\n",
              "        ...,\n",
              "\n",
              "        [[0.03022491, 0.9386473 , 0.03112781],\n",
              "         [0.03022079, 0.93866163, 0.03111756],\n",
              "         [0.0302211 , 0.9386605 , 0.03111835],\n",
              "         ...,\n",
              "         [0.03022083, 0.93866146, 0.03111768],\n",
              "         [0.0302207 , 0.9386619 , 0.03111735],\n",
              "         [0.0302314 , 0.93862456, 0.03114399]],\n",
              "\n",
              "        [[0.03022309, 0.93865365, 0.03112329],\n",
              "         [0.03022069, 0.93866205, 0.0311173 ],\n",
              "         [0.03022078, 0.93866163, 0.03111755],\n",
              "         ...,\n",
              "         [0.0302207 , 0.9386619 , 0.03111734],\n",
              "         [0.03022064, 0.9386622 , 0.0311172 ],\n",
              "         [0.03022727, 0.938639  , 0.03113372]],\n",
              "\n",
              "        [[0.03028498, 0.93843734, 0.03127759],\n",
              "         [0.03022759, 0.9386379 , 0.03113449],\n",
              "         [0.03023234, 0.93862134, 0.03114632],\n",
              "         ...,\n",
              "         [0.03022826, 0.9386355 , 0.03113616],\n",
              "         [0.03022512, 0.93864655, 0.03112836],\n",
              "         [0.03038977, 0.93807024, 0.03153991]]]], dtype=float32)"
            ]
          },
          "metadata": {},
          "execution_count": 67
        }
      ],
      "source": [
        "var1"
      ]
    },
    {
      "cell_type": "markdown",
      "metadata": {
        "id": "xhMTfxSpLnid"
      },
      "source": [
        "Confusion matrix"
      ]
    },
    {
      "cell_type": "code",
      "execution_count": 68,
      "metadata": {
        "id": "Rwvy9_6BL2Qa",
        "colab": {
          "base_uri": "https://localhost:8080/"
        },
        "outputId": "6843b761-0ed1-4d88-fdaf-07b9c636faaa"
      },
      "outputs": [
        {
          "output_type": "execute_result",
          "data": {
            "text/plain": [
              "(1689, 32, 32, 3)"
            ]
          },
          "metadata": {},
          "execution_count": 68
        }
      ],
      "source": [
        "y_pred_arg=np.argmax(var1,axis=1)\n",
        "y_val_encoded.shape"
      ]
    },
    {
      "cell_type": "code",
      "execution_count": 69,
      "metadata": {
        "id": "U1iz7QCaP5su",
        "colab": {
          "base_uri": "https://localhost:8080/"
        },
        "outputId": "9619de1b-37c4-455a-8e0b-1681304d434f"
      },
      "outputs": [
        {
          "output_type": "execute_result",
          "data": {
            "text/plain": [
              "TensorShape([1689, 32, 32, 12])"
            ]
          },
          "metadata": {},
          "execution_count": 69
        }
      ],
      "source": [
        "x_test.shape"
      ]
    },
    {
      "cell_type": "code",
      "execution_count": 70,
      "metadata": {
        "id": "jGW6s9a55h6O"
      },
      "outputs": [],
      "source": [
        "# # Plotting the Confusion Matrix using confusion matrix() function which is also predefined tensorflow module\n",
        "# # Obtaining the categorical values from y_test_encoded and y_pred\n",
        "# y_pred_arg=np.argmax(var2,axis=0)\n",
        "# y_test_arg=np.argmax(y_test,axis=0)\n",
        "\n",
        "# confusion_matrix = tf.math.confusion_matrix(var2,y_test_arg)\n",
        "# f, ax = plt.subplots(figsize=(10, 8))\n",
        "# sns.heatmap(\n",
        "#     confusion_matrix,\n",
        "#     annot=True,\n",
        "#     linewidths=.4,\n",
        "#     fmt=\"d\",\n",
        "#     square=True,\n",
        "#     ax=ax\n",
        "# )\n",
        "# plt.show()\n"
      ]
    },
    {
      "cell_type": "code",
      "execution_count": 71,
      "metadata": {
        "id": "uLqwtK3LCueL",
        "colab": {
          "base_uri": "https://localhost:8080/"
        },
        "outputId": "0ce8c0a3-8d3f-4697-a332-bafd827464de"
      },
      "outputs": [
        {
          "output_type": "execute_result",
          "data": {
            "text/plain": [
              "dict_keys(['loss', 'recall_3', 'auc_3', 'val_loss', 'val_recall_3', 'val_auc_3'])"
            ]
          },
          "metadata": {},
          "execution_count": 71
        }
      ],
      "source": [
        "history_1.history.keys()"
      ]
    },
    {
      "cell_type": "code",
      "execution_count": 72,
      "metadata": {
        "id": "otxTjhsG4cET",
        "colab": {
          "base_uri": "https://localhost:8080/",
          "height": 295
        },
        "outputId": "bf866da4-33dc-4762-e047-13299b0f8c36"
      },
      "outputs": [
        {
          "output_type": "display_data",
          "data": {
            "text/plain": [
              "<Figure size 432x288 with 1 Axes>"
            ],
            "image/png": "[encoded data removed]"
          },
          "metadata": {
            "needs_background": "light"
          }
        }
      ],
      "source": [
        "plt.plot(history_1.history['loss'])\n",
        "plt.plot(history_1.history['val_loss'])\n",
        "plt.title('Model Loss')\n",
        "plt.ylabel('Loss')\n",
        "plt.xlabel('Epoch')\n",
        "plt.legend(['Train', 'Validation'], loc='upper left')\n",
        "plt.show()\n"
      ]
    },
    {
      "cell_type": "markdown",
      "metadata": {
        "id": "4X9N-bEc6bfV"
      },
      "source": [
        "### Test Predictions"
      ]
    },
    {
      "cell_type": "code",
      "execution_count": 73,
      "metadata": {
        "id": "h7hpNiVd1ni5",
        "colab": {
          "base_uri": "https://localhost:8080/"
        },
        "outputId": "17710e37-a41c-4a7f-d74b-52833c847cc3"
      },
      "outputs": [
        {
          "output_type": "stream",
          "name": "stdout",
          "text": [
            "53/53 [==============================] - 1s 12ms/step - loss: 0.2431 - recall_3: 0.9474 - auc_3: 0.9606\n"
          ]
        },
        {
          "output_type": "execute_result",
          "data": {
            "text/plain": [
              "[0.24310457706451416, 0.9474362134933472, 0.9605771899223328]"
            ]
          },
          "metadata": {},
          "execution_count": 73
        }
      ],
      "source": [
        "test_123 = dataProcess(x_test)\n",
        "var2 = autoencoder.predict(test_123)\n",
        "autoencoder.evaluate(test_123,y_val_encoded,verbose=1)"
      ]
    },
    {
      "cell_type": "code",
      "source": [
        "var2"
      ],
      "metadata": {
        "id": "HTD_73lWiSW8",
        "colab": {
          "base_uri": "https://localhost:8080/"
        },
        "outputId": "f0da32b3-91cd-4204-9ca4-394470f61bd5"
      },
      "execution_count": 74,
      "outputs": [
        {
          "output_type": "execute_result",
          "data": {
            "text/plain": [
              "array([[[[0.03029657, 0.93839693, 0.03130655],\n",
              "         [0.03022503, 0.938647  , 0.03112811],\n",
              "         [0.03022657, 0.9386415 , 0.03113194],\n",
              "         ...,\n",
              "         [0.03022706, 0.9386397 , 0.03113318],\n",
              "         [0.03022417, 0.9386498 , 0.03112599],\n",
              "         [0.03033341, 0.93826795, 0.03139866]],\n",
              "\n",
              "        [[0.03022294, 0.93865407, 0.03112291],\n",
              "         [0.03022065, 0.93866205, 0.03111723],\n",
              "         [0.03022067, 0.93866205, 0.03111729],\n",
              "         ...,\n",
              "         [0.03022069, 0.93866205, 0.03111732],\n",
              "         [0.03022064, 0.9386622 , 0.0311172 ],\n",
              "         [0.03022876, 0.9386338 , 0.03113741]],\n",
              "\n",
              "        [[0.03022451, 0.93864876, 0.03112682],\n",
              "         [0.03022071, 0.9386619 , 0.03111738],\n",
              "         [0.03022082, 0.93866146, 0.03111765],\n",
              "         ...,\n",
              "         [0.03022085, 0.93866146, 0.03111771],\n",
              "         [0.03022069, 0.93866205, 0.03111732],\n",
              "         [0.03023323, 0.9386183 , 0.03114852]],\n",
              "\n",
              "        ...,\n",
              "\n",
              "        [[0.03022417, 0.9386499 , 0.03112598],\n",
              "         [0.0302207 , 0.9386619 , 0.03111734],\n",
              "         [0.03022082, 0.9386616 , 0.03111764],\n",
              "         ...,\n",
              "         [0.03022079, 0.93866163, 0.03111756],\n",
              "         [0.03022067, 0.93866205, 0.03111729],\n",
              "         [0.03022966, 0.93863064, 0.03113967]],\n",
              "\n",
              "        [[0.03022287, 0.9386544 , 0.03112274],\n",
              "         [0.03022066, 0.93866205, 0.03111724],\n",
              "         [0.0302207 , 0.9386619 , 0.03111734],\n",
              "         ...,\n",
              "         [0.03022067, 0.93866205, 0.03111729],\n",
              "         [0.03022063, 0.9386622 , 0.03111718],\n",
              "         [0.03022632, 0.93864244, 0.03113134]],\n",
              "\n",
              "        [[0.03028978, 0.93842065, 0.03128958],\n",
              "         [0.03022658, 0.9386415 , 0.03113196],\n",
              "         [0.03022916, 0.93863237, 0.03113841],\n",
              "         ...,\n",
              "         [0.03022748, 0.9386383 , 0.03113422],\n",
              "         [0.03022464, 0.9386482 , 0.03112714],\n",
              "         [0.03037656, 0.9381167 , 0.03150677]]],\n",
              "\n",
              "\n",
              "       [[[0.03029657, 0.93839693, 0.03130654],\n",
              "         [0.03022511, 0.9386466 , 0.03112832],\n",
              "         [0.0302268 , 0.93864065, 0.03113252],\n",
              "         ...,\n",
              "         [0.03022704, 0.9386398 , 0.03113313],\n",
              "         [0.03022416, 0.9386499 , 0.03112597],\n",
              "         [0.0303332 , 0.9382688 , 0.03139811]],\n",
              "\n",
              "        [[0.03022295, 0.93865407, 0.03112295],\n",
              "         [0.03022066, 0.93866205, 0.03111724],\n",
              "         [0.03022069, 0.93866205, 0.0311173 ],\n",
              "         ...,\n",
              "         [0.0302207 , 0.9386619 , 0.03111733],\n",
              "         [0.03022064, 0.9386622 , 0.0311172 ],\n",
              "         [0.0302288 , 0.93863374, 0.0311375 ]],\n",
              "\n",
              "        [[0.03022455, 0.9386485 , 0.03112691],\n",
              "         [0.03022072, 0.9386619 , 0.03111738],\n",
              "         [0.03022084, 0.93866146, 0.03111771],\n",
              "         ...,\n",
              "         [0.03022085, 0.93866146, 0.03111771],\n",
              "         [0.03022069, 0.93866205, 0.03111732],\n",
              "         [0.03023334, 0.9386179 , 0.0311488 ]],\n",
              "\n",
              "        ...,\n",
              "\n",
              "        [[0.03022424, 0.9386496 , 0.03112617],\n",
              "         [0.0302207 , 0.9386619 , 0.03111735],\n",
              "         [0.03022085, 0.93866146, 0.03111773],\n",
              "         ...,\n",
              "         [0.03022082, 0.9386616 , 0.03111762],\n",
              "         [0.03022069, 0.93866205, 0.03111732],\n",
              "         [0.03023036, 0.93862814, 0.0311414 ]],\n",
              "\n",
              "        [[0.03022289, 0.9386543 , 0.03112279],\n",
              "         [0.03022066, 0.93866205, 0.03111724],\n",
              "         [0.03022071, 0.9386619 , 0.03111737],\n",
              "         ...,\n",
              "         [0.03022069, 0.93866205, 0.0311173 ],\n",
              "         [0.03022063, 0.9386622 , 0.03111719],\n",
              "         [0.03022663, 0.93864125, 0.0311321 ]],\n",
              "\n",
              "        [[0.03029002, 0.9384198 , 0.03129016],\n",
              "         [0.03022669, 0.9386411 , 0.03113226],\n",
              "         [0.03022942, 0.93863153, 0.03113906],\n",
              "         ...,\n",
              "         [0.0302277 , 0.9386376 , 0.03113475],\n",
              "         [0.03022477, 0.9386478 , 0.03112747],\n",
              "         [0.03037976, 0.9381054 , 0.03151482]]],\n",
              "\n",
              "\n",
              "       [[[0.03029657, 0.93839693, 0.03130652],\n",
              "         [0.03022498, 0.93864703, 0.03112799],\n",
              "         [0.03022642, 0.938642  , 0.03113158],\n",
              "         ...,\n",
              "         [0.03022709, 0.9386397 , 0.03113325],\n",
              "         [0.03022417, 0.9386499 , 0.03112598],\n",
              "         [0.03033341, 0.93826795, 0.03139866]],\n",
              "\n",
              "        [[0.03022295, 0.93865407, 0.03112296],\n",
              "         [0.03022065, 0.93866205, 0.03111723],\n",
              "         [0.03022067, 0.93866205, 0.03111729],\n",
              "         ...,\n",
              "         [0.03022069, 0.93866205, 0.03111732],\n",
              "         [0.03022063, 0.9386622 , 0.03111719],\n",
              "         [0.03022874, 0.9386339 , 0.03113736]],\n",
              "\n",
              "        [[0.03022459, 0.9386484 , 0.03112704],\n",
              "         [0.03022071, 0.9386619 , 0.03111737],\n",
              "         [0.03022082, 0.9386616 , 0.03111763],\n",
              "         ...,\n",
              "         [0.03022083, 0.93866146, 0.03111767],\n",
              "         [0.03022069, 0.93866205, 0.03111732],\n",
              "         [0.03023316, 0.9386185 , 0.03114837]],\n",
              "\n",
              "        ...,\n",
              "\n",
              "        [[0.03022412, 0.93865   , 0.03112585],\n",
              "         [0.0302207 , 0.9386619 , 0.03111734],\n",
              "         [0.0302208 , 0.9386616 , 0.03111759],\n",
              "         ...,\n",
              "         [0.03022078, 0.93866175, 0.03111754],\n",
              "         [0.03022067, 0.93866205, 0.03111727],\n",
              "         [0.03022967, 0.9386306 , 0.03113968]],\n",
              "\n",
              "        [[0.03022285, 0.9386544 , 0.03112269],\n",
              "         [0.03022065, 0.93866205, 0.03111723],\n",
              "         [0.0302207 , 0.9386619 , 0.03111734],\n",
              "         ...,\n",
              "         [0.03022068, 0.93866205, 0.03111729],\n",
              "         [0.03022063, 0.9386622 , 0.03111718],\n",
              "         [0.0302263 , 0.93864244, 0.03113127]],\n",
              "\n",
              "        [[0.03028965, 0.9384211 , 0.03128923],\n",
              "         [0.03022655, 0.9386415 , 0.03113191],\n",
              "         [0.03022912, 0.93863255, 0.03113831],\n",
              "         ...,\n",
              "         [0.03022732, 0.93863887, 0.03113382],\n",
              "         [0.03022456, 0.9386484 , 0.03112696],\n",
              "         [0.03037596, 0.9381188 , 0.03150528]]],\n",
              "\n",
              "\n",
              "       ...,\n",
              "\n",
              "\n",
              "       [[[0.03029657, 0.93839693, 0.03130655],\n",
              "         [0.03022554, 0.93864506, 0.03112941],\n",
              "         [0.03022812, 0.9386361 , 0.0311358 ],\n",
              "         ...,\n",
              "         [0.03022705, 0.9386398 , 0.03113313],\n",
              "         [0.03022417, 0.9386498 , 0.031126  ],\n",
              "         [0.03033341, 0.93826795, 0.03139866]],\n",
              "\n",
              "        [[0.03022297, 0.938654  , 0.031123  ],\n",
              "         [0.03022067, 0.93866205, 0.03111726],\n",
              "         [0.03022071, 0.9386619 , 0.03111737],\n",
              "         ...,\n",
              "         [0.03022069, 0.93866205, 0.03111732],\n",
              "         [0.03022064, 0.9386622 , 0.0311172 ],\n",
              "         [0.03022865, 0.9386342 , 0.03113713]],\n",
              "\n",
              "        [[0.03022466, 0.9386481 , 0.03112721],\n",
              "         [0.03022075, 0.93866175, 0.03111747],\n",
              "         [0.03022095, 0.93866116, 0.03111797],\n",
              "         ...,\n",
              "         [0.03022084, 0.93866146, 0.03111768],\n",
              "         [0.03022069, 0.93866205, 0.03111732],\n",
              "         [0.03023291, 0.9386193 , 0.03114774]],\n",
              "\n",
              "        ...,\n",
              "\n",
              "        [[0.03022491, 0.9386473 , 0.03112781],\n",
              "         [0.03022073, 0.9386619 , 0.03111742],\n",
              "         [0.03022088, 0.93866134, 0.03111781],\n",
              "         ...,\n",
              "         [0.03022075, 0.93866175, 0.03111747],\n",
              "         [0.03022065, 0.93866205, 0.03111723],\n",
              "         [0.03022833, 0.9386354 , 0.03113634]],\n",
              "\n",
              "        [[0.03022309, 0.93865365, 0.03112329],\n",
              "         [0.03022067, 0.93866205, 0.03111725],\n",
              "         [0.03022071, 0.9386619 , 0.03111738],\n",
              "         ...,\n",
              "         [0.03022067, 0.93866205, 0.03111725],\n",
              "         [0.03022062, 0.9386622 , 0.03111716],\n",
              "         [0.03022557, 0.93864495, 0.03112948]],\n",
              "\n",
              "        [[0.03028498, 0.93843734, 0.03127759],\n",
              "         [0.03022675, 0.93864083, 0.0311324 ],\n",
              "         [0.03023015, 0.9386291 , 0.03114085],\n",
              "         ...,\n",
              "         [0.03022677, 0.9386408 , 0.03113247],\n",
              "         [0.03022422, 0.9386496 , 0.0311261 ],\n",
              "         [0.03036553, 0.93815535, 0.03147912]]],\n",
              "\n",
              "\n",
              "       [[[0.03029657, 0.93839693, 0.03130655],\n",
              "         [0.03022514, 0.93864644, 0.0311284 ],\n",
              "         [0.03022689, 0.93864036, 0.03113276],\n",
              "         ...,\n",
              "         [0.03022694, 0.9386401 , 0.03113288],\n",
              "         [0.03022417, 0.9386498 , 0.031126  ],\n",
              "         [0.03033341, 0.93826795, 0.03139866]],\n",
              "\n",
              "        [[0.03022297, 0.938654  , 0.031123  ],\n",
              "         [0.03022065, 0.93866205, 0.03111723],\n",
              "         [0.03022069, 0.93866205, 0.03111732],\n",
              "         ...,\n",
              "         [0.0302207 , 0.9386619 , 0.03111734],\n",
              "         [0.03022064, 0.9386622 , 0.0311172 ],\n",
              "         [0.03022904, 0.93863285, 0.03113811]],\n",
              "\n",
              "        [[0.03022466, 0.9386481 , 0.03112721],\n",
              "         [0.03022072, 0.9386619 , 0.0311174 ],\n",
              "         [0.03022085, 0.93866146, 0.03111773],\n",
              "         ...,\n",
              "         [0.03022088, 0.93866134, 0.03111779],\n",
              "         [0.0302207 , 0.9386619 , 0.03111733],\n",
              "         [0.03023398, 0.93861556, 0.03115041]],\n",
              "\n",
              "        ...,\n",
              "\n",
              "        [[0.03022491, 0.9386473 , 0.03112781],\n",
              "         [0.03022075, 0.93866175, 0.03111747],\n",
              "         [0.03022094, 0.93866116, 0.03111796],\n",
              "         ...,\n",
              "         [0.0302209 , 0.9386612 , 0.03111785],\n",
              "         [0.03022071, 0.9386619 , 0.03111738],\n",
              "         [0.0302327 , 0.9386201 , 0.03114722]],\n",
              "\n",
              "        [[0.03022309, 0.93865365, 0.03112329],\n",
              "         [0.03022067, 0.93866205, 0.03111727],\n",
              "         [0.03022074, 0.93866175, 0.03111745],\n",
              "         ...,\n",
              "         [0.03022072, 0.9386619 , 0.0311174 ],\n",
              "         [0.03022065, 0.93866205, 0.03111723],\n",
              "         [0.03022807, 0.93863624, 0.03113569]],\n",
              "\n",
              "        [[0.03028498, 0.93843734, 0.03127759],\n",
              "         [0.03022698, 0.93864   , 0.03113297],\n",
              "         [0.03023073, 0.938627  , 0.03114231],\n",
              "         ...,\n",
              "         [0.03022915, 0.9386324 , 0.03113838],\n",
              "         [0.03022565, 0.93864465, 0.03112966],\n",
              "         [0.03040109, 0.9380306 , 0.03156833]]],\n",
              "\n",
              "\n",
              "       [[[0.03029657, 0.93839693, 0.03130655],\n",
              "         [0.03022552, 0.9386452 , 0.03112934],\n",
              "         [0.03022802, 0.9386364 , 0.03113557],\n",
              "         ...,\n",
              "         [0.03022695, 0.9386401 , 0.0311329 ],\n",
              "         [0.03022417, 0.9386498 , 0.03112599],\n",
              "         [0.03033341, 0.93826795, 0.03139866]],\n",
              "\n",
              "        [[0.03022297, 0.938654  , 0.031123  ],\n",
              "         [0.03022067, 0.93866205, 0.03111725],\n",
              "         [0.0302207 , 0.9386619 , 0.03111735],\n",
              "         ...,\n",
              "         [0.0302207 , 0.9386619 , 0.03111734],\n",
              "         [0.03022065, 0.9386622 , 0.03111722],\n",
              "         [0.0302289 , 0.9386334 , 0.03113775]],\n",
              "\n",
              "        [[0.03022466, 0.9386481 , 0.03112721],\n",
              "         [0.03022075, 0.93866175, 0.03111747],\n",
              "         [0.03022094, 0.93866116, 0.03111796],\n",
              "         ...,\n",
              "         [0.03022086, 0.93866146, 0.03111775],\n",
              "         [0.0302207 , 0.9386619 , 0.03111734],\n",
              "         [0.03023358, 0.938617  , 0.03114941]],\n",
              "\n",
              "        ...,\n",
              "\n",
              "        [[0.03022491, 0.9386473 , 0.03112781],\n",
              "         [0.03022077, 0.93866175, 0.03111751],\n",
              "         [0.03022102, 0.9386608 , 0.03111815],\n",
              "         ...,\n",
              "         [0.03022081, 0.9386616 , 0.03111761],\n",
              "         [0.03022068, 0.93866205, 0.0311173 ],\n",
              "         [0.03023001, 0.9386295 , 0.03114051]],\n",
              "\n",
              "        [[0.03022309, 0.93865365, 0.03112329],\n",
              "         [0.03022068, 0.93866205, 0.0311173 ],\n",
              "         [0.03022077, 0.93866175, 0.03111751],\n",
              "         ...,\n",
              "         [0.03022069, 0.93866205, 0.03111732],\n",
              "         [0.03022063, 0.9386622 , 0.03111718],\n",
              "         [0.03022651, 0.9386417 , 0.03113181]],\n",
              "\n",
              "        [[0.03028498, 0.93843734, 0.03127759],\n",
              "         [0.03022728, 0.938639  , 0.03113374],\n",
              "         [0.03023151, 0.93862414, 0.03114428],\n",
              "         ...,\n",
              "         [0.03022778, 0.9386372 , 0.03113499],\n",
              "         [0.03022477, 0.9386478 , 0.03112747],\n",
              "         [0.03037928, 0.9381072 , 0.0315136 ]]]], dtype=float32)"
            ]
          },
          "metadata": {},
          "execution_count": 74
        }
      ]
    },
    {
      "cell_type": "code",
      "source": [
        ""
      ],
      "metadata": {
        "id": "a7maktgziSTs"
      },
      "execution_count": 74,
      "outputs": []
    },
    {
      "cell_type": "code",
      "execution_count": 75,
      "metadata": {
        "id": "9aUlxwWK48jX",
        "colab": {
          "base_uri": "https://localhost:8080/",
          "height": 253
        },
        "outputId": "5706cbaa-5773-4343-ca84-1b7bba3f6329"
      },
      "outputs": [
        {
          "output_type": "stream",
          "name": "stdout",
          "text": [
            "MAX: 0.9800007\n"
          ]
        },
        {
          "output_type": "execute_result",
          "data": {
            "text/plain": [
              "(13200, 32, 32, 3)"
            ]
          },
          "metadata": {},
          "execution_count": 75
        },
        {
          "output_type": "display_data",
          "data": {
            "text/plain": [
              "<Figure size 432x288 with 20 Axes>"
            ],
            "image/png": "[encoded data removed]"
          },
          "metadata": {
            "needs_background": "light"
          }
        },
        {
          "output_type": "display_data",
          "data": {
            "text/plain": [
              "<Figure size 3200x3200 with 0 Axes>"
            ]
          },
          "metadata": {}
        }
      ],
      "source": [
        "fig,ax = plt.subplots(nrows = 2, ncols=10,sharex=True)\n",
        "figure(figsize=(40, 40), dpi=80)\n",
        "for i in range(10):\n",
        "  ax[0][i].imshow(var2[i,:,:,b],cmap=CMAP,norm=NORM)\n",
        "  ax[1][i].imshow(y_test[i,:,:,b],cmap=CMAP,norm=NORM)\n",
        "\n",
        "plt.tight_layout()\n",
        "\n",
        "max = 0\n",
        "for i in np.abs(var1):\n",
        "  if(max<np.amax(i)):\n",
        "    max = np.amax(i)\n",
        "print(\"MAX:\", max)\n",
        "var1.shape"
      ]
    },
    {
      "cell_type": "code",
      "execution_count": 76,
      "metadata": {
        "id": "WnnkhIu51PeD",
        "colab": {
          "base_uri": "https://localhost:8080/",
          "height": 284
        },
        "outputId": "55e0989c-bafb-4959-922c-eb73c82d1814"
      },
      "outputs": [
        {
          "output_type": "execute_result",
          "data": {
            "text/plain": [
              "<matplotlib.image.AxesImage at 0x7fadbea7a450>"
            ]
          },
          "metadata": {},
          "execution_count": 76
        },
        {
          "output_type": "display_data",
          "data": {
            "text/plain": [
              "<Figure size 432x288 with 1 Axes>"
            ],
            "image/png": "[encoded data removed]"
          },
          "metadata": {
            "needs_background": "light"
          }
        }
      ],
      "source": [
        "plt.imshow(labels[0,:,:,0])\n",
        "# labels[0,:,:,0]"
      ]
    },
    {
      "cell_type": "markdown",
      "metadata": {
        "id": "7LNwaycih6Uo"
      },
      "source": [
        "### Model Saving"
      ]
    },
    {
      "cell_type": "code",
      "source": [
        "lossFunc"
      ],
      "metadata": {
        "id": "lTL-kLKArv34",
        "colab": {
          "base_uri": "https://localhost:8080/",
          "height": 173
        },
        "outputId": "5bef3bbf-0b6d-4464-9fd2-bffff9359c1c"
      },
      "execution_count": 77,
      "outputs": [
        {
          "output_type": "error",
          "ename": "NameError",
          "evalue": "ignored",
          "traceback": [
            "\u001b[0;31m---------------------------------------------------------------------------\u001b[0m",
            "\u001b[0;31mNameError\u001b[0m                                 Traceback (most recent call last)",
            "\u001b[0;32m<ipython-input-77-956bd2c28a60>\u001b[0m in \u001b[0;36m<module>\u001b[0;34m()\u001b[0m\n\u001b[0;32m----> 1\u001b[0;31m \u001b[0mlossFunc\u001b[0m\u001b[0;34m\u001b[0m\u001b[0;34m\u001b[0m\u001b[0m\n\u001b[0m",
            "\u001b[0;31mNameError\u001b[0m: name 'lossFunc' is not defined"
          ]
        }
      ]
    },
    {
      "cell_type": "code",
      "source": [
        "# Saving the Model in H5 Format and Loading it (to check if it is same as PB Format)\n",
        "tf.keras.models.save_model(autoencoder, 'autoencoder.h5') # Saving the Model in H5 Format\n",
        "\n",
        "loaded_model_from_h5 = tf.keras.models.load_model('autoencoder.h5',custom_objects={'weighted_cross_entropy': lossFunc}) # Loading the H5 Saved Model\n",
        "print(loaded_model_from_h5.summary())\n"
      ],
      "metadata": {
        "id": "Gm2cGxtdlscA"
      },
      "execution_count": null,
      "outputs": []
    },
    {
      "cell_type": "code",
      "execution_count": null,
      "metadata": {
        "id": "HX91_Mrdh9vd"
      },
      "outputs": [],
      "source": [
        "import pickle\n",
        "def pickleDump(model,name):\n",
        "  with open(name,'wb') as f:\n",
        "    pickle.dump(model,f)\n",
        "def pickleLoad(name):\n",
        "  with open(name,'rb') as f:\n",
        "    m = pickle.load(f)\n",
        "  return m\n",
        "\n",
        "pickleDump(autoencoder,\"autoencoder\")"
      ]
    },
    {
      "cell_type": "markdown",
      "metadata": {
        "id": "eMtBihEVWWxV"
      },
      "source": [
        "## Do not Touch"
      ]
    },
    {
      "cell_type": "markdown",
      "metadata": {
        "id": "uQ2dZNeu6B-L"
      },
      "source": [
        "##### Regression Training"
      ]
    },
    {
      "cell_type": "code",
      "execution_count": null,
      "metadata": {
        "id": "8_naAyAp6M6m"
      },
      "outputs": [],
      "source": [
        "labels_reg = 5 * labels\n",
        "y_test_reg = 5 * y_test\n",
        "np.min(labels1)"
      ]
    },
    {
      "cell_type": "code",
      "execution_count": null,
      "metadata": {
        "id": "-nK6PipyA5eY"
      },
      "outputs": [],
      "source": [
        "def dataProcess(data):\n",
        "  k = []\n",
        "  for i in range(12):\n",
        "    k.append(data[:,:,:,i:i+1])\n",
        "  return k\n",
        "k = dataProcess(inputs)\n",
        "mod_x_test = dataProcess(x_test)"
      ]
    },
    {
      "cell_type": "code",
      "execution_count": null,
      "metadata": {
        "id": "8a25Vn6i6EYe"
      },
      "outputs": [],
      "source": [
        "history_1 = autoencoder.fit(\n",
        "            k, labels,\n",
        "            epochs=300,\n",
        "            validation_data = (mod_x_test,y_test),\n",
        "            batch_size=12,\n",
        "            verbose=2)"
      ]
    }
  ],
  "metadata": {
    "accelerator": "GPU",
    "colab": {
      "collapsed_sections": [
        "uQ2dZNeu6B-L"
      ],
      "machine_shape": "hm",
      "name": "Better Working?.ipynb",
      "provenance": [],
      "toc_visible": true,
      "include_colab_link": true
    },
    "gpuClass": "standard",
    "kernelspec": {
      "display_name": "Python 3",
      "name": "python3"
    },
    "language_info": {
      "name": "python"
    }
  },
  "nbformat": 4,
  "nbformat_minor": 0
}