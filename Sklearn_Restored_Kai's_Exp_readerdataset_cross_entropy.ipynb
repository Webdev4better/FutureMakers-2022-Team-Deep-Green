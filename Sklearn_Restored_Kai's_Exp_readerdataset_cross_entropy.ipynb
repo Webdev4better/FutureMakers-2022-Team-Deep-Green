{
  "cells": [
    {
      "cell_type": "markdown",
      "metadata": {
        "id": "view-in-github",
        "colab_type": "text"
      },
      "source": [
        "<a href=\"https://colab.research.google.com/github/Webdev4better/FutureMakers-2022-Team-Deep-Green/blob/master/Sklearn_Restored_Kai's_Exp_readerdataset_cross_entropy.ipynb\" target=\"_parent\"><img src=\"https://colab.research.google.com/assets/colab-badge.svg\" alt=\"Open In Colab\"/></a>"
      ]
    },
    {
      "cell_type": "code",
      "execution_count": null,
      "metadata": {
        "id": "2vTvIjkB9hB-"
      },
      "outputs": [],
      "source": [
        "# Clearing backend\n",
        "from tensorflow.keras import backend\n",
        "backend.clear_session()"
      ]
    },
    {
      "cell_type": "markdown",
      "metadata": {
        "id": "89zwr8t3hUIQ"
      },
      "source": [
        "## Data Processing"
      ]
    },
    {
      "cell_type": "code",
      "execution_count": null,
      "metadata": {
        "colab": {
          "base_uri": "https://localhost:8080/"
        },
        "id": "fCp9jfvzG8cb",
        "outputId": "3808498e-397e-4255-fa70-6370bdc95861"
      },
      "outputs": [
        {
          "output_type": "stream",
          "name": "stdout",
          "text": [
            "Looking in indexes: https://pypi.org/simple, https://us-python.pkg.dev/colab-wheels/public/simple/\n",
            "Requirement already satisfied: kaggle in /usr/local/lib/python3.7/dist-packages (1.5.12)\n",
            "Requirement already satisfied: tqdm in /usr/local/lib/python3.7/dist-packages (from kaggle) (4.64.0)\n",
            "Requirement already satisfied: six>=1.10 in /usr/local/lib/python3.7/dist-packages (from kaggle) (1.15.0)\n",
            "Requirement already satisfied: urllib3 in /usr/local/lib/python3.7/dist-packages (from kaggle) (1.24.3)\n",
            "Requirement already satisfied: python-slugify in /usr/local/lib/python3.7/dist-packages (from kaggle) (6.1.2)\n",
            "Requirement already satisfied: certifi in /usr/local/lib/python3.7/dist-packages (from kaggle) (2022.6.15)\n",
            "Requirement already satisfied: python-dateutil in /usr/local/lib/python3.7/dist-packages (from kaggle) (2.8.2)\n",
            "Requirement already satisfied: requests in /usr/local/lib/python3.7/dist-packages (from kaggle) (2.23.0)\n",
            "Requirement already satisfied: text-unidecode>=1.3 in /usr/local/lib/python3.7/dist-packages (from python-slugify->kaggle) (1.3)\n",
            "Requirement already satisfied: chardet<4,>=3.0.2 in /usr/local/lib/python3.7/dist-packages (from requests->kaggle) (3.0.4)\n",
            "Requirement already satisfied: idna<3,>=2.5 in /usr/local/lib/python3.7/dist-packages (from requests->kaggle) (2.10)\n",
            "mkdir: cannot create directory ‘/root/.kaggle’: File exists\n",
            "Downloading next-day-wildfire-spread.zip to /content\n",
            " 99% 2.06G/2.08G [00:18<00:00, 112MB/s]\n",
            "100% 2.08G/2.08G [00:18<00:00, 120MB/s]\n"
          ]
        }
      ],
      "source": [
        "import re\n",
        "from typing import Dict, List, Optional, Text, Tuple\n",
        "import matplotlib.pyplot as plt\n",
        "from matplotlib import colors\n",
        "import numpy as np\n",
        "import tensorflow as tf\n",
        "from tensorflow import keras\n",
        "from tensorflow.keras import layers\n",
        "from tensorflow.keras import *\n",
        "# run these commands in linux terminal and add kaggle.json api from account page\n",
        "! pip install kaggle\n",
        "! mkdir ~/.kaggle\n",
        "! cp kaggle.json ~/.kaggle/\n",
        "\n",
        "! chmod 600 ~/.kaggle/kaggle.json\n",
        "! kaggle datasets download fantineh/next-day-wildfire-spread\n"
      ]
    },
    {
      "cell_type": "code",
      "execution_count": null,
      "metadata": {
        "colab": {
          "base_uri": "https://localhost:8080/"
        },
        "id": "UTjr8ObrTeNG",
        "outputId": "16b12d10-1210-4a47-9f4f-4ed03ce16317"
      },
      "outputs": [
        {
          "output_type": "stream",
          "name": "stdout",
          "text": [
            "Archive:  next-day-wildfire-spread.zip\n",
            "  inflating: next_day_wildfire_spread_eval_00.tfrecord  \n",
            "  inflating: next_day_wildfire_spread_eval_01.tfrecord  \n",
            "  inflating: next_day_wildfire_spread_test_00.tfrecord  \n",
            "  inflating: next_day_wildfire_spread_test_01.tfrecord  \n",
            "  inflating: next_day_wildfire_spread_train_00.tfrecord  \n",
            "  inflating: next_day_wildfire_spread_train_01.tfrecord  \n",
            "  inflating: next_day_wildfire_spread_train_02.tfrecord  \n",
            "  inflating: next_day_wildfire_spread_train_03.tfrecord  \n",
            "  inflating: next_day_wildfire_spread_train_04.tfrecord  \n",
            "  inflating: next_day_wildfire_spread_train_05.tfrecord  \n",
            "  inflating: next_day_wildfire_spread_train_06.tfrecord  \n",
            "  inflating: next_day_wildfire_spread_train_07.tfrecord  \n",
            "  inflating: next_day_wildfire_spread_train_08.tfrecord  \n",
            "  inflating: next_day_wildfire_spread_train_09.tfrecord  \n",
            "  inflating: next_day_wildfire_spread_train_10.tfrecord  \n",
            "  inflating: next_day_wildfire_spread_train_11.tfrecord  \n",
            "  inflating: next_day_wildfire_spread_train_12.tfrecord  \n",
            "  inflating: next_day_wildfire_spread_train_13.tfrecord  \n",
            "  inflating: next_day_wildfire_spread_train_14.tfrecord  \n"
          ]
        }
      ],
      "source": [
        "!unzip next-day-wildfire-spread.zip"
      ]
    },
    {
      "cell_type": "code",
      "execution_count": null,
      "metadata": {
        "id": "UfEdraeKSlyh"
      },
      "outputs": [],
      "source": [
        "train_data = '/content/next_day_wildfire_spread_train_*'\n",
        "test_data = '/content/next_day_wildfire_spread_test_*'"
      ]
    },
    {
      "cell_type": "code",
      "execution_count": null,
      "metadata": {
        "id": "w3wL41YHHFxf"
      },
      "outputs": [],
      "source": [
        "\"\"\"Constants for the data reader.\"\"\"\n",
        "\n",
        "INPUT_FEATURES = ['elevation', 'th', 'vs',  'tmmn', 'tmmx', 'sph', \n",
        "                  'pr', 'pdsi', 'NDVI', 'population', 'erc', 'PrevFireMask']\n",
        "\n",
        "OUTPUT_FEATURES = ['FireMask', ]\n",
        "\n",
        "# Data statistics \n",
        "# For each variable, the statistics are ordered in the form:\n",
        "# (min_clip, max_clip, mean, standard deviation)\n",
        "DATA_STATS = {\n",
        "    # Elevation in m.\n",
        "    # 0.1 percentile, 99.9 percentile\n",
        "    'elevation': (0.0, 3141.0, 657.3003, 649.0147),\n",
        "    # Pressure\n",
        "    # 0.1 percentile, 99.9 percentile\n",
        "    'pdsi': (-6.12974870967865, 7.876040384292651, -0.0052714925, 2.6823447),\n",
        "    'NDVI': (-9821.0, 9996.0, 5157.625, 2466.6677),  # min, max\n",
        "    # Precipitation in mm.\n",
        "    # Negative values do not make sense, so min is set to 0.\n",
        "    # 0., 99.9 percentile\n",
        "    'pr': (0.0, 44.53038024902344, 1.7398051, 4.482833),\n",
        "    # Specific humidity.\n",
        "    # Negative values do not make sense, so min is set to 0.\n",
        "    # The range of specific humidity is up to 100% so max is 1.\n",
        "    'sph': (0., 1., 0.0071658953, 0.0042835088),\n",
        "    # Wind direction in degrees clockwise from north.\n",
        "    # Thus min set to 0 and max set to 360.\n",
        "    'th': (0., 360.0, 190.32976, 72.59854),\n",
        "    # Min/max temperature in Kelvin.\n",
        "    # -20 degree C, 99.9 percentile\n",
        "    'tmmn': (253.15, 298.94891357421875, 281.08768, 8.982386),\n",
        "    # -20 degree C, 99.9 percentile\n",
        "    'tmmx': (253.15, 315.09228515625, 295.17383, 9.815496),\n",
        "    # Wind speed in m/s.\n",
        "    # Negative values do not make sense, given there is a wind direction.\n",
        "    # 0., 99.9 percentile\n",
        "    'vs': (0.0, 10.024310074806237, 3.8500874, 1.4109988),\n",
        "    # NFDRS fire danger index energy release component expressed in BTU's per\n",
        "    # square foot.\n",
        "    # Negative values do not make sense. Thus min set to zero.\n",
        "    # 0., 99.9 percentile\n",
        "    'erc': (0.0, 106.24891662597656, 37.326267, 20.846027),\n",
        "    # Population density\n",
        "    # min, 99.9 percentile\n",
        "    'population': (0., 2534.06298828125, 25.531384, 154.72331),\n",
        "    # We don't want to normalize the FireMasks.\n",
        "    # 1 indicates fire, 0 no fire, -1 unlabeled data\n",
        "    'PrevFireMask': (-1., 1., 0., 1.),\n",
        "    'FireMask': (-1., 1., 0., 1.)\n",
        "}"
      ]
    },
    {
      "cell_type": "code",
      "execution_count": null,
      "metadata": {
        "id": "lrCIFDZJHGLu"
      },
      "outputs": [],
      "source": [
        "\"\"\"Library of common functions used in deep learning neural networks.\n",
        "\"\"\"\n",
        "def random_crop_input_and_output_images(\n",
        "    input_img: tf.Tensor,\n",
        "    output_img: tf.Tensor,\n",
        "    sample_size: int,\n",
        "    num_in_channels: int,\n",
        "    num_out_channels: int,\n",
        ") -> Tuple[tf.Tensor, tf.Tensor]:\n",
        "  \"\"\"Randomly axis-align crop input and output image tensors.\n",
        "\n",
        "  Args:\n",
        "    input_img: tensor with dimensions HWC.\n",
        "    output_img: tensor with dimensions HWC.\n",
        "    sample_size: side length (square) to crop to.\n",
        "    num_in_channels: number of channels in input_img.\n",
        "    num_out_channels: number of channels in output_img.\n",
        "  Returns:\n",
        "    input_img: tensor with dimensions HWC.\n",
        "    output_img: tensor with dimensions HWC.\n",
        "  \"\"\"\n",
        "  combined = tf.concat([input_img, output_img], axis=2)\n",
        "  combined = tf.image.random_crop(\n",
        "      combined,\n",
        "      [sample_size, sample_size, num_in_channels + num_out_channels])\n",
        "  input_img = combined[:, :, 0:num_in_channels]\n",
        "  output_img = combined[:, :, -num_out_channels:]\n",
        "  return input_img, output_img\n",
        "\n",
        "\n",
        "def center_crop_input_and_output_images(\n",
        "    input_img: tf.Tensor,\n",
        "    output_img: tf.Tensor,\n",
        "    sample_size: int,\n",
        ") -> Tuple[tf.Tensor, tf.Tensor]:\n",
        "  \"\"\"Center crops input and output image tensors.\n",
        "\n",
        "  Args:\n",
        "    input_img: tensor with dimensions HWC.\n",
        "    output_img: tensor with dimensions HWC.\n",
        "    sample_size: side length (square) to crop to.\n",
        "  Returns:\n",
        "    input_img: tensor with dimensions HWC.\n",
        "    output_img: tensor with dimensions HWC.\n",
        "  \"\"\"\n",
        "  central_fraction = sample_size / input_img.shape[0]\n",
        "  input_img = tf.image.central_crop(input_img, central_fraction)\n",
        "  output_img = tf.image.central_crop(output_img, central_fraction)\n",
        "  return input_img, output_img"
      ]
    },
    {
      "cell_type": "code",
      "execution_count": null,
      "metadata": {
        "id": "j2UFH5wUHN3h"
      },
      "outputs": [],
      "source": [
        "\"\"\"Dataset reader for Earth Engine data.\"\"\"\n",
        "\n",
        "def _get_base_key(key: Text) -> Text:\n",
        "  \"\"\"Extracts the base key from the provided key.\n",
        "\n",
        "  Earth Engine exports TFRecords containing each data variable with its\n",
        "  corresponding variable name. In the case of time sequences, the name of the\n",
        "  data variable is of the form 'variable_1', 'variable_2', ..., 'variable_n',\n",
        "  where 'variable' is the name of the variable, and n the number of elements\n",
        "  in the time sequence. Extracting the base key ensures that each step of the\n",
        "  time sequence goes through the same normalization steps.\n",
        "  The base key obeys the following naming pattern: '([a-zA-Z]+)'\n",
        "  For instance, for an input key 'variable_1', this function returns 'variable'.\n",
        "  For an input key 'variable', this function simply returns 'variable'.\n",
        "\n",
        "  Args:\n",
        "    key: Input key.\n",
        "\n",
        "  Returns:\n",
        "    The corresponding base key.\n",
        "\n",
        "  Raises:\n",
        "    ValueError when `key` does not match the expected pattern.\n",
        "  \"\"\"\n",
        "  match = re.match(r'([a-zA-Z]+)', key)\n",
        "  if match:\n",
        "    return match.group(1)\n",
        "  raise ValueError(\n",
        "      'The provided key does not match the expected pattern: {}'.format(key))\n",
        "\n",
        "\n",
        "def _clip_and_rescale(inputs: tf.Tensor, key: Text) -> tf.Tensor:\n",
        "  \"\"\"Clips and rescales inputs with the stats corresponding to `key`.\n",
        "\n",
        "  Args:\n",
        "    inputs: Inputs to clip and rescale.\n",
        "    key: Key describing the inputs.\n",
        "\n",
        "  Returns:\n",
        "    Clipped and rescaled input.\n",
        "\n",
        "  Raises:\n",
        "    ValueError if there are no data statistics available for `key`.\n",
        "  \"\"\"\n",
        "  base_key = _get_base_key(key)\n",
        "  if base_key not in DATA_STATS:\n",
        "    raise ValueError(\n",
        "        'No data statistics available for the requested key: {}.'.format(key))\n",
        "  min_val, max_val, _, _ = DATA_STATS[base_key]\n",
        "  inputs = tf.clip_by_value(inputs, min_val, max_val)\n",
        "  return tf.math.divide_no_nan((inputs - min_val), (max_val - min_val))\n",
        "\n",
        "\n",
        "def _clip_and_normalize(inputs: tf.Tensor, key: Text) -> tf.Tensor:\n",
        "  \"\"\"Clips and normalizes inputs with the stats corresponding to `key`.\n",
        "\n",
        "  Args:\n",
        "    inputs: Inputs to clip and normalize.\n",
        "    key: Key describing the inputs.\n",
        "\n",
        "  Returns:\n",
        "    Clipped and normalized input.\n",
        "\n",
        "  Raises:\n",
        "    ValueError if there are no data statistics available for `key`.\n",
        "  \"\"\"\n",
        "  base_key = _get_base_key(key)\n",
        "  if base_key not in DATA_STATS:\n",
        "    raise ValueError(\n",
        "        'No data statistics available for the requested key: {}.'.format(key))\n",
        "  min_val, max_val, mean, std = DATA_STATS[base_key]\n",
        "  inputs = tf.clip_by_value(inputs, min_val, max_val)\n",
        "  inputs = inputs - mean\n",
        "  return tf.math.divide_no_nan(inputs, std)\n",
        "\n",
        "def _get_features_dict(\n",
        "    sample_size: int,\n",
        "    features: List[Text],\n",
        ") -> Dict[Text, tf.io.FixedLenFeature]:\n",
        "  \"\"\"Creates a features dictionary for TensorFlow IO.\n",
        "\n",
        "  Args:\n",
        "    sample_size: Size of the input tiles (square).\n",
        "    features: List of feature names.\n",
        "\n",
        "  Returns:\n",
        "    A features dictionary for TensorFlow IO.\n",
        "  \"\"\"\n",
        "  sample_shape = [sample_size, sample_size]\n",
        "  features = set(features)\n",
        "  columns = [\n",
        "      tf.io.FixedLenFeature(shape=sample_shape, dtype=tf.float32)\n",
        "      for _ in features\n",
        "  ]\n",
        "  return dict(zip(features, columns))\n",
        "\n",
        "\n",
        "def _parse_fn(\n",
        "    example_proto: tf.train.Example, data_size: int, sample_size: int,\n",
        "    num_in_channels: int, clip_and_normalize: bool,\n",
        "    clip_and_rescale: bool, random_crop: bool, center_crop: bool,\n",
        ") -> Tuple[tf.Tensor, tf.Tensor]:\n",
        "  \"\"\"Reads a serialized example.\n",
        "\n",
        "  Args:\n",
        "    example_proto: A TensorFlow example protobuf.\n",
        "    data_size: Size of tiles (square) as read from input files.\n",
        "    sample_size: Size the tiles (square) when input into the model.\n",
        "    num_in_channels: Number of input channels.\n",
        "    clip_and_normalize: True if the data should be clipped and normalized.\n",
        "    clip_and_rescale: True if the data should be clipped and rescaled.\n",
        "    random_crop: True if the data should be randomly cropped.\n",
        "    center_crop: True if the data should be cropped in the center.\n",
        "\n",
        "  Returns:\n",
        "    (input_img, output_img) tuple of inputs and outputs to the ML model.\n",
        "  \"\"\"\n",
        "  if (random_crop and center_crop):\n",
        "    raise ValueError('Cannot have both random_crop and center_crop be True')\n",
        "  input_features, output_features = INPUT_FEATURES, OUTPUT_FEATURES\n",
        "  feature_names = input_features + output_features\n",
        "  features_dict = _get_features_dict(data_size, feature_names)\n",
        "  features = tf.io.parse_single_example(example_proto, features_dict)\n",
        "\n",
        "  if clip_and_normalize:\n",
        "    inputs_list = [\n",
        "        _clip_and_normalize(features.get(key), key) for key in input_features\n",
        "    ]\n",
        "  elif clip_and_rescale:\n",
        "    inputs_list = [\n",
        "        _clip_and_rescale(features.get(key), key) for key in input_features\n",
        "    ]\n",
        "  else:\n",
        "    inputs_list = [features.get(key) for key in input_features]\n",
        "  \n",
        "  inputs_stacked = tf.stack(inputs_list, axis=0)\n",
        "  input_img = tf.transpose(inputs_stacked, [1, 2, 0])\n",
        "\n",
        "  outputs_list = [features.get(key) for key in output_features]\n",
        "  assert outputs_list, 'outputs_list should not be empty'\n",
        "  outputs_stacked = tf.stack(outputs_list, axis=0)\n",
        "\n",
        "  outputs_stacked_shape = outputs_stacked.get_shape().as_list()\n",
        "  assert len(outputs_stacked.shape) == 3, ('outputs_stacked should be rank 3'\n",
        "                                            'but dimensions of outputs_stacked'\n",
        "                                            f' are {outputs_stacked_shape}')\n",
        "  output_img = tf.transpose(outputs_stacked, [1, 2, 0])\n",
        "\n",
        "  if random_crop:\n",
        "    input_img, output_img = random_crop_input_and_output_images(\n",
        "        input_img, output_img, sample_size, num_in_channels, 1)\n",
        "  if center_crop:\n",
        "    input_img, output_img = center_crop_input_and_output_images(\n",
        "        input_img, output_img, sample_size)\n",
        "  return input_img, output_img\n",
        "\n",
        "\n",
        "def get_dataset(train_data: Text, data_size: int, sample_size: int,\n",
        "                batch_size: int, num_in_channels: int, compression_type: Text,\n",
        "                clip_and_normalize: bool, clip_and_rescale: bool,\n",
        "                random_crop: bool, center_crop: bool) -> tf.data.Dataset:\n",
        "  \"\"\"Gets the dataset from the file pattern.\n",
        "\n",
        "  Args:\n",
        "    train_data: Input file pattern.\n",
        "    data_size: Size of tiles (square) as read from input files.\n",
        "    sample_size: Size the tiles (square) when input into the model.\n",
        "    batch_size: Batch size.\n",
        "    num_in_channels: Number of input channels.\n",
        "    compression_type: Type of compression used for the input files.\n",
        "    clip_and_normalize: True if the data should be clipped and normalized, False\n",
        "      otherwise.\n",
        "    clip_and_rescale: True if the data should be clipped and rescaled, False\n",
        "      otherwise.\n",
        "    random_crop: True if the data should be randomly cropped.\n",
        "    center_crop: True if the data shoulde be cropped in the center.\n",
        "\n",
        "  Returns:\n",
        "    A TensorFlow dataset loaded from the input file pattern, with features\n",
        "    described in the constants, and with the shapes determined from the input\n",
        "    parameters to this function.\n",
        "  \"\"\"\n",
        "  if (clip_and_normalize and clip_and_rescale):\n",
        "    raise ValueError('Cannot have both normalize and rescale.')\n",
        "  dataset = tf.data.Dataset.list_files(train_data)\n",
        "  dataset = dataset.interleave(\n",
        "      lambda x: tf.data.TFRecordDataset(x, compression_type=compression_type),\n",
        "      num_parallel_calls=tf.data.experimental.AUTOTUNE)\n",
        "  dataset = dataset.prefetch(buffer_size=tf.data.experimental.AUTOTUNE)\n",
        "  dataset = dataset.map(\n",
        "      lambda x: _parse_fn(  # pylint: disable=g-long-lambda\n",
        "          x, data_size, sample_size, num_in_channels, clip_and_normalize,\n",
        "          clip_and_rescale, random_crop, center_crop),\n",
        "      num_parallel_calls=tf.data.experimental.AUTOTUNE)\n",
        "  dataset = dataset.batch(batch_size)\n",
        "  dataset = dataset.prefetch(buffer_size=tf.data.experimental.AUTOTUNE)\n",
        "  return dataset"
      ]
    },
    {
      "cell_type": "markdown",
      "metadata": {
        "id": "cVdrBxS4hPxN"
      },
      "source": [
        "### Data Visualizations"
      ]
    },
    {
      "cell_type": "code",
      "execution_count": null,
      "metadata": {
        "id": "jTcQPZHEHYis"
      },
      "outputs": [],
      "source": [
        "train_batch = 13200\n",
        "test_batch = 2400\n",
        "\n",
        "dataset = get_dataset(\n",
        "      train_data,\n",
        "      data_size=64,\n",
        "      sample_size=32,\n",
        "      batch_size=train_batch,\n",
        "      num_in_channels=12,\n",
        "      compression_type=None,\n",
        "      clip_and_normalize=False,\n",
        "      clip_and_rescale=False,\n",
        "      random_crop=True,\n",
        "      center_crop=False)\n",
        "test_dataset = get_dataset(\n",
        "      test_data,\n",
        "      data_size=64,\n",
        "      sample_size=32,\n",
        "      batch_size=test_batch,\n",
        "      num_in_channels=12,\n",
        "      compression_type=None,\n",
        "      clip_and_normalize=False,\n",
        "      clip_and_rescale=False,\n",
        "      random_crop=True,\n",
        "      center_crop=False)"
      ]
    },
    {
      "cell_type": "code",
      "execution_count": 118,
      "metadata": {
        "id": "BCpQk9NDHaxs"
      },
      "outputs": [],
      "source": [
        "inputs, labels = next(iter(dataset))\n",
        "x_test, y_test = next(iter(test_dataset))"
      ]
    },
    {
      "cell_type": "code",
      "execution_count": null,
      "metadata": {
        "id": "RqVLLJb2HbMY"
      },
      "outputs": [],
      "source": [
        "TITLES = [\n",
        "  'Elevation',\n",
        "  'Wind\\ndirection',\n",
        "  'Wind\\nvelocity',\n",
        "  'Min\\ntemp',\n",
        "  'Max\\ntemp',\n",
        "  'Humidity',\n",
        "  'Precip',\n",
        "  'Drought',\n",
        "  'Vegetation',\n",
        "  'Population\\ndensity',\n",
        "  'Energy\\nrelease\\ncomponent',\n",
        "  'Previous\\nfire\\nmask',\n",
        "  'Fire\\nmask'\n",
        "]"
      ]
    },
    {
      "cell_type": "code",
      "execution_count": null,
      "metadata": {
        "id": "1N5WH2s9Ohfj",
        "colab": {
          "base_uri": "https://localhost:8080/"
        },
        "outputId": "8ada5ccc-0cbd-40ff-dcf2-0aa7f6b22b23"
      },
      "outputs": [
        {
          "output_type": "stream",
          "name": "stdout",
          "text": [
            "tf.Tensor(0.0, shape=(), dtype=float32)\n"
          ]
        }
      ],
      "source": [
        "print(inputs[0][0][0][11])"
      ]
    },
    {
      "cell_type": "code",
      "execution_count": null,
      "metadata": {
        "id": "aQ8VloKHfcPV",
        "colab": {
          "base_uri": "https://localhost:8080/"
        },
        "outputId": "420ca09b-ac58-4ca7-cfb8-fcfe2cfa2439"
      },
      "outputs": [
        {
          "output_type": "execute_result",
          "data": {
            "text/plain": [
              "<tf.Tensor: shape=(32, 1), dtype=float32, numpy=\n",
              "array([[0.],\n",
              "       [0.],\n",
              "       [0.],\n",
              "       [0.],\n",
              "       [0.],\n",
              "       [0.],\n",
              "       [0.],\n",
              "       [0.],\n",
              "       [0.],\n",
              "       [0.],\n",
              "       [0.],\n",
              "       [0.],\n",
              "       [0.],\n",
              "       [0.],\n",
              "       [0.],\n",
              "       [0.],\n",
              "       [0.],\n",
              "       [0.],\n",
              "       [0.],\n",
              "       [0.],\n",
              "       [0.],\n",
              "       [0.],\n",
              "       [0.],\n",
              "       [0.],\n",
              "       [0.],\n",
              "       [0.],\n",
              "       [0.],\n",
              "       [0.],\n",
              "       [0.],\n",
              "       [0.],\n",
              "       [0.],\n",
              "       [0.]], dtype=float32)>"
            ]
          },
          "metadata": {},
          "execution_count": 20
        }
      ],
      "source": [
        "labels[19][2]"
      ]
    },
    {
      "cell_type": "code",
      "execution_count": null,
      "metadata": {
        "id": "XJOG4GLkHdcj"
      },
      "outputs": [],
      "source": [
        "# Number of rows of data samples to plot\n",
        "n_rows = 5 \n",
        "# Number of data variables\n",
        "n_features = inputs.shape[3]\n",
        "# Variables for controllong the color map for the fire masks\n",
        "CMAP = colors.ListedColormap(['black', 'silver', 'orangered'])\n",
        "BOUNDS = [-1, -0.1, 0.001, 1]\n",
        "NORM = colors.BoundaryNorm(BOUNDS, CMAP.N)\n",
        "\n",
        "CMAP_PRED = colors.ListedColormap(['silver', 'orangered'])\n",
        "BOUNDS_PRED = [-1, 0.001, 1]\n",
        "NORM_PRED = colors.BoundaryNorm(BOUNDS, CMAP_PRED.N)"
      ]
    },
    {
      "cell_type": "code",
      "execution_count": null,
      "metadata": {
        "id": "ACuXt4eJlkIn",
        "colab": {
          "base_uri": "https://localhost:8080/",
          "height": 304
        },
        "outputId": "cdc8487c-deb0-4f2c-d3d5-49fee45d0b64"
      },
      "outputs": [
        {
          "output_type": "execute_result",
          "data": {
            "text/plain": [
              "array([[0., 0.],\n",
              "       [0., 0.]])"
            ]
          },
          "metadata": {},
          "execution_count": 22
        },
        {
          "output_type": "display_data",
          "data": {
            "text/plain": [
              "<Figure size 432x288 with 1 Axes>"
            ],
            "image/png": "[encoded data removed]"
          },
          "metadata": {
            "needs_background": "light"
          }
        }
      ],
      "source": [
        "# Here are the CMAP bounds:\n",
        "# -1 geq black < -0.1\n",
        "# -0.1 geq gray < 0.001\n",
        "# 0.001 geq red leq 1\n",
        "a = 0.\n",
        "arr1 = np.array([[a,a],[a,a]])\n",
        "plt.imshow(arr1,cmap=CMAP,norm=NORM)\n",
        "arr1"
      ]
    },
    {
      "cell_type": "code",
      "execution_count": null,
      "metadata": {
        "id": "mkPnwnpuHhOU",
        "colab": {
          "base_uri": "https://localhost:8080/",
          "height": 501
        },
        "outputId": "6ef079c2-05f7-49c5-bf15-a4b62b72b56d"
      },
      "outputs": [
        {
          "output_type": "stream",
          "name": "stdout",
          "text": [
            "(32, 32)\n",
            "(32, 32)\n",
            "(32, 32)\n",
            "(32, 32)\n",
            "(32, 32)\n"
          ]
        },
        {
          "output_type": "display_data",
          "data": {
            "text/plain": [
              "<Figure size 1080x468 with 65 Axes>"
            ],
            "image/png": "[encoded data removed]"
          },
          "metadata": {
            "needs_background": "light"
          }
        }
      ],
      "source": [
        "fig = plt.figure(figsize=(15,6.5))\n",
        "n_rows1 = n_rows\n",
        "n_rows = 5\n",
        "for i in range(n_rows):\n",
        "  for j in range(n_features + 1):\n",
        "    plt.subplot(n_rows, n_features + 1, i * (n_features + 1) + j + 1)\n",
        "    if i == 0:\n",
        "      plt.title(TITLES[j], fontsize=13)\n",
        "    if j < n_features - 1:\n",
        "      plt.imshow(inputs[i, :, :, j], cmap='viridis')\n",
        "    if j == n_features - 1:\n",
        "      plt.imshow(inputs[i, :, :, -1], cmap=CMAP, norm=NORM)\n",
        "      print(inputs[i,:,:,-1].shape)\n",
        "    if j == n_features:\n",
        "      plt.imshow(labels[i, :, :, 0], cmap=CMAP, norm=NORM) \n",
        "    # plt.axis('off')\n",
        "plt.tight_layout()"
      ]
    },
    {
      "cell_type": "code",
      "execution_count": null,
      "metadata": {
        "id": "dlN6RoC_ygTH",
        "colab": {
          "base_uri": "https://localhost:8080/",
          "height": 501
        },
        "outputId": "3f10d9c6-d994-46e7-d2b5-ec2e0a6f0b89"
      },
      "outputs": [
        {
          "output_type": "stream",
          "name": "stdout",
          "text": [
            "(32, 32)\n",
            "(32, 32)\n",
            "(32, 32)\n",
            "(32, 32)\n",
            "(32, 32)\n"
          ]
        },
        {
          "output_type": "display_data",
          "data": {
            "text/plain": [
              "<Figure size 1080x468 with 65 Axes>"
            ],
            "image/png": "[encoded data removed]"
          },
          "metadata": {
            "needs_background": "light"
          }
        }
      ],
      "source": [
        "fig = plt.figure(figsize=(15,6.5))\n",
        "n_rows1 = n_rows\n",
        "n_rows = 5\n",
        "for i in range(n_rows):\n",
        "  for j in range(n_features + 1):\n",
        "    plt.subplot(n_rows, n_features + 1, i * (n_features + 1) + j + 1)\n",
        "    if i == 0:\n",
        "      plt.title(TITLES[j], fontsize=13)\n",
        "    if j < n_features - 1:\n",
        "      plt.imshow(x_test[i, :, :, j], cmap='viridis')\n",
        "    if j == n_features - 1:\n",
        "      plt.imshow(x_test[i, :, :, -1], cmap=CMAP, norm=NORM)\n",
        "      print(x_test[i,:,:,-1].shape)\n",
        "    if j == n_features:\n",
        "      plt.imshow(y_test[i, :, :, 0], cmap=CMAP, norm=NORM) \n",
        "    # plt.axis('off')\n",
        "plt.tight_layout()"
      ]
    },
    {
      "cell_type": "markdown",
      "metadata": {
        "id": "t1OmhK1dNOPi"
      },
      "source": [
        "#### Experimenting"
      ]
    },
    {
      "cell_type": "code",
      "execution_count": null,
      "metadata": {
        "id": "7tV6s88PNQxZ",
        "colab": {
          "base_uri": "https://localhost:8080/",
          "height": 285
        },
        "outputId": "4ea074ef-3b01-4931-e08b-faa596573b62"
      },
      "outputs": [
        {
          "output_type": "execute_result",
          "data": {
            "text/plain": [
              "<matplotlib.image.AxesImage at 0x7fe1912d1850>"
            ]
          },
          "metadata": {},
          "execution_count": 25
        },
        {
          "output_type": "display_data",
          "data": {
            "text/plain": [
              "<Figure size 432x288 with 2 Axes>"
            ],
            "image/png": "[encoded data removed]"
          },
          "metadata": {
            "needs_background": "light"
          }
        }
      ],
      "source": [
        "figure,ax = plt.subplots(nrows = 2, ncols=1,sharex=True)\n",
        "ax[0].imshow(labels[0,:,:,0],cmap=CMAP,norm=NORM)\n",
        "ax[1].imshow(inputs[0,:,:,8],cmap='viridis')\n",
        "\n"
      ]
    },
    {
      "cell_type": "code",
      "execution_count": null,
      "metadata": {
        "id": "Mj4zrv9CUlPI",
        "colab": {
          "base_uri": "https://localhost:8080/"
        },
        "outputId": "0e5193ad-facf-473a-8e4a-cc9282252552"
      },
      "outputs": [
        {
          "output_type": "execute_result",
          "data": {
            "text/plain": [
              "<matplotlib.colors.ListedColormap at 0x7fe2102a08d0>"
            ]
          },
          "metadata": {},
          "execution_count": 26
        }
      ],
      "source": [
        "CMAP"
      ]
    },
    {
      "cell_type": "markdown",
      "metadata": {
        "id": "gItXD5PUB73P"
      },
      "source": [
        "## Loss Functions"
      ]
    },
    {
      "cell_type": "markdown",
      "metadata": {
        "id": "gVS8ppH_OzKb"
      },
      "source": [
        "### Custom Loss Functions\n",
        "\n",
        "These are in progress, working on it right now."
      ]
    },
    {
      "cell_type": "code",
      "execution_count": null,
      "metadata": {
        "id": "UZ508mZIqZ-x",
        "colab": {
          "base_uri": "https://localhost:8080/"
        },
        "outputId": "4b34ceb5-4b35-4daa-9d5f-c08724eb250f"
      },
      "outputs": [
        {
          "output_type": "execute_result",
          "data": {
            "text/plain": [
              "array([[0.57187552, 0.87718992],\n",
              "       [0.09095204, 0.16138145],\n",
              "       [0.45205727, 0.08739418]])"
            ]
          },
          "metadata": {},
          "execution_count": 27
        }
      ],
      "source": [
        "arr1 = np.array([[1,2],[2,3],[3,4]])\n",
        "a,b = arr1.shape\n",
        "np.random.rand(a,b)"
      ]
    },
    {
      "cell_type": "code",
      "execution_count": null,
      "metadata": {
        "id": "UD1J5Lf0O2Vw"
      },
      "outputs": [],
      "source": [
        "import numpy as np\n",
        "def fakeLoss(y_true,y_pred):\n",
        "  print(type(y_true))\n",
        "  y_true = tf.make_ndarray(y_true)\n",
        "  y_pred = tf.make_ndarray(y_pred)\n",
        "\n",
        "  return np.sum((y_true+y_pred)**2)\n",
        "\n",
        "def loss_mse(y_true,y_pred):\n",
        "  return tf.reduce_sum(tf.square(y_true + y_pred))\n",
        "\n",
        "# def confidence(array):\n",
        "#   \"\"\"\n",
        "#   Parameters: 2D np array\n",
        "#   Returns: processed 2D np array according to color map rules + difference from the bounds\n",
        "#   \"\"\"\n",
        "#   a,b = array.shape\n",
        "#   f_arr = np.random.rand(a,b)\n",
        "#   for i in range(array.shape[0]):\n",
        "#     for j in range(array.shape[1]):\n",
        "#       bool1 = False\n",
        "#       new_var = array[i,j]\n",
        "#       if new_var <= 1 and new_var >= 0.001:\n",
        "#         f_arr[i,j] = (new_var-1)**2 + (new_var-.001)**2\n",
        "#       elif new_var < 0.001 and new_var >= -0.1:\n",
        "#         f_arr[i,j] = (new_var-0.001)**2 + (new_var+0.1)**2\n",
        "#       elif new_var <= -0.1 and new_var >= -1:\n",
        "#         f_arr[i,j] = (new_var+1)**2 + (new_var+.1)**2\n",
        "#   return f_arr\n",
        "\n",
        "def dice_loss(y_true, y_pred):\n",
        "  y_true = tf.cast(y_true, tf.float32)\n",
        "  y_pred = tf.math.sigmoid(y_pred)\n",
        "  numerator = 2 * tf.reduce_sum(y_true * y_pred)\n",
        "  denominator = tf.reduce_sum(y_true + y_pred)\n",
        "\n",
        "  return 1 - numerator / denominator\n",
        "\n",
        "\n",
        "def convert(array):\n",
        "  \"\"\"\n",
        "  Parameters: 2D tensor\n",
        "  Returns: processed 2D np array according to color map rules + difference from the bounds\n",
        "  0 - red\n",
        "  1 - Gray\n",
        "  2 - Black\n",
        "  \"\"\"\n",
        "  array=tf.reshape(array,[32,32])\n",
        "  a,b = array.shape\n",
        "  f_arr = np.random.rand(32,32)\n",
        "  for i in range(32):\n",
        "    for j in range(32):\n",
        "      new_var = array[i,j]\n",
        "      if new_var >= 0.001:\n",
        "        f_arr[i,j] = 0\n",
        "      elif new_var < 0.001 and new_var >= -0.1:\n",
        "        f_arr[i,j] = 1\n",
        "      elif new_var <= -0.1:\n",
        "        f_arr[i,j] = 2\n",
        "  return f_arr \n",
        "def distance(y_true,a,b,c,d):\n",
        "  \"\"\"\n",
        "  Parameters: (ytrue, numpy 2d array), (a, row index of ytrue right now), (b, column index), (c, )\n",
        "  Output: distance between this point and nearest target value\n",
        "  \"\"\"\n",
        "  return np.sqrt((c-a)**2 + (d-b)**2)\n",
        "def gen_distance(y_true,y_pred):\n",
        "  \"\"\"\n",
        "  Parameters: the converted 2D np array of ytrue and ypredicted\n",
        "  Ouput: An array that has distance values from y_true to y_pred\n",
        "  \"\"\"\n",
        "  assert y_true.shape == y_pred.shape\n",
        "\n",
        "  a,b = y_true.shape\n",
        "  f_arr = np.random.rand(a,b)\n",
        "  for i in range(y_true.shape[0]):\n",
        "    for j in range(y_true.shape[1]):\n",
        "      maxDist=-1\n",
        "      breakVar = False\n",
        "      if y_true[i,j] != y_pred[i,j]:\n",
        "        breakVar = False\n",
        "        maxDist=-1\n",
        "        for a in range(y_true.shape[0]):\n",
        "          for b in range(y_true.shape[1]):\n",
        "              if (distance(y_true,i,j,a,b)>maxDist):\n",
        "                if (distance(y_true,i,j,a,b)>10):\n",
        "                  maxDist=10\n",
        "                  breakVar = True\n",
        "                  break\n",
        "                maxDist = distance(y_true,i,j,a,b)\n",
        "          if (breakVar):\n",
        "            break\n",
        "      else:\n",
        "        f_arr[i,j] = 0\n",
        "  return f_arr\n",
        "\n",
        "def punisher(y_true, y_pred):\n",
        "  yTrue = convert(y_true)\n",
        "  yPred = convert(y_pred)\n",
        "  return np.sum(gen_distance(yTrue,yPred))\n",
        "\n",
        "def mod_cross_entropy_loss(y_true,y_pred):\n",
        "  true_sum = tf.reduce_sum(y_true)\n",
        "  pred_sum = tf.reduce_sum(y_pred)\n",
        "  yTrue = convert(y_true)/true_sum\n",
        "  yPred = convert(y_pred)/pred_sum\n",
        "  sum1 = 0\n",
        "  sum1 = (y_true-y_pred)**2\n",
        "  sum1 = tf.math.sqrt(tf.reduce_sum(sum1))\n",
        "  sum1 = sum1.numpy()\n",
        "  pred_prob = probDist(yPred.numpy())\n",
        "  true_prob = probDist(yTrue.numpy())\n",
        "  cross = -sum([true_prob[i]*math.log(pred_prob[i])/math.log(2) for i in range(len(true_prob))])\n",
        "  return (sum1/1024) + probDist() \n",
        "\n",
        "# punisher(np.random.rand(32,32),np.random.rand(32,32))\n",
        "# import numpy\n",
        "# import torch\n",
        "# import torch.nn as nn\n",
        "# import torch.nn.functional as F\n",
        "# import keras\n",
        "# import keras.backend as K\n",
        "# # class DiceLoss(nn.Module):\n",
        "# #     def __init__(self, weight=None, size_average=True):\n",
        "# #         super(DiceLoss, self).__init__()\n",
        "\n",
        "# #     def forward(self, inputs, targets, smooth=1):\n",
        "        \n",
        "# #         #comment out if your model contains a sigmoid or equivalent activation layer\n",
        "# #         inputs = F.sigmoid(inputs)       \n",
        "        \n",
        "# #         #flatten label and prediction tensors\n",
        "# #         inputs = inputs.view(-1)\n",
        "# #         targets = targets.view(-1)\n",
        "        \n",
        "# #         intersection = (inputs * targets).sum()                            \n",
        "# #         dice = (2.*intersection + smooth)/(inputs.sum() + targets.sum() + smooth)  \n",
        "        \n",
        "# #         return 1 - dice\n",
        "def spec_dice_loss(y_true, y_pred):\n",
        "  y_true = tf.cast(y_true, tf.float32)\n",
        "  y_pred = tf.math.sigmoid(y_pred)\n",
        "  numerator = 2 * tf.reduce_sum(y_true * y_pred)\n",
        "  denominator = tf.reduce_sum(y_true + y_pred)\n",
        "\n",
        "  return 1 - numerator / denominator\n",
        "\n",
        "# from scipy.spatial import distance_matrix\n",
        "# import numpy as np\n",
        "\n",
        "# not_zeros = np.argwhere(img != 0)\n",
        "# zeros = np.argwhere(img == 0)\n",
        "\n",
        "# dist_matrix = distance_matrix(zeros, not_zeros, p=2)\n",
        "# output = np.zeros((HEIGHT, WIDTH, 1), dtype=np.uint8)\n",
        "\n",
        "# i = 0\n",
        "# dist = np.min(dist_matrix, axis=1)\n",
        "# for y in range(HEIGHT):\n",
        "#   for x in range(WIDTH):\n",
        "#     if img[y,x] == 0:\n",
        "#       output[y,x] = dist[i]\n",
        "#       i += 1\n",
        "\n",
        "# from functools import partial\n",
        "\n",
        "# def loss_function(y_true, y_pred, weights):\n",
        "# ...\n",
        "\n",
        "# weight_input = Input(shape=(HEIGHT, WIDTH))\n",
        "# loss = partial(loss_function, weights=weight_input)\n",
        "\n"
      ]
    },
    {
      "cell_type": "markdown",
      "metadata": {
        "id": "N-L6Nq4Zyeae"
      },
      "source": [
        "### Classic Loss Functions"
      ]
    },
    {
      "cell_type": "code",
      "execution_count": null,
      "metadata": {
        "id": "Oshd3l2LceyJ",
        "colab": {
          "base_uri": "https://localhost:8080/"
        },
        "outputId": "5797c2a4-ad3a-48ba-ba53-2cac280a02bb"
      },
      "outputs": [
        {
          "output_type": "execute_result",
          "data": {
            "text/plain": [
              "<tf.Tensor: shape=(3, 3), dtype=float32, numpy=\n",
              "array([[0.  , 0.02, 0.  ],\n",
              "       [0.02, 0.  , 0.  ],\n",
              "       [0.02, 0.  , 0.96]], dtype=float32)>"
            ]
          },
          "metadata": {},
          "execution_count": 29
        }
      ],
      "source": [
        "y_true = tf.constant([[0,1,0],[1,0,0],[1,0,1]])\n",
        "y_true = tf.cast(y_true,'float')\n",
        "y_pred = tf.constant([[0,1,0],[1,0,0],[1,0,1]],dtype='float')\n",
        "weights = tf.constant([0.02,0.02,0.96],dtype='float')\n",
        "tf.math.multiply(tf.math.multiply(y_true, y_true),weights)"
      ]
    },
    {
      "cell_type": "code",
      "source": [
        "label_subset = labels[:30]\n",
        "freq = [0,0,0]\n",
        "label_subset.shape[0]\n",
        "for i in range(label_subset.shape[0]):\n",
        "  label_subset1 = labels[i, :, :, 0]\n",
        "  for j in range(label_subset1.shape[0]):\n",
        "    for k in range(label_subset1.shape[1]):\n",
        "      if (label_subset1[j][k] == 0):\n",
        "        freq[1] += 1\n",
        "      elif (label_subset1[j][k] == 1):\n",
        "        freq[2]+=1\n",
        "      else:\n",
        "        freq[0]+=1\n",
        "      # print(i,j,k)\n",
        "freq"
      ],
      "metadata": {
        "colab": {
          "base_uri": "https://localhost:8080/"
        },
        "id": "PrTR23HGKzkL",
        "outputId": "f555e465-6a52-4158-df01-d843c47f814d"
      },
      "execution_count": 134,
      "outputs": [
        {
          "output_type": "execute_result",
          "data": {
            "text/plain": [
              "[523, 29549, 648]"
            ]
          },
          "metadata": {},
          "execution_count": 134
        }
      ]
    },
    {
      "cell_type": "code",
      "source": [
        "prob = np.array(freq)/sum(freq)\n",
        "prob = 1/prob\n",
        "prob"
      ],
      "metadata": {
        "colab": {
          "base_uri": "https://localhost:8080/"
        },
        "id": "KytfXF96NuTP",
        "outputId": "bc0c5efd-9fed-4cde-fcc4-ad248051f6b9"
      },
      "execution_count": 133,
      "outputs": [
        {
          "output_type": "execute_result",
          "data": {
            "text/plain": [
              "array([58.73804971,  1.03962909, 47.40740741])"
            ]
          },
          "metadata": {},
          "execution_count": 133
        }
      ]
    },
    {
      "cell_type": "code",
      "execution_count": 135,
      "metadata": {
        "id": "hUYgbhYnyhKW"
      },
      "outputs": [],
      "source": [
        "from keras import backend as K\n",
        "import math\n",
        "# Focal Tversky_loss\n",
        "def weigthed_cross(y_true,y_pred):\n",
        "  cce = tf.keras.losses.CategoricalCrossentropy()\n",
        "  return cce(y_true, y_pred, sample_weight=[[0.1,0.9]])\n",
        "  # , sample_weight=tf.constant([0.02,0.02, 0.96])\n",
        "  # return tf.keras.losses.CategoricalCrossentropy(y_true,y_pred)(sample_weights)\n",
        "def weighted_cross_entropy(y_true,y_pred):\n",
        "  y_true = tf.cast(y_true,'float')\n",
        "  y_pred = tf.cast(y_pred,'float')\n",
        "  weights = tf.constant(prob,dtype='float')\n",
        "  return tf.reduce_sum(tf.math.multiply(tf.math.multiply(y_true, tf.math.log1p(y_pred)), weights))\n",
        "\n",
        "# def weighted_cross_entropy(beta):\n",
        "#   def loss(y_true, y_pred):\n",
        "#     weight_a = beta * tf.cast(y_true, tf.float32)\n",
        "#     weight_b = 1 - tf.cast(y_true, tf.float32)\n",
        "    \n",
        "#     o = (tf.math.log1p(tf.exp(-tf.abs(y_pred))) + tf.nn.relu(-y_pred)) * (weight_a + weight_b) + y_pred * weight_b \n",
        "#     return tf.reduce_mean(o)\n",
        "\n",
        "#   return loss\n",
        "\n",
        "def big_weighted_cross_entropy(y_true, y_pred, beta = 100):\n",
        "  class_weights = tf.constant([[500, 1, 100]])\n",
        "  tf.math.log1p()\n",
        "  o = (tf.math.log1p(tf.exp(-tf.abs(y_pred))) + tf.nn.relu(-y_pred)) * (weight_a + weight_b) + y_pred * weight_b \n",
        "  return tf.reduce_mean(o)\n",
        "\n",
        "def probDist(y):\n",
        "  classes = [0,1,2]\n",
        "  prob = [0,0,0]\n",
        "  for i in range(y.shape[0]):\n",
        "    for j in range(y.shape[1]):\n",
        "      if (y[i,j] == 0):\n",
        "        prob[0]+=1\n",
        "      if (y[i,j] == 1):\n",
        "        prob[1]+=1\n",
        "      if (y[i,j] == 2):\n",
        "        prob[2]+=1\n",
        "  prob = np.array(prob)\n",
        "  return prob/(np.sum(prob))\n",
        "def weighted_bce(y_true, y_pred):\n",
        "  weights = (y_true * 59.) + 1.\n",
        "  bce = K.binary_crossentropy(y_true, y_pred)\n",
        "  weighted_bce = K.mean(bce * weights)\n",
        "  return weighted_bce\n",
        "def class_tversky(y_true, y_pred):\n",
        "    smooth = 1\n",
        "\n",
        "    y_true = K.permute_dimensions(y_true, (3,1,2,0))\n",
        "    y_pred = K.permute_dimensions(y_pred, (3,1,2,0))\n",
        "\n",
        "    y_true_pos = K.batch_flatten(y_true)\n",
        "    y_pred_pos = K.batch_flatten(y_pred)\n",
        "    true_pos = K.sum(y_true_pos * y_pred_pos, 1)\n",
        "    false_neg = K.sum(y_true_pos * (1-y_pred_pos), 1)\n",
        "    false_pos = K.sum((1-y_true_pos)*y_pred_pos, 1)\n",
        "    alpha = 0.7\n",
        "    return (true_pos + smooth)/(true_pos + alpha*false_neg + (1-alpha)*false_pos + smooth)\n",
        "\n",
        "def focal_tversky_loss(y_true,y_pred):\n",
        "    pt_1 = class_tversky(y_true, y_pred)\n",
        "    gamma = 0.75\n",
        "    return K.sum(K.pow((1-pt_1), gamma))\n",
        "\n",
        "# Dice Loss\n",
        "smooth = 1.\n",
        "def dice_coef(y_true, y_pred):\n",
        "    y_true_f = K.flatten(y_true)\n",
        "    y_pred_f = K.flatten(y_pred)\n",
        "    intersection = K.sum(y_true_f * y_pred_f)\n",
        "    return (2. * intersection + smooth) / (K.sum(y_true_f) + K.sum(y_pred_f) + smooth)\n",
        "\n",
        "def dice_coef_loss(y_true, y_pred):\n",
        "    return 1-dice_coef(y_true, y_pred)\n",
        "\n",
        "#Keras\n",
        "ALPHA = 0.8\n",
        "GAMMA = 2\n",
        "\n",
        "def focal_loss(targets, inputs, alpha=ALPHA, gamma=GAMMA):    \n",
        "    \n",
        "    inputs = K.flatten(inputs)\n",
        "    targets = K.flatten(targets)\n",
        "    \n",
        "    BCE = K.binary_crossentropy(targets, inputs)\n",
        "    BCE_EXP = K.exp(-BCE)\n",
        "    focal_loss = K.mean(alpha * K.pow((1-BCE_EXP), gamma) * BCE)\n",
        "    \n",
        "    return focal_loss\n",
        "\n",
        "def dice_coef_binary(y_true, y_pred, smooth=1e-7):\n",
        "    '''\n",
        "    Dice coefficient for 2 categories. Ignores background pixel label 0\n",
        "    Pass to model as metric during compile statement\n",
        "    '''\n",
        "    y_true_f = K.flatten(K.one_hot(K.cast(y_true, 'int32'), num_classes=2)[...,1:])\n",
        "    y_pred_f = K.flatten(y_pred[...,1:])\n",
        "    intersect = K.sum(y_true_f * y_pred_f, axis=-1)\n",
        "    denom = K.sum(y_true_f + y_pred_f, axis=-1)\n",
        "    return K.mean((2. * intersect / (denom + smooth)))\n",
        "\n",
        "\n",
        "def dice_coef_binary_loss(y_true, y_pred):\n",
        "    '''\n",
        "    Dice loss to minimize. Pass to model as loss during compile statement\n",
        "    '''\n",
        "    return 1 - dice_coef_binary(y_true, y_pred)\n",
        "\n",
        "def get_loss_function(loss_function_name):\n",
        "    if loss_function_name == \"focal_tversky_loss\":\n",
        "        loss_function = focal_tversky_loss\n",
        "    elif loss_function_name == \"dice_coef_loss\":\n",
        "        loss_function = dice_coef_loss\n",
        "    elif loss_function_name == \"dice_coef_binary_loss\":\n",
        "        loss_function = dice_coef_binary_loss\n",
        "    elif loss_function_name == \"focal_loss\":\n",
        "        loss_function = focal_loss\n",
        "    elif loss_function_name == \"sparse_categorical_crossentropy\":\n",
        "        loss_function = tf.keras.losses.SparseCategoricalCrossentropy()\n",
        "    else:\n",
        "        loss_function = loss_function_name # for keras implemented losses like \"categorical_crossentropy\"\n",
        "        \n",
        "    return loss_function"
      ]
    },
    {
      "cell_type": "markdown",
      "metadata": {
        "id": "Sd-jbgA0JRnI"
      },
      "source": [
        "## Models"
      ]
    },
    {
      "cell_type": "markdown",
      "metadata": {
        "id": "Mtxtc1_VZMU6"
      },
      "source": [
        "### Keras CNN "
      ]
    },
    {
      "cell_type": "code",
      "execution_count": null,
      "metadata": {
        "id": "W1lRtXb2YRG2"
      },
      "outputs": [],
      "source": [
        "from tensorflow.keras import Input\n",
        "DROPOUT = 0.5\n",
        "\n",
        "input_arr = [] #size 12\n",
        "models_arr = [] #size 12\n",
        "for i in range(12):\n",
        "  input_arr.append(Input(shape=(32,32,1)))\n",
        "for i in range(12):\n",
        "  models_arr.append(layers.Conv2D(64,(3,3),activation='relu',padding='same')(input_arr[i]))\n",
        "  models_arr[i] = layers.MaxPool2D((2,2))(models_arr[i])\n",
        "  models_arr[i] = layers.BatchNormalization()(models_arr[i])\n",
        "  models_arr[i] = layers.Dropout(DROPOUT)(models_arr[i])\n",
        "\n",
        "\n",
        "  models_arr[i]=layers.Conv2D(16,(3,3),activation='relu',padding='same')(models_arr[i])\n",
        "  models_arr[i] = layers.MaxPool2D((2,2))(models_arr[i])\n",
        "  models_arr[i] = layers.BatchNormalization()(models_arr[i])\n",
        "  models_arr[i] = layers.Dropout(DROPOUT)(models_arr[i])\n",
        "# input_arr = np.array(input_arr)\n",
        "  \n",
        "encoder = layers.concatenate(models_arr)\n",
        "encoder_model = Model(input_arr,encoder)\n",
        "# encoder_model.summary()\n",
        "# models_arr[0].summary()"
      ]
    },
    {
      "cell_type": "code",
      "execution_count": null,
      "metadata": {
        "id": "wnzRfzvegXfg"
      },
      "outputs": [],
      "source": [
        "autoencoder = layers.Conv2D(16, (3, 3), activation='relu', padding='same')(encoder)\n",
        "autoencoder = (layers.UpSampling2D((2, 2)))(autoencoder)\n",
        "autoencoder = layers.BatchNormalization()(autoencoder)\n",
        "autoencoder = layers.Dropout(DROPOUT)(autoencoder)\n",
        "\n",
        "\n",
        "autoencoder = tf.keras.layers.Conv2D(64, (3, 3), activation='relu', padding='same')(autoencoder)\n",
        "autoencoder = tf.keras.layers.UpSampling2D((2, 2)) (autoencoder)\n",
        "autoencoder = layers.BatchNormalization()(autoencoder)\n",
        "autoencoder = layers.Dropout(DROPOUT)(autoencoder)\n",
        "\n",
        "\n",
        "autoencoder = layers.Conv2D(1, (3, 3), activation='tanh', padding='same')(autoencoder)\n",
        "autoencoder = layers.Dense(3,activation='softmax')(autoencoder)\n",
        "autoencoder = Model(inputs = input_arr,outputs = autoencoder)\n",
        "opt = keras.optimizers.Adam(learning_rate=0.00001)\n",
        "\n",
        "                    # metrics=[tf.keras.metrics.Recall(),tf.keras.metrics.AUC()])\n",
        "\n",
        "\n",
        "\n",
        "\n",
        "# autoencoder.summary()"
      ]
    },
    {
      "cell_type": "markdown",
      "metadata": {
        "id": "5KvuRi9DLI6W"
      },
      "source": [
        "#### Training"
      ]
    },
    {
      "cell_type": "code",
      "execution_count": null,
      "metadata": {
        "id": "4dj49STCEQRE"
      },
      "outputs": [],
      "source": [
        "from sklearn.preprocessing import LabelBinarizer\n",
        "# tf.enable_eager_execution()\n",
        "enc = LabelBinarizer()\n",
        "labels1 = labels.numpy()\n",
        "y_train_encoded = enc.fit_transform(labels1.flatten())\n",
        "y_val_encoded=enc.transform(y_test.numpy().flatten())\n",
        "\n",
        "y_train_encoded = y_train_encoded.reshape(train_batch,32,32,3)\n",
        "y_val_encoded = y_val_encoded.reshape(1689,32,32,3)\n",
        "\n",
        "# labels.shape"
      ]
    },
    {
      "cell_type": "markdown",
      "metadata": {
        "id": "ENb0DIR057Vs"
      },
      "source": [
        "##### Categorical Training"
      ]
    },
    {
      "cell_type": "code",
      "execution_count": 138,
      "metadata": {
        "id": "G5Hw_QA2LKfX",
        "colab": {
          "base_uri": "https://localhost:8080/"
        },
        "outputId": "a1c52e1f-3433-4508-ac72-18e7b4138e21"
      },
      "outputs": [
        {
          "output_type": "stream",
          "name": "stdout",
          "text": [
            "Epoch 1/10\n",
            "207/207 - 11s - loss: 53160.9219 - recall_6: 0.0247 - auc_6: 0.2685 - val_loss: 58535.4297 - val_recall_6: 0.0274 - val_auc_6: 0.2705 - 11s/epoch - 52ms/step\n",
            "Epoch 2/10\n",
            "207/207 - 6s - loss: 53195.0977 - recall_6: 0.0247 - auc_6: 0.2685 - val_loss: 58535.4297 - val_recall_6: 0.0274 - val_auc_6: 0.2705 - 6s/epoch - 28ms/step\n",
            "Epoch 3/10\n",
            "207/207 - 6s - loss: 53194.3711 - recall_6: 0.0247 - auc_6: 0.2685 - val_loss: 58535.4297 - val_recall_6: 0.0274 - val_auc_6: 0.2705 - 6s/epoch - 28ms/step\n",
            "Epoch 4/10\n",
            "207/207 - 6s - loss: 53162.8125 - recall_6: 0.0247 - auc_6: 0.2685 - val_loss: 58535.4297 - val_recall_6: 0.0274 - val_auc_6: 0.2705 - 6s/epoch - 29ms/step\n",
            "Epoch 5/10\n",
            "207/207 - 6s - loss: 53125.8086 - recall_6: 0.0247 - auc_6: 0.2685 - val_loss: 58535.4297 - val_recall_6: 0.0274 - val_auc_6: 0.2705 - 6s/epoch - 28ms/step\n",
            "Epoch 6/10\n",
            "207/207 - 6s - loss: 53180.0586 - recall_6: 0.0247 - auc_6: 0.2685 - val_loss: 58535.4297 - val_recall_6: 0.0274 - val_auc_6: 0.2705 - 6s/epoch - 28ms/step\n",
            "Epoch 7/10\n",
            "207/207 - 6s - loss: 53197.6211 - recall_6: 0.0247 - auc_6: 0.2685 - val_loss: 58535.4297 - val_recall_6: 0.0274 - val_auc_6: 0.2705 - 6s/epoch - 28ms/step\n",
            "Epoch 8/10\n",
            "207/207 - 6s - loss: 53206.2266 - recall_6: 0.0247 - auc_6: 0.2685 - val_loss: 58535.4297 - val_recall_6: 0.0274 - val_auc_6: 0.2705 - 6s/epoch - 28ms/step\n",
            "Epoch 9/10\n",
            "207/207 - 6s - loss: 53167.1367 - recall_6: 0.0247 - auc_6: 0.2685 - val_loss: 58535.4297 - val_recall_6: 0.0274 - val_auc_6: 0.2705 - 6s/epoch - 28ms/step\n",
            "Epoch 10/10\n",
            "207/207 - 6s - loss: 53207.4141 - recall_6: 0.0247 - auc_6: 0.2685 - val_loss: 58535.4297 - val_recall_6: 0.0274 - val_auc_6: 0.2705 - 6s/epoch - 28ms/step\n"
          ]
        }
      ],
      "source": [
        "autoencoder.compile(optimizer='adam', loss=weighted_cross_entropy,\n",
        "                    metrics=[tf.keras.metrics.Recall(),tf.keras.metrics.AUC()])\n",
        "\n",
        "\n",
        "# autoencoder.fit({inputs[:,:,:,0:1]},labels)\n",
        "# autoencoder.fit({inputs[:,:,:,0:1]},labels).\n",
        "def dataProcess(data):\n",
        "  k = []\n",
        "  for i in range(12):\n",
        "    k.append(data[:,:,:,i:i+1])\n",
        "  return k\n",
        "\n",
        "\n",
        "k = dataProcess(inputs)\n",
        "mod_x_test = dataProcess(x_test)\n",
        "history_1 = autoencoder.fit(\n",
        "            k, y_train_encoded,\n",
        "            epochs=10,\n",
        "            validation_data = (mod_x_test,y_val_encoded),\n",
        "            batch_size=64,\n",
        "            verbose=2)\n",
        "\n",
        "# l = []\n",
        "# validation_data=(np.random.randn(12,100,32,32,1).tolist(),np.random.randn(100,32,32,1).tolist()),\n",
        "\n",
        "# for i in range(12):\n",
        "#   l.append(inputs[0,:,:,i])\n",
        "# l\n",
        "# # autoencoder.evaluate(l)\n",
        "# # plt.imshow(autoencoder.predict(k[0]))"
      ]
    },
    {
      "cell_type": "code",
      "execution_count": 139,
      "metadata": {
        "id": "W19MJgUIgUCM",
        "colab": {
          "base_uri": "https://localhost:8080/"
        },
        "outputId": "d91a94ec-ac47-44b7-879f-165b81f1f362"
      },
      "outputs": [
        {
          "output_type": "execute_result",
          "data": {
            "text/plain": [
              "array([[[[0, 1, 0],\n",
              "         [0, 1, 0],\n",
              "         [0, 1, 0],\n",
              "         ...,\n",
              "         [0, 1, 0],\n",
              "         [0, 1, 0],\n",
              "         [0, 1, 0]],\n",
              "\n",
              "        [[0, 1, 0],\n",
              "         [0, 1, 0],\n",
              "         [0, 1, 0],\n",
              "         ...,\n",
              "         [0, 1, 0],\n",
              "         [0, 1, 0],\n",
              "         [0, 1, 0]],\n",
              "\n",
              "        [[0, 1, 0],\n",
              "         [0, 1, 0],\n",
              "         [0, 1, 0],\n",
              "         ...,\n",
              "         [0, 1, 0],\n",
              "         [0, 1, 0],\n",
              "         [0, 1, 0]],\n",
              "\n",
              "        ...,\n",
              "\n",
              "        [[0, 1, 0],\n",
              "         [0, 1, 0],\n",
              "         [0, 1, 0],\n",
              "         ...,\n",
              "         [0, 1, 0],\n",
              "         [0, 1, 0],\n",
              "         [0, 1, 0]],\n",
              "\n",
              "        [[0, 1, 0],\n",
              "         [0, 1, 0],\n",
              "         [0, 1, 0],\n",
              "         ...,\n",
              "         [0, 1, 0],\n",
              "         [0, 1, 0],\n",
              "         [0, 1, 0]],\n",
              "\n",
              "        [[0, 1, 0],\n",
              "         [0, 1, 0],\n",
              "         [0, 1, 0],\n",
              "         ...,\n",
              "         [0, 1, 0],\n",
              "         [0, 1, 0],\n",
              "         [0, 1, 0]]],\n",
              "\n",
              "\n",
              "       [[[0, 1, 0],\n",
              "         [0, 0, 1],\n",
              "         [0, 0, 1],\n",
              "         ...,\n",
              "         [0, 1, 0],\n",
              "         [0, 1, 0],\n",
              "         [0, 1, 0]],\n",
              "\n",
              "        [[0, 0, 1],\n",
              "         [0, 0, 1],\n",
              "         [0, 0, 1],\n",
              "         ...,\n",
              "         [0, 1, 0],\n",
              "         [0, 1, 0],\n",
              "         [0, 1, 0]],\n",
              "\n",
              "        [[0, 1, 0],\n",
              "         [0, 0, 1],\n",
              "         [0, 0, 1],\n",
              "         ...,\n",
              "         [0, 1, 0],\n",
              "         [0, 1, 0],\n",
              "         [0, 1, 0]],\n",
              "\n",
              "        ...,\n",
              "\n",
              "        [[0, 1, 0],\n",
              "         [0, 1, 0],\n",
              "         [0, 1, 0],\n",
              "         ...,\n",
              "         [0, 1, 0],\n",
              "         [0, 1, 0],\n",
              "         [0, 1, 0]],\n",
              "\n",
              "        [[0, 1, 0],\n",
              "         [0, 1, 0],\n",
              "         [0, 1, 0],\n",
              "         ...,\n",
              "         [0, 1, 0],\n",
              "         [0, 1, 0],\n",
              "         [0, 1, 0]],\n",
              "\n",
              "        [[0, 1, 0],\n",
              "         [0, 1, 0],\n",
              "         [0, 1, 0],\n",
              "         ...,\n",
              "         [0, 1, 0],\n",
              "         [0, 1, 0],\n",
              "         [0, 1, 0]]],\n",
              "\n",
              "\n",
              "       [[[1, 0, 0],\n",
              "         [1, 0, 0],\n",
              "         [1, 0, 0],\n",
              "         ...,\n",
              "         [1, 0, 0],\n",
              "         [1, 0, 0],\n",
              "         [0, 1, 0]],\n",
              "\n",
              "        [[1, 0, 0],\n",
              "         [1, 0, 0],\n",
              "         [1, 0, 0],\n",
              "         ...,\n",
              "         [1, 0, 0],\n",
              "         [0, 1, 0],\n",
              "         [0, 1, 0]],\n",
              "\n",
              "        [[1, 0, 0],\n",
              "         [1, 0, 0],\n",
              "         [1, 0, 0],\n",
              "         ...,\n",
              "         [1, 0, 0],\n",
              "         [0, 1, 0],\n",
              "         [0, 1, 0]],\n",
              "\n",
              "        ...,\n",
              "\n",
              "        [[1, 0, 0],\n",
              "         [1, 0, 0],\n",
              "         [1, 0, 0],\n",
              "         ...,\n",
              "         [1, 0, 0],\n",
              "         [1, 0, 0],\n",
              "         [1, 0, 0]],\n",
              "\n",
              "        [[1, 0, 0],\n",
              "         [1, 0, 0],\n",
              "         [1, 0, 0],\n",
              "         ...,\n",
              "         [1, 0, 0],\n",
              "         [1, 0, 0],\n",
              "         [1, 0, 0]],\n",
              "\n",
              "        [[1, 0, 0],\n",
              "         [1, 0, 0],\n",
              "         [1, 0, 0],\n",
              "         ...,\n",
              "         [1, 0, 0],\n",
              "         [1, 0, 0],\n",
              "         [1, 0, 0]]],\n",
              "\n",
              "\n",
              "       ...,\n",
              "\n",
              "\n",
              "       [[[0, 1, 0],\n",
              "         [0, 1, 0],\n",
              "         [0, 1, 0],\n",
              "         ...,\n",
              "         [0, 1, 0],\n",
              "         [0, 1, 0],\n",
              "         [0, 1, 0]],\n",
              "\n",
              "        [[0, 1, 0],\n",
              "         [0, 1, 0],\n",
              "         [0, 1, 0],\n",
              "         ...,\n",
              "         [0, 1, 0],\n",
              "         [0, 1, 0],\n",
              "         [0, 1, 0]],\n",
              "\n",
              "        [[0, 1, 0],\n",
              "         [0, 1, 0],\n",
              "         [0, 1, 0],\n",
              "         ...,\n",
              "         [0, 1, 0],\n",
              "         [0, 1, 0],\n",
              "         [0, 1, 0]],\n",
              "\n",
              "        ...,\n",
              "\n",
              "        [[0, 1, 0],\n",
              "         [0, 1, 0],\n",
              "         [0, 1, 0],\n",
              "         ...,\n",
              "         [0, 1, 0],\n",
              "         [0, 1, 0],\n",
              "         [0, 1, 0]],\n",
              "\n",
              "        [[0, 1, 0],\n",
              "         [0, 1, 0],\n",
              "         [0, 1, 0],\n",
              "         ...,\n",
              "         [0, 1, 0],\n",
              "         [0, 1, 0],\n",
              "         [0, 1, 0]],\n",
              "\n",
              "        [[0, 1, 0],\n",
              "         [0, 1, 0],\n",
              "         [0, 1, 0],\n",
              "         ...,\n",
              "         [0, 1, 0],\n",
              "         [0, 1, 0],\n",
              "         [0, 1, 0]]],\n",
              "\n",
              "\n",
              "       [[[0, 1, 0],\n",
              "         [0, 1, 0],\n",
              "         [0, 1, 0],\n",
              "         ...,\n",
              "         [0, 1, 0],\n",
              "         [0, 1, 0],\n",
              "         [0, 1, 0]],\n",
              "\n",
              "        [[0, 1, 0],\n",
              "         [0, 1, 0],\n",
              "         [0, 1, 0],\n",
              "         ...,\n",
              "         [0, 1, 0],\n",
              "         [0, 1, 0],\n",
              "         [0, 1, 0]],\n",
              "\n",
              "        [[0, 1, 0],\n",
              "         [0, 1, 0],\n",
              "         [0, 1, 0],\n",
              "         ...,\n",
              "         [0, 1, 0],\n",
              "         [0, 1, 0],\n",
              "         [0, 1, 0]],\n",
              "\n",
              "        ...,\n",
              "\n",
              "        [[0, 1, 0],\n",
              "         [0, 1, 0],\n",
              "         [0, 1, 0],\n",
              "         ...,\n",
              "         [0, 1, 0],\n",
              "         [0, 1, 0],\n",
              "         [0, 1, 0]],\n",
              "\n",
              "        [[0, 1, 0],\n",
              "         [0, 1, 0],\n",
              "         [0, 1, 0],\n",
              "         ...,\n",
              "         [0, 1, 0],\n",
              "         [0, 1, 0],\n",
              "         [0, 1, 0]],\n",
              "\n",
              "        [[0, 1, 0],\n",
              "         [0, 1, 0],\n",
              "         [0, 1, 0],\n",
              "         ...,\n",
              "         [0, 1, 0],\n",
              "         [0, 1, 0],\n",
              "         [0, 1, 0]]],\n",
              "\n",
              "\n",
              "       [[[0, 1, 0],\n",
              "         [0, 1, 0],\n",
              "         [0, 1, 0],\n",
              "         ...,\n",
              "         [0, 1, 0],\n",
              "         [0, 1, 0],\n",
              "         [0, 1, 0]],\n",
              "\n",
              "        [[0, 1, 0],\n",
              "         [0, 1, 0],\n",
              "         [0, 1, 0],\n",
              "         ...,\n",
              "         [0, 1, 0],\n",
              "         [0, 1, 0],\n",
              "         [0, 1, 0]],\n",
              "\n",
              "        [[0, 1, 0],\n",
              "         [0, 1, 0],\n",
              "         [0, 1, 0],\n",
              "         ...,\n",
              "         [0, 1, 0],\n",
              "         [0, 1, 0],\n",
              "         [0, 1, 0]],\n",
              "\n",
              "        ...,\n",
              "\n",
              "        [[0, 1, 0],\n",
              "         [0, 1, 0],\n",
              "         [0, 1, 0],\n",
              "         ...,\n",
              "         [0, 1, 0],\n",
              "         [0, 1, 0],\n",
              "         [0, 1, 0]],\n",
              "\n",
              "        [[0, 1, 0],\n",
              "         [0, 1, 0],\n",
              "         [0, 1, 0],\n",
              "         ...,\n",
              "         [0, 1, 0],\n",
              "         [0, 1, 0],\n",
              "         [0, 1, 0]],\n",
              "\n",
              "        [[0, 1, 0],\n",
              "         [0, 1, 0],\n",
              "         [0, 1, 0],\n",
              "         ...,\n",
              "         [0, 1, 0],\n",
              "         [0, 1, 0],\n",
              "         [0, 1, 0]]]])"
            ]
          },
          "metadata": {},
          "execution_count": 139
        }
      ],
      "source": [
        "y_val_encoded"
      ]
    },
    {
      "cell_type": "markdown",
      "metadata": {
        "id": "RWns7hn67pHC"
      },
      "source": [
        "## Evaluation Visualizations"
      ]
    },
    {
      "cell_type": "code",
      "execution_count": 140,
      "metadata": {
        "id": "CfInC4rF7vMg"
      },
      "outputs": [],
      "source": [
        "from matplotlib import pyplot as plt\n",
        "from matplotlib.pyplot import figure\n",
        "a,b = 18,0"
      ]
    },
    {
      "cell_type": "markdown",
      "metadata": {
        "id": "gOY1TEko6eae"
      },
      "source": [
        "### Train Predictions"
      ]
    },
    {
      "cell_type": "code",
      "execution_count": 141,
      "metadata": {
        "id": "b1t-sUdZ6iRc",
        "colab": {
          "base_uri": "https://localhost:8080/"
        },
        "outputId": "411d5d96-79be-4e10-d65a-da9747947d05"
      },
      "outputs": [
        {
          "output_type": "execute_result",
          "data": {
            "text/plain": [
              "array([[[[6.55366874e-13, 1.38415069e-11, 1.00000000e+00],\n",
              "         [6.55251894e-13, 1.38383124e-11, 1.00000000e+00],\n",
              "         [6.55251894e-13, 1.38383124e-11, 1.00000000e+00],\n",
              "         ...,\n",
              "         [6.55251894e-13, 1.38383124e-11, 1.00000000e+00],\n",
              "         [6.55251894e-13, 1.38383124e-11, 1.00000000e+00],\n",
              "         [6.55430625e-13, 1.38433015e-11, 1.00000000e+00]],\n",
              "\n",
              "        [[6.55251894e-13, 1.38383124e-11, 1.00000000e+00],\n",
              "         [6.55251894e-13, 1.38383124e-11, 1.00000000e+00],\n",
              "         [6.55251894e-13, 1.38383124e-11, 1.00000000e+00],\n",
              "         ...,\n",
              "         [6.55251894e-13, 1.38383124e-11, 1.00000000e+00],\n",
              "         [6.55251894e-13, 1.38383124e-11, 1.00000000e+00],\n",
              "         [6.55251894e-13, 1.38383124e-11, 1.00000000e+00]],\n",
              "\n",
              "        [[6.55251894e-13, 1.38383124e-11, 1.00000000e+00],\n",
              "         [6.55251894e-13, 1.38383124e-11, 1.00000000e+00],\n",
              "         [6.55251894e-13, 1.38383124e-11, 1.00000000e+00],\n",
              "         ...,\n",
              "         [6.55251894e-13, 1.38383124e-11, 1.00000000e+00],\n",
              "         [6.55251894e-13, 1.38383124e-11, 1.00000000e+00],\n",
              "         [6.55251894e-13, 1.38383124e-11, 1.00000000e+00]],\n",
              "\n",
              "        ...,\n",
              "\n",
              "        [[6.55251894e-13, 1.38383124e-11, 1.00000000e+00],\n",
              "         [6.55251894e-13, 1.38383124e-11, 1.00000000e+00],\n",
              "         [6.55251894e-13, 1.38383124e-11, 1.00000000e+00],\n",
              "         ...,\n",
              "         [6.55251894e-13, 1.38383124e-11, 1.00000000e+00],\n",
              "         [6.55251894e-13, 1.38383124e-11, 1.00000000e+00],\n",
              "         [6.55251894e-13, 1.38383124e-11, 1.00000000e+00]],\n",
              "\n",
              "        [[6.55251894e-13, 1.38383124e-11, 1.00000000e+00],\n",
              "         [6.55251894e-13, 1.38383124e-11, 1.00000000e+00],\n",
              "         [6.55251894e-13, 1.38383124e-11, 1.00000000e+00],\n",
              "         ...,\n",
              "         [6.55251894e-13, 1.38383124e-11, 1.00000000e+00],\n",
              "         [6.55251894e-13, 1.38383124e-11, 1.00000000e+00],\n",
              "         [6.55251894e-13, 1.38383124e-11, 1.00000000e+00]],\n",
              "\n",
              "        [[6.55286860e-13, 1.38392631e-11, 1.00000000e+00],\n",
              "         [6.55251894e-13, 1.38383124e-11, 1.00000000e+00],\n",
              "         [6.55251894e-13, 1.38383124e-11, 1.00000000e+00],\n",
              "         ...,\n",
              "         [6.55251894e-13, 1.38383124e-11, 1.00000000e+00],\n",
              "         [6.55251894e-13, 1.38383124e-11, 1.00000000e+00],\n",
              "         [6.55345624e-13, 1.38409258e-11, 1.00000000e+00]]],\n",
              "\n",
              "\n",
              "       [[[6.55364380e-13, 1.38414540e-11, 1.00000000e+00],\n",
              "         [6.55251894e-13, 1.38383124e-11, 1.00000000e+00],\n",
              "         [6.55251894e-13, 1.38383124e-11, 1.00000000e+00],\n",
              "         ...,\n",
              "         [6.55251894e-13, 1.38383124e-11, 1.00000000e+00],\n",
              "         [6.55251894e-13, 1.38383124e-11, 1.00000000e+00],\n",
              "         [6.55378150e-13, 1.38418235e-11, 1.00000000e+00]],\n",
              "\n",
              "        [[6.55251894e-13, 1.38383124e-11, 1.00000000e+00],\n",
              "         [6.55251894e-13, 1.38383124e-11, 1.00000000e+00],\n",
              "         [6.55251894e-13, 1.38383124e-11, 1.00000000e+00],\n",
              "         ...,\n",
              "         [6.55251894e-13, 1.38383124e-11, 1.00000000e+00],\n",
              "         [6.55251894e-13, 1.38383124e-11, 1.00000000e+00],\n",
              "         [6.55251894e-13, 1.38383124e-11, 1.00000000e+00]],\n",
              "\n",
              "        [[6.55251894e-13, 1.38383124e-11, 1.00000000e+00],\n",
              "         [6.55251894e-13, 1.38383124e-11, 1.00000000e+00],\n",
              "         [6.55251894e-13, 1.38383124e-11, 1.00000000e+00],\n",
              "         ...,\n",
              "         [6.55251894e-13, 1.38383124e-11, 1.00000000e+00],\n",
              "         [6.55251894e-13, 1.38383124e-11, 1.00000000e+00],\n",
              "         [6.55251894e-13, 1.38383124e-11, 1.00000000e+00]],\n",
              "\n",
              "        ...,\n",
              "\n",
              "        [[6.55251894e-13, 1.38383124e-11, 1.00000000e+00],\n",
              "         [6.55251894e-13, 1.38383124e-11, 1.00000000e+00],\n",
              "         [6.55251894e-13, 1.38383124e-11, 1.00000000e+00],\n",
              "         ...,\n",
              "         [6.55251894e-13, 1.38383124e-11, 1.00000000e+00],\n",
              "         [6.55251894e-13, 1.38383124e-11, 1.00000000e+00],\n",
              "         [6.55251894e-13, 1.38383124e-11, 1.00000000e+00]],\n",
              "\n",
              "        [[6.55251894e-13, 1.38383124e-11, 1.00000000e+00],\n",
              "         [6.55251894e-13, 1.38383124e-11, 1.00000000e+00],\n",
              "         [6.55251894e-13, 1.38383124e-11, 1.00000000e+00],\n",
              "         ...,\n",
              "         [6.55251894e-13, 1.38383124e-11, 1.00000000e+00],\n",
              "         [6.55251894e-13, 1.38383124e-11, 1.00000000e+00],\n",
              "         [6.55251894e-13, 1.38383124e-11, 1.00000000e+00]],\n",
              "\n",
              "        [[6.55309357e-13, 1.38398962e-11, 1.00000000e+00],\n",
              "         [6.55251894e-13, 1.38383124e-11, 1.00000000e+00],\n",
              "         [6.55251894e-13, 1.38383124e-11, 1.00000000e+00],\n",
              "         ...,\n",
              "         [6.55251894e-13, 1.38383124e-11, 1.00000000e+00],\n",
              "         [6.55251894e-13, 1.38383124e-11, 1.00000000e+00],\n",
              "         [6.55333155e-13, 1.38405563e-11, 1.00000000e+00]]],\n",
              "\n",
              "\n",
              "       [[[6.55396852e-13, 1.38423509e-11, 1.00000000e+00],\n",
              "         [6.55251894e-13, 1.38383124e-11, 1.00000000e+00],\n",
              "         [6.55251894e-13, 1.38383124e-11, 1.00000000e+00],\n",
              "         ...,\n",
              "         [6.55251894e-13, 1.38383124e-11, 1.00000000e+00],\n",
              "         [6.55251894e-13, 1.38383124e-11, 1.00000000e+00],\n",
              "         [6.55421897e-13, 1.38430387e-11, 1.00000000e+00]],\n",
              "\n",
              "        [[6.55251894e-13, 1.38383124e-11, 1.00000000e+00],\n",
              "         [6.55251894e-13, 1.38383124e-11, 1.00000000e+00],\n",
              "         [6.55251894e-13, 1.38383124e-11, 1.00000000e+00],\n",
              "         ...,\n",
              "         [6.55251894e-13, 1.38383124e-11, 1.00000000e+00],\n",
              "         [6.55251894e-13, 1.38383124e-11, 1.00000000e+00],\n",
              "         [6.55251894e-13, 1.38383124e-11, 1.00000000e+00]],\n",
              "\n",
              "        [[6.55251894e-13, 1.38383124e-11, 1.00000000e+00],\n",
              "         [6.55251894e-13, 1.38383124e-11, 1.00000000e+00],\n",
              "         [6.55251894e-13, 1.38383124e-11, 1.00000000e+00],\n",
              "         ...,\n",
              "         [6.55251894e-13, 1.38383124e-11, 1.00000000e+00],\n",
              "         [6.55251894e-13, 1.38383124e-11, 1.00000000e+00],\n",
              "         [6.55251894e-13, 1.38383124e-11, 1.00000000e+00]],\n",
              "\n",
              "        ...,\n",
              "\n",
              "        [[6.55251894e-13, 1.38383124e-11, 1.00000000e+00],\n",
              "         [6.55251894e-13, 1.38383124e-11, 1.00000000e+00],\n",
              "         [6.55251894e-13, 1.38383124e-11, 1.00000000e+00],\n",
              "         ...,\n",
              "         [6.55251894e-13, 1.38383124e-11, 1.00000000e+00],\n",
              "         [6.55251894e-13, 1.38383124e-11, 1.00000000e+00],\n",
              "         [6.55251894e-13, 1.38383124e-11, 1.00000000e+00]],\n",
              "\n",
              "        [[6.55251894e-13, 1.38383124e-11, 1.00000000e+00],\n",
              "         [6.55251894e-13, 1.38383124e-11, 1.00000000e+00],\n",
              "         [6.55251894e-13, 1.38383124e-11, 1.00000000e+00],\n",
              "         ...,\n",
              "         [6.55251894e-13, 1.38383124e-11, 1.00000000e+00],\n",
              "         [6.55251894e-13, 1.38383124e-11, 1.00000000e+00],\n",
              "         [6.55251894e-13, 1.38383124e-11, 1.00000000e+00]],\n",
              "\n",
              "        [[6.55391865e-13, 1.38422190e-11, 1.00000000e+00],\n",
              "         [6.55251894e-13, 1.38383124e-11, 1.00000000e+00],\n",
              "         [6.55251894e-13, 1.38383124e-11, 1.00000000e+00],\n",
              "         ...,\n",
              "         [6.55251894e-13, 1.38383124e-11, 1.00000000e+00],\n",
              "         [6.55251894e-13, 1.38383124e-11, 1.00000000e+00],\n",
              "         [6.55358146e-13, 1.38412693e-11, 1.00000000e+00]]],\n",
              "\n",
              "\n",
              "       ...,\n",
              "\n",
              "\n",
              "       [[[6.55366874e-13, 1.38415069e-11, 1.00000000e+00],\n",
              "         [6.55251894e-13, 1.38383124e-11, 1.00000000e+00],\n",
              "         [6.55251894e-13, 1.38383124e-11, 1.00000000e+00],\n",
              "         ...,\n",
              "         [6.55251894e-13, 1.38383124e-11, 1.00000000e+00],\n",
              "         [6.55251894e-13, 1.38383124e-11, 1.00000000e+00],\n",
              "         [6.55286860e-13, 1.38392891e-11, 1.00000000e+00]],\n",
              "\n",
              "        [[6.55251894e-13, 1.38383124e-11, 1.00000000e+00],\n",
              "         [6.55251894e-13, 1.38383124e-11, 1.00000000e+00],\n",
              "         [6.55251894e-13, 1.38383124e-11, 1.00000000e+00],\n",
              "         ...,\n",
              "         [6.55251894e-13, 1.38383124e-11, 1.00000000e+00],\n",
              "         [6.55251894e-13, 1.38383124e-11, 1.00000000e+00],\n",
              "         [6.55251894e-13, 1.38383124e-11, 1.00000000e+00]],\n",
              "\n",
              "        [[6.55251894e-13, 1.38383124e-11, 1.00000000e+00],\n",
              "         [6.55251894e-13, 1.38383124e-11, 1.00000000e+00],\n",
              "         [6.55251894e-13, 1.38383124e-11, 1.00000000e+00],\n",
              "         ...,\n",
              "         [6.55251894e-13, 1.38383124e-11, 1.00000000e+00],\n",
              "         [6.55251894e-13, 1.38383124e-11, 1.00000000e+00],\n",
              "         [6.55251894e-13, 1.38383124e-11, 1.00000000e+00]],\n",
              "\n",
              "        ...,\n",
              "\n",
              "        [[6.55251894e-13, 1.38383124e-11, 1.00000000e+00],\n",
              "         [6.55251894e-13, 1.38383124e-11, 1.00000000e+00],\n",
              "         [6.55251894e-13, 1.38383124e-11, 1.00000000e+00],\n",
              "         ...,\n",
              "         [6.55251894e-13, 1.38383124e-11, 1.00000000e+00],\n",
              "         [6.55251894e-13, 1.38383124e-11, 1.00000000e+00],\n",
              "         [6.55251894e-13, 1.38383124e-11, 1.00000000e+00]],\n",
              "\n",
              "        [[6.55251894e-13, 1.38383124e-11, 1.00000000e+00],\n",
              "         [6.55251894e-13, 1.38383124e-11, 1.00000000e+00],\n",
              "         [6.55251894e-13, 1.38383124e-11, 1.00000000e+00],\n",
              "         ...,\n",
              "         [6.55251894e-13, 1.38383124e-11, 1.00000000e+00],\n",
              "         [6.55251894e-13, 1.38383124e-11, 1.00000000e+00],\n",
              "         [6.55251894e-13, 1.38383124e-11, 1.00000000e+00]],\n",
              "\n",
              "        [[6.55275638e-13, 1.38389725e-11, 1.00000000e+00],\n",
              "         [6.55251894e-13, 1.38383124e-11, 1.00000000e+00],\n",
              "         [6.55251894e-13, 1.38383124e-11, 1.00000000e+00],\n",
              "         ...,\n",
              "         [6.55251894e-13, 1.38383124e-11, 1.00000000e+00],\n",
              "         [6.55251894e-13, 1.38383124e-11, 1.00000000e+00],\n",
              "         [6.55366874e-13, 1.38415069e-11, 1.00000000e+00]]],\n",
              "\n",
              "\n",
              "       [[[6.55290600e-13, 1.38393949e-11, 1.00000000e+00],\n",
              "         [6.55251894e-13, 1.38383124e-11, 1.00000000e+00],\n",
              "         [6.55251894e-13, 1.38383124e-11, 1.00000000e+00],\n",
              "         ...,\n",
              "         [6.55251894e-13, 1.38383124e-11, 1.00000000e+00],\n",
              "         [6.55251894e-13, 1.38383124e-11, 1.00000000e+00],\n",
              "         [6.55411868e-13, 1.38427741e-11, 1.00000000e+00]],\n",
              "\n",
              "        [[6.55251894e-13, 1.38383124e-11, 1.00000000e+00],\n",
              "         [6.55251894e-13, 1.38383124e-11, 1.00000000e+00],\n",
              "         [6.55251894e-13, 1.38383124e-11, 1.00000000e+00],\n",
              "         ...,\n",
              "         [6.55251894e-13, 1.38383124e-11, 1.00000000e+00],\n",
              "         [6.55251894e-13, 1.38383124e-11, 1.00000000e+00],\n",
              "         [6.55251894e-13, 1.38383124e-11, 1.00000000e+00]],\n",
              "\n",
              "        [[6.55251894e-13, 1.38383124e-11, 1.00000000e+00],\n",
              "         [6.55251894e-13, 1.38383124e-11, 1.00000000e+00],\n",
              "         [6.55251894e-13, 1.38383124e-11, 1.00000000e+00],\n",
              "         ...,\n",
              "         [6.55251894e-13, 1.38383124e-11, 1.00000000e+00],\n",
              "         [6.55251894e-13, 1.38383124e-11, 1.00000000e+00],\n",
              "         [6.55251894e-13, 1.38383124e-11, 1.00000000e+00]],\n",
              "\n",
              "        ...,\n",
              "\n",
              "        [[6.55251894e-13, 1.38383124e-11, 1.00000000e+00],\n",
              "         [6.55251894e-13, 1.38383124e-11, 1.00000000e+00],\n",
              "         [6.55251894e-13, 1.38383124e-11, 1.00000000e+00],\n",
              "         ...,\n",
              "         [6.55251894e-13, 1.38383124e-11, 1.00000000e+00],\n",
              "         [6.55251894e-13, 1.38383124e-11, 1.00000000e+00],\n",
              "         [6.55251894e-13, 1.38383124e-11, 1.00000000e+00]],\n",
              "\n",
              "        [[6.55251894e-13, 1.38383124e-11, 1.00000000e+00],\n",
              "         [6.55251894e-13, 1.38383124e-11, 1.00000000e+00],\n",
              "         [6.55251894e-13, 1.38383124e-11, 1.00000000e+00],\n",
              "         ...,\n",
              "         [6.55251894e-13, 1.38383124e-11, 1.00000000e+00],\n",
              "         [6.55251894e-13, 1.38383124e-11, 1.00000000e+00],\n",
              "         [6.55251894e-13, 1.38383124e-11, 1.00000000e+00]],\n",
              "\n",
              "        [[6.55345624e-13, 1.38409258e-11, 1.00000000e+00],\n",
              "         [6.55251894e-13, 1.38383124e-11, 1.00000000e+00],\n",
              "         [6.55251894e-13, 1.38383124e-11, 1.00000000e+00],\n",
              "         ...,\n",
              "         [6.55251894e-13, 1.38383124e-11, 1.00000000e+00],\n",
              "         [6.55251894e-13, 1.38383124e-11, 1.00000000e+00],\n",
              "         [6.55380643e-13, 1.38418764e-11, 1.00000000e+00]]],\n",
              "\n",
              "\n",
              "       [[[6.55394359e-13, 1.38422980e-11, 1.00000000e+00],\n",
              "         [6.55251894e-13, 1.38383124e-11, 1.00000000e+00],\n",
              "         [6.55251894e-13, 1.38383124e-11, 1.00000000e+00],\n",
              "         ...,\n",
              "         [6.55251894e-13, 1.38383124e-11, 1.00000000e+00],\n",
              "         [6.55251894e-13, 1.38383124e-11, 1.00000000e+00],\n",
              "         [6.55258129e-13, 1.38384703e-11, 1.00000000e+00]],\n",
              "\n",
              "        [[6.55251894e-13, 1.38383124e-11, 1.00000000e+00],\n",
              "         [6.55251894e-13, 1.38383124e-11, 1.00000000e+00],\n",
              "         [6.55251894e-13, 1.38383124e-11, 1.00000000e+00],\n",
              "         ...,\n",
              "         [6.55251894e-13, 1.38383124e-11, 1.00000000e+00],\n",
              "         [6.55251894e-13, 1.38383124e-11, 1.00000000e+00],\n",
              "         [6.55251894e-13, 1.38383124e-11, 1.00000000e+00]],\n",
              "\n",
              "        [[6.55251894e-13, 1.38383124e-11, 1.00000000e+00],\n",
              "         [6.55251894e-13, 1.38383124e-11, 1.00000000e+00],\n",
              "         [6.55251894e-13, 1.38383124e-11, 1.00000000e+00],\n",
              "         ...,\n",
              "         [6.55251894e-13, 1.38383124e-11, 1.00000000e+00],\n",
              "         [6.55251894e-13, 1.38383124e-11, 1.00000000e+00],\n",
              "         [6.55251894e-13, 1.38383124e-11, 1.00000000e+00]],\n",
              "\n",
              "        ...,\n",
              "\n",
              "        [[6.55251894e-13, 1.38383124e-11, 1.00000000e+00],\n",
              "         [6.55251894e-13, 1.38383124e-11, 1.00000000e+00],\n",
              "         [6.55251894e-13, 1.38383124e-11, 1.00000000e+00],\n",
              "         ...,\n",
              "         [6.55251894e-13, 1.38383124e-11, 1.00000000e+00],\n",
              "         [6.55251894e-13, 1.38383124e-11, 1.00000000e+00],\n",
              "         [6.55251894e-13, 1.38383124e-11, 1.00000000e+00]],\n",
              "\n",
              "        [[6.55251894e-13, 1.38383124e-11, 1.00000000e+00],\n",
              "         [6.55251894e-13, 1.38383124e-11, 1.00000000e+00],\n",
              "         [6.55251894e-13, 1.38383124e-11, 1.00000000e+00],\n",
              "         ...,\n",
              "         [6.55251894e-13, 1.38383124e-11, 1.00000000e+00],\n",
              "         [6.55251894e-13, 1.38383124e-11, 1.00000000e+00],\n",
              "         [6.55251894e-13, 1.38383124e-11, 1.00000000e+00]],\n",
              "\n",
              "        [[6.55258129e-13, 1.38384703e-11, 1.00000000e+00],\n",
              "         [6.55251894e-13, 1.38383124e-11, 1.00000000e+00],\n",
              "         [6.55251894e-13, 1.38383124e-11, 1.00000000e+00],\n",
              "         ...,\n",
              "         [6.55251894e-13, 1.38383124e-11, 1.00000000e+00],\n",
              "         [6.55251894e-13, 1.38383124e-11, 1.00000000e+00],\n",
              "         [6.55261869e-13, 1.38386030e-11, 1.00000000e+00]]]],\n",
              "      dtype=float32)"
            ]
          },
          "metadata": {},
          "execution_count": 141
        }
      ],
      "source": [
        "var1 = autoencoder.predict(k)\n",
        "var1"
      ]
    },
    {
      "cell_type": "code",
      "execution_count": 142,
      "metadata": {
        "id": "Syxh63DxQ4ul",
        "colab": {
          "base_uri": "https://localhost:8080/"
        },
        "outputId": "b6ba592a-98bb-43bb-f6fa-f89205717c0c"
      },
      "outputs": [
        {
          "output_type": "execute_result",
          "data": {
            "text/plain": [
              "1.0"
            ]
          },
          "metadata": {},
          "execution_count": 142
        }
      ],
      "source": [
        "var2 = np.random.randn(var1.shape[0],var1.shape[1],var1.shape[2],1)\n",
        "for i in range(var1.shape[0]):\n",
        "  for j in range(var1.shape[1]):\n",
        "    for k in range(var1.shape[2]):\n",
        "      max = -100\n",
        "      index = 1\n",
        "      for a in range(var1.shape[3]):\n",
        "        if (var1[i,j,k,a] > max):\n",
        "          max = var1[i,j,k,a]\n",
        "          index = a\n",
        "      var2[i,j,k,0] = index-1\n",
        "np.min(var2)"
      ]
    },
    {
      "cell_type": "code",
      "execution_count": 143,
      "metadata": {
        "id": "BmHcepOaSXjE",
        "colab": {
          "base_uri": "https://localhost:8080/"
        },
        "outputId": "8785ece0-2df9-4d4c-b0b7-560701b92aa8"
      },
      "outputs": [
        {
          "output_type": "execute_result",
          "data": {
            "text/plain": [
              "array([[[[1.],\n",
              "         [1.],\n",
              "         [1.],\n",
              "         ...,\n",
              "         [1.],\n",
              "         [1.],\n",
              "         [1.]],\n",
              "\n",
              "        [[1.],\n",
              "         [1.],\n",
              "         [1.],\n",
              "         ...,\n",
              "         [1.],\n",
              "         [1.],\n",
              "         [1.]],\n",
              "\n",
              "        [[1.],\n",
              "         [1.],\n",
              "         [1.],\n",
              "         ...,\n",
              "         [1.],\n",
              "         [1.],\n",
              "         [1.]],\n",
              "\n",
              "        ...,\n",
              "\n",
              "        [[1.],\n",
              "         [1.],\n",
              "         [1.],\n",
              "         ...,\n",
              "         [1.],\n",
              "         [1.],\n",
              "         [1.]],\n",
              "\n",
              "        [[1.],\n",
              "         [1.],\n",
              "         [1.],\n",
              "         ...,\n",
              "         [1.],\n",
              "         [1.],\n",
              "         [1.]],\n",
              "\n",
              "        [[1.],\n",
              "         [1.],\n",
              "         [1.],\n",
              "         ...,\n",
              "         [1.],\n",
              "         [1.],\n",
              "         [1.]]],\n",
              "\n",
              "\n",
              "       [[[1.],\n",
              "         [1.],\n",
              "         [1.],\n",
              "         ...,\n",
              "         [1.],\n",
              "         [1.],\n",
              "         [1.]],\n",
              "\n",
              "        [[1.],\n",
              "         [1.],\n",
              "         [1.],\n",
              "         ...,\n",
              "         [1.],\n",
              "         [1.],\n",
              "         [1.]],\n",
              "\n",
              "        [[1.],\n",
              "         [1.],\n",
              "         [1.],\n",
              "         ...,\n",
              "         [1.],\n",
              "         [1.],\n",
              "         [1.]],\n",
              "\n",
              "        ...,\n",
              "\n",
              "        [[1.],\n",
              "         [1.],\n",
              "         [1.],\n",
              "         ...,\n",
              "         [1.],\n",
              "         [1.],\n",
              "         [1.]],\n",
              "\n",
              "        [[1.],\n",
              "         [1.],\n",
              "         [1.],\n",
              "         ...,\n",
              "         [1.],\n",
              "         [1.],\n",
              "         [1.]],\n",
              "\n",
              "        [[1.],\n",
              "         [1.],\n",
              "         [1.],\n",
              "         ...,\n",
              "         [1.],\n",
              "         [1.],\n",
              "         [1.]]],\n",
              "\n",
              "\n",
              "       [[[1.],\n",
              "         [1.],\n",
              "         [1.],\n",
              "         ...,\n",
              "         [1.],\n",
              "         [1.],\n",
              "         [1.]],\n",
              "\n",
              "        [[1.],\n",
              "         [1.],\n",
              "         [1.],\n",
              "         ...,\n",
              "         [1.],\n",
              "         [1.],\n",
              "         [1.]],\n",
              "\n",
              "        [[1.],\n",
              "         [1.],\n",
              "         [1.],\n",
              "         ...,\n",
              "         [1.],\n",
              "         [1.],\n",
              "         [1.]],\n",
              "\n",
              "        ...,\n",
              "\n",
              "        [[1.],\n",
              "         [1.],\n",
              "         [1.],\n",
              "         ...,\n",
              "         [1.],\n",
              "         [1.],\n",
              "         [1.]],\n",
              "\n",
              "        [[1.],\n",
              "         [1.],\n",
              "         [1.],\n",
              "         ...,\n",
              "         [1.],\n",
              "         [1.],\n",
              "         [1.]],\n",
              "\n",
              "        [[1.],\n",
              "         [1.],\n",
              "         [1.],\n",
              "         ...,\n",
              "         [1.],\n",
              "         [1.],\n",
              "         [1.]]],\n",
              "\n",
              "\n",
              "       ...,\n",
              "\n",
              "\n",
              "       [[[1.],\n",
              "         [1.],\n",
              "         [1.],\n",
              "         ...,\n",
              "         [1.],\n",
              "         [1.],\n",
              "         [1.]],\n",
              "\n",
              "        [[1.],\n",
              "         [1.],\n",
              "         [1.],\n",
              "         ...,\n",
              "         [1.],\n",
              "         [1.],\n",
              "         [1.]],\n",
              "\n",
              "        [[1.],\n",
              "         [1.],\n",
              "         [1.],\n",
              "         ...,\n",
              "         [1.],\n",
              "         [1.],\n",
              "         [1.]],\n",
              "\n",
              "        ...,\n",
              "\n",
              "        [[1.],\n",
              "         [1.],\n",
              "         [1.],\n",
              "         ...,\n",
              "         [1.],\n",
              "         [1.],\n",
              "         [1.]],\n",
              "\n",
              "        [[1.],\n",
              "         [1.],\n",
              "         [1.],\n",
              "         ...,\n",
              "         [1.],\n",
              "         [1.],\n",
              "         [1.]],\n",
              "\n",
              "        [[1.],\n",
              "         [1.],\n",
              "         [1.],\n",
              "         ...,\n",
              "         [1.],\n",
              "         [1.],\n",
              "         [1.]]],\n",
              "\n",
              "\n",
              "       [[[1.],\n",
              "         [1.],\n",
              "         [1.],\n",
              "         ...,\n",
              "         [1.],\n",
              "         [1.],\n",
              "         [1.]],\n",
              "\n",
              "        [[1.],\n",
              "         [1.],\n",
              "         [1.],\n",
              "         ...,\n",
              "         [1.],\n",
              "         [1.],\n",
              "         [1.]],\n",
              "\n",
              "        [[1.],\n",
              "         [1.],\n",
              "         [1.],\n",
              "         ...,\n",
              "         [1.],\n",
              "         [1.],\n",
              "         [1.]],\n",
              "\n",
              "        ...,\n",
              "\n",
              "        [[1.],\n",
              "         [1.],\n",
              "         [1.],\n",
              "         ...,\n",
              "         [1.],\n",
              "         [1.],\n",
              "         [1.]],\n",
              "\n",
              "        [[1.],\n",
              "         [1.],\n",
              "         [1.],\n",
              "         ...,\n",
              "         [1.],\n",
              "         [1.],\n",
              "         [1.]],\n",
              "\n",
              "        [[1.],\n",
              "         [1.],\n",
              "         [1.],\n",
              "         ...,\n",
              "         [1.],\n",
              "         [1.],\n",
              "         [1.]]],\n",
              "\n",
              "\n",
              "       [[[1.],\n",
              "         [1.],\n",
              "         [1.],\n",
              "         ...,\n",
              "         [1.],\n",
              "         [1.],\n",
              "         [1.]],\n",
              "\n",
              "        [[1.],\n",
              "         [1.],\n",
              "         [1.],\n",
              "         ...,\n",
              "         [1.],\n",
              "         [1.],\n",
              "         [1.]],\n",
              "\n",
              "        [[1.],\n",
              "         [1.],\n",
              "         [1.],\n",
              "         ...,\n",
              "         [1.],\n",
              "         [1.],\n",
              "         [1.]],\n",
              "\n",
              "        ...,\n",
              "\n",
              "        [[1.],\n",
              "         [1.],\n",
              "         [1.],\n",
              "         ...,\n",
              "         [1.],\n",
              "         [1.],\n",
              "         [1.]],\n",
              "\n",
              "        [[1.],\n",
              "         [1.],\n",
              "         [1.],\n",
              "         ...,\n",
              "         [1.],\n",
              "         [1.],\n",
              "         [1.]],\n",
              "\n",
              "        [[1.],\n",
              "         [1.],\n",
              "         [1.],\n",
              "         ...,\n",
              "         [1.],\n",
              "         [1.],\n",
              "         [1.]]]])"
            ]
          },
          "metadata": {},
          "execution_count": 143
        }
      ],
      "source": [
        "var2       \n"
      ]
    },
    {
      "cell_type": "code",
      "execution_count": 144,
      "metadata": {
        "id": "GhdJDdPMR7QT",
        "colab": {
          "base_uri": "https://localhost:8080/"
        },
        "outputId": "e6892643-2ec2-44ec-c1f3-c89257946561"
      },
      "outputs": [
        {
          "output_type": "execute_result",
          "data": {
            "text/plain": [
              "TensorShape([13200, 32, 32, 1])"
            ]
          },
          "metadata": {},
          "execution_count": 144
        }
      ],
      "source": [
        "labels.shape"
      ]
    },
    {
      "cell_type": "code",
      "execution_count": 145,
      "metadata": {
        "id": "sTPN7PfVTG_A",
        "colab": {
          "base_uri": "https://localhost:8080/"
        },
        "outputId": "bf3dff89-a7af-4a88-96f9-990638c74c2b"
      },
      "outputs": [
        {
          "output_type": "execute_result",
          "data": {
            "text/plain": [
              "(13200, 32, 32, 1)"
            ]
          },
          "metadata": {},
          "execution_count": 145
        }
      ],
      "source": [
        "np.reshape(var2, (13200,32,32,1))\n",
        "var2.shape"
      ]
    },
    {
      "cell_type": "code",
      "execution_count": 146,
      "metadata": {
        "id": "T1N5vXvM9zip",
        "colab": {
          "base_uri": "https://localhost:8080/",
          "height": 285
        },
        "outputId": "3a798e71-b913-487d-ef43-68a47e865a19"
      },
      "outputs": [
        {
          "output_type": "execute_result",
          "data": {
            "text/plain": [
              "<matplotlib.image.AxesImage at 0x7fe1888bd650>"
            ]
          },
          "metadata": {},
          "execution_count": 146
        },
        {
          "output_type": "display_data",
          "data": {
            "text/plain": [
              "<Figure size 432x288 with 2 Axes>"
            ],
            "image/png": "[encoded data removed]"
          },
          "metadata": {
            "needs_background": "light"
          }
        }
      ],
      "source": [
        "fig1, ax1 = plt.subplots(2,1)\n",
        "ax1[0].imshow(var2[a,:,:,0],cmap=CMAP,norm=NORM)\n",
        "ax1[1].imshow(labels[a,:,:,0],cmap=CMAP,norm=NORM)\n"
      ]
    },
    {
      "cell_type": "code",
      "execution_count": 147,
      "metadata": {
        "id": "n07itI9l6iO6",
        "colab": {
          "base_uri": "https://localhost:8080/",
          "height": 215
        },
        "outputId": "5bfc8df0-a782-4ed9-e887-b2f4bfd4aeec"
      },
      "outputs": [
        {
          "output_type": "display_data",
          "data": {
            "text/plain": [
              "<Figure size 432x288 with 20 Axes>"
            ],
            "image/png": "[encoded data removed]"
          },
          "metadata": {
            "needs_background": "light"
          }
        },
        {
          "output_type": "display_data",
          "data": {
            "text/plain": [
              "<Figure size 3200x3200 with 0 Axes>"
            ]
          },
          "metadata": {}
        }
      ],
      "source": [
        "fig_tr,ax_tr = plt.subplots(nrows = 2, ncols=10,sharex=True)\n",
        "figure(figsize=(40, 40), dpi=80)\n",
        "for i in range(10):\n",
        "  ax_tr[0][i].imshow(var2[i,:,:,b],cmap=CMAP,norm=NORM)\n",
        "  ax_tr[1][i].imshow(labels[i,:,:,b],cmap=CMAP,norm=NORM)"
      ]
    },
    {
      "cell_type": "code",
      "execution_count": 148,
      "metadata": {
        "id": "gufpMrAq4jRY",
        "colab": {
          "base_uri": "https://localhost:8080/"
        },
        "outputId": "8dd28512-6a51-4c72-e4ff-fd299a6249a7"
      },
      "outputs": [
        {
          "output_type": "stream",
          "name": "stdout",
          "text": [
            "53/53 [==============================] - 1s 9ms/step - loss: 29399.5332 - recall_6: 0.0274 - auc_6: 0.2705\n"
          ]
        }
      ],
      "source": [
        "accuracy = autoencoder.evaluate(mod_x_test, y_val_encoded, verbose=1)\n",
        "\n"
      ]
    },
    {
      "cell_type": "code",
      "execution_count": 149,
      "metadata": {
        "id": "TPqfp9535dxS"
      },
      "outputs": [],
      "source": [
        "# Here we would get the output as probablities for each category\n",
        "y_pred=autoencoder.predict(mod_x_test)"
      ]
    },
    {
      "cell_type": "code",
      "execution_count": 150,
      "metadata": {
        "id": "mK1xrsPQKBMP",
        "colab": {
          "base_uri": "https://localhost:8080/"
        },
        "outputId": "023f0ec5-b192-465c-ad9f-9f02c5a1345f"
      },
      "outputs": [
        {
          "output_type": "execute_result",
          "data": {
            "text/plain": [
              "array([[[[6.55366874e-13, 1.38415069e-11, 1.00000000e+00],\n",
              "         [6.55251894e-13, 1.38383124e-11, 1.00000000e+00],\n",
              "         [6.55251894e-13, 1.38383124e-11, 1.00000000e+00],\n",
              "         ...,\n",
              "         [6.55251894e-13, 1.38383124e-11, 1.00000000e+00],\n",
              "         [6.55251894e-13, 1.38383124e-11, 1.00000000e+00],\n",
              "         [6.55430625e-13, 1.38433015e-11, 1.00000000e+00]],\n",
              "\n",
              "        [[6.55251894e-13, 1.38383124e-11, 1.00000000e+00],\n",
              "         [6.55251894e-13, 1.38383124e-11, 1.00000000e+00],\n",
              "         [6.55251894e-13, 1.38383124e-11, 1.00000000e+00],\n",
              "         ...,\n",
              "         [6.55251894e-13, 1.38383124e-11, 1.00000000e+00],\n",
              "         [6.55251894e-13, 1.38383124e-11, 1.00000000e+00],\n",
              "         [6.55251894e-13, 1.38383124e-11, 1.00000000e+00]],\n",
              "\n",
              "        [[6.55251894e-13, 1.38383124e-11, 1.00000000e+00],\n",
              "         [6.55251894e-13, 1.38383124e-11, 1.00000000e+00],\n",
              "         [6.55251894e-13, 1.38383124e-11, 1.00000000e+00],\n",
              "         ...,\n",
              "         [6.55251894e-13, 1.38383124e-11, 1.00000000e+00],\n",
              "         [6.55251894e-13, 1.38383124e-11, 1.00000000e+00],\n",
              "         [6.55251894e-13, 1.38383124e-11, 1.00000000e+00]],\n",
              "\n",
              "        ...,\n",
              "\n",
              "        [[6.55251894e-13, 1.38383124e-11, 1.00000000e+00],\n",
              "         [6.55251894e-13, 1.38383124e-11, 1.00000000e+00],\n",
              "         [6.55251894e-13, 1.38383124e-11, 1.00000000e+00],\n",
              "         ...,\n",
              "         [6.55251894e-13, 1.38383124e-11, 1.00000000e+00],\n",
              "         [6.55251894e-13, 1.38383124e-11, 1.00000000e+00],\n",
              "         [6.55251894e-13, 1.38383124e-11, 1.00000000e+00]],\n",
              "\n",
              "        [[6.55251894e-13, 1.38383124e-11, 1.00000000e+00],\n",
              "         [6.55251894e-13, 1.38383124e-11, 1.00000000e+00],\n",
              "         [6.55251894e-13, 1.38383124e-11, 1.00000000e+00],\n",
              "         ...,\n",
              "         [6.55251894e-13, 1.38383124e-11, 1.00000000e+00],\n",
              "         [6.55251894e-13, 1.38383124e-11, 1.00000000e+00],\n",
              "         [6.55251894e-13, 1.38383124e-11, 1.00000000e+00]],\n",
              "\n",
              "        [[6.55286860e-13, 1.38392631e-11, 1.00000000e+00],\n",
              "         [6.55251894e-13, 1.38383124e-11, 1.00000000e+00],\n",
              "         [6.55251894e-13, 1.38383124e-11, 1.00000000e+00],\n",
              "         ...,\n",
              "         [6.55251894e-13, 1.38383124e-11, 1.00000000e+00],\n",
              "         [6.55251894e-13, 1.38383124e-11, 1.00000000e+00],\n",
              "         [6.55345624e-13, 1.38409258e-11, 1.00000000e+00]]],\n",
              "\n",
              "\n",
              "       [[[6.55364380e-13, 1.38414540e-11, 1.00000000e+00],\n",
              "         [6.55251894e-13, 1.38383124e-11, 1.00000000e+00],\n",
              "         [6.55251894e-13, 1.38383124e-11, 1.00000000e+00],\n",
              "         ...,\n",
              "         [6.55251894e-13, 1.38383124e-11, 1.00000000e+00],\n",
              "         [6.55251894e-13, 1.38383124e-11, 1.00000000e+00],\n",
              "         [6.55378150e-13, 1.38418235e-11, 1.00000000e+00]],\n",
              "\n",
              "        [[6.55251894e-13, 1.38383124e-11, 1.00000000e+00],\n",
              "         [6.55251894e-13, 1.38383124e-11, 1.00000000e+00],\n",
              "         [6.55251894e-13, 1.38383124e-11, 1.00000000e+00],\n",
              "         ...,\n",
              "         [6.55251894e-13, 1.38383124e-11, 1.00000000e+00],\n",
              "         [6.55251894e-13, 1.38383124e-11, 1.00000000e+00],\n",
              "         [6.55251894e-13, 1.38383124e-11, 1.00000000e+00]],\n",
              "\n",
              "        [[6.55251894e-13, 1.38383124e-11, 1.00000000e+00],\n",
              "         [6.55251894e-13, 1.38383124e-11, 1.00000000e+00],\n",
              "         [6.55251894e-13, 1.38383124e-11, 1.00000000e+00],\n",
              "         ...,\n",
              "         [6.55251894e-13, 1.38383124e-11, 1.00000000e+00],\n",
              "         [6.55251894e-13, 1.38383124e-11, 1.00000000e+00],\n",
              "         [6.55251894e-13, 1.38383124e-11, 1.00000000e+00]],\n",
              "\n",
              "        ...,\n",
              "\n",
              "        [[6.55251894e-13, 1.38383124e-11, 1.00000000e+00],\n",
              "         [6.55251894e-13, 1.38383124e-11, 1.00000000e+00],\n",
              "         [6.55251894e-13, 1.38383124e-11, 1.00000000e+00],\n",
              "         ...,\n",
              "         [6.55251894e-13, 1.38383124e-11, 1.00000000e+00],\n",
              "         [6.55251894e-13, 1.38383124e-11, 1.00000000e+00],\n",
              "         [6.55251894e-13, 1.38383124e-11, 1.00000000e+00]],\n",
              "\n",
              "        [[6.55251894e-13, 1.38383124e-11, 1.00000000e+00],\n",
              "         [6.55251894e-13, 1.38383124e-11, 1.00000000e+00],\n",
              "         [6.55251894e-13, 1.38383124e-11, 1.00000000e+00],\n",
              "         ...,\n",
              "         [6.55251894e-13, 1.38383124e-11, 1.00000000e+00],\n",
              "         [6.55251894e-13, 1.38383124e-11, 1.00000000e+00],\n",
              "         [6.55251894e-13, 1.38383124e-11, 1.00000000e+00]],\n",
              "\n",
              "        [[6.55309357e-13, 1.38398962e-11, 1.00000000e+00],\n",
              "         [6.55251894e-13, 1.38383124e-11, 1.00000000e+00],\n",
              "         [6.55251894e-13, 1.38383124e-11, 1.00000000e+00],\n",
              "         ...,\n",
              "         [6.55251894e-13, 1.38383124e-11, 1.00000000e+00],\n",
              "         [6.55251894e-13, 1.38383124e-11, 1.00000000e+00],\n",
              "         [6.55333155e-13, 1.38405563e-11, 1.00000000e+00]]],\n",
              "\n",
              "\n",
              "       [[[6.55396852e-13, 1.38423509e-11, 1.00000000e+00],\n",
              "         [6.55251894e-13, 1.38383124e-11, 1.00000000e+00],\n",
              "         [6.55251894e-13, 1.38383124e-11, 1.00000000e+00],\n",
              "         ...,\n",
              "         [6.55251894e-13, 1.38383124e-11, 1.00000000e+00],\n",
              "         [6.55251894e-13, 1.38383124e-11, 1.00000000e+00],\n",
              "         [6.55421897e-13, 1.38430387e-11, 1.00000000e+00]],\n",
              "\n",
              "        [[6.55251894e-13, 1.38383124e-11, 1.00000000e+00],\n",
              "         [6.55251894e-13, 1.38383124e-11, 1.00000000e+00],\n",
              "         [6.55251894e-13, 1.38383124e-11, 1.00000000e+00],\n",
              "         ...,\n",
              "         [6.55251894e-13, 1.38383124e-11, 1.00000000e+00],\n",
              "         [6.55251894e-13, 1.38383124e-11, 1.00000000e+00],\n",
              "         [6.55251894e-13, 1.38383124e-11, 1.00000000e+00]],\n",
              "\n",
              "        [[6.55251894e-13, 1.38383124e-11, 1.00000000e+00],\n",
              "         [6.55251894e-13, 1.38383124e-11, 1.00000000e+00],\n",
              "         [6.55251894e-13, 1.38383124e-11, 1.00000000e+00],\n",
              "         ...,\n",
              "         [6.55251894e-13, 1.38383124e-11, 1.00000000e+00],\n",
              "         [6.55251894e-13, 1.38383124e-11, 1.00000000e+00],\n",
              "         [6.55251894e-13, 1.38383124e-11, 1.00000000e+00]],\n",
              "\n",
              "        ...,\n",
              "\n",
              "        [[6.55251894e-13, 1.38383124e-11, 1.00000000e+00],\n",
              "         [6.55251894e-13, 1.38383124e-11, 1.00000000e+00],\n",
              "         [6.55251894e-13, 1.38383124e-11, 1.00000000e+00],\n",
              "         ...,\n",
              "         [6.55251894e-13, 1.38383124e-11, 1.00000000e+00],\n",
              "         [6.55251894e-13, 1.38383124e-11, 1.00000000e+00],\n",
              "         [6.55251894e-13, 1.38383124e-11, 1.00000000e+00]],\n",
              "\n",
              "        [[6.55251894e-13, 1.38383124e-11, 1.00000000e+00],\n",
              "         [6.55251894e-13, 1.38383124e-11, 1.00000000e+00],\n",
              "         [6.55251894e-13, 1.38383124e-11, 1.00000000e+00],\n",
              "         ...,\n",
              "         [6.55251894e-13, 1.38383124e-11, 1.00000000e+00],\n",
              "         [6.55251894e-13, 1.38383124e-11, 1.00000000e+00],\n",
              "         [6.55251894e-13, 1.38383124e-11, 1.00000000e+00]],\n",
              "\n",
              "        [[6.55391865e-13, 1.38422190e-11, 1.00000000e+00],\n",
              "         [6.55251894e-13, 1.38383124e-11, 1.00000000e+00],\n",
              "         [6.55251894e-13, 1.38383124e-11, 1.00000000e+00],\n",
              "         ...,\n",
              "         [6.55251894e-13, 1.38383124e-11, 1.00000000e+00],\n",
              "         [6.55251894e-13, 1.38383124e-11, 1.00000000e+00],\n",
              "         [6.55358146e-13, 1.38412693e-11, 1.00000000e+00]]],\n",
              "\n",
              "\n",
              "       ...,\n",
              "\n",
              "\n",
              "       [[[6.55366874e-13, 1.38415069e-11, 1.00000000e+00],\n",
              "         [6.55251894e-13, 1.38383124e-11, 1.00000000e+00],\n",
              "         [6.55251894e-13, 1.38383124e-11, 1.00000000e+00],\n",
              "         ...,\n",
              "         [6.55251894e-13, 1.38383124e-11, 1.00000000e+00],\n",
              "         [6.55251894e-13, 1.38383124e-11, 1.00000000e+00],\n",
              "         [6.55286860e-13, 1.38392891e-11, 1.00000000e+00]],\n",
              "\n",
              "        [[6.55251894e-13, 1.38383124e-11, 1.00000000e+00],\n",
              "         [6.55251894e-13, 1.38383124e-11, 1.00000000e+00],\n",
              "         [6.55251894e-13, 1.38383124e-11, 1.00000000e+00],\n",
              "         ...,\n",
              "         [6.55251894e-13, 1.38383124e-11, 1.00000000e+00],\n",
              "         [6.55251894e-13, 1.38383124e-11, 1.00000000e+00],\n",
              "         [6.55251894e-13, 1.38383124e-11, 1.00000000e+00]],\n",
              "\n",
              "        [[6.55251894e-13, 1.38383124e-11, 1.00000000e+00],\n",
              "         [6.55251894e-13, 1.38383124e-11, 1.00000000e+00],\n",
              "         [6.55251894e-13, 1.38383124e-11, 1.00000000e+00],\n",
              "         ...,\n",
              "         [6.55251894e-13, 1.38383124e-11, 1.00000000e+00],\n",
              "         [6.55251894e-13, 1.38383124e-11, 1.00000000e+00],\n",
              "         [6.55251894e-13, 1.38383124e-11, 1.00000000e+00]],\n",
              "\n",
              "        ...,\n",
              "\n",
              "        [[6.55251894e-13, 1.38383124e-11, 1.00000000e+00],\n",
              "         [6.55251894e-13, 1.38383124e-11, 1.00000000e+00],\n",
              "         [6.55251894e-13, 1.38383124e-11, 1.00000000e+00],\n",
              "         ...,\n",
              "         [6.55251894e-13, 1.38383124e-11, 1.00000000e+00],\n",
              "         [6.55251894e-13, 1.38383124e-11, 1.00000000e+00],\n",
              "         [6.55251894e-13, 1.38383124e-11, 1.00000000e+00]],\n",
              "\n",
              "        [[6.55251894e-13, 1.38383124e-11, 1.00000000e+00],\n",
              "         [6.55251894e-13, 1.38383124e-11, 1.00000000e+00],\n",
              "         [6.55251894e-13, 1.38383124e-11, 1.00000000e+00],\n",
              "         ...,\n",
              "         [6.55251894e-13, 1.38383124e-11, 1.00000000e+00],\n",
              "         [6.55251894e-13, 1.38383124e-11, 1.00000000e+00],\n",
              "         [6.55251894e-13, 1.38383124e-11, 1.00000000e+00]],\n",
              "\n",
              "        [[6.55275638e-13, 1.38389725e-11, 1.00000000e+00],\n",
              "         [6.55251894e-13, 1.38383124e-11, 1.00000000e+00],\n",
              "         [6.55251894e-13, 1.38383124e-11, 1.00000000e+00],\n",
              "         ...,\n",
              "         [6.55251894e-13, 1.38383124e-11, 1.00000000e+00],\n",
              "         [6.55251894e-13, 1.38383124e-11, 1.00000000e+00],\n",
              "         [6.55366874e-13, 1.38415069e-11, 1.00000000e+00]]],\n",
              "\n",
              "\n",
              "       [[[6.55290600e-13, 1.38393949e-11, 1.00000000e+00],\n",
              "         [6.55251894e-13, 1.38383124e-11, 1.00000000e+00],\n",
              "         [6.55251894e-13, 1.38383124e-11, 1.00000000e+00],\n",
              "         ...,\n",
              "         [6.55251894e-13, 1.38383124e-11, 1.00000000e+00],\n",
              "         [6.55251894e-13, 1.38383124e-11, 1.00000000e+00],\n",
              "         [6.55411868e-13, 1.38427741e-11, 1.00000000e+00]],\n",
              "\n",
              "        [[6.55251894e-13, 1.38383124e-11, 1.00000000e+00],\n",
              "         [6.55251894e-13, 1.38383124e-11, 1.00000000e+00],\n",
              "         [6.55251894e-13, 1.38383124e-11, 1.00000000e+00],\n",
              "         ...,\n",
              "         [6.55251894e-13, 1.38383124e-11, 1.00000000e+00],\n",
              "         [6.55251894e-13, 1.38383124e-11, 1.00000000e+00],\n",
              "         [6.55251894e-13, 1.38383124e-11, 1.00000000e+00]],\n",
              "\n",
              "        [[6.55251894e-13, 1.38383124e-11, 1.00000000e+00],\n",
              "         [6.55251894e-13, 1.38383124e-11, 1.00000000e+00],\n",
              "         [6.55251894e-13, 1.38383124e-11, 1.00000000e+00],\n",
              "         ...,\n",
              "         [6.55251894e-13, 1.38383124e-11, 1.00000000e+00],\n",
              "         [6.55251894e-13, 1.38383124e-11, 1.00000000e+00],\n",
              "         [6.55251894e-13, 1.38383124e-11, 1.00000000e+00]],\n",
              "\n",
              "        ...,\n",
              "\n",
              "        [[6.55251894e-13, 1.38383124e-11, 1.00000000e+00],\n",
              "         [6.55251894e-13, 1.38383124e-11, 1.00000000e+00],\n",
              "         [6.55251894e-13, 1.38383124e-11, 1.00000000e+00],\n",
              "         ...,\n",
              "         [6.55251894e-13, 1.38383124e-11, 1.00000000e+00],\n",
              "         [6.55251894e-13, 1.38383124e-11, 1.00000000e+00],\n",
              "         [6.55251894e-13, 1.38383124e-11, 1.00000000e+00]],\n",
              "\n",
              "        [[6.55251894e-13, 1.38383124e-11, 1.00000000e+00],\n",
              "         [6.55251894e-13, 1.38383124e-11, 1.00000000e+00],\n",
              "         [6.55251894e-13, 1.38383124e-11, 1.00000000e+00],\n",
              "         ...,\n",
              "         [6.55251894e-13, 1.38383124e-11, 1.00000000e+00],\n",
              "         [6.55251894e-13, 1.38383124e-11, 1.00000000e+00],\n",
              "         [6.55251894e-13, 1.38383124e-11, 1.00000000e+00]],\n",
              "\n",
              "        [[6.55345624e-13, 1.38409258e-11, 1.00000000e+00],\n",
              "         [6.55251894e-13, 1.38383124e-11, 1.00000000e+00],\n",
              "         [6.55251894e-13, 1.38383124e-11, 1.00000000e+00],\n",
              "         ...,\n",
              "         [6.55251894e-13, 1.38383124e-11, 1.00000000e+00],\n",
              "         [6.55251894e-13, 1.38383124e-11, 1.00000000e+00],\n",
              "         [6.55380643e-13, 1.38418764e-11, 1.00000000e+00]]],\n",
              "\n",
              "\n",
              "       [[[6.55394359e-13, 1.38422980e-11, 1.00000000e+00],\n",
              "         [6.55251894e-13, 1.38383124e-11, 1.00000000e+00],\n",
              "         [6.55251894e-13, 1.38383124e-11, 1.00000000e+00],\n",
              "         ...,\n",
              "         [6.55251894e-13, 1.38383124e-11, 1.00000000e+00],\n",
              "         [6.55251894e-13, 1.38383124e-11, 1.00000000e+00],\n",
              "         [6.55258129e-13, 1.38384703e-11, 1.00000000e+00]],\n",
              "\n",
              "        [[6.55251894e-13, 1.38383124e-11, 1.00000000e+00],\n",
              "         [6.55251894e-13, 1.38383124e-11, 1.00000000e+00],\n",
              "         [6.55251894e-13, 1.38383124e-11, 1.00000000e+00],\n",
              "         ...,\n",
              "         [6.55251894e-13, 1.38383124e-11, 1.00000000e+00],\n",
              "         [6.55251894e-13, 1.38383124e-11, 1.00000000e+00],\n",
              "         [6.55251894e-13, 1.38383124e-11, 1.00000000e+00]],\n",
              "\n",
              "        [[6.55251894e-13, 1.38383124e-11, 1.00000000e+00],\n",
              "         [6.55251894e-13, 1.38383124e-11, 1.00000000e+00],\n",
              "         [6.55251894e-13, 1.38383124e-11, 1.00000000e+00],\n",
              "         ...,\n",
              "         [6.55251894e-13, 1.38383124e-11, 1.00000000e+00],\n",
              "         [6.55251894e-13, 1.38383124e-11, 1.00000000e+00],\n",
              "         [6.55251894e-13, 1.38383124e-11, 1.00000000e+00]],\n",
              "\n",
              "        ...,\n",
              "\n",
              "        [[6.55251894e-13, 1.38383124e-11, 1.00000000e+00],\n",
              "         [6.55251894e-13, 1.38383124e-11, 1.00000000e+00],\n",
              "         [6.55251894e-13, 1.38383124e-11, 1.00000000e+00],\n",
              "         ...,\n",
              "         [6.55251894e-13, 1.38383124e-11, 1.00000000e+00],\n",
              "         [6.55251894e-13, 1.38383124e-11, 1.00000000e+00],\n",
              "         [6.55251894e-13, 1.38383124e-11, 1.00000000e+00]],\n",
              "\n",
              "        [[6.55251894e-13, 1.38383124e-11, 1.00000000e+00],\n",
              "         [6.55251894e-13, 1.38383124e-11, 1.00000000e+00],\n",
              "         [6.55251894e-13, 1.38383124e-11, 1.00000000e+00],\n",
              "         ...,\n",
              "         [6.55251894e-13, 1.38383124e-11, 1.00000000e+00],\n",
              "         [6.55251894e-13, 1.38383124e-11, 1.00000000e+00],\n",
              "         [6.55251894e-13, 1.38383124e-11, 1.00000000e+00]],\n",
              "\n",
              "        [[6.55258129e-13, 1.38384703e-11, 1.00000000e+00],\n",
              "         [6.55251894e-13, 1.38383124e-11, 1.00000000e+00],\n",
              "         [6.55251894e-13, 1.38383124e-11, 1.00000000e+00],\n",
              "         ...,\n",
              "         [6.55251894e-13, 1.38383124e-11, 1.00000000e+00],\n",
              "         [6.55251894e-13, 1.38383124e-11, 1.00000000e+00],\n",
              "         [6.55261869e-13, 1.38386030e-11, 1.00000000e+00]]]],\n",
              "      dtype=float32)"
            ]
          },
          "metadata": {},
          "execution_count": 150
        }
      ],
      "source": [
        "var1"
      ]
    },
    {
      "cell_type": "markdown",
      "metadata": {
        "id": "xhMTfxSpLnid"
      },
      "source": [
        "Confusion matrix"
      ]
    },
    {
      "cell_type": "code",
      "execution_count": 151,
      "metadata": {
        "id": "Rwvy9_6BL2Qa",
        "colab": {
          "base_uri": "https://localhost:8080/"
        },
        "outputId": "7b737231-4323-41bf-a57f-b3ef16ece7b3"
      },
      "outputs": [
        {
          "output_type": "execute_result",
          "data": {
            "text/plain": [
              "(1689, 32, 32, 3)"
            ]
          },
          "metadata": {},
          "execution_count": 151
        }
      ],
      "source": [
        "y_pred_arg=np.argmax(var1,axis=1)\n",
        "y_val_encoded.shape"
      ]
    },
    {
      "cell_type": "code",
      "execution_count": 152,
      "metadata": {
        "id": "U1iz7QCaP5su",
        "colab": {
          "base_uri": "https://localhost:8080/"
        },
        "outputId": "3dc6e228-1226-42d3-d36e-775a73c44adf"
      },
      "outputs": [
        {
          "output_type": "execute_result",
          "data": {
            "text/plain": [
              "TensorShape([1689, 32, 32, 12])"
            ]
          },
          "metadata": {},
          "execution_count": 152
        }
      ],
      "source": [
        "x_test.shape"
      ]
    },
    {
      "cell_type": "code",
      "execution_count": 153,
      "metadata": {
        "id": "jGW6s9a55h6O"
      },
      "outputs": [],
      "source": [
        "# # Plotting the Confusion Matrix using confusion matrix() function which is also predefined tensorflow module\n",
        "# # Obtaining the categorical values from y_test_encoded and y_pred\n",
        "# y_pred_arg=np.argmax(var2,axis=0)\n",
        "# y_test_arg=np.argmax(y_test,axis=0)\n",
        "\n",
        "# confusion_matrix = tf.math.confusion_matrix(var2,y_test_arg)\n",
        "# f, ax = plt.subplots(figsize=(10, 8))\n",
        "# sns.heatmap(\n",
        "#     confusion_matrix,\n",
        "#     annot=True,\n",
        "#     linewidths=.4,\n",
        "#     fmt=\"d\",\n",
        "#     square=True,\n",
        "#     ax=ax\n",
        "# )\n",
        "# plt.show()\n"
      ]
    },
    {
      "cell_type": "code",
      "execution_count": 154,
      "metadata": {
        "id": "uLqwtK3LCueL",
        "colab": {
          "base_uri": "https://localhost:8080/"
        },
        "outputId": "47ddb924-d9c7-47d6-8cd2-c3a9d8355586"
      },
      "outputs": [
        {
          "output_type": "execute_result",
          "data": {
            "text/plain": [
              "dict_keys(['loss', 'recall_6', 'auc_6', 'val_loss', 'val_recall_6', 'val_auc_6'])"
            ]
          },
          "metadata": {},
          "execution_count": 154
        }
      ],
      "source": [
        "history_1.history.keys()"
      ]
    },
    {
      "cell_type": "code",
      "execution_count": 155,
      "metadata": {
        "id": "otxTjhsG4cET",
        "colab": {
          "base_uri": "https://localhost:8080/",
          "height": 295
        },
        "outputId": "c071e377-3158-402f-ea4e-c7065440af71"
      },
      "outputs": [
        {
          "output_type": "display_data",
          "data": {
            "text/plain": [
              "<Figure size 432x288 with 1 Axes>"
            ],
            "image/png": "[encoded data removed]"
          },
          "metadata": {
            "needs_background": "light"
          }
        }
      ],
      "source": [
        "plt.plot(history_1.history['loss'])\n",
        "plt.plot(history_1.history['val_loss'])\n",
        "plt.title('Model Loss')\n",
        "plt.ylabel('Loss')\n",
        "plt.xlabel('Epoch')\n",
        "plt.legend(['Train', 'Validation'], loc='upper left')\n",
        "plt.show()\n"
      ]
    },
    {
      "cell_type": "markdown",
      "metadata": {
        "id": "4X9N-bEc6bfV"
      },
      "source": [
        "### Test Predictions"
      ]
    },
    {
      "cell_type": "code",
      "execution_count": 156,
      "metadata": {
        "id": "h7hpNiVd1ni5",
        "colab": {
          "base_uri": "https://localhost:8080/"
        },
        "outputId": "f2cfdbe5-b38e-43b6-9491-0d5d7595db34"
      },
      "outputs": [
        {
          "output_type": "stream",
          "name": "stdout",
          "text": [
            "53/53 [==============================] - 1s 9ms/step - loss: 29399.5332 - recall_6: 0.0274 - auc_6: 0.2705\n"
          ]
        },
        {
          "output_type": "execute_result",
          "data": {
            "text/plain": [
              "[29399.533203125, 0.027372080832719803, 0.2705290913581848]"
            ]
          },
          "metadata": {},
          "execution_count": 156
        }
      ],
      "source": [
        "test_123 = dataProcess(x_test)\n",
        "var2 = autoencoder.predict(test_123)\n",
        "autoencoder.evaluate(test_123,y_val_encoded,verbose=1)"
      ]
    },
    {
      "cell_type": "code",
      "execution_count": 157,
      "metadata": {
        "id": "9aUlxwWK48jX",
        "colab": {
          "base_uri": "https://localhost:8080/",
          "height": 250
        },
        "outputId": "a8581efa-08e2-4216-f871-b96215222197"
      },
      "outputs": [
        {
          "output_type": "stream",
          "name": "stdout",
          "text": [
            "MAX: 1.0\n"
          ]
        },
        {
          "output_type": "execute_result",
          "data": {
            "text/plain": [
              "(13200, 32, 32, 3)"
            ]
          },
          "metadata": {},
          "execution_count": 157
        },
        {
          "output_type": "display_data",
          "data": {
            "text/plain": [
              "<Figure size 432x288 with 20 Axes>"
            ],
            "image/png": "[encoded data removed]"
          },
          "metadata": {
            "needs_background": "light"
          }
        },
        {
          "output_type": "display_data",
          "data": {
            "text/plain": [
              "<Figure size 3200x3200 with 0 Axes>"
            ]
          },
          "metadata": {}
        }
      ],
      "source": [
        "fig,ax = plt.subplots(nrows = 2, ncols=10,sharex=True)\n",
        "figure(figsize=(40, 40), dpi=80)\n",
        "for i in range(10):\n",
        "  ax[0][i].imshow(var2[i,:,:,b],cmap=CMAP,norm=NORM)\n",
        "  ax[1][i].imshow(y_test[i,:,:,b],cmap=CMAP,norm=NORM)\n",
        "\n",
        "plt.tight_layout()\n",
        "\n",
        "max = 0\n",
        "for i in np.abs(var1):\n",
        "  if(max<np.amax(i)):\n",
        "    max = np.amax(i)\n",
        "print(\"MAX:\", max)\n",
        "var1.shape"
      ]
    },
    {
      "cell_type": "code",
      "execution_count": 158,
      "metadata": {
        "id": "WnnkhIu51PeD",
        "colab": {
          "base_uri": "https://localhost:8080/",
          "height": 283
        },
        "outputId": "f4f47630-105c-46fd-cf3e-9276c2ccd49b"
      },
      "outputs": [
        {
          "output_type": "execute_result",
          "data": {
            "text/plain": [
              "<matplotlib.image.AxesImage at 0x7fe01aa04a10>"
            ]
          },
          "metadata": {},
          "execution_count": 158
        },
        {
          "output_type": "display_data",
          "data": {
            "text/plain": [
              "<Figure size 432x288 with 1 Axes>"
            ],
            "image/png": "[encoded data removed]"
          },
          "metadata": {
            "needs_background": "light"
          }
        }
      ],
      "source": [
        "plt.imshow(labels[0,:,:,0])\n",
        "# labels[0,:,:,0]"
      ]
    },
    {
      "cell_type": "markdown",
      "metadata": {
        "id": "7LNwaycih6Uo"
      },
      "source": [
        "### Model Saving"
      ]
    },
    {
      "cell_type": "code",
      "execution_count": 159,
      "metadata": {
        "id": "HX91_Mrdh9vd",
        "colab": {
          "base_uri": "https://localhost:8080/"
        },
        "outputId": "7323ac53-4e5e-4804-b4d0-bd7026add094"
      },
      "outputs": [
        {
          "output_type": "stream",
          "name": "stdout",
          "text": [
            "INFO:tensorflow:Assets written to: ram://f1d67157-ceb1-47e2-93b9-e50d7ff0fae2/assets\n"
          ]
        },
        {
          "output_type": "stream",
          "name": "stderr",
          "text": [
            "INFO:tensorflow:Assets written to: ram://f1d67157-ceb1-47e2-93b9-e50d7ff0fae2/assets\n"
          ]
        }
      ],
      "source": [
        "import pickle\n",
        "def pickleDump(model,name):\n",
        "  with open(name,'wb') as f:\n",
        "    pickle.dump(model,f)\n",
        "def pickleLoad(name):\n",
        "  with open(name,'rb') as f:\n",
        "    m = pickle.load(f)\n",
        "  return m\n",
        "\n",
        "pickleDump(autoencoder,\"autoencoder\")"
      ]
    },
    {
      "cell_type": "markdown",
      "metadata": {
        "id": "eMtBihEVWWxV"
      },
      "source": [
        "## Do not Touch"
      ]
    },
    {
      "cell_type": "markdown",
      "metadata": {
        "id": "uQ2dZNeu6B-L"
      },
      "source": [
        "##### Regression Training"
      ]
    },
    {
      "cell_type": "code",
      "execution_count": 160,
      "metadata": {
        "id": "8_naAyAp6M6m",
        "colab": {
          "base_uri": "https://localhost:8080/"
        },
        "outputId": "25dd092f-d299-4721-d10b-a2a92a184235"
      },
      "outputs": [
        {
          "output_type": "execute_result",
          "data": {
            "text/plain": [
              "-1.0"
            ]
          },
          "metadata": {},
          "execution_count": 160
        }
      ],
      "source": [
        "labels_reg = 5 * labels\n",
        "y_test_reg = 5 * y_test\n",
        "np.min(labels1)"
      ]
    },
    {
      "cell_type": "code",
      "execution_count": 161,
      "metadata": {
        "id": "-nK6PipyA5eY"
      },
      "outputs": [],
      "source": [
        "def dataProcess(data):\n",
        "  k = []\n",
        "  for i in range(12):\n",
        "    k.append(data[:,:,:,i:i+1])\n",
        "  return k\n",
        "k = dataProcess(inputs)\n",
        "mod_x_test = dataProcess(x_test)"
      ]
    },
    {
      "cell_type": "code",
      "execution_count": 162,
      "metadata": {
        "id": "8a25Vn6i6EYe",
        "colab": {
          "base_uri": "https://localhost:8080/",
          "height": 782
        },
        "outputId": "233431d8-5226-4cac-ca3b-90ee0832bb25"
      },
      "outputs": [
        {
          "output_type": "stream",
          "name": "stdout",
          "text": [
            "Epoch 1/300\n"
          ]
        },
        {
          "output_type": "error",
          "ename": "ValueError",
          "evalue": "ignored",
          "traceback": [
            "\u001b[0;31m---------------------------------------------------------------------------\u001b[0m",
            "\u001b[0;31mValueError\u001b[0m                                Traceback (most recent call last)",
            "\u001b[0;32m<ipython-input-162-1889ec7a2fd7>\u001b[0m in \u001b[0;36m<module>\u001b[0;34m()\u001b[0m\n\u001b[1;32m      4\u001b[0m             \u001b[0mvalidation_data\u001b[0m \u001b[0;34m=\u001b[0m \u001b[0;34m(\u001b[0m\u001b[0mmod_x_test\u001b[0m\u001b[0;34m,\u001b[0m\u001b[0my_test\u001b[0m\u001b[0;34m)\u001b[0m\u001b[0;34m,\u001b[0m\u001b[0;34m\u001b[0m\u001b[0;34m\u001b[0m\u001b[0m\n\u001b[1;32m      5\u001b[0m             \u001b[0mbatch_size\u001b[0m\u001b[0;34m=\u001b[0m\u001b[0;36m12\u001b[0m\u001b[0;34m,\u001b[0m\u001b[0;34m\u001b[0m\u001b[0;34m\u001b[0m\u001b[0m\n\u001b[0;32m----> 6\u001b[0;31m             verbose=2)\n\u001b[0m",
            "\u001b[0;32m/usr/local/lib/python3.7/dist-packages/keras/utils/traceback_utils.py\u001b[0m in \u001b[0;36merror_handler\u001b[0;34m(*args, **kwargs)\u001b[0m\n\u001b[1;32m     65\u001b[0m     \u001b[0;32mexcept\u001b[0m \u001b[0mException\u001b[0m \u001b[0;32mas\u001b[0m \u001b[0me\u001b[0m\u001b[0;34m:\u001b[0m  \u001b[0;31m# pylint: disable=broad-except\u001b[0m\u001b[0;34m\u001b[0m\u001b[0;34m\u001b[0m\u001b[0m\n\u001b[1;32m     66\u001b[0m       \u001b[0mfiltered_tb\u001b[0m \u001b[0;34m=\u001b[0m \u001b[0m_process_traceback_frames\u001b[0m\u001b[0;34m(\u001b[0m\u001b[0me\u001b[0m\u001b[0;34m.\u001b[0m\u001b[0m__traceback__\u001b[0m\u001b[0;34m)\u001b[0m\u001b[0;34m\u001b[0m\u001b[0;34m\u001b[0m\u001b[0m\n\u001b[0;32m---> 67\u001b[0;31m       \u001b[0;32mraise\u001b[0m \u001b[0me\u001b[0m\u001b[0;34m.\u001b[0m\u001b[0mwith_traceback\u001b[0m\u001b[0;34m(\u001b[0m\u001b[0mfiltered_tb\u001b[0m\u001b[0;34m)\u001b[0m \u001b[0;32mfrom\u001b[0m \u001b[0;32mNone\u001b[0m\u001b[0;34m\u001b[0m\u001b[0;34m\u001b[0m\u001b[0m\n\u001b[0m\u001b[1;32m     68\u001b[0m     \u001b[0;32mfinally\u001b[0m\u001b[0;34m:\u001b[0m\u001b[0;34m\u001b[0m\u001b[0;34m\u001b[0m\u001b[0m\n\u001b[1;32m     69\u001b[0m       \u001b[0;32mdel\u001b[0m \u001b[0mfiltered_tb\u001b[0m\u001b[0;34m\u001b[0m\u001b[0;34m\u001b[0m\u001b[0m\n",
            "\u001b[0;32m/usr/local/lib/python3.7/dist-packages/tensorflow/python/framework/func_graph.py\u001b[0m in \u001b[0;36mautograph_handler\u001b[0;34m(*args, **kwargs)\u001b[0m\n\u001b[1;32m   1145\u001b[0m           \u001b[0;32mexcept\u001b[0m \u001b[0mException\u001b[0m \u001b[0;32mas\u001b[0m \u001b[0me\u001b[0m\u001b[0;34m:\u001b[0m  \u001b[0;31m# pylint:disable=broad-except\u001b[0m\u001b[0;34m\u001b[0m\u001b[0;34m\u001b[0m\u001b[0m\n\u001b[1;32m   1146\u001b[0m             \u001b[0;32mif\u001b[0m \u001b[0mhasattr\u001b[0m\u001b[0;34m(\u001b[0m\u001b[0me\u001b[0m\u001b[0;34m,\u001b[0m \u001b[0;34m\"ag_error_metadata\"\u001b[0m\u001b[0;34m)\u001b[0m\u001b[0;34m:\u001b[0m\u001b[0;34m\u001b[0m\u001b[0;34m\u001b[0m\u001b[0m\n\u001b[0;32m-> 1147\u001b[0;31m               \u001b[0;32mraise\u001b[0m \u001b[0me\u001b[0m\u001b[0;34m.\u001b[0m\u001b[0mag_error_metadata\u001b[0m\u001b[0;34m.\u001b[0m\u001b[0mto_exception\u001b[0m\u001b[0;34m(\u001b[0m\u001b[0me\u001b[0m\u001b[0;34m)\u001b[0m\u001b[0;34m\u001b[0m\u001b[0;34m\u001b[0m\u001b[0m\n\u001b[0m\u001b[1;32m   1148\u001b[0m             \u001b[0;32melse\u001b[0m\u001b[0;34m:\u001b[0m\u001b[0;34m\u001b[0m\u001b[0;34m\u001b[0m\u001b[0m\n\u001b[1;32m   1149\u001b[0m               \u001b[0;32mraise\u001b[0m\u001b[0;34m\u001b[0m\u001b[0;34m\u001b[0m\u001b[0m\n",
            "\u001b[0;31mValueError\u001b[0m: in user code:\n\n    File \"/usr/local/lib/python3.7/dist-packages/keras/engine/training.py\", line 1021, in train_function  *\n        return step_function(self, iterator)\n    File \"/usr/local/lib/python3.7/dist-packages/keras/engine/training.py\", line 1010, in step_function  **\n        outputs = model.distribute_strategy.run(run_step, args=(data,))\n    File \"/usr/local/lib/python3.7/dist-packages/keras/engine/training.py\", line 1000, in run_step  **\n        outputs = model.train_step(data)\n    File \"/usr/local/lib/python3.7/dist-packages/keras/engine/training.py\", line 864, in train_step\n        return self.compute_metrics(x, y, y_pred, sample_weight)\n    File \"/usr/local/lib/python3.7/dist-packages/keras/engine/training.py\", line 957, in compute_metrics\n        self.compiled_metrics.update_state(y, y_pred, sample_weight)\n    File \"/usr/local/lib/python3.7/dist-packages/keras/engine/compile_utils.py\", line 459, in update_state\n        metric_obj.update_state(y_t, y_p, sample_weight=mask)\n    File \"/usr/local/lib/python3.7/dist-packages/keras/utils/metrics_utils.py\", line 70, in decorated\n        update_op = update_state_fn(*args, **kwargs)\n    File \"/usr/local/lib/python3.7/dist-packages/keras/metrics.py\", line 178, in update_state_fn\n        return ag_update_state(*args, **kwargs)\n    File \"/usr/local/lib/python3.7/dist-packages/keras/metrics.py\", line 1544, in update_state  **\n        sample_weight=sample_weight)\n    File \"/usr/local/lib/python3.7/dist-packages/keras/utils/metrics_utils.py\", line 619, in update_confusion_matrix_variables\n        y_pred.shape.assert_is_compatible_with(y_true.shape)\n\n    ValueError: Shapes (12, 32, 32, 3) and (12, 32, 32, 1) are incompatible\n"
          ]
        }
      ],
      "source": [
        "history_1 = autoencoder.fit(\n",
        "            k, labels,\n",
        "            epochs=300,\n",
        "            validation_data = (mod_x_test,y_test),\n",
        "            batch_size=12,\n",
        "            verbose=2)"
      ]
    }
  ],
  "metadata": {
    "accelerator": "GPU",
    "colab": {
      "collapsed_sections": [
        "uQ2dZNeu6B-L"
      ],
      "machine_shape": "hm",
      "name": "Sklearn Restored Kai's Exp. readerdataset.ipynb",
      "provenance": [],
      "toc_visible": true,
      "include_colab_link": true
    },
    "gpuClass": "standard",
    "kernelspec": {
      "display_name": "Python 3",
      "name": "python3"
    },
    "language_info": {
      "name": "python"
    }
  },
  "nbformat": 4,
  "nbformat_minor": 0
}