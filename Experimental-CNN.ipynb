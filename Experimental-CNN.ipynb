{
  "cells": [
    {
      "cell_type": "markdown",
      "metadata": {
        "id": "view-in-github",
        "colab_type": "text"
      },
      "source": [
        "<a href=\"https://colab.research.google.com/github/Webdev4better/FutureMakers-2022-Team-Deep-Green/blob/master/High-AUC-Restored.ipynb\" target=\"_parent\"><img src=\"https://colab.research.google.com/assets/colab-badge.svg\" alt=\"Open In Colab\"/></a>"
      ]
    },
    {
      "cell_type": "code",
      "execution_count": null,
      "metadata": {
        "id": "2vTvIjkB9hB-"
      },
      "outputs": [],
      "source": [
        "# Clearing backend\n",
        "from tensorflow.keras import backend\n",
        "backend.clear_session()"
      ]
    },
    {
      "cell_type": "markdown",
      "metadata": {
        "id": "89zwr8t3hUIQ"
      },
      "source": [
        "## Data Processing"
      ]
    },
    {
      "cell_type": "code",
      "execution_count": null,
      "metadata": {
        "colab": {
          "base_uri": "https://localhost:8080/"
        },
        "id": "fCp9jfvzG8cb",
        "outputId": "2c66d8a5-03da-4136-fb16-16e24f4ec0be"
      },
      "outputs": [
        {
          "output_type": "stream",
          "name": "stdout",
          "text": [
            "Looking in indexes: https://pypi.org/simple, https://us-python.pkg.dev/colab-wheels/public/simple/\n",
            "Requirement already satisfied: kaggle in /usr/local/lib/python3.7/dist-packages (1.5.12)\n",
            "Requirement already satisfied: six>=1.10 in /usr/local/lib/python3.7/dist-packages (from kaggle) (1.15.0)\n",
            "Requirement already satisfied: urllib3 in /usr/local/lib/python3.7/dist-packages (from kaggle) (1.24.3)\n",
            "Requirement already satisfied: tqdm in /usr/local/lib/python3.7/dist-packages (from kaggle) (4.64.0)\n",
            "Requirement already satisfied: certifi in /usr/local/lib/python3.7/dist-packages (from kaggle) (2022.6.15)\n",
            "Requirement already satisfied: python-dateutil in /usr/local/lib/python3.7/dist-packages (from kaggle) (2.8.2)\n",
            "Requirement already satisfied: python-slugify in /usr/local/lib/python3.7/dist-packages (from kaggle) (6.1.2)\n",
            "Requirement already satisfied: requests in /usr/local/lib/python3.7/dist-packages (from kaggle) (2.23.0)\n",
            "Requirement already satisfied: text-unidecode>=1.3 in /usr/local/lib/python3.7/dist-packages (from python-slugify->kaggle) (1.3)\n",
            "Requirement already satisfied: chardet<4,>=3.0.2 in /usr/local/lib/python3.7/dist-packages (from requests->kaggle) (3.0.4)\n",
            "Requirement already satisfied: idna<3,>=2.5 in /usr/local/lib/python3.7/dist-packages (from requests->kaggle) (2.10)\n",
            "Downloading next-day-wildfire-spread.zip to /content\n",
            " 99% 2.06G/2.08G [00:57<00:00, 46.2MB/s]\n",
            "100% 2.08G/2.08G [00:57<00:00, 38.8MB/s]\n"
          ]
        }
      ],
      "source": [
        "import re\n",
        "from typing import Dict, List, Optional, Text, Tuple\n",
        "import matplotlib.pyplot as plt\n",
        "from matplotlib import colors\n",
        "import numpy as np\n",
        "import tensorflow as tf\n",
        "from tensorflow import keras\n",
        "from tensorflow.keras import layers\n",
        "from tensorflow.keras import *\n",
        "# run these commands in linux terminal and add kaggle.json api from account page\n",
        "! pip install kaggle\n",
        "! mkdir ~/.kaggle\n",
        "! cp kaggle.json ~/.kaggle/\n",
        "\n",
        "! chmod 600 ~/.kaggle/kaggle.json\n",
        "! kaggle datasets download fantineh/next-day-wildfire-spread\n"
      ]
    },
    {
      "cell_type": "code",
      "execution_count": null,
      "metadata": {
        "colab": {
          "base_uri": "https://localhost:8080/"
        },
        "id": "UTjr8ObrTeNG",
        "outputId": "9e417ce5-c0ec-4668-b1f0-e276e2bcd76f"
      },
      "outputs": [
        {
          "output_type": "stream",
          "name": "stdout",
          "text": [
            "Archive:  next-day-wildfire-spread.zip\n",
            "  inflating: next_day_wildfire_spread_eval_00.tfrecord  \n",
            "  inflating: next_day_wildfire_spread_eval_01.tfrecord  \n",
            "  inflating: next_day_wildfire_spread_test_00.tfrecord  \n",
            "  inflating: next_day_wildfire_spread_test_01.tfrecord  \n",
            "  inflating: next_day_wildfire_spread_train_00.tfrecord  \n",
            "  inflating: next_day_wildfire_spread_train_01.tfrecord  \n",
            "  inflating: next_day_wildfire_spread_train_02.tfrecord  \n",
            "  inflating: next_day_wildfire_spread_train_03.tfrecord  \n",
            "  inflating: next_day_wildfire_spread_train_04.tfrecord  \n",
            "  inflating: next_day_wildfire_spread_train_05.tfrecord  \n",
            "  inflating: next_day_wildfire_spread_train_06.tfrecord  \n",
            "  inflating: next_day_wildfire_spread_train_07.tfrecord  \n",
            "  inflating: next_day_wildfire_spread_train_08.tfrecord  \n",
            "  inflating: next_day_wildfire_spread_train_09.tfrecord  \n",
            "  inflating: next_day_wildfire_spread_train_10.tfrecord  \n",
            "  inflating: next_day_wildfire_spread_train_11.tfrecord  \n",
            "  inflating: next_day_wildfire_spread_train_12.tfrecord  \n",
            "  inflating: next_day_wildfire_spread_train_13.tfrecord  \n",
            "  inflating: next_day_wildfire_spread_train_14.tfrecord  \n"
          ]
        }
      ],
      "source": [
        "!unzip next-day-wildfire-spread.zip"
      ]
    },
    {
      "cell_type": "code",
      "execution_count": null,
      "metadata": {
        "id": "UfEdraeKSlyh"
      },
      "outputs": [],
      "source": [
        "train_data = '/content/next_day_wildfire_spread_train_*'\n",
        "test_data = '/content/next_day_wildfire_spread_test_*'"
      ]
    },
    {
      "cell_type": "code",
      "execution_count": null,
      "metadata": {
        "id": "w3wL41YHHFxf"
      },
      "outputs": [],
      "source": [
        "\"\"\"Constants for the data reader.\"\"\"\n",
        "\n",
        "INPUT_FEATURES = ['elevation', 'th', 'vs',  'tmmn', 'tmmx', 'sph', \n",
        "                  'pr', 'pdsi', 'NDVI', 'population', 'erc', 'PrevFireMask']\n",
        "\n",
        "OUTPUT_FEATURES = ['FireMask', ]\n",
        "\n",
        "# Data statistics \n",
        "# For each variable, the statistics are ordered in the form:\n",
        "# (min_clip, max_clip, mean, standard deviation)\n",
        "DATA_STATS = {\n",
        "    # Elevation in m.\n",
        "    # 0.1 percentile, 99.9 percentile\n",
        "    'elevation': (0.0, 3141.0, 657.3003, 649.0147),\n",
        "    # Pressure\n",
        "    # 0.1 percentile, 99.9 percentile\n",
        "    'pdsi': (-6.12974870967865, 7.876040384292651, -0.0052714925, 2.6823447),\n",
        "    'NDVI': (-9821.0, 9996.0, 5157.625, 2466.6677),  # min, max\n",
        "    # Precipitation in mm.\n",
        "    # Negative values do not make sense, so min is set to 0.\n",
        "    # 0., 99.9 percentile\n",
        "    'pr': (0.0, 44.53038024902344, 1.7398051, 4.482833),\n",
        "    # Specific humidity.\n",
        "    # Negative values do not make sense, so min is set to 0.\n",
        "    # The range of specific humidity is up to 100% so max is 1.\n",
        "    'sph': (0., 1., 0.0071658953, 0.0042835088),\n",
        "    # Wind direction in degrees clockwise from north.\n",
        "    # Thus min set to 0 and max set to 360.\n",
        "    'th': (0., 360.0, 190.32976, 72.59854),\n",
        "    # Min/max temperature in Kelvin.\n",
        "    # -20 degree C, 99.9 percentile\n",
        "    'tmmn': (253.15, 298.94891357421875, 281.08768, 8.982386),\n",
        "    # -20 degree C, 99.9 percentile\n",
        "    'tmmx': (253.15, 315.09228515625, 295.17383, 9.815496),\n",
        "    # Wind speed in m/s.\n",
        "    # Negative values do not make sense, given there is a wind direction.\n",
        "    # 0., 99.9 percentile\n",
        "    'vs': (0.0, 10.024310074806237, 3.8500874, 1.4109988),\n",
        "    # NFDRS fire danger index energy release component expressed in BTU's per\n",
        "    # square foot.\n",
        "    # Negative values do not make sense. Thus min set to zero.\n",
        "    # 0., 99.9 percentile\n",
        "    'erc': (0.0, 106.24891662597656, 37.326267, 20.846027),\n",
        "    # Population density\n",
        "    # min, 99.9 percentile\n",
        "    'population': (0., 2534.06298828125, 25.531384, 154.72331),\n",
        "    # We don't want to normalize the FireMasks.\n",
        "    # 1 indicates fire, 0 no fire, -1 unlabeled data\n",
        "    'PrevFireMask': (-1., 1., 0., 1.),\n",
        "    'FireMask': (-1., 1., 0., 1.)\n",
        "}"
      ]
    },
    {
      "cell_type": "code",
      "execution_count": null,
      "metadata": {
        "id": "lrCIFDZJHGLu"
      },
      "outputs": [],
      "source": [
        "\"\"\"Library of common functions used in deep learning neural networks.\n",
        "\"\"\"\n",
        "def random_crop_input_and_output_images(\n",
        "    input_img: tf.Tensor,\n",
        "    output_img: tf.Tensor,\n",
        "    sample_size: int,\n",
        "    num_in_channels: int,\n",
        "    num_out_channels: int,\n",
        ") -> Tuple[tf.Tensor, tf.Tensor]:\n",
        "  \"\"\"Randomly axis-align crop input and output image tensors.\n",
        "\n",
        "  Args:\n",
        "    input_img: tensor with dimensions HWC.\n",
        "    output_img: tensor with dimensions HWC.\n",
        "    sample_size: side length (square) to crop to.\n",
        "    num_in_channels: number of channels in input_img.\n",
        "    num_out_channels: number of channels in output_img.\n",
        "  Returns:\n",
        "    input_img: tensor with dimensions HWC.\n",
        "    output_img: tensor with dimensions HWC.\n",
        "  \"\"\"\n",
        "  combined = tf.concat([input_img, output_img], axis=2)\n",
        "  combined = tf.image.random_crop(\n",
        "      combined,\n",
        "      [sample_size, sample_size, num_in_channels + num_out_channels])\n",
        "  input_img = combined[:, :, 0:num_in_channels]\n",
        "  output_img = combined[:, :, -num_out_channels:]\n",
        "  return input_img, output_img\n",
        "\n",
        "\n",
        "def center_crop_input_and_output_images(\n",
        "    input_img: tf.Tensor,\n",
        "    output_img: tf.Tensor,\n",
        "    sample_size: int,\n",
        ") -> Tuple[tf.Tensor, tf.Tensor]:\n",
        "  \"\"\"Center crops input and output image tensors.\n",
        "\n",
        "  Args:\n",
        "    input_img: tensor with dimensions HWC.\n",
        "    output_img: tensor with dimensions HWC.\n",
        "    sample_size: side length (square) to crop to.\n",
        "  Returns:\n",
        "    input_img: tensor with dimensions HWC.\n",
        "    output_img: tensor with dimensions HWC.\n",
        "  \"\"\"\n",
        "  central_fraction = sample_size / input_img.shape[0]\n",
        "  input_img = tf.image.central_crop(input_img, central_fraction)\n",
        "  output_img = tf.image.central_crop(output_img, central_fraction)\n",
        "  return input_img, output_img"
      ]
    },
    {
      "cell_type": "code",
      "execution_count": null,
      "metadata": {
        "id": "j2UFH5wUHN3h"
      },
      "outputs": [],
      "source": [
        "\"\"\"Dataset reader for Earth Engine data.\"\"\"\n",
        "\n",
        "def _get_base_key(key: Text) -> Text:\n",
        "  \"\"\"Extracts the base key from the provided key.\n",
        "\n",
        "  Earth Engine exports TFRecords containing each data variable with its\n",
        "  corresponding variable name. In the case of time sequences, the name of the\n",
        "  data variable is of the form 'variable_1', 'variable_2', ..., 'variable_n',\n",
        "  where 'variable' is the name of the variable, and n the number of elements\n",
        "  in the time sequence. Extracting the base key ensures that each step of the\n",
        "  time sequence goes through the same normalization steps.\n",
        "  The base key obeys the following naming pattern: '([a-zA-Z]+)'\n",
        "  For instance, for an input key 'variable_1', this function returns 'variable'.\n",
        "  For an input key 'variable', this function simply returns 'variable'.\n",
        "\n",
        "  Args:\n",
        "    key: Input key.\n",
        "\n",
        "  Returns:\n",
        "    The corresponding base key.\n",
        "\n",
        "  Raises:\n",
        "    ValueError when `key` does not match the expected pattern.\n",
        "  \"\"\"\n",
        "  match = re.match(r'([a-zA-Z]+)', key)\n",
        "  if match:\n",
        "    return match.group(1)\n",
        "  raise ValueError(\n",
        "      'The provided key does not match the expected pattern: {}'.format(key))\n",
        "\n",
        "\n",
        "def _clip_and_rescale(inputs: tf.Tensor, key: Text) -> tf.Tensor:\n",
        "  \"\"\"Clips and rescales inputs with the stats corresponding to `key`.\n",
        "\n",
        "  Args:\n",
        "    inputs: Inputs to clip and rescale.\n",
        "    key: Key describing the inputs.\n",
        "\n",
        "  Returns:\n",
        "    Clipped and rescaled input.\n",
        "\n",
        "  Raises:\n",
        "    ValueError if there are no data statistics available for `key`.\n",
        "  \"\"\"\n",
        "  base_key = _get_base_key(key)\n",
        "  if base_key not in DATA_STATS:\n",
        "    raise ValueError(\n",
        "        'No data statistics available for the requested key: {}.'.format(key))\n",
        "  min_val, max_val, _, _ = DATA_STATS[base_key]\n",
        "  inputs = tf.clip_by_value(inputs, min_val, max_val)\n",
        "  return tf.math.divide_no_nan((inputs - min_val), (max_val - min_val))\n",
        "\n",
        "\n",
        "def _clip_and_normalize(inputs: tf.Tensor, key: Text) -> tf.Tensor:\n",
        "  \"\"\"Clips and normalizes inputs with the stats corresponding to `key`.\n",
        "\n",
        "  Args:\n",
        "    inputs: Inputs to clip and normalize.\n",
        "    key: Key describing the inputs.\n",
        "\n",
        "  Returns:\n",
        "    Clipped and normalized input.\n",
        "\n",
        "  Raises:\n",
        "    ValueError if there are no data statistics available for `key`.\n",
        "  \"\"\"\n",
        "  base_key = _get_base_key(key)\n",
        "  if base_key not in DATA_STATS:\n",
        "    raise ValueError(\n",
        "        'No data statistics available for the requested key: {}.'.format(key))\n",
        "  min_val, max_val, mean, std = DATA_STATS[base_key]\n",
        "  inputs = tf.clip_by_value(inputs, min_val, max_val)\n",
        "  inputs = inputs - mean\n",
        "  return tf.math.divide_no_nan(inputs, std)\n",
        "\n",
        "def _get_features_dict(\n",
        "    sample_size: int,\n",
        "    features: List[Text],\n",
        ") -> Dict[Text, tf.io.FixedLenFeature]:\n",
        "  \"\"\"Creates a features dictionary for TensorFlow IO.\n",
        "\n",
        "  Args:\n",
        "    sample_size: Size of the input tiles (square).\n",
        "    features: List of feature names.\n",
        "\n",
        "  Returns:\n",
        "    A features dictionary for TensorFlow IO.\n",
        "  \"\"\"\n",
        "  sample_shape = [sample_size, sample_size]\n",
        "  features = set(features)\n",
        "  columns = [\n",
        "      tf.io.FixedLenFeature(shape=sample_shape, dtype=tf.float32)\n",
        "      for _ in features\n",
        "  ]\n",
        "  return dict(zip(features, columns))\n",
        "\n",
        "\n",
        "def _parse_fn(\n",
        "    example_proto: tf.train.Example, data_size: int, sample_size: int,\n",
        "    num_in_channels: int, clip_and_normalize: bool,\n",
        "    clip_and_rescale: bool, random_crop: bool, center_crop: bool,\n",
        ") -> Tuple[tf.Tensor, tf.Tensor]:\n",
        "  \"\"\"Reads a serialized example.\n",
        "\n",
        "  Args:\n",
        "    example_proto: A TensorFlow example protobuf.\n",
        "    data_size: Size of tiles (square) as read from input files.\n",
        "    sample_size: Size the tiles (square) when input into the model.\n",
        "    num_in_channels: Number of input channels.\n",
        "    clip_and_normalize: True if the data should be clipped and normalized.\n",
        "    clip_and_rescale: True if the data should be clipped and rescaled.\n",
        "    random_crop: True if the data should be randomly cropped.\n",
        "    center_crop: True if the data should be cropped in the center.\n",
        "\n",
        "  Returns:\n",
        "    (input_img, output_img) tuple of inputs and outputs to the ML model.\n",
        "  \"\"\"\n",
        "  if (random_crop and center_crop):\n",
        "    raise ValueError('Cannot have both random_crop and center_crop be True')\n",
        "  input_features, output_features = INPUT_FEATURES, OUTPUT_FEATURES\n",
        "  feature_names = input_features + output_features\n",
        "  features_dict = _get_features_dict(data_size, feature_names)\n",
        "  features = tf.io.parse_single_example(example_proto, features_dict)\n",
        "\n",
        "  if clip_and_normalize:\n",
        "    inputs_list = [\n",
        "        _clip_and_normalize(features.get(key), key) for key in input_features\n",
        "    ]\n",
        "  elif clip_and_rescale:\n",
        "    inputs_list = [\n",
        "        _clip_and_rescale(features.get(key), key) for key in input_features\n",
        "    ]\n",
        "  else:\n",
        "    inputs_list = [features.get(key) for key in input_features]\n",
        "  \n",
        "  inputs_stacked = tf.stack(inputs_list, axis=0)\n",
        "  input_img = tf.transpose(inputs_stacked, [1, 2, 0])\n",
        "\n",
        "  outputs_list = [features.get(key) for key in output_features]\n",
        "  assert outputs_list, 'outputs_list should not be empty'\n",
        "  outputs_stacked = tf.stack(outputs_list, axis=0)\n",
        "\n",
        "  outputs_stacked_shape = outputs_stacked.get_shape().as_list()\n",
        "  assert len(outputs_stacked.shape) == 3, ('outputs_stacked should be rank 3'\n",
        "                                            'but dimensions of outputs_stacked'\n",
        "                                            f' are {outputs_stacked_shape}')\n",
        "  output_img = tf.transpose(outputs_stacked, [1, 2, 0])\n",
        "\n",
        "  if random_crop:\n",
        "    input_img, output_img = random_crop_input_and_output_images(\n",
        "        input_img, output_img, sample_size, num_in_channels, 1)\n",
        "  if center_crop:\n",
        "    input_img, output_img = center_crop_input_and_output_images(\n",
        "        input_img, output_img, sample_size)\n",
        "  return input_img, output_img\n",
        "\n",
        "\n",
        "def get_dataset(train_data: Text, data_size: int, sample_size: int,\n",
        "                batch_size: int, num_in_channels: int, compression_type: Text,\n",
        "                clip_and_normalize: bool, clip_and_rescale: bool,\n",
        "                random_crop: bool, center_crop: bool) -> tf.data.Dataset:\n",
        "  \"\"\"Gets the dataset from the file pattern.\n",
        "\n",
        "  Args:\n",
        "    train_data: Input file pattern.\n",
        "    data_size: Size of tiles (square) as read from input files.\n",
        "    sample_size: Size the tiles (square) when input into the model.\n",
        "    batch_size: Batch size.\n",
        "    num_in_channels: Number of input channels.\n",
        "    compression_type: Type of compression used for the input files.\n",
        "    clip_and_normalize: True if the data should be clipped and normalized, False\n",
        "      otherwise.\n",
        "    clip_and_rescale: True if the data should be clipped and rescaled, False\n",
        "      otherwise.\n",
        "    random_crop: True if the data should be randomly cropped.\n",
        "    center_crop: True if the data shoulde be cropped in the center.\n",
        "\n",
        "  Returns:\n",
        "    A TensorFlow dataset loaded from the input file pattern, with features\n",
        "    described in the constants, and with the shapes determined from the input\n",
        "    parameters to this function.\n",
        "  \"\"\"\n",
        "  if (clip_and_normalize and clip_and_rescale):\n",
        "    raise ValueError('Cannot have both normalize and rescale.')\n",
        "  dataset = tf.data.Dataset.list_files(train_data)\n",
        "  dataset = dataset.interleave(\n",
        "      lambda x: tf.data.TFRecordDataset(x, compression_type=compression_type),\n",
        "      num_parallel_calls=tf.data.experimental.AUTOTUNE)\n",
        "  dataset = dataset.prefetch(buffer_size=tf.data.experimental.AUTOTUNE)\n",
        "  dataset = dataset.map(\n",
        "      lambda x: _parse_fn(  # pylint: disable=g-long-lambda\n",
        "          x, data_size, sample_size, num_in_channels, clip_and_normalize,\n",
        "          clip_and_rescale, random_crop, center_crop),\n",
        "      num_parallel_calls=tf.data.experimental.AUTOTUNE)\n",
        "  dataset = dataset.batch(batch_size)\n",
        "  dataset = dataset.prefetch(buffer_size=tf.data.experimental.AUTOTUNE)\n",
        "  return dataset"
      ]
    },
    {
      "cell_type": "markdown",
      "metadata": {
        "id": "cVdrBxS4hPxN"
      },
      "source": [
        "### Data Visualizations"
      ]
    },
    {
      "cell_type": "code",
      "execution_count": null,
      "metadata": {
        "id": "jTcQPZHEHYis"
      },
      "outputs": [],
      "source": [
        "train_batch = 13200\n",
        "test_batch = 2400\n",
        "\n",
        "dataset = get_dataset(\n",
        "      train_data,\n",
        "      data_size=64,\n",
        "      sample_size=32,\n",
        "      batch_size=train_batch,\n",
        "      num_in_channels=12,\n",
        "      compression_type=None,\n",
        "      clip_and_normalize=False,\n",
        "      clip_and_rescale=False,\n",
        "      random_crop=True,\n",
        "      center_crop=False)\n",
        "test_dataset = get_dataset(\n",
        "      test_data,\n",
        "      data_size=64,\n",
        "      sample_size=32,\n",
        "      batch_size=test_batch,\n",
        "      num_in_channels=12,\n",
        "      compression_type=None,\n",
        "      clip_and_normalize=False,\n",
        "      clip_and_rescale=False,\n",
        "      random_crop=True,\n",
        "      center_crop=False)"
      ]
    },
    {
      "cell_type": "code",
      "execution_count": null,
      "metadata": {
        "id": "BCpQk9NDHaxs"
      },
      "outputs": [],
      "source": [
        "inputs, labels = next(iter(dataset))\n",
        "x_test, y_test = next(iter(test_dataset))"
      ]
    },
    {
      "cell_type": "code",
      "execution_count": null,
      "metadata": {
        "id": "RqVLLJb2HbMY"
      },
      "outputs": [],
      "source": [
        "TITLES = [\n",
        "  'Elevation',\n",
        "  'Wind\\ndirection',\n",
        "  'Wind\\nvelocity',\n",
        "  'Min\\ntemp',\n",
        "  'Max\\ntemp',\n",
        "  'Humidity',\n",
        "  'Precip',\n",
        "  'Drought',\n",
        "  'Vegetation',\n",
        "  'Population\\ndensity',\n",
        "  'Energy\\nrelease\\ncomponent',\n",
        "  'Previous\\nfire\\nmask',\n",
        "  'Fire\\nmask'\n",
        "]"
      ]
    },
    {
      "cell_type": "code",
      "execution_count": null,
      "metadata": {
        "id": "1N5WH2s9Ohfj",
        "colab": {
          "base_uri": "https://localhost:8080/"
        },
        "outputId": "983d5134-63af-4d62-987a-9ed91b2f0eaa"
      },
      "outputs": [
        {
          "output_type": "stream",
          "name": "stdout",
          "text": [
            "tf.Tensor(0.0, shape=(), dtype=float32)\n"
          ]
        }
      ],
      "source": [
        "print(inputs[0][0][0][11])"
      ]
    },
    {
      "cell_type": "code",
      "execution_count": null,
      "metadata": {
        "id": "aQ8VloKHfcPV",
        "colab": {
          "base_uri": "https://localhost:8080/"
        },
        "outputId": "68836f92-b0c7-4569-d1f3-392335ea1a27"
      },
      "outputs": [
        {
          "output_type": "execute_result",
          "data": {
            "text/plain": [
              "<tf.Tensor: shape=(32, 1), dtype=float32, numpy=\n",
              "array([[ 0.],\n",
              "       [ 0.],\n",
              "       [-1.],\n",
              "       [-1.],\n",
              "       [-1.],\n",
              "       [-1.],\n",
              "       [ 0.],\n",
              "       [ 0.],\n",
              "       [ 0.],\n",
              "       [ 0.],\n",
              "       [ 0.],\n",
              "       [ 0.],\n",
              "       [ 0.],\n",
              "       [ 0.],\n",
              "       [ 0.],\n",
              "       [ 0.],\n",
              "       [ 0.],\n",
              "       [ 0.],\n",
              "       [ 0.],\n",
              "       [ 0.],\n",
              "       [ 0.],\n",
              "       [ 0.],\n",
              "       [ 0.],\n",
              "       [ 0.],\n",
              "       [ 0.],\n",
              "       [ 0.],\n",
              "       [ 0.],\n",
              "       [ 0.],\n",
              "       [ 0.],\n",
              "       [ 0.],\n",
              "       [ 0.],\n",
              "       [ 0.]], dtype=float32)>"
            ]
          },
          "metadata": {},
          "execution_count": 12
        }
      ],
      "source": [
        "labels[19][2]"
      ]
    },
    {
      "cell_type": "code",
      "execution_count": null,
      "metadata": {
        "id": "XJOG4GLkHdcj"
      },
      "outputs": [],
      "source": [
        "# Number of rows of data samples to plot\n",
        "n_rows = 5 \n",
        "# Number of data variables\n",
        "n_features = inputs.shape[3]\n",
        "# Variables for controllong the color map for the fire masks\n",
        "CMAP = colors.ListedColormap(['black', 'silver', 'orangered'])\n",
        "BOUNDS = [-1, -0.1, 0.001, 1]\n",
        "NORM = colors.BoundaryNorm(BOUNDS, CMAP.N)\n",
        "\n",
        "CMAP_PRED = colors.ListedColormap(['silver', 'orangered'])\n",
        "BOUNDS_PRED = [-1, 0.001, 1]\n",
        "NORM_PRED = colors.BoundaryNorm(BOUNDS, CMAP_PRED.N)"
      ]
    },
    {
      "cell_type": "code",
      "execution_count": null,
      "metadata": {
        "id": "ACuXt4eJlkIn",
        "colab": {
          "base_uri": "https://localhost:8080/",
          "height": 304
        },
        "outputId": "b91cef8e-3ace-4c17-90e8-01843a107be5"
      },
      "outputs": [
        {
          "output_type": "execute_result",
          "data": {
            "text/plain": [
              "array([[0., 0.],\n",
              "       [0., 0.]])"
            ]
          },
          "metadata": {},
          "execution_count": 14
        },
        {
          "output_type": "display_data",
          "data": {
            "text/plain": [
              "<Figure size 432x288 with 1 Axes>"
            ],
            "image/png": "[encoded data removed]"
          },
          "metadata": {
            "needs_background": "light"
          }
        }
      ],
      "source": [
        "# Here are the CMAP bounds:\n",
        "# -1 geq black < -0.1\n",
        "# -0.1 geq gray < 0.001\n",
        "# 0.001 geq red leq 1\n",
        "a = 0.\n",
        "arr1 = np.array([[a,a],[a,a]])\n",
        "plt.imshow(arr1,cmap=CMAP,norm=NORM)\n",
        "arr1"
      ]
    },
    {
      "cell_type": "code",
      "execution_count": null,
      "metadata": {
        "id": "mkPnwnpuHhOU",
        "colab": {
          "base_uri": "https://localhost:8080/",
          "height": 501
        },
        "outputId": "e2c3441c-eec8-4ee7-88b7-96c43755c14b"
      },
      "outputs": [
        {
          "output_type": "stream",
          "name": "stdout",
          "text": [
            "(32, 32)\n",
            "(32, 32)\n",
            "(32, 32)\n",
            "(32, 32)\n",
            "(32, 32)\n"
          ]
        },
        {
          "output_type": "display_data",
          "data": {
            "text/plain": [
              "<Figure size 1080x468 with 65 Axes>"
            ],
            "image/png": "[encoded data removed]"
          },
          "metadata": {
            "needs_background": "light"
          }
        }
      ],
      "source": [
        "fig = plt.figure(figsize=(15,6.5))\n",
        "n_rows1 = n_rows\n",
        "n_rows = 5\n",
        "for i in range(n_rows):\n",
        "  for j in range(n_features + 1):\n",
        "    plt.subplot(n_rows, n_features + 1, i * (n_features + 1) + j + 1)\n",
        "    if i == 0:\n",
        "      plt.title(TITLES[j], fontsize=13)\n",
        "    if j < n_features - 1:\n",
        "      plt.imshow(inputs[i, :, :, j], cmap='viridis')\n",
        "    if j == n_features - 1:\n",
        "      plt.imshow(inputs[i, :, :, -1], cmap=CMAP, norm=NORM)\n",
        "      print(inputs[i,:,:,-1].shape)\n",
        "    if j == n_features:\n",
        "      plt.imshow(labels[i, :, :, 0], cmap=CMAP, norm=NORM) \n",
        "    # plt.axis('off')\n",
        "plt.tight_layout()"
      ]
    },
    {
      "cell_type": "code",
      "execution_count": null,
      "metadata": {
        "id": "dlN6RoC_ygTH",
        "colab": {
          "base_uri": "https://localhost:8080/",
          "height": 501
        },
        "outputId": "e23748f9-5ad0-4dda-de3f-18892f9713cd"
      },
      "outputs": [
        {
          "output_type": "stream",
          "name": "stdout",
          "text": [
            "(32, 32)\n",
            "(32, 32)\n",
            "(32, 32)\n",
            "(32, 32)\n",
            "(32, 32)\n"
          ]
        },
        {
          "output_type": "display_data",
          "data": {
            "text/plain": [
              "<Figure size 1080x468 with 65 Axes>"
            ],
            "image/png": "[encoded data removed]"
          },
          "metadata": {
            "needs_background": "light"
          }
        }
      ],
      "source": [
        "fig = plt.figure(figsize=(15,6.5))\n",
        "n_rows1 = n_rows\n",
        "n_rows = 5\n",
        "for i in range(n_rows):\n",
        "  for j in range(n_features + 1):\n",
        "    plt.subplot(n_rows, n_features + 1, i * (n_features + 1) + j + 1)\n",
        "    if i == 0:\n",
        "      plt.title(TITLES[j], fontsize=13)\n",
        "    if j < n_features - 1:\n",
        "      plt.imshow(x_test[i, :, :, j], cmap='viridis')\n",
        "    if j == n_features - 1:\n",
        "      plt.imshow(x_test[i, :, :, -1], cmap=CMAP, norm=NORM)\n",
        "      print(x_test[i,:,:,-1].shape)\n",
        "    if j == n_features:\n",
        "      plt.imshow(y_test[i, :, :, 0], cmap=CMAP, norm=NORM) \n",
        "    # plt.axis('off')\n",
        "plt.tight_layout()"
      ]
    },
    {
      "cell_type": "markdown",
      "metadata": {
        "id": "t1OmhK1dNOPi"
      },
      "source": [
        "#### Experimenting"
      ]
    },
    {
      "cell_type": "code",
      "execution_count": null,
      "metadata": {
        "id": "7tV6s88PNQxZ",
        "colab": {
          "base_uri": "https://localhost:8080/",
          "height": 285
        },
        "outputId": "33821de6-d55d-4484-cf71-deed510a0bae"
      },
      "outputs": [
        {
          "output_type": "execute_result",
          "data": {
            "text/plain": [
              "<matplotlib.image.AxesImage at 0x7fa23a7326d0>"
            ]
          },
          "metadata": {},
          "execution_count": 17
        },
        {
          "output_type": "display_data",
          "data": {
            "text/plain": [
              "<Figure size 432x288 with 2 Axes>"
            ],
            "image/png": "[encoded data removed]"
          },
          "metadata": {
            "needs_background": "light"
          }
        }
      ],
      "source": [
        "figure,ax = plt.subplots(nrows = 2, ncols=1,sharex=True)\n",
        "ax[0].imshow(labels[0,:,:,0],cmap=CMAP,norm=NORM)\n",
        "ax[1].imshow(inputs[0,:,:,8],cmap='viridis')\n",
        "\n"
      ]
    },
    {
      "cell_type": "code",
      "execution_count": null,
      "metadata": {
        "id": "Mj4zrv9CUlPI",
        "colab": {
          "base_uri": "https://localhost:8080/"
        },
        "outputId": "45b8b009-e0e4-4c2b-90c5-0f328bf4a75f"
      },
      "outputs": [
        {
          "output_type": "execute_result",
          "data": {
            "text/plain": [
              "<matplotlib.colors.ListedColormap at 0x7fa2ce6a3f90>"
            ]
          },
          "metadata": {},
          "execution_count": 18
        }
      ],
      "source": [
        "CMAP"
      ]
    },
    {
      "cell_type": "markdown",
      "metadata": {
        "id": "gItXD5PUB73P"
      },
      "source": [
        "## Loss Functions"
      ]
    },
    {
      "cell_type": "markdown",
      "metadata": {
        "id": "gVS8ppH_OzKb"
      },
      "source": [
        "### Custom Loss Functions\n",
        "\n",
        "These are in progress, working on it right now."
      ]
    },
    {
      "cell_type": "code",
      "execution_count": null,
      "metadata": {
        "id": "UZ508mZIqZ-x",
        "colab": {
          "base_uri": "https://localhost:8080/"
        },
        "outputId": "90cc05ae-c0fa-4124-cb97-ff5a195616d7"
      },
      "outputs": [
        {
          "output_type": "execute_result",
          "data": {
            "text/plain": [
              "array([[0.36487124, 0.42992721],\n",
              "       [0.92967841, 0.69919971],\n",
              "       [0.4851141 , 0.7158562 ]])"
            ]
          },
          "metadata": {},
          "execution_count": 19
        }
      ],
      "source": [
        "arr1 = np.array([[1,2],[2,3],[3,4]])\n",
        "a,b = arr1.shape\n",
        "np.random.rand(a,b)"
      ]
    },
    {
      "cell_type": "code",
      "execution_count": null,
      "metadata": {
        "id": "UD1J5Lf0O2Vw"
      },
      "outputs": [],
      "source": [
        "import numpy as np\n",
        "def fakeLoss(y_true,y_pred):\n",
        "  print(type(y_true))\n",
        "  y_true = tf.make_ndarray(y_true)\n",
        "  y_pred = tf.make_ndarray(y_pred)\n",
        "\n",
        "  return np.sum((y_true+y_pred)**2)\n",
        "\n",
        "def loss_mse(y_true,y_pred):\n",
        "  return tf.reduce_sum(tf.square(y_true + y_pred))\n",
        "\n",
        "# def confidence(array):\n",
        "#   \"\"\"\n",
        "#   Parameters: 2D np array\n",
        "#   Returns: processed 2D np array according to color map rules + difference from the bounds\n",
        "#   \"\"\"\n",
        "#   a,b = array.shape\n",
        "#   f_arr = np.random.rand(a,b)\n",
        "#   for i in range(array.shape[0]):\n",
        "#     for j in range(array.shape[1]):\n",
        "#       bool1 = False\n",
        "#       new_var = array[i,j]\n",
        "#       if new_var <= 1 and new_var >= 0.001:\n",
        "#         f_arr[i,j] = (new_var-1)**2 + (new_var-.001)**2\n",
        "#       elif new_var < 0.001 and new_var >= -0.1:\n",
        "#         f_arr[i,j] = (new_var-0.001)**2 + (new_var+0.1)**2\n",
        "#       elif new_var <= -0.1 and new_var >= -1:\n",
        "#         f_arr[i,j] = (new_var+1)**2 + (new_var+.1)**2\n",
        "#   return f_arr\n",
        "\n",
        "def dice_loss(y_true, y_pred):\n",
        "  y_true = tf.cast(y_true, tf.float32)\n",
        "  y_pred = tf.math.sigmoid(y_pred)\n",
        "  numerator = 2 * tf.reduce_sum(y_true * y_pred)\n",
        "  denominator = tf.reduce_sum(y_true + y_pred)\n",
        "\n",
        "  return 1 - numerator / denominator\n",
        "\n",
        "\n",
        "def convert(array):\n",
        "  \"\"\"\n",
        "  Parameters: 2D tensor\n",
        "  Returns: processed 2D np array according to color map rules + difference from the bounds\n",
        "  0 - red\n",
        "  1 - Gray\n",
        "  2 - Black\n",
        "  \"\"\"\n",
        "  array=tf.reshape(array,[32,32])\n",
        "  a,b = array.shape\n",
        "  f_arr = np.random.rand(32,32)\n",
        "  for i in range(32):\n",
        "    for j in range(32):\n",
        "      new_var = array[i,j]\n",
        "      if new_var >= 0.001:\n",
        "        f_arr[i,j] = 0\n",
        "      elif new_var < 0.001 and new_var >= -0.1:\n",
        "        f_arr[i,j] = 1\n",
        "      elif new_var <= -0.1:\n",
        "        f_arr[i,j] = 2\n",
        "  return f_arr \n",
        "def distance(y_true,a,b,c,d):\n",
        "  \"\"\"\n",
        "  Parameters: (ytrue, numpy 2d array), (a, row index of ytrue right now), (b, column index), (c, )\n",
        "  Output: distance between this point and nearest target value\n",
        "  \"\"\"\n",
        "  return np.sqrt((c-a)**2 + (d-b)**2)\n",
        "def gen_distance(y_true,y_pred):\n",
        "  \"\"\"\n",
        "  Parameters: the converted 2D np array of ytrue and ypredicted\n",
        "  Ouput: An array that has distance values from y_true to y_pred\n",
        "  \"\"\"\n",
        "  assert y_true.shape == y_pred.shape\n",
        "\n",
        "  a,b = y_true.shape\n",
        "  f_arr = np.random.rand(a,b)\n",
        "  for i in range(y_true.shape[0]):\n",
        "    for j in range(y_true.shape[1]):\n",
        "      maxDist=-1\n",
        "      breakVar = False\n",
        "      if y_true[i,j] != y_pred[i,j]:\n",
        "        breakVar = False\n",
        "        maxDist=-1\n",
        "        for a in range(y_true.shape[0]):\n",
        "          for b in range(y_true.shape[1]):\n",
        "              if (distance(y_true,i,j,a,b)>maxDist):\n",
        "                if (distance(y_true,i,j,a,b)>10):\n",
        "                  maxDist=10\n",
        "                  breakVar = True\n",
        "                  break\n",
        "                maxDist = distance(y_true,i,j,a,b)\n",
        "          if (breakVar):\n",
        "            break\n",
        "      else:\n",
        "        f_arr[i,j] = 0\n",
        "  return f_arr\n",
        "\n",
        "def punisher(y_true, y_pred):\n",
        "  yTrue = convert(y_true)\n",
        "  yPred = convert(y_pred)\n",
        "  return np.sum(gen_distance(yTrue,yPred))\n",
        "\n",
        "def mod_cross_entropy_loss(y_true,y_pred):\n",
        "  true_sum = tf.reduce_sum(y_true)\n",
        "  pred_sum = tf.reduce_sum(y_pred)\n",
        "  yTrue = convert(y_true)/true_sum\n",
        "  yPred = convert(y_pred)/pred_sum\n",
        "  sum1 = 0\n",
        "  sum1 = (y_true-y_pred)**2\n",
        "  sum1 = tf.math.sqrt(tf.reduce_sum(sum1))\n",
        "  sum1 = sum1.numpy()\n",
        "  pred_prob = probDist(yPred.numpy())\n",
        "  true_prob = probDist(yTrue.numpy())\n",
        "  cross = -sum([true_prob[i]*math.log(pred_prob[i])/math.log(2) for i in range(len(true_prob))])\n",
        "  return (sum1/1024) + probDist() \n",
        "\n",
        "# punisher(np.random.rand(32,32),np.random.rand(32,32))\n",
        "# import numpy\n",
        "# import torch\n",
        "# import torch.nn as nn\n",
        "# import torch.nn.functional as F\n",
        "# import keras\n",
        "# import keras.backend as K\n",
        "# # class DiceLoss(nn.Module):\n",
        "# #     def __init__(self, weight=None, size_average=True):\n",
        "# #         super(DiceLoss, self).__init__()\n",
        "\n",
        "# #     def forward(self, inputs, targets, smooth=1):\n",
        "        \n",
        "# #         #comment out if your model contains a sigmoid or equivalent activation layer\n",
        "# #         inputs = F.sigmoid(inputs)       \n",
        "        \n",
        "# #         #flatten label and prediction tensors\n",
        "# #         inputs = inputs.view(-1)\n",
        "# #         targets = targets.view(-1)\n",
        "        \n",
        "# #         intersection = (inputs * targets).sum()                            \n",
        "# #         dice = (2.*intersection + smooth)/(inputs.sum() + targets.sum() + smooth)  \n",
        "        \n",
        "# #         return 1 - dice\n",
        "def spec_dice_loss(y_true, y_pred):\n",
        "  y_true = tf.cast(y_true, tf.float32)\n",
        "  y_pred = tf.math.sigmoid(y_pred)\n",
        "  numerator = 2 * tf.reduce_sum(y_true * y_pred)\n",
        "  denominator = tf.reduce_sum(y_true + y_pred)\n",
        "\n",
        "  return 1 - numerator / denominator\n",
        "\n",
        "# from scipy.spatial import distance_matrix\n",
        "# import numpy as np\n",
        "\n",
        "# not_zeros = np.argwhere(img != 0)\n",
        "# zeros = np.argwhere(img == 0)\n",
        "\n",
        "# dist_matrix = distance_matrix(zeros, not_zeros, p=2)\n",
        "# output = np.zeros((HEIGHT, WIDTH, 1), dtype=np.uint8)\n",
        "\n",
        "# i = 0\n",
        "# dist = np.min(dist_matrix, axis=1)\n",
        "# for y in range(HEIGHT):\n",
        "#   for x in range(WIDTH):\n",
        "#     if img[y,x] == 0:\n",
        "#       output[y,x] = dist[i]\n",
        "#       i += 1\n",
        "\n",
        "# from functools import partial\n",
        "\n",
        "# def loss_function(y_true, y_pred, weights):\n",
        "# ...\n",
        "\n",
        "# weight_input = Input(shape=(HEIGHT, WIDTH))\n",
        "# loss = partial(loss_function, weights=weight_input)\n",
        "\n"
      ]
    },
    {
      "cell_type": "markdown",
      "metadata": {
        "id": "N-L6Nq4Zyeae"
      },
      "source": [
        "### Classic Loss Functions"
      ]
    },
    {
      "cell_type": "code",
      "execution_count": null,
      "metadata": {
        "id": "Oshd3l2LceyJ",
        "colab": {
          "base_uri": "https://localhost:8080/"
        },
        "outputId": "d7f417e2-b9e7-48b3-83c1-6695291b9106"
      },
      "outputs": [
        {
          "output_type": "execute_result",
          "data": {
            "text/plain": [
              "<tf.Tensor: shape=(3, 3), dtype=float32, numpy=\n",
              "array([[0.  , 0.02, 0.  ],\n",
              "       [0.02, 0.  , 0.  ],\n",
              "       [0.02, 0.  , 0.96]], dtype=float32)>"
            ]
          },
          "metadata": {},
          "execution_count": 21
        }
      ],
      "source": [
        "y_true = tf.constant([[0,1,0],[1,0,0],[1,0,1]])\n",
        "y_true = tf.cast(y_true,'float')\n",
        "y_pred = tf.constant([[0,1,0],[1,0,0],[1,0,1]],dtype='float')\n",
        "weights = tf.constant([0.02,0.02,0.96],dtype='float')\n",
        "tf.math.multiply(tf.math.multiply(y_true, y_true),weights)"
      ]
    },
    {
      "cell_type": "code",
      "source": [
        "label_subset = labels[:30]\n",
        "freq = [0,0,0]\n",
        "label_subset.shape[0]\n",
        "for i in range(label_subset.shape[0]):\n",
        "  label_subset1 = labels[i, :, :, 0]\n",
        "  for j in range(label_subset1.shape[0]):\n",
        "    for k in range(label_subset1.shape[1]):\n",
        "      if (label_subset1[j][k] == 0):\n",
        "        freq[1] += 1\n",
        "      elif (label_subset1[j][k] == 1):\n",
        "        freq[2]+=1\n",
        "      else:\n",
        "        freq[0]+=1\n",
        "      # print(i,j,k)\n",
        "freq"
      ],
      "metadata": {
        "colab": {
          "base_uri": "https://localhost:8080/"
        },
        "id": "PrTR23HGKzkL",
        "outputId": "db694df5-3471-4c60-9aa4-6557b66eccde"
      },
      "execution_count": null,
      "outputs": [
        {
          "output_type": "execute_result",
          "data": {
            "text/plain": [
              "[3988, 26450, 282]"
            ]
          },
          "metadata": {},
          "execution_count": 22
        }
      ]
    },
    {
      "cell_type": "code",
      "source": [
        "prob = np.array(freq)/sum(freq)\n",
        "prob = 1/prob\n",
        "prob"
      ],
      "metadata": {
        "colab": {
          "base_uri": "https://localhost:8080/"
        },
        "id": "KytfXF96NuTP",
        "outputId": "424d1626-bf93-4c59-aead-fa14044466b8"
      },
      "execution_count": null,
      "outputs": [
        {
          "output_type": "execute_result",
          "data": {
            "text/plain": [
              "array([  7.70310933,   1.16143667, 108.93617021])"
            ]
          },
          "metadata": {},
          "execution_count": 23
        }
      ]
    },
    {
      "cell_type": "code",
      "source": [
        "prob"
      ],
      "metadata": {
        "colab": {
          "base_uri": "https://localhost:8080/"
        },
        "id": "9Cu4ADDEYV8Z",
        "outputId": "79858243-e6d7-4cd3-e959-f0ffa7e81e9b"
      },
      "execution_count": null,
      "outputs": [
        {
          "output_type": "execute_result",
          "data": {
            "text/plain": [
              "array([  7.70310933,   1.16143667, 108.93617021])"
            ]
          },
          "metadata": {},
          "execution_count": 24
        }
      ]
    },
    {
      "cell_type": "code",
      "execution_count": null,
      "metadata": {
        "id": "hUYgbhYnyhKW"
      },
      "outputs": [],
      "source": [
        "from keras import backend as K\n",
        "import math\n",
        "# Focal Tversky_loss\n",
        "def weigthed_cross_ent(y_true,y_pred):\n",
        "  y_true = tf.cast(y_true,'float')\n",
        "  y_pred = tf.cast(y_pred,'float')\n",
        "  weights = tf.constant(prob,dtype='float')\n",
        "  return -tf.reduce_sum(tf.math.multiply(tf.math.multiply(y_true, tf.math.log1p(y_pred)), weights))/1024\n",
        "  # , sample_weight=tf.constant([0.02,0.02, 0.96])\n",
        "  # return tf.keras.losses.CategoricalCrossentropy(y_true,y_pred)(sample_weights)\n",
        "class weighted_loss_func():\n",
        "  def __init__(self,weight):\n",
        "      self.weights = weight\n",
        "  def weighted_cross_entropy(y_true,y_pred):\n",
        "    y_true = tf.cast(y_true,'float')\n",
        "    y_pred = tf.cast(y_pred,'float')\n",
        "    weights = tf.constant(self.weights,dtype='float')\n",
        "    return tf.reduce_sum(tf.math.multiply(tf.math.multiply(y_true, tf.math.log1p(y_pred)), weights))\n",
        "  def getLoss(self):\n",
        "    return self.weighted_cross_entropy()\n",
        "# def weighted_cross_entropy(beta):\n",
        "#   def loss(y_true, y_pred):\n",
        "#     weight_a = beta * tf.cast(y_true, tf.float32)\n",
        "#     weight_b = 1 - tf.cast(y_true, tf.float32)\n",
        "    \n",
        "#     o = (tf.math.log1p(tf.exp(-tf.abs(y_pred))) + tf.nn.relu(-y_pred)) * (weight_a + weight_b) + y_pred * weight_b \n",
        "#     return tf.reduce_mean(o)\n",
        "\n",
        "#   return loss\n",
        "\n",
        "def big_weighted_cross_entropy(y_true, y_pred, beta = 100):\n",
        "  class_weights = tf.constant([[500, 1, 100]])\n",
        "  tf.math.log1p()\n",
        "  o = (tf.math.log1p(tf.exp(-tf.abs(y_pred))) + tf.nn.relu(-y_pred)) * (weight_a + weight_b) + y_pred * weight_b \n",
        "  return tf.reduce_mean(o)\n",
        "\n",
        "def probDist(y):\n",
        "  classes = [0,1,2]\n",
        "  prob = [0,0,0]\n",
        "  for i in range(y.shape[0]):\n",
        "    for j in range(y.shape[1]):\n",
        "      if (y[i,j] == 0):\n",
        "        prob[0]+=1\n",
        "      if (y[i,j] == 1):\n",
        "        prob[1]+=1\n",
        "      if (y[i,j] == 2):\n",
        "        prob[2]+=1\n",
        "  prob = np.array(prob)\n",
        "  return prob/(np.sum(prob))\n",
        "def weighted_bce(y_true, y_pred):\n",
        "  weights = (y_true * 59.) + 1.\n",
        "  bce = K.binary_crossentropy(y_true, y_pred)\n",
        "  weighted_bce = K.mean(bce * weights)\n",
        "  return weighted_bce\n",
        "def class_tversky(y_true, y_pred):\n",
        "    smooth = 1\n",
        "\n",
        "    y_true = K.permute_dimensions(y_true, (3,1,2,0))\n",
        "    y_pred = K.permute_dimensions(y_pred, (3,1,2,0))\n",
        "\n",
        "    y_true_pos = K.batch_flatten(y_true)\n",
        "    y_pred_pos = K.batch_flatten(y_pred)\n",
        "    true_pos = K.sum(y_true_pos * y_pred_pos, 1)\n",
        "    false_neg = K.sum(y_true_pos * (1-y_pred_pos), 1)\n",
        "    false_pos = K.sum((1-y_true_pos)*y_pred_pos, 1)\n",
        "    alpha = 0.7\n",
        "    return (true_pos + smooth)/(true_pos + alpha*false_neg + (1-alpha)*false_pos + smooth)\n",
        "\n",
        "def focal_tversky_loss(y_true,y_pred):\n",
        "    pt_1 = class_tversky(y_true, y_pred)\n",
        "    gamma = 0.75\n",
        "    return K.sum(K.pow((1-pt_1), gamma))\n",
        "\n",
        "# Dice Loss\n",
        "smooth = 1.\n",
        "def dice_coef(y_true, y_pred):\n",
        "    y_true_f = K.flatten(y_true)\n",
        "    y_pred_f = K.flatten(y_pred)\n",
        "    intersection = K.sum(y_true_f * y_pred_f)\n",
        "    return (2. * intersection + smooth) / (K.sum(y_true_f) + K.sum(y_pred_f) + smooth)\n",
        "\n",
        "def dice_coef_loss(y_true, y_pred):\n",
        "    return 1-dice_coef(y_true, y_pred)\n",
        "\n",
        "#Keras\n",
        "ALPHA = 0.8\n",
        "GAMMA = 2\n",
        "\n",
        "def focal_loss(targets, inputs, alpha=ALPHA, gamma=GAMMA):    \n",
        "    \n",
        "    inputs = K.flatten(inputs)\n",
        "    targets = K.flatten(targets)\n",
        "    \n",
        "    BCE = K.binary_crossentropy(targets, inputs)\n",
        "    BCE_EXP = K.exp(-BCE)\n",
        "    focal_loss = K.mean(alpha * K.pow((1-BCE_EXP), gamma) * BCE)\n",
        "    \n",
        "    return focal_loss\n",
        "\n",
        "def dice_coef_binary(y_true, y_pred, smooth=1e-7):\n",
        "    '''\n",
        "    Dice coefficient for 2 categories. Ignores background pixel label 0\n",
        "    Pass to model as metric during compile statement\n",
        "    '''\n",
        "    y_true_f = K.flatten(K.one_hot(K.cast(y_true, 'int32'), num_classes=2)[...,1:])\n",
        "    y_pred_f = K.flatten(y_pred[...,1:])\n",
        "    intersect = K.sum(y_true_f * y_pred_f, axis=-1)\n",
        "    denom = K.sum(y_true_f + y_pred_f, axis=-1)\n",
        "    return K.mean((2. * intersect / (denom + smooth)))\n",
        "\n",
        "\n",
        "def dice_coef_binary_loss(y_true, y_pred):\n",
        "    '''\n",
        "    Dice loss to minimize. Pass to model as loss during compile statement\n",
        "    '''\n",
        "    return 1 - dice_coef_binary(y_true, y_pred)\n",
        "\n",
        "def get_loss_function(loss_function_name):\n",
        "    if loss_function_name == \"focal_tversky_loss\":\n",
        "        loss_function = focal_tversky_loss\n",
        "    elif loss_function_name == \"dice_coef_loss\":\n",
        "        loss_function = dice_coef_loss\n",
        "    elif loss_function_name == \"dice_coef_binary_loss\":\n",
        "        loss_function = dice_coef_binary_loss\n",
        "    elif loss_function_name == \"focal_loss\":\n",
        "        loss_function = focal_loss\n",
        "    elif loss_function_name == \"sparse_categorical_crossentropy\":\n",
        "        loss_function = tf.keras.losses.SparseCategoricalCrossentropy()\n",
        "    else:\n",
        "        loss_function = loss_function_name # for keras implemented losses like \"categorical_crossentropy\"\n",
        "        \n",
        "    return loss_function"
      ]
    },
    {
      "cell_type": "markdown",
      "metadata": {
        "id": "Sd-jbgA0JRnI"
      },
      "source": [
        "## Models"
      ]
    },
    {
      "cell_type": "markdown",
      "metadata": {
        "id": "Mtxtc1_VZMU6"
      },
      "source": [
        "### Keras CNN "
      ]
    },
    {
      "cell_type": "code",
      "execution_count": null,
      "metadata": {
        "id": "W1lRtXb2YRG2"
      },
      "outputs": [],
      "source": [
        "from tensorflow.keras import Input\n",
        "DROPOUT = 0.5\n",
        "\n",
        "input_arr = [] #size 12\n",
        "models_arr = [] #size 12\n",
        "for i in range(12):\n",
        "  input_arr.append(Input(shape=(32,32,1)))\n",
        "for i in range(12):\n",
        "  models_arr.append(layers.Conv2D(64,(3,3),activation='relu',padding='same')(input_arr[i]))\n",
        "  models_arr[i] = layers.MaxPool2D((2,2))(models_arr[i])\n",
        "  models_arr[i] = layers.BatchNormalization()(models_arr[i])\n",
        "  models_arr[i] = layers.Dropout(DROPOUT)(models_arr[i])\n",
        "\n",
        "\n",
        "  models_arr[i]=layers.Conv2D(16,(3,3),activation='relu',padding='same')(models_arr[i])\n",
        "  models_arr[i] = layers.MaxPool2D((2,2))(models_arr[i])\n",
        "  models_arr[i] = layers.BatchNormalization()(models_arr[i])\n",
        "  models_arr[i] = layers.Dropout(DROPOUT)(models_arr[i])\n",
        "# input_arr = np.array(input_arr)\n",
        "  \n",
        "encoder = layers.concatenate(models_arr)\n",
        "encoder_model = Model(input_arr,encoder)\n",
        "# encoder_model.summary()\n",
        "# models_arr[0].summary()"
      ]
    },
    {
      "cell_type": "code",
      "execution_count": null,
      "metadata": {
        "id": "wnzRfzvegXfg"
      },
      "outputs": [],
      "source": [
        "autoencoder = layers.Conv2D(16, (3, 3), activation='relu', padding='same')(encoder)\n",
        "autoencoder = (layers.UpSampling2D((2, 2)))(autoencoder)\n",
        "autoencoder = layers.BatchNormalization()(autoencoder)\n",
        "autoencoder = layers.Dropout(DROPOUT)(autoencoder)\n",
        "\n",
        "\n",
        "autoencoder = tf.keras.layers.Conv2D(64, (3, 3), activation='relu', padding='same')(autoencoder)\n",
        "autoencoder = tf.keras.layers.UpSampling2D((2, 2)) (autoencoder)\n",
        "autoencoder = layers.BatchNormalization()(autoencoder)\n",
        "autoencoder = layers.Dropout(DROPOUT)(autoencoder)\n",
        "\n",
        "\n",
        "autoencoder = layers.Conv2D(1, (3, 3), activation='tanh', padding='same')(autoencoder)\n",
        "autoencoder = layers.Dense(3,activation='softmax')(autoencoder)\n",
        "autoencoder = Model(inputs = input_arr,outputs = autoencoder)\n",
        "opt = keras.optimizers.Adam(learning_rate=0.00001)\n",
        "\n",
        "                    # metrics=[tf.keras.metrics.Recall(),tf.keras.metrics.AUC()])\n",
        "\n",
        "\n",
        "\n",
        "\n",
        "# autoencoder.summary()"
      ]
    },
    {
      "cell_type": "markdown",
      "metadata": {
        "id": "5KvuRi9DLI6W"
      },
      "source": [
        "#### Training"
      ]
    },
    {
      "cell_type": "code",
      "execution_count": null,
      "metadata": {
        "id": "4dj49STCEQRE"
      },
      "outputs": [],
      "source": [
        "from sklearn.preprocessing import LabelBinarizer\n",
        "# tf.enable_eager_execution()\n",
        "enc = LabelBinarizer()\n",
        "labels1 = labels.numpy()\n",
        "y_train_encoded = enc.fit_transform(labels1.flatten())\n",
        "y_val_encoded=enc.transform(y_test.numpy().flatten())\n",
        "\n",
        "y_train_encoded = y_train_encoded.reshape(train_batch,32,32,3)\n",
        "y_val_encoded = y_val_encoded.reshape(1689,32,32,3)\n",
        "\n",
        "# labels.shape"
      ]
    },
    {
      "cell_type": "markdown",
      "metadata": {
        "id": "ENb0DIR057Vs"
      },
      "source": [
        "##### Categorical Training"
      ]
    },
    {
      "cell_type": "code",
      "execution_count": null,
      "metadata": {
        "id": "G5Hw_QA2LKfX",
        "colab": {
          "base_uri": "https://localhost:8080/"
        },
        "outputId": "dd786a3b-7b76-4028-f9b2-04fa886d89e4"
      },
      "outputs": [
        {
          "output_type": "stream",
          "name": "stdout",
          "text": [
            "Epoch 1/10\n",
            "207/207 - 17s - loss: -1.1314e+02 - recall_1: 0.5204 - auc_1: 0.6195 - val_loss: -1.2336e+02 - val_recall_1: 0.2088 - val_auc_1: 0.2686 - 17s/epoch - 80ms/step\n",
            "Epoch 2/10\n",
            "207/207 - 8s - loss: -1.2276e+02 - recall_1: 0.6260 - auc_1: 0.6497 - val_loss: -1.3095e+02 - val_recall_1: 0.6176 - val_auc_1: 0.6110 - 8s/epoch - 38ms/step\n",
            "Epoch 3/10\n",
            "207/207 - 8s - loss: -1.2776e+02 - recall_1: 0.6664 - auc_1: 0.6622 - val_loss: -1.3041e+02 - val_recall_1: 0.7947 - val_auc_1: 0.7748 - 8s/epoch - 39ms/step\n",
            "Epoch 4/10\n",
            "207/207 - 8s - loss: -1.3125e+02 - recall_1: 0.6979 - auc_1: 0.6771 - val_loss: -1.3899e+02 - val_recall_1: 0.6788 - val_auc_1: 0.6588 - 8s/epoch - 38ms/step\n",
            "Epoch 5/10\n",
            "207/207 - 8s - loss: -1.3335e+02 - recall_1: 0.7145 - auc_1: 0.6899 - val_loss: -1.3677e+02 - val_recall_1: 0.7610 - val_auc_1: 0.7344 - 8s/epoch - 39ms/step\n",
            "Epoch 6/10\n",
            "207/207 - 8s - loss: -1.3507e+02 - recall_1: 0.7096 - auc_1: 0.6831 - val_loss: -1.3963e+02 - val_recall_1: 0.7196 - val_auc_1: 0.6942 - 8s/epoch - 39ms/step\n",
            "Epoch 7/10\n",
            "207/207 - 8s - loss: -1.3608e+02 - recall_1: 0.7264 - auc_1: 0.6969 - val_loss: -1.4178e+02 - val_recall_1: 0.7378 - val_auc_1: 0.7125 - 8s/epoch - 38ms/step\n",
            "Epoch 8/10\n",
            "207/207 - 8s - loss: -1.3691e+02 - recall_1: 0.7240 - auc_1: 0.6992 - val_loss: -1.4324e+02 - val_recall_1: 0.6705 - val_auc_1: 0.6512 - 8s/epoch - 38ms/step\n",
            "Epoch 9/10\n",
            "207/207 - 8s - loss: -1.3789e+02 - recall_1: 0.7316 - auc_1: 0.6986 - val_loss: -1.4194e+02 - val_recall_1: 0.6562 - val_auc_1: 0.6391 - 8s/epoch - 38ms/step\n",
            "Epoch 10/10\n",
            "207/207 - 8s - loss: -1.3838e+02 - recall_1: 0.7357 - auc_1: 0.7098 - val_loss: -1.4404e+02 - val_recall_1: 0.6958 - val_auc_1: 0.6778 - 8s/epoch - 38ms/step\n"
          ]
        }
      ],
      "source": [
        "# lossFunc = weighted_loss_func([1,1,1]).getLoss()\n",
        "autoencoder.compile(optimizer='adam', loss=weigthed_cross_ent,\n",
        "                    metrics=[tf.keras.metrics.Recall(),tf.keras.metrics.AUC()])\n",
        "\n",
        "\n",
        "# autoencoder.fit({inputs[:,:,:,0:1]},labels)\n",
        "# autoencoder.fit({inputs[:,:,:,0:1]},labels).\n",
        "def dataProcess(data):\n",
        "  k = []\n",
        "  for i in range(12):\n",
        "    k.append(data[:,:,:,i:i+1])\n",
        "  return k\n",
        "\n",
        "\n",
        "k = dataProcess(inputs)\n",
        "mod_x_test = dataProcess(x_test)\n",
        "history_1 = autoencoder.fit(\n",
        "            k, y_train_encoded,\n",
        "            epochs=10,\n",
        "            validation_data = (mod_x_test,y_val_encoded),\n",
        "            batch_size=64,\n",
        "            verbose=2)\n",
        "\n",
        "# l = []\n",
        "# validation_data=(np.random.randn(12,100,32,32,1).tolist(),np.random.randn(100,32,32,1).tolist()),\n",
        "\n",
        "# for i in range(12):\n",
        "#   l.append(inputs[0,:,:,i])\n",
        "# l\n",
        "# # autoencoder.evaluate(l)\n",
        "# # plt.imshow(autoencoder.predict(k[0]))"
      ]
    },
    {
      "cell_type": "code",
      "execution_count": null,
      "metadata": {
        "id": "W19MJgUIgUCM",
        "colab": {
          "base_uri": "https://localhost:8080/"
        },
        "outputId": "d58afb5a-c39c-4e3d-9bb0-4d3ee69d4c15"
      },
      "outputs": [
        {
          "output_type": "execute_result",
          "data": {
            "text/plain": [
              "array([[[[0, 1, 0],\n",
              "         [0, 1, 0],\n",
              "         [0, 1, 0],\n",
              "         ...,\n",
              "         [0, 1, 0],\n",
              "         [0, 1, 0],\n",
              "         [0, 1, 0]],\n",
              "\n",
              "        [[0, 0, 1],\n",
              "         [0, 1, 0],\n",
              "         [0, 1, 0],\n",
              "         ...,\n",
              "         [0, 1, 0],\n",
              "         [0, 1, 0],\n",
              "         [0, 1, 0]],\n",
              "\n",
              "        [[0, 0, 1],\n",
              "         [0, 1, 0],\n",
              "         [0, 1, 0],\n",
              "         ...,\n",
              "         [0, 1, 0],\n",
              "         [0, 1, 0],\n",
              "         [0, 1, 0]],\n",
              "\n",
              "        ...,\n",
              "\n",
              "        [[0, 1, 0],\n",
              "         [0, 1, 0],\n",
              "         [0, 1, 0],\n",
              "         ...,\n",
              "         [0, 1, 0],\n",
              "         [0, 1, 0],\n",
              "         [0, 1, 0]],\n",
              "\n",
              "        [[0, 1, 0],\n",
              "         [0, 1, 0],\n",
              "         [0, 1, 0],\n",
              "         ...,\n",
              "         [0, 1, 0],\n",
              "         [0, 1, 0],\n",
              "         [0, 1, 0]],\n",
              "\n",
              "        [[0, 1, 0],\n",
              "         [0, 1, 0],\n",
              "         [0, 1, 0],\n",
              "         ...,\n",
              "         [0, 1, 0],\n",
              "         [0, 1, 0],\n",
              "         [0, 1, 0]]],\n",
              "\n",
              "\n",
              "       [[[0, 1, 0],\n",
              "         [0, 1, 0],\n",
              "         [0, 1, 0],\n",
              "         ...,\n",
              "         [0, 1, 0],\n",
              "         [0, 1, 0],\n",
              "         [0, 1, 0]],\n",
              "\n",
              "        [[0, 1, 0],\n",
              "         [0, 1, 0],\n",
              "         [0, 1, 0],\n",
              "         ...,\n",
              "         [0, 1, 0],\n",
              "         [0, 1, 0],\n",
              "         [0, 1, 0]],\n",
              "\n",
              "        [[0, 1, 0],\n",
              "         [0, 1, 0],\n",
              "         [0, 1, 0],\n",
              "         ...,\n",
              "         [0, 1, 0],\n",
              "         [0, 1, 0],\n",
              "         [0, 1, 0]],\n",
              "\n",
              "        ...,\n",
              "\n",
              "        [[0, 1, 0],\n",
              "         [0, 1, 0],\n",
              "         [0, 1, 0],\n",
              "         ...,\n",
              "         [0, 1, 0],\n",
              "         [0, 1, 0],\n",
              "         [0, 1, 0]],\n",
              "\n",
              "        [[0, 1, 0],\n",
              "         [0, 1, 0],\n",
              "         [0, 1, 0],\n",
              "         ...,\n",
              "         [0, 1, 0],\n",
              "         [0, 1, 0],\n",
              "         [0, 1, 0]],\n",
              "\n",
              "        [[0, 1, 0],\n",
              "         [0, 1, 0],\n",
              "         [0, 1, 0],\n",
              "         ...,\n",
              "         [0, 1, 0],\n",
              "         [0, 1, 0],\n",
              "         [0, 1, 0]]],\n",
              "\n",
              "\n",
              "       [[[0, 1, 0],\n",
              "         [0, 1, 0],\n",
              "         [0, 1, 0],\n",
              "         ...,\n",
              "         [0, 1, 0],\n",
              "         [0, 1, 0],\n",
              "         [0, 1, 0]],\n",
              "\n",
              "        [[0, 1, 0],\n",
              "         [0, 1, 0],\n",
              "         [0, 1, 0],\n",
              "         ...,\n",
              "         [0, 1, 0],\n",
              "         [0, 1, 0],\n",
              "         [0, 1, 0]],\n",
              "\n",
              "        [[0, 1, 0],\n",
              "         [0, 1, 0],\n",
              "         [0, 1, 0],\n",
              "         ...,\n",
              "         [0, 1, 0],\n",
              "         [0, 1, 0],\n",
              "         [0, 1, 0]],\n",
              "\n",
              "        ...,\n",
              "\n",
              "        [[0, 1, 0],\n",
              "         [0, 1, 0],\n",
              "         [0, 1, 0],\n",
              "         ...,\n",
              "         [0, 1, 0],\n",
              "         [0, 1, 0],\n",
              "         [0, 1, 0]],\n",
              "\n",
              "        [[0, 1, 0],\n",
              "         [0, 1, 0],\n",
              "         [0, 1, 0],\n",
              "         ...,\n",
              "         [0, 1, 0],\n",
              "         [0, 1, 0],\n",
              "         [0, 1, 0]],\n",
              "\n",
              "        [[0, 1, 0],\n",
              "         [0, 1, 0],\n",
              "         [0, 1, 0],\n",
              "         ...,\n",
              "         [0, 1, 0],\n",
              "         [0, 1, 0],\n",
              "         [0, 1, 0]]],\n",
              "\n",
              "\n",
              "       ...,\n",
              "\n",
              "\n",
              "       [[[0, 1, 0],\n",
              "         [0, 1, 0],\n",
              "         [0, 1, 0],\n",
              "         ...,\n",
              "         [0, 1, 0],\n",
              "         [0, 1, 0],\n",
              "         [0, 1, 0]],\n",
              "\n",
              "        [[0, 1, 0],\n",
              "         [0, 1, 0],\n",
              "         [0, 1, 0],\n",
              "         ...,\n",
              "         [0, 1, 0],\n",
              "         [0, 1, 0],\n",
              "         [0, 1, 0]],\n",
              "\n",
              "        [[0, 1, 0],\n",
              "         [0, 1, 0],\n",
              "         [0, 1, 0],\n",
              "         ...,\n",
              "         [0, 1, 0],\n",
              "         [0, 1, 0],\n",
              "         [0, 1, 0]],\n",
              "\n",
              "        ...,\n",
              "\n",
              "        [[0, 1, 0],\n",
              "         [0, 1, 0],\n",
              "         [0, 1, 0],\n",
              "         ...,\n",
              "         [0, 1, 0],\n",
              "         [0, 1, 0],\n",
              "         [0, 1, 0]],\n",
              "\n",
              "        [[0, 1, 0],\n",
              "         [0, 1, 0],\n",
              "         [0, 1, 0],\n",
              "         ...,\n",
              "         [0, 1, 0],\n",
              "         [0, 1, 0],\n",
              "         [0, 1, 0]],\n",
              "\n",
              "        [[0, 1, 0],\n",
              "         [0, 1, 0],\n",
              "         [0, 1, 0],\n",
              "         ...,\n",
              "         [0, 1, 0],\n",
              "         [0, 1, 0],\n",
              "         [0, 1, 0]]],\n",
              "\n",
              "\n",
              "       [[[0, 1, 0],\n",
              "         [0, 1, 0],\n",
              "         [0, 1, 0],\n",
              "         ...,\n",
              "         [0, 1, 0],\n",
              "         [0, 1, 0],\n",
              "         [0, 1, 0]],\n",
              "\n",
              "        [[0, 1, 0],\n",
              "         [0, 1, 0],\n",
              "         [0, 1, 0],\n",
              "         ...,\n",
              "         [0, 1, 0],\n",
              "         [0, 1, 0],\n",
              "         [0, 1, 0]],\n",
              "\n",
              "        [[0, 1, 0],\n",
              "         [0, 1, 0],\n",
              "         [0, 1, 0],\n",
              "         ...,\n",
              "         [0, 1, 0],\n",
              "         [0, 1, 0],\n",
              "         [0, 1, 0]],\n",
              "\n",
              "        ...,\n",
              "\n",
              "        [[0, 1, 0],\n",
              "         [0, 1, 0],\n",
              "         [0, 1, 0],\n",
              "         ...,\n",
              "         [0, 1, 0],\n",
              "         [0, 1, 0],\n",
              "         [0, 1, 0]],\n",
              "\n",
              "        [[0, 1, 0],\n",
              "         [0, 1, 0],\n",
              "         [0, 1, 0],\n",
              "         ...,\n",
              "         [0, 1, 0],\n",
              "         [0, 1, 0],\n",
              "         [0, 1, 0]],\n",
              "\n",
              "        [[0, 1, 0],\n",
              "         [0, 1, 0],\n",
              "         [0, 1, 0],\n",
              "         ...,\n",
              "         [0, 1, 0],\n",
              "         [0, 1, 0],\n",
              "         [0, 1, 0]]],\n",
              "\n",
              "\n",
              "       [[[0, 1, 0],\n",
              "         [0, 1, 0],\n",
              "         [0, 1, 0],\n",
              "         ...,\n",
              "         [0, 1, 0],\n",
              "         [0, 1, 0],\n",
              "         [0, 1, 0]],\n",
              "\n",
              "        [[0, 1, 0],\n",
              "         [0, 1, 0],\n",
              "         [0, 1, 0],\n",
              "         ...,\n",
              "         [0, 1, 0],\n",
              "         [0, 1, 0],\n",
              "         [0, 1, 0]],\n",
              "\n",
              "        [[0, 1, 0],\n",
              "         [0, 1, 0],\n",
              "         [0, 1, 0],\n",
              "         ...,\n",
              "         [0, 1, 0],\n",
              "         [0, 1, 0],\n",
              "         [0, 1, 0]],\n",
              "\n",
              "        ...,\n",
              "\n",
              "        [[0, 1, 0],\n",
              "         [0, 1, 0],\n",
              "         [0, 1, 0],\n",
              "         ...,\n",
              "         [0, 1, 0],\n",
              "         [0, 1, 0],\n",
              "         [0, 1, 0]],\n",
              "\n",
              "        [[0, 1, 0],\n",
              "         [0, 1, 0],\n",
              "         [0, 1, 0],\n",
              "         ...,\n",
              "         [0, 1, 0],\n",
              "         [0, 1, 0],\n",
              "         [0, 1, 0]],\n",
              "\n",
              "        [[0, 1, 0],\n",
              "         [0, 1, 0],\n",
              "         [0, 1, 0],\n",
              "         ...,\n",
              "         [0, 1, 0],\n",
              "         [0, 1, 0],\n",
              "         [0, 1, 0]]]])"
            ]
          },
          "metadata": {},
          "execution_count": 48
        }
      ],
      "source": [
        "y_val_encoded"
      ]
    },
    {
      "cell_type": "markdown",
      "metadata": {
        "id": "RWns7hn67pHC"
      },
      "source": [
        "## Evaluation Visualizations"
      ]
    },
    {
      "cell_type": "code",
      "execution_count": null,
      "metadata": {
        "id": "CfInC4rF7vMg"
      },
      "outputs": [],
      "source": [
        "from matplotlib import pyplot as plt\n",
        "from matplotlib.pyplot import figure\n",
        "a,b = 18,0"
      ]
    },
    {
      "cell_type": "markdown",
      "metadata": {
        "id": "gOY1TEko6eae"
      },
      "source": [
        "### Train Predictions"
      ]
    },
    {
      "cell_type": "code",
      "execution_count": null,
      "metadata": {
        "id": "b1t-sUdZ6iRc",
        "colab": {
          "base_uri": "https://localhost:8080/"
        },
        "outputId": "4e72554c-8e8c-434a-a5ed-f4a26c8672a8"
      },
      "outputs": [
        {
          "output_type": "execute_result",
          "data": {
            "text/plain": [
              "array([[[[0.05691629, 0.8627801 , 0.0803036 ],\n",
              "         [0.0547982 , 0.87497735, 0.07022448],\n",
              "         [0.05911758, 0.8486192 , 0.09226318],\n",
              "         ...,\n",
              "         [0.03769092, 0.9412021 , 0.02110693],\n",
              "         [0.03781786, 0.94085747, 0.02132469],\n",
              "         [0.03957802, 0.9359056 , 0.02451642]],\n",
              "\n",
              "        [[0.06514813, 0.79868865, 0.13616319],\n",
              "         [0.06703026, 0.3988114 , 0.5341583 ],\n",
              "         [0.03588618, 0.11890251, 0.84521127],\n",
              "         ...,\n",
              "         [0.03760197, 0.9414427 , 0.02095529],\n",
              "         [0.03760297, 0.94144   , 0.020957  ],\n",
              "         [0.03769141, 0.94120085, 0.02110776]],\n",
              "\n",
              "        [[0.03177685, 0.09699071, 0.8712325 ],\n",
              "         [0.00892964, 0.01289732, 0.9781731 ],\n",
              "         [0.00816705, 0.0112255 , 0.9806074 ],\n",
              "         ...,\n",
              "         [0.03760177, 0.94144326, 0.02095494],\n",
              "         [0.03760197, 0.9414427 , 0.02095529],\n",
              "         [0.03763845, 0.9413442 , 0.02101738]],\n",
              "\n",
              "        ...,\n",
              "\n",
              "        [[0.03761382, 0.94141066, 0.02097545],\n",
              "         [0.03760176, 0.94144326, 0.02095493],\n",
              "         [0.03760172, 0.9414434 , 0.02095488],\n",
              "         ...,\n",
              "         [0.00792776, 0.01071853, 0.98135376],\n",
              "         [0.00792776, 0.01071853, 0.98135376],\n",
              "         [0.00792776, 0.01071853, 0.98135376]],\n",
              "\n",
              "        [[0.03764607, 0.9413236 , 0.02103038],\n",
              "         [0.03760196, 0.9414427 , 0.02095528],\n",
              "         [0.03760175, 0.9414434 , 0.02095491],\n",
              "         ...,\n",
              "         [0.00792776, 0.01071853, 0.98135376],\n",
              "         [0.00792776, 0.01071853, 0.98135376],\n",
              "         [0.00792776, 0.01071853, 0.98135376]],\n",
              "\n",
              "        [[0.03836671, 0.9393481 , 0.02228513],\n",
              "         [0.03762723, 0.9413745 , 0.02099827],\n",
              "         [0.03760964, 0.94142205, 0.02096834],\n",
              "         ...,\n",
              "         [0.00792776, 0.01071853, 0.98135376],\n",
              "         [0.00792776, 0.01071853, 0.98135376],\n",
              "         [0.00792776, 0.01071853, 0.98135376]]],\n",
              "\n",
              "\n",
              "       [[[0.04260988, 0.92656374, 0.03082631],\n",
              "         [0.03848965, 0.93900585, 0.02250452],\n",
              "         [0.03820734, 0.9397895 , 0.02200308],\n",
              "         ...,\n",
              "         [0.03765909, 0.9412883 , 0.02105258],\n",
              "         [0.03772951, 0.9410976 , 0.02117296],\n",
              "         [0.03936666, 0.93651766, 0.02411575]],\n",
              "\n",
              "        [[0.03802378, 0.94029474, 0.02168143],\n",
              "         [0.03763105, 0.94136417, 0.02100478],\n",
              "         [0.03761336, 0.94141203, 0.02097466],\n",
              "         ...,\n",
              "         [0.03760204, 0.94144255, 0.0209554 ],\n",
              "         [0.03760344, 0.94143873, 0.02095778],\n",
              "         [0.03778463, 0.9409479 , 0.02126753]],\n",
              "\n",
              "        [[0.03793682, 0.940533  , 0.02153026],\n",
              "         [0.03761654, 0.94140345, 0.02098006],\n",
              "         [0.03760717, 0.9414287 , 0.02096414],\n",
              "         ...,\n",
              "         [0.03760181, 0.9414432 , 0.02095501],\n",
              "         [0.03760221, 0.94144213, 0.02095569],\n",
              "         [0.0376816 , 0.9412274 , 0.021091  ]],\n",
              "\n",
              "        ...,\n",
              "\n",
              "        [[0.0422656 , 0.92767996, 0.03005441],\n",
              "         [0.03891576, 0.93780714, 0.02327716],\n",
              "         [0.03802473, 0.9402922 , 0.02168309],\n",
              "         ...,\n",
              "         [0.00792776, 0.01071853, 0.98135376],\n",
              "         [0.00792776, 0.01071853, 0.98135376],\n",
              "         [0.00792776, 0.01071853, 0.98135376]],\n",
              "\n",
              "        [[0.04711063, 0.91049343, 0.04239603],\n",
              "         [0.04177591, 0.9292424 , 0.02898173],\n",
              "         [0.03907973, 0.9373406 , 0.0235796 ],\n",
              "         ...,\n",
              "         [0.00792776, 0.01071853, 0.98135376],\n",
              "         [0.00792776, 0.01071853, 0.98135376],\n",
              "         [0.00792776, 0.01071853, 0.98135376]],\n",
              "\n",
              "        [[0.0616852 , 0.82972914, 0.10858568],\n",
              "         [0.05136327, 0.89233255, 0.05630412],\n",
              "         [0.04537405, 0.9170369 , 0.03758901],\n",
              "         ...,\n",
              "         [0.00792776, 0.01071853, 0.98135376],\n",
              "         [0.00792776, 0.01071853, 0.98135376],\n",
              "         [0.00792776, 0.01071853, 0.98135376]]],\n",
              "\n",
              "\n",
              "       [[[0.04508235, 0.9180921 , 0.03682561],\n",
              "         [0.04016045, 0.9341937 , 0.02564593],\n",
              "         [0.04015044, 0.93422335, 0.02562621],\n",
              "         ...,\n",
              "         [0.07201508, 0.69119614, 0.23678875],\n",
              "         [0.07261188, 0.6719525 , 0.25543562],\n",
              "         [0.07235079, 0.6810203 , 0.24662885]],\n",
              "\n",
              "        [[0.03879651, 0.93814445, 0.02305901],\n",
              "         [0.03783987, 0.94079745, 0.02136263],\n",
              "         [0.03782756, 0.940831  , 0.02134141],\n",
              "         ...,\n",
              "         [0.06448718, 0.80523497, 0.1302778 ],\n",
              "         [0.06595495, 0.79020166, 0.1438434 ],\n",
              "         [0.07138941, 0.7072547 , 0.22135586]],\n",
              "\n",
              "        [[0.03858347, 0.9387435 , 0.02267301],\n",
              "         [0.03778741, 0.9409402 , 0.02127232],\n",
              "         [0.03778311, 0.940952  , 0.02126492],\n",
              "         ...,\n",
              "         [0.06615624, 0.7879906 , 0.14585309],\n",
              "         [0.06629819, 0.7864071 , 0.1472947 ],\n",
              "         [0.07129835, 0.7093604 , 0.21934131]],\n",
              "\n",
              "        ...,\n",
              "\n",
              "        [[0.00792776, 0.01071853, 0.98135376],\n",
              "         [0.00792776, 0.01071853, 0.98135376],\n",
              "         [0.00792776, 0.01071853, 0.98135376],\n",
              "         ...,\n",
              "         [0.00792776, 0.01071853, 0.98135376],\n",
              "         [0.00792776, 0.01071853, 0.98135376],\n",
              "         [0.00792776, 0.01071853, 0.98135376]],\n",
              "\n",
              "        [[0.00792776, 0.01071853, 0.98135376],\n",
              "         [0.00792776, 0.01071853, 0.98135376],\n",
              "         [0.00792776, 0.01071853, 0.98135376],\n",
              "         ...,\n",
              "         [0.00792776, 0.01071853, 0.98135376],\n",
              "         [0.00792776, 0.01071853, 0.98135376],\n",
              "         [0.00792776, 0.01071853, 0.98135376]],\n",
              "\n",
              "        [[0.00792794, 0.01071892, 0.98135316],\n",
              "         [0.00792776, 0.01071853, 0.98135376],\n",
              "         [0.00792776, 0.01071853, 0.98135376],\n",
              "         ...,\n",
              "         [0.00792776, 0.01071853, 0.98135376],\n",
              "         [0.00792776, 0.01071853, 0.98135376],\n",
              "         [0.00792776, 0.01071853, 0.98135376]]],\n",
              "\n",
              "\n",
              "       ...,\n",
              "\n",
              "\n",
              "       [[[0.03796021, 0.94046897, 0.02157083],\n",
              "         [0.03761444, 0.94140905, 0.02097651],\n",
              "         [0.03760554, 0.941433  , 0.02096137],\n",
              "         ...,\n",
              "         [0.03762243, 0.9413874 , 0.02099009],\n",
              "         [0.03767355, 0.94124913, 0.02107725],\n",
              "         [0.0386658 , 0.9385126 , 0.02282161]],\n",
              "\n",
              "        [[0.03761273, 0.9414137 , 0.02097359],\n",
              "         [0.03760176, 0.94144326, 0.02095493],\n",
              "         [0.03760172, 0.9414434 , 0.02095488],\n",
              "         ...,\n",
              "         [0.03760174, 0.9414434 , 0.0209549 ],\n",
              "         [0.03760192, 0.94144285, 0.02095521],\n",
              "         [0.03763102, 0.94136417, 0.02100473]],\n",
              "\n",
              "        [[0.03760468, 0.94143546, 0.02095989],\n",
              "         [0.03760172, 0.9414434 , 0.02095488],\n",
              "         [0.03760172, 0.9414434 , 0.02095488],\n",
              "         ...,\n",
              "         [0.03760172, 0.9414434 , 0.02095488],\n",
              "         [0.03760176, 0.94144326, 0.02095493],\n",
              "         [0.03761215, 0.9414153 , 0.02097261]],\n",
              "\n",
              "        ...,\n",
              "\n",
              "        [[0.03760701, 0.94142926, 0.02096385],\n",
              "         [0.03760172, 0.9414434 , 0.02095488],\n",
              "         [0.03760172, 0.9414434 , 0.02095488],\n",
              "         ...,\n",
              "         [0.00792776, 0.01071853, 0.98135376],\n",
              "         [0.00792776, 0.01071853, 0.98135376],\n",
              "         [0.00792776, 0.01071853, 0.98135376]],\n",
              "\n",
              "        [[0.03762274, 0.94138664, 0.02099063],\n",
              "         [0.03760177, 0.94144326, 0.02095496],\n",
              "         [0.03760172, 0.9414434 , 0.02095488],\n",
              "         ...,\n",
              "         [0.00792776, 0.01071853, 0.98135376],\n",
              "         [0.00792776, 0.01071853, 0.98135376],\n",
              "         [0.00792776, 0.01071853, 0.98135376]],\n",
              "\n",
              "        [[0.0380679 , 0.94017375, 0.02175841],\n",
              "         [0.03761122, 0.9414177 , 0.02097102],\n",
              "         [0.03760409, 0.94143695, 0.02095888],\n",
              "         ...,\n",
              "         [0.00792776, 0.01071853, 0.98135376],\n",
              "         [0.00792776, 0.01071853, 0.98135376],\n",
              "         [0.00792776, 0.01071853, 0.98135376]]],\n",
              "\n",
              "\n",
              "       [[[0.0480394 , 0.9067991 , 0.04516152],\n",
              "         [0.04339324, 0.92396784, 0.03263886],\n",
              "         [0.04482676, 0.9190064 , 0.03616676],\n",
              "         ...,\n",
              "         [0.05530305, 0.259179  , 0.68551797],\n",
              "         [0.05752553, 0.28068504, 0.6617894 ],\n",
              "         [0.07111805, 0.47981054, 0.44907138]],\n",
              "\n",
              "        [[0.03976364, 0.935364  , 0.02487231],\n",
              "         [0.03859573, 0.93870926, 0.02269507],\n",
              "         [0.03893116, 0.93776345, 0.02330546],\n",
              "         ...,\n",
              "         [0.05732762, 0.2787037 , 0.6639687 ],\n",
              "         [0.06075879, 0.31518832, 0.6240529 ],\n",
              "         [0.06969471, 0.4470085 , 0.4832968 ]],\n",
              "\n",
              "        [[0.03953116, 0.93604165, 0.02442718],\n",
              "         [0.03865015, 0.93855655, 0.02279331],\n",
              "         [0.0391115 , 0.93725   , 0.02363851],\n",
              "         ...,\n",
              "         [0.05482074, 0.25471464, 0.6904646 ],\n",
              "         [0.06311862, 0.3434474 , 0.593434  ],\n",
              "         [0.07116884, 0.48113495, 0.4476962 ]],\n",
              "\n",
              "        ...,\n",
              "\n",
              "        [[0.03806844, 0.94017226, 0.02175936],\n",
              "         [0.03761756, 0.9414006 , 0.02098182],\n",
              "         [0.03760656, 0.9414304 , 0.0209631 ],\n",
              "         ...,\n",
              "         [0.03797981, 0.9404153 , 0.02160489],\n",
              "         [0.03820705, 0.9397903 , 0.02200255],\n",
              "         [0.04218857, 0.92792773, 0.02988369]],\n",
              "\n",
              "        [[0.03857458, 0.9387684 , 0.02265702],\n",
              "         [0.03765023, 0.9413123 , 0.02103746],\n",
              "         [0.03761616, 0.9414044 , 0.02097944],\n",
              "         ...,\n",
              "         [0.03808891, 0.94011587, 0.02179516],\n",
              "         [0.03838687, 0.9392921 , 0.02232102],\n",
              "         [0.043257  , 0.924425  , 0.03231794]],\n",
              "\n",
              "        [[0.04142005, 0.9303594 , 0.02822055],\n",
              "         [0.03802399, 0.9402942 , 0.0216818 ],\n",
              "         [0.0377945 , 0.940921  , 0.02128451],\n",
              "         ...,\n",
              "         [0.03882807, 0.9380554 , 0.0231166 ],\n",
              "         [0.03913351, 0.937187  , 0.02367941],\n",
              "         [0.04525904, 0.9174544 , 0.03728654]]],\n",
              "\n",
              "\n",
              "       [[[0.03775625, 0.94102496, 0.0212188 ],\n",
              "         [0.03760358, 0.9414383 , 0.02095803],\n",
              "         [0.03760216, 0.9414423 , 0.0209556 ],\n",
              "         ...,\n",
              "         [0.03760313, 0.94143957, 0.02095727],\n",
              "         [0.03760885, 0.94142413, 0.020967  ],\n",
              "         [0.03796309, 0.94046116, 0.02157583]],\n",
              "\n",
              "        [[0.03760443, 0.9414361 , 0.02095947],\n",
              "         [0.03760172, 0.9414434 , 0.02095488],\n",
              "         [0.03760172, 0.9414434 , 0.02095488],\n",
              "         ...,\n",
              "         [0.03760172, 0.9414434 , 0.02095488],\n",
              "         [0.03760172, 0.9414434 , 0.02095488],\n",
              "         [0.03760594, 0.941432  , 0.02096204]],\n",
              "\n",
              "        [[0.03760229, 0.94144183, 0.02095584],\n",
              "         [0.03760172, 0.9414434 , 0.02095488],\n",
              "         [0.03760172, 0.9414434 , 0.02095488],\n",
              "         ...,\n",
              "         [0.03760172, 0.9414434 , 0.02095488],\n",
              "         [0.03760172, 0.9414434 , 0.02095488],\n",
              "         [0.0376028 , 0.9414404 , 0.02095671]],\n",
              "\n",
              "        ...,\n",
              "\n",
              "        [[0.03760541, 0.9414334 , 0.02096113],\n",
              "         [0.03760172, 0.9414434 , 0.02095488],\n",
              "         [0.03760172, 0.9414434 , 0.02095488],\n",
              "         ...,\n",
              "         [0.03760172, 0.9414434 , 0.02095488],\n",
              "         [0.03760172, 0.9414434 , 0.02095488],\n",
              "         [0.03760383, 0.94143766, 0.02095845]],\n",
              "\n",
              "        [[0.03761823, 0.9413988 , 0.02098295],\n",
              "         [0.03760174, 0.9414434 , 0.0209549 ],\n",
              "         [0.03760172, 0.9414434 , 0.02095488],\n",
              "         ...,\n",
              "         [0.03760172, 0.9414434 , 0.02095488],\n",
              "         [0.03760172, 0.9414434 , 0.02095488],\n",
              "         [0.03760987, 0.9414214 , 0.02096871]],\n",
              "\n",
              "        [[0.03802843, 0.940282  , 0.02168954],\n",
              "         [0.03760827, 0.94142574, 0.020966  ],\n",
              "         [0.03760346, 0.94143873, 0.02095783],\n",
              "         ...,\n",
              "         [0.03760226, 0.9414419 , 0.02095581],\n",
              "         [0.0376036 , 0.9414383 , 0.02095806],\n",
              "         [0.03793846, 0.9405286 , 0.0215331 ]]]], dtype=float32)"
            ]
          },
          "metadata": {},
          "execution_count": 50
        }
      ],
      "source": [
        "var1 = autoencoder.predict(k)\n",
        "var1"
      ]
    },
    {
      "cell_type": "code",
      "execution_count": null,
      "metadata": {
        "id": "Syxh63DxQ4ul",
        "colab": {
          "base_uri": "https://localhost:8080/"
        },
        "outputId": "3db937ec-b1db-498d-d469-cef75e8c00cb"
      },
      "outputs": [
        {
          "output_type": "stream",
          "name": "stdout",
          "text": [
            "0.0 1.0\n"
          ]
        }
      ],
      "source": [
        "var2 = np.random.randn(var1.shape[0],var1.shape[1],var1.shape[2],1)\n",
        "for i in range(var1.shape[0]):\n",
        "  for j in range(var1.shape[1]):\n",
        "    for k in range(var1.shape[2]):\n",
        "      max = -100\n",
        "      index = 1\n",
        "      for a in range(var1.shape[3]):\n",
        "        if (var1[i,j,k,a] > max):\n",
        "          max = var1[i,j,k,a]\n",
        "          index = a\n",
        "      var2[i,j,k,0] = index-1\n",
        "print(np.min(var2),np.max(var2))"
      ]
    },
    {
      "cell_type": "code",
      "execution_count": null,
      "metadata": {
        "id": "BmHcepOaSXjE",
        "colab": {
          "base_uri": "https://localhost:8080/"
        },
        "outputId": "df01596b-cf10-44e7-f8f1-cd75df342a54"
      },
      "outputs": [
        {
          "output_type": "execute_result",
          "data": {
            "text/plain": [
              "array([[[[0.],\n",
              "         [0.],\n",
              "         [0.],\n",
              "         ...,\n",
              "         [0.],\n",
              "         [0.],\n",
              "         [0.]],\n",
              "\n",
              "        [[0.],\n",
              "         [1.],\n",
              "         [1.],\n",
              "         ...,\n",
              "         [0.],\n",
              "         [0.],\n",
              "         [0.]],\n",
              "\n",
              "        [[1.],\n",
              "         [1.],\n",
              "         [1.],\n",
              "         ...,\n",
              "         [0.],\n",
              "         [0.],\n",
              "         [0.]],\n",
              "\n",
              "        ...,\n",
              "\n",
              "        [[0.],\n",
              "         [0.],\n",
              "         [0.],\n",
              "         ...,\n",
              "         [1.],\n",
              "         [1.],\n",
              "         [1.]],\n",
              "\n",
              "        [[0.],\n",
              "         [0.],\n",
              "         [0.],\n",
              "         ...,\n",
              "         [1.],\n",
              "         [1.],\n",
              "         [1.]],\n",
              "\n",
              "        [[0.],\n",
              "         [0.],\n",
              "         [0.],\n",
              "         ...,\n",
              "         [1.],\n",
              "         [1.],\n",
              "         [1.]]],\n",
              "\n",
              "\n",
              "       [[[0.],\n",
              "         [0.],\n",
              "         [0.],\n",
              "         ...,\n",
              "         [0.],\n",
              "         [0.],\n",
              "         [0.]],\n",
              "\n",
              "        [[0.],\n",
              "         [0.],\n",
              "         [0.],\n",
              "         ...,\n",
              "         [0.],\n",
              "         [0.],\n",
              "         [0.]],\n",
              "\n",
              "        [[0.],\n",
              "         [0.],\n",
              "         [0.],\n",
              "         ...,\n",
              "         [0.],\n",
              "         [0.],\n",
              "         [0.]],\n",
              "\n",
              "        ...,\n",
              "\n",
              "        [[0.],\n",
              "         [0.],\n",
              "         [0.],\n",
              "         ...,\n",
              "         [1.],\n",
              "         [1.],\n",
              "         [1.]],\n",
              "\n",
              "        [[0.],\n",
              "         [0.],\n",
              "         [0.],\n",
              "         ...,\n",
              "         [1.],\n",
              "         [1.],\n",
              "         [1.]],\n",
              "\n",
              "        [[0.],\n",
              "         [0.],\n",
              "         [0.],\n",
              "         ...,\n",
              "         [1.],\n",
              "         [1.],\n",
              "         [1.]]],\n",
              "\n",
              "\n",
              "       [[[0.],\n",
              "         [0.],\n",
              "         [0.],\n",
              "         ...,\n",
              "         [0.],\n",
              "         [0.],\n",
              "         [0.]],\n",
              "\n",
              "        [[0.],\n",
              "         [0.],\n",
              "         [0.],\n",
              "         ...,\n",
              "         [0.],\n",
              "         [0.],\n",
              "         [0.]],\n",
              "\n",
              "        [[0.],\n",
              "         [0.],\n",
              "         [0.],\n",
              "         ...,\n",
              "         [0.],\n",
              "         [0.],\n",
              "         [0.]],\n",
              "\n",
              "        ...,\n",
              "\n",
              "        [[1.],\n",
              "         [1.],\n",
              "         [1.],\n",
              "         ...,\n",
              "         [1.],\n",
              "         [1.],\n",
              "         [1.]],\n",
              "\n",
              "        [[1.],\n",
              "         [1.],\n",
              "         [1.],\n",
              "         ...,\n",
              "         [1.],\n",
              "         [1.],\n",
              "         [1.]],\n",
              "\n",
              "        [[1.],\n",
              "         [1.],\n",
              "         [1.],\n",
              "         ...,\n",
              "         [1.],\n",
              "         [1.],\n",
              "         [1.]]],\n",
              "\n",
              "\n",
              "       ...,\n",
              "\n",
              "\n",
              "       [[[0.],\n",
              "         [0.],\n",
              "         [0.],\n",
              "         ...,\n",
              "         [0.],\n",
              "         [0.],\n",
              "         [0.]],\n",
              "\n",
              "        [[0.],\n",
              "         [0.],\n",
              "         [0.],\n",
              "         ...,\n",
              "         [0.],\n",
              "         [0.],\n",
              "         [0.]],\n",
              "\n",
              "        [[0.],\n",
              "         [0.],\n",
              "         [0.],\n",
              "         ...,\n",
              "         [0.],\n",
              "         [0.],\n",
              "         [0.]],\n",
              "\n",
              "        ...,\n",
              "\n",
              "        [[0.],\n",
              "         [0.],\n",
              "         [0.],\n",
              "         ...,\n",
              "         [1.],\n",
              "         [1.],\n",
              "         [1.]],\n",
              "\n",
              "        [[0.],\n",
              "         [0.],\n",
              "         [0.],\n",
              "         ...,\n",
              "         [1.],\n",
              "         [1.],\n",
              "         [1.]],\n",
              "\n",
              "        [[0.],\n",
              "         [0.],\n",
              "         [0.],\n",
              "         ...,\n",
              "         [1.],\n",
              "         [1.],\n",
              "         [1.]]],\n",
              "\n",
              "\n",
              "       [[[0.],\n",
              "         [0.],\n",
              "         [0.],\n",
              "         ...,\n",
              "         [1.],\n",
              "         [1.],\n",
              "         [0.]],\n",
              "\n",
              "        [[0.],\n",
              "         [0.],\n",
              "         [0.],\n",
              "         ...,\n",
              "         [1.],\n",
              "         [1.],\n",
              "         [1.]],\n",
              "\n",
              "        [[0.],\n",
              "         [0.],\n",
              "         [0.],\n",
              "         ...,\n",
              "         [1.],\n",
              "         [1.],\n",
              "         [0.]],\n",
              "\n",
              "        ...,\n",
              "\n",
              "        [[0.],\n",
              "         [0.],\n",
              "         [0.],\n",
              "         ...,\n",
              "         [0.],\n",
              "         [0.],\n",
              "         [0.]],\n",
              "\n",
              "        [[0.],\n",
              "         [0.],\n",
              "         [0.],\n",
              "         ...,\n",
              "         [0.],\n",
              "         [0.],\n",
              "         [0.]],\n",
              "\n",
              "        [[0.],\n",
              "         [0.],\n",
              "         [0.],\n",
              "         ...,\n",
              "         [0.],\n",
              "         [0.],\n",
              "         [0.]]],\n",
              "\n",
              "\n",
              "       [[[0.],\n",
              "         [0.],\n",
              "         [0.],\n",
              "         ...,\n",
              "         [0.],\n",
              "         [0.],\n",
              "         [0.]],\n",
              "\n",
              "        [[0.],\n",
              "         [0.],\n",
              "         [0.],\n",
              "         ...,\n",
              "         [0.],\n",
              "         [0.],\n",
              "         [0.]],\n",
              "\n",
              "        [[0.],\n",
              "         [0.],\n",
              "         [0.],\n",
              "         ...,\n",
              "         [0.],\n",
              "         [0.],\n",
              "         [0.]],\n",
              "\n",
              "        ...,\n",
              "\n",
              "        [[0.],\n",
              "         [0.],\n",
              "         [0.],\n",
              "         ...,\n",
              "         [0.],\n",
              "         [0.],\n",
              "         [0.]],\n",
              "\n",
              "        [[0.],\n",
              "         [0.],\n",
              "         [0.],\n",
              "         ...,\n",
              "         [0.],\n",
              "         [0.],\n",
              "         [0.]],\n",
              "\n",
              "        [[0.],\n",
              "         [0.],\n",
              "         [0.],\n",
              "         ...,\n",
              "         [0.],\n",
              "         [0.],\n",
              "         [0.]]]])"
            ]
          },
          "metadata": {},
          "execution_count": 52
        }
      ],
      "source": [
        "var2       \n"
      ]
    },
    {
      "cell_type": "code",
      "execution_count": null,
      "metadata": {
        "id": "GhdJDdPMR7QT",
        "colab": {
          "base_uri": "https://localhost:8080/"
        },
        "outputId": "30eeccea-d268-45dd-b67b-90c18213cb15"
      },
      "outputs": [
        {
          "output_type": "execute_result",
          "data": {
            "text/plain": [
              "TensorShape([13200, 32, 32, 1])"
            ]
          },
          "metadata": {},
          "execution_count": 53
        }
      ],
      "source": [
        "labels.shape"
      ]
    },
    {
      "cell_type": "code",
      "execution_count": null,
      "metadata": {
        "id": "sTPN7PfVTG_A",
        "colab": {
          "base_uri": "https://localhost:8080/"
        },
        "outputId": "96abf389-c46f-468a-c0ef-9e37bf6fd2f9"
      },
      "outputs": [
        {
          "output_type": "execute_result",
          "data": {
            "text/plain": [
              "(13200, 32, 32, 1)"
            ]
          },
          "metadata": {},
          "execution_count": 54
        }
      ],
      "source": [
        "np.reshape(var2, (13200,32,32,1))\n",
        "var2.shape"
      ]
    },
    {
      "cell_type": "code",
      "execution_count": null,
      "metadata": {
        "id": "T1N5vXvM9zip",
        "colab": {
          "base_uri": "https://localhost:8080/",
          "height": 285
        },
        "outputId": "a9c317b9-4740-4e11-d90e-bee5afeefb08"
      },
      "outputs": [
        {
          "output_type": "execute_result",
          "data": {
            "text/plain": [
              "<matplotlib.image.AxesImage at 0x7fa13163f510>"
            ]
          },
          "metadata": {},
          "execution_count": 55
        },
        {
          "output_type": "display_data",
          "data": {
            "text/plain": [
              "<Figure size 432x288 with 2 Axes>"
            ],
            "image/png": "[encoded data removed]"
          },
          "metadata": {
            "needs_background": "light"
          }
        }
      ],
      "source": [
        "fig1, ax1 = plt.subplots(2,1)\n",
        "ax1[0].imshow(var2[a,:,:,0],cmap=CMAP,norm=NORM)\n",
        "ax1[1].imshow(labels[a,:,:,0],cmap=CMAP,norm=NORM)\n"
      ]
    },
    {
      "cell_type": "code",
      "execution_count": null,
      "metadata": {
        "id": "n07itI9l6iO6",
        "colab": {
          "base_uri": "https://localhost:8080/",
          "height": 215
        },
        "outputId": "77376d1b-9bb9-4df5-a4e0-27142a05aaff"
      },
      "outputs": [
        {
          "output_type": "display_data",
          "data": {
            "text/plain": [
              "<Figure size 432x288 with 20 Axes>"
            ],
            "image/png": "[encoded data removed]"
          },
          "metadata": {
            "needs_background": "light"
          }
        },
        {
          "output_type": "display_data",
          "data": {
            "text/plain": [
              "<Figure size 3200x3200 with 0 Axes>"
            ]
          },
          "metadata": {}
        }
      ],
      "source": [
        "fig_tr,ax_tr = plt.subplots(nrows = 2, ncols=10,sharex=True)\n",
        "figure(figsize=(40, 40), dpi=80)\n",
        "for i in range(10):\n",
        "  ax_tr[0][i].imshow(var2[i,:,:,b],cmap=CMAP,norm=NORM)\n",
        "  ax_tr[1][i].imshow(labels[i,:,:,b],cmap=CMAP,norm=NORM)"
      ]
    },
    {
      "cell_type": "code",
      "execution_count": null,
      "metadata": {
        "id": "gufpMrAq4jRY",
        "colab": {
          "base_uri": "https://localhost:8080/"
        },
        "outputId": "481a306d-d2c7-4941-a291-6ca0457ff3ae"
      },
      "outputs": [
        {
          "output_type": "stream",
          "name": "stdout",
          "text": [
            "53/53 [==============================] - 1s 19ms/step - loss: -72.2585 - recall_1: 0.6958 - auc_1: 0.6778\n"
          ]
        }
      ],
      "source": [
        "accuracy = autoencoder.evaluate(mod_x_test, y_val_encoded, verbose=1)\n",
        "\n"
      ]
    },
    {
      "cell_type": "code",
      "execution_count": null,
      "metadata": {
        "id": "TPqfp9535dxS"
      },
      "outputs": [],
      "source": [
        "# Here we would get the output as probablities for each category\n",
        "y_pred=autoencoder.predict(mod_x_test)"
      ]
    },
    {
      "cell_type": "code",
      "execution_count": null,
      "metadata": {
        "id": "mK1xrsPQKBMP",
        "colab": {
          "base_uri": "https://localhost:8080/"
        },
        "outputId": "b7fa6c44-f2e8-47bb-dce5-f2e02d7ff0b3"
      },
      "outputs": [
        {
          "output_type": "execute_result",
          "data": {
            "text/plain": [
              "array([[[[0.05691629, 0.8627801 , 0.0803036 ],\n",
              "         [0.0547982 , 0.87497735, 0.07022448],\n",
              "         [0.05911758, 0.8486192 , 0.09226318],\n",
              "         ...,\n",
              "         [0.03769092, 0.9412021 , 0.02110693],\n",
              "         [0.03781786, 0.94085747, 0.02132469],\n",
              "         [0.03957802, 0.9359056 , 0.02451642]],\n",
              "\n",
              "        [[0.06514813, 0.79868865, 0.13616319],\n",
              "         [0.06703026, 0.3988114 , 0.5341583 ],\n",
              "         [0.03588618, 0.11890251, 0.84521127],\n",
              "         ...,\n",
              "         [0.03760197, 0.9414427 , 0.02095529],\n",
              "         [0.03760297, 0.94144   , 0.020957  ],\n",
              "         [0.03769141, 0.94120085, 0.02110776]],\n",
              "\n",
              "        [[0.03177685, 0.09699071, 0.8712325 ],\n",
              "         [0.00892964, 0.01289732, 0.9781731 ],\n",
              "         [0.00816705, 0.0112255 , 0.9806074 ],\n",
              "         ...,\n",
              "         [0.03760177, 0.94144326, 0.02095494],\n",
              "         [0.03760197, 0.9414427 , 0.02095529],\n",
              "         [0.03763845, 0.9413442 , 0.02101738]],\n",
              "\n",
              "        ...,\n",
              "\n",
              "        [[0.03761382, 0.94141066, 0.02097545],\n",
              "         [0.03760176, 0.94144326, 0.02095493],\n",
              "         [0.03760172, 0.9414434 , 0.02095488],\n",
              "         ...,\n",
              "         [0.00792776, 0.01071853, 0.98135376],\n",
              "         [0.00792776, 0.01071853, 0.98135376],\n",
              "         [0.00792776, 0.01071853, 0.98135376]],\n",
              "\n",
              "        [[0.03764607, 0.9413236 , 0.02103038],\n",
              "         [0.03760196, 0.9414427 , 0.02095528],\n",
              "         [0.03760175, 0.9414434 , 0.02095491],\n",
              "         ...,\n",
              "         [0.00792776, 0.01071853, 0.98135376],\n",
              "         [0.00792776, 0.01071853, 0.98135376],\n",
              "         [0.00792776, 0.01071853, 0.98135376]],\n",
              "\n",
              "        [[0.03836671, 0.9393481 , 0.02228513],\n",
              "         [0.03762723, 0.9413745 , 0.02099827],\n",
              "         [0.03760964, 0.94142205, 0.02096834],\n",
              "         ...,\n",
              "         [0.00792776, 0.01071853, 0.98135376],\n",
              "         [0.00792776, 0.01071853, 0.98135376],\n",
              "         [0.00792776, 0.01071853, 0.98135376]]],\n",
              "\n",
              "\n",
              "       [[[0.04260988, 0.92656374, 0.03082631],\n",
              "         [0.03848965, 0.93900585, 0.02250452],\n",
              "         [0.03820734, 0.9397895 , 0.02200308],\n",
              "         ...,\n",
              "         [0.03765909, 0.9412883 , 0.02105258],\n",
              "         [0.03772951, 0.9410976 , 0.02117296],\n",
              "         [0.03936666, 0.93651766, 0.02411575]],\n",
              "\n",
              "        [[0.03802378, 0.94029474, 0.02168143],\n",
              "         [0.03763105, 0.94136417, 0.02100478],\n",
              "         [0.03761336, 0.94141203, 0.02097466],\n",
              "         ...,\n",
              "         [0.03760204, 0.94144255, 0.0209554 ],\n",
              "         [0.03760344, 0.94143873, 0.02095778],\n",
              "         [0.03778463, 0.9409479 , 0.02126753]],\n",
              "\n",
              "        [[0.03793682, 0.940533  , 0.02153026],\n",
              "         [0.03761654, 0.94140345, 0.02098006],\n",
              "         [0.03760717, 0.9414287 , 0.02096414],\n",
              "         ...,\n",
              "         [0.03760181, 0.9414432 , 0.02095501],\n",
              "         [0.03760221, 0.94144213, 0.02095569],\n",
              "         [0.0376816 , 0.9412274 , 0.021091  ]],\n",
              "\n",
              "        ...,\n",
              "\n",
              "        [[0.0422656 , 0.92767996, 0.03005441],\n",
              "         [0.03891576, 0.93780714, 0.02327716],\n",
              "         [0.03802473, 0.9402922 , 0.02168309],\n",
              "         ...,\n",
              "         [0.00792776, 0.01071853, 0.98135376],\n",
              "         [0.00792776, 0.01071853, 0.98135376],\n",
              "         [0.00792776, 0.01071853, 0.98135376]],\n",
              "\n",
              "        [[0.04711063, 0.91049343, 0.04239603],\n",
              "         [0.04177591, 0.9292424 , 0.02898173],\n",
              "         [0.03907973, 0.9373406 , 0.0235796 ],\n",
              "         ...,\n",
              "         [0.00792776, 0.01071853, 0.98135376],\n",
              "         [0.00792776, 0.01071853, 0.98135376],\n",
              "         [0.00792776, 0.01071853, 0.98135376]],\n",
              "\n",
              "        [[0.0616852 , 0.82972914, 0.10858568],\n",
              "         [0.05136327, 0.89233255, 0.05630412],\n",
              "         [0.04537405, 0.9170369 , 0.03758901],\n",
              "         ...,\n",
              "         [0.00792776, 0.01071853, 0.98135376],\n",
              "         [0.00792776, 0.01071853, 0.98135376],\n",
              "         [0.00792776, 0.01071853, 0.98135376]]],\n",
              "\n",
              "\n",
              "       [[[0.04508235, 0.9180921 , 0.03682561],\n",
              "         [0.04016045, 0.9341937 , 0.02564593],\n",
              "         [0.04015044, 0.93422335, 0.02562621],\n",
              "         ...,\n",
              "         [0.07201508, 0.69119614, 0.23678875],\n",
              "         [0.07261188, 0.6719525 , 0.25543562],\n",
              "         [0.07235079, 0.6810203 , 0.24662885]],\n",
              "\n",
              "        [[0.03879651, 0.93814445, 0.02305901],\n",
              "         [0.03783987, 0.94079745, 0.02136263],\n",
              "         [0.03782756, 0.940831  , 0.02134141],\n",
              "         ...,\n",
              "         [0.06448718, 0.80523497, 0.1302778 ],\n",
              "         [0.06595495, 0.79020166, 0.1438434 ],\n",
              "         [0.07138941, 0.7072547 , 0.22135586]],\n",
              "\n",
              "        [[0.03858347, 0.9387435 , 0.02267301],\n",
              "         [0.03778741, 0.9409402 , 0.02127232],\n",
              "         [0.03778311, 0.940952  , 0.02126492],\n",
              "         ...,\n",
              "         [0.06615624, 0.7879906 , 0.14585309],\n",
              "         [0.06629819, 0.7864071 , 0.1472947 ],\n",
              "         [0.07129835, 0.7093604 , 0.21934131]],\n",
              "\n",
              "        ...,\n",
              "\n",
              "        [[0.00792776, 0.01071853, 0.98135376],\n",
              "         [0.00792776, 0.01071853, 0.98135376],\n",
              "         [0.00792776, 0.01071853, 0.98135376],\n",
              "         ...,\n",
              "         [0.00792776, 0.01071853, 0.98135376],\n",
              "         [0.00792776, 0.01071853, 0.98135376],\n",
              "         [0.00792776, 0.01071853, 0.98135376]],\n",
              "\n",
              "        [[0.00792776, 0.01071853, 0.98135376],\n",
              "         [0.00792776, 0.01071853, 0.98135376],\n",
              "         [0.00792776, 0.01071853, 0.98135376],\n",
              "         ...,\n",
              "         [0.00792776, 0.01071853, 0.98135376],\n",
              "         [0.00792776, 0.01071853, 0.98135376],\n",
              "         [0.00792776, 0.01071853, 0.98135376]],\n",
              "\n",
              "        [[0.00792794, 0.01071892, 0.98135316],\n",
              "         [0.00792776, 0.01071853, 0.98135376],\n",
              "         [0.00792776, 0.01071853, 0.98135376],\n",
              "         ...,\n",
              "         [0.00792776, 0.01071853, 0.98135376],\n",
              "         [0.00792776, 0.01071853, 0.98135376],\n",
              "         [0.00792776, 0.01071853, 0.98135376]]],\n",
              "\n",
              "\n",
              "       ...,\n",
              "\n",
              "\n",
              "       [[[0.03796021, 0.94046897, 0.02157083],\n",
              "         [0.03761444, 0.94140905, 0.02097651],\n",
              "         [0.03760554, 0.941433  , 0.02096137],\n",
              "         ...,\n",
              "         [0.03762243, 0.9413874 , 0.02099009],\n",
              "         [0.03767355, 0.94124913, 0.02107725],\n",
              "         [0.0386658 , 0.9385126 , 0.02282161]],\n",
              "\n",
              "        [[0.03761273, 0.9414137 , 0.02097359],\n",
              "         [0.03760176, 0.94144326, 0.02095493],\n",
              "         [0.03760172, 0.9414434 , 0.02095488],\n",
              "         ...,\n",
              "         [0.03760174, 0.9414434 , 0.0209549 ],\n",
              "         [0.03760192, 0.94144285, 0.02095521],\n",
              "         [0.03763102, 0.94136417, 0.02100473]],\n",
              "\n",
              "        [[0.03760468, 0.94143546, 0.02095989],\n",
              "         [0.03760172, 0.9414434 , 0.02095488],\n",
              "         [0.03760172, 0.9414434 , 0.02095488],\n",
              "         ...,\n",
              "         [0.03760172, 0.9414434 , 0.02095488],\n",
              "         [0.03760176, 0.94144326, 0.02095493],\n",
              "         [0.03761215, 0.9414153 , 0.02097261]],\n",
              "\n",
              "        ...,\n",
              "\n",
              "        [[0.03760701, 0.94142926, 0.02096385],\n",
              "         [0.03760172, 0.9414434 , 0.02095488],\n",
              "         [0.03760172, 0.9414434 , 0.02095488],\n",
              "         ...,\n",
              "         [0.00792776, 0.01071853, 0.98135376],\n",
              "         [0.00792776, 0.01071853, 0.98135376],\n",
              "         [0.00792776, 0.01071853, 0.98135376]],\n",
              "\n",
              "        [[0.03762274, 0.94138664, 0.02099063],\n",
              "         [0.03760177, 0.94144326, 0.02095496],\n",
              "         [0.03760172, 0.9414434 , 0.02095488],\n",
              "         ...,\n",
              "         [0.00792776, 0.01071853, 0.98135376],\n",
              "         [0.00792776, 0.01071853, 0.98135376],\n",
              "         [0.00792776, 0.01071853, 0.98135376]],\n",
              "\n",
              "        [[0.0380679 , 0.94017375, 0.02175841],\n",
              "         [0.03761122, 0.9414177 , 0.02097102],\n",
              "         [0.03760409, 0.94143695, 0.02095888],\n",
              "         ...,\n",
              "         [0.00792776, 0.01071853, 0.98135376],\n",
              "         [0.00792776, 0.01071853, 0.98135376],\n",
              "         [0.00792776, 0.01071853, 0.98135376]]],\n",
              "\n",
              "\n",
              "       [[[0.0480394 , 0.9067991 , 0.04516152],\n",
              "         [0.04339324, 0.92396784, 0.03263886],\n",
              "         [0.04482676, 0.9190064 , 0.03616676],\n",
              "         ...,\n",
              "         [0.05530305, 0.259179  , 0.68551797],\n",
              "         [0.05752553, 0.28068504, 0.6617894 ],\n",
              "         [0.07111805, 0.47981054, 0.44907138]],\n",
              "\n",
              "        [[0.03976364, 0.935364  , 0.02487231],\n",
              "         [0.03859573, 0.93870926, 0.02269507],\n",
              "         [0.03893116, 0.93776345, 0.02330546],\n",
              "         ...,\n",
              "         [0.05732762, 0.2787037 , 0.6639687 ],\n",
              "         [0.06075879, 0.31518832, 0.6240529 ],\n",
              "         [0.06969471, 0.4470085 , 0.4832968 ]],\n",
              "\n",
              "        [[0.03953116, 0.93604165, 0.02442718],\n",
              "         [0.03865015, 0.93855655, 0.02279331],\n",
              "         [0.0391115 , 0.93725   , 0.02363851],\n",
              "         ...,\n",
              "         [0.05482074, 0.25471464, 0.6904646 ],\n",
              "         [0.06311862, 0.3434474 , 0.593434  ],\n",
              "         [0.07116884, 0.48113495, 0.4476962 ]],\n",
              "\n",
              "        ...,\n",
              "\n",
              "        [[0.03806844, 0.94017226, 0.02175936],\n",
              "         [0.03761756, 0.9414006 , 0.02098182],\n",
              "         [0.03760656, 0.9414304 , 0.0209631 ],\n",
              "         ...,\n",
              "         [0.03797981, 0.9404153 , 0.02160489],\n",
              "         [0.03820705, 0.9397903 , 0.02200255],\n",
              "         [0.04218857, 0.92792773, 0.02988369]],\n",
              "\n",
              "        [[0.03857458, 0.9387684 , 0.02265702],\n",
              "         [0.03765023, 0.9413123 , 0.02103746],\n",
              "         [0.03761616, 0.9414044 , 0.02097944],\n",
              "         ...,\n",
              "         [0.03808891, 0.94011587, 0.02179516],\n",
              "         [0.03838687, 0.9392921 , 0.02232102],\n",
              "         [0.043257  , 0.924425  , 0.03231794]],\n",
              "\n",
              "        [[0.04142005, 0.9303594 , 0.02822055],\n",
              "         [0.03802399, 0.9402942 , 0.0216818 ],\n",
              "         [0.0377945 , 0.940921  , 0.02128451],\n",
              "         ...,\n",
              "         [0.03882807, 0.9380554 , 0.0231166 ],\n",
              "         [0.03913351, 0.937187  , 0.02367941],\n",
              "         [0.04525904, 0.9174544 , 0.03728654]]],\n",
              "\n",
              "\n",
              "       [[[0.03775625, 0.94102496, 0.0212188 ],\n",
              "         [0.03760358, 0.9414383 , 0.02095803],\n",
              "         [0.03760216, 0.9414423 , 0.0209556 ],\n",
              "         ...,\n",
              "         [0.03760313, 0.94143957, 0.02095727],\n",
              "         [0.03760885, 0.94142413, 0.020967  ],\n",
              "         [0.03796309, 0.94046116, 0.02157583]],\n",
              "\n",
              "        [[0.03760443, 0.9414361 , 0.02095947],\n",
              "         [0.03760172, 0.9414434 , 0.02095488],\n",
              "         [0.03760172, 0.9414434 , 0.02095488],\n",
              "         ...,\n",
              "         [0.03760172, 0.9414434 , 0.02095488],\n",
              "         [0.03760172, 0.9414434 , 0.02095488],\n",
              "         [0.03760594, 0.941432  , 0.02096204]],\n",
              "\n",
              "        [[0.03760229, 0.94144183, 0.02095584],\n",
              "         [0.03760172, 0.9414434 , 0.02095488],\n",
              "         [0.03760172, 0.9414434 , 0.02095488],\n",
              "         ...,\n",
              "         [0.03760172, 0.9414434 , 0.02095488],\n",
              "         [0.03760172, 0.9414434 , 0.02095488],\n",
              "         [0.0376028 , 0.9414404 , 0.02095671]],\n",
              "\n",
              "        ...,\n",
              "\n",
              "        [[0.03760541, 0.9414334 , 0.02096113],\n",
              "         [0.03760172, 0.9414434 , 0.02095488],\n",
              "         [0.03760172, 0.9414434 , 0.02095488],\n",
              "         ...,\n",
              "         [0.03760172, 0.9414434 , 0.02095488],\n",
              "         [0.03760172, 0.9414434 , 0.02095488],\n",
              "         [0.03760383, 0.94143766, 0.02095845]],\n",
              "\n",
              "        [[0.03761823, 0.9413988 , 0.02098295],\n",
              "         [0.03760174, 0.9414434 , 0.0209549 ],\n",
              "         [0.03760172, 0.9414434 , 0.02095488],\n",
              "         ...,\n",
              "         [0.03760172, 0.9414434 , 0.02095488],\n",
              "         [0.03760172, 0.9414434 , 0.02095488],\n",
              "         [0.03760987, 0.9414214 , 0.02096871]],\n",
              "\n",
              "        [[0.03802843, 0.940282  , 0.02168954],\n",
              "         [0.03760827, 0.94142574, 0.020966  ],\n",
              "         [0.03760346, 0.94143873, 0.02095783],\n",
              "         ...,\n",
              "         [0.03760226, 0.9414419 , 0.02095581],\n",
              "         [0.0376036 , 0.9414383 , 0.02095806],\n",
              "         [0.03793846, 0.9405286 , 0.0215331 ]]]], dtype=float32)"
            ]
          },
          "metadata": {},
          "execution_count": 59
        }
      ],
      "source": [
        "var1"
      ]
    },
    {
      "cell_type": "markdown",
      "metadata": {
        "id": "xhMTfxSpLnid"
      },
      "source": [
        "Confusion matrix"
      ]
    },
    {
      "cell_type": "code",
      "execution_count": null,
      "metadata": {
        "id": "Rwvy9_6BL2Qa",
        "colab": {
          "base_uri": "https://localhost:8080/"
        },
        "outputId": "24146bf5-3e3b-4843-da3b-ab098ca48fe7"
      },
      "outputs": [
        {
          "output_type": "execute_result",
          "data": {
            "text/plain": [
              "(1689, 32, 32, 3)"
            ]
          },
          "metadata": {},
          "execution_count": 60
        }
      ],
      "source": [
        "y_pred_arg=np.argmax(var1,axis=1)\n",
        "y_val_encoded.shape"
      ]
    },
    {
      "cell_type": "code",
      "execution_count": null,
      "metadata": {
        "id": "U1iz7QCaP5su",
        "colab": {
          "base_uri": "https://localhost:8080/"
        },
        "outputId": "47468f58-678f-4ea3-dcba-fbb2b75edc36"
      },
      "outputs": [
        {
          "output_type": "execute_result",
          "data": {
            "text/plain": [
              "TensorShape([1689, 32, 32, 12])"
            ]
          },
          "metadata": {},
          "execution_count": 61
        }
      ],
      "source": [
        "x_test.shape"
      ]
    },
    {
      "cell_type": "code",
      "execution_count": null,
      "metadata": {
        "id": "jGW6s9a55h6O"
      },
      "outputs": [],
      "source": [
        "# # Plotting the Confusion Matrix using confusion matrix() function which is also predefined tensorflow module\n",
        "# # Obtaining the categorical values from y_test_encoded and y_pred\n",
        "# y_pred_arg=np.argmax(var2,axis=0)\n",
        "# y_test_arg=np.argmax(y_test,axis=0)\n",
        "\n",
        "# confusion_matrix = tf.math.confusion_matrix(var2,y_test_arg)\n",
        "# f, ax = plt.subplots(figsize=(10, 8))\n",
        "# sns.heatmap(\n",
        "#     confusion_matrix,\n",
        "#     annot=True,\n",
        "#     linewidths=.4,\n",
        "#     fmt=\"d\",\n",
        "#     square=True,\n",
        "#     ax=ax\n",
        "# )\n",
        "# plt.show()\n"
      ]
    },
    {
      "cell_type": "code",
      "execution_count": null,
      "metadata": {
        "id": "uLqwtK3LCueL",
        "colab": {
          "base_uri": "https://localhost:8080/"
        },
        "outputId": "839830ed-98b1-42cc-cf30-cdebde2f2587"
      },
      "outputs": [
        {
          "output_type": "execute_result",
          "data": {
            "text/plain": [
              "dict_keys(['loss', 'recall_1', 'auc_1', 'val_loss', 'val_recall_1', 'val_auc_1'])"
            ]
          },
          "metadata": {},
          "execution_count": 63
        }
      ],
      "source": [
        "history_1.history.keys()"
      ]
    },
    {
      "cell_type": "code",
      "execution_count": null,
      "metadata": {
        "id": "otxTjhsG4cET",
        "colab": {
          "base_uri": "https://localhost:8080/",
          "height": 295
        },
        "outputId": "077b72fc-78d9-442a-b723-fe543befa871"
      },
      "outputs": [
        {
          "output_type": "display_data",
          "data": {
            "text/plain": [
              "<Figure size 432x288 with 1 Axes>"
            ],
            "image/png": "[encoded data removed]"
          },
          "metadata": {
            "needs_background": "light"
          }
        }
      ],
      "source": [
        "plt.plot(history_1.history['loss'])\n",
        "plt.plot(history_1.history['val_loss'])\n",
        "plt.title('Model Loss')\n",
        "plt.ylabel('Loss')\n",
        "plt.xlabel('Epoch')\n",
        "plt.legend(['Train', 'Validation'], loc='upper left')\n",
        "plt.show()\n"
      ]
    },
    {
      "cell_type": "markdown",
      "metadata": {
        "id": "4X9N-bEc6bfV"
      },
      "source": [
        "### Test Predictions"
      ]
    },
    {
      "cell_type": "code",
      "execution_count": null,
      "metadata": {
        "id": "h7hpNiVd1ni5",
        "colab": {
          "base_uri": "https://localhost:8080/"
        },
        "outputId": "1ccbb6fc-894d-4a10-db3f-78dbc7b0651a"
      },
      "outputs": [
        {
          "output_type": "stream",
          "name": "stdout",
          "text": [
            "53/53 [==============================] - 1s 12ms/step - loss: -72.2585 - recall_1: 0.6958 - auc_1: 0.6778\n"
          ]
        },
        {
          "output_type": "execute_result",
          "data": {
            "text/plain": [
              "[-72.25846099853516, 0.695817232131958, 0.6777645349502563]"
            ]
          },
          "metadata": {},
          "execution_count": 65
        }
      ],
      "source": [
        "test_123 = dataProcess(x_test)\n",
        "var2 = autoencoder.predict(test_123)\n",
        "autoencoder.evaluate(test_123,y_val_encoded,verbose=1)"
      ]
    },
    {
      "cell_type": "code",
      "source": [
        "var2"
      ],
      "metadata": {
        "id": "HTD_73lWiSW8",
        "outputId": "0727542a-6d52-4ef9-8919-09480aa1b72a",
        "colab": {
          "base_uri": "https://localhost:8080/"
        }
      },
      "execution_count": null,
      "outputs": [
        {
          "output_type": "execute_result",
          "data": {
            "text/plain": [
              "array([[[[0.03793203, 0.94054604, 0.02152195],\n",
              "         [0.03760931, 0.9414229 , 0.02096777],\n",
              "         [0.03760389, 0.9414376 , 0.02095854],\n",
              "         ...,\n",
              "         [0.03760442, 0.9414361 , 0.02095946],\n",
              "         [0.03761559, 0.941406  , 0.02097846],\n",
              "         [0.03819466, 0.9398246 , 0.02198075]],\n",
              "\n",
              "        [[0.03760966, 0.9414219 , 0.02096838],\n",
              "         [0.03760172, 0.9414434 , 0.02095488],\n",
              "         [0.03760172, 0.9414434 , 0.02095488],\n",
              "         ...,\n",
              "         [0.03760172, 0.9414434 , 0.02095488],\n",
              "         [0.03760175, 0.9414434 , 0.02095492],\n",
              "         [0.03762052, 0.9413926 , 0.02098684]],\n",
              "\n",
              "        [[0.03760405, 0.9414372 , 0.02095882],\n",
              "         [0.03760172, 0.9414434 , 0.02095488],\n",
              "         [0.03760172, 0.9414434 , 0.02095488],\n",
              "         ...,\n",
              "         [0.03760172, 0.9414434 , 0.02095488],\n",
              "         [0.03760172, 0.9414434 , 0.02095488],\n",
              "         [0.03760825, 0.94142574, 0.02096598]],\n",
              "\n",
              "        ...,\n",
              "\n",
              "        [[0.03765656, 0.9412952 , 0.02104826],\n",
              "         [0.03760204, 0.94144267, 0.0209554 ],\n",
              "         [0.03760179, 0.9414432 , 0.02095499],\n",
              "         ...,\n",
              "         [0.03760172, 0.9414434 , 0.02095488],\n",
              "         [0.03760172, 0.9414434 , 0.02095488],\n",
              "         [0.0376151 , 0.94140726, 0.02097764]],\n",
              "\n",
              "        [[0.03776203, 0.9410092 , 0.02122873],\n",
              "         [0.03760374, 0.941438  , 0.0209583 ],\n",
              "         [0.03760223, 0.941442  , 0.02095574],\n",
              "         ...,\n",
              "         [0.03760174, 0.9414434 , 0.0209549 ],\n",
              "         [0.03760182, 0.9414432 , 0.02095504],\n",
              "         [0.03764123, 0.9413367 , 0.02102213]],\n",
              "\n",
              "        [[0.03909865, 0.9372867 , 0.02361467],\n",
              "         [0.03769536, 0.94119006, 0.02111454],\n",
              "         [0.03764175, 0.9413353 , 0.021023  ],\n",
              "         ...,\n",
              "         [0.03760732, 0.94142836, 0.0209644 ],\n",
              "         [0.03761642, 0.94140375, 0.02097986],\n",
              "         [0.03826134, 0.93964034, 0.02209835]]],\n",
              "\n",
              "\n",
              "       [[[0.03767788, 0.9412375 , 0.02108464],\n",
              "         [0.0376033 , 0.94143915, 0.02095755],\n",
              "         [0.03760212, 0.9414423 , 0.02095556],\n",
              "         ...,\n",
              "         [0.03760635, 0.9414309 , 0.02096274],\n",
              "         [0.03762646, 0.9413766 , 0.02099697],\n",
              "         [0.03849821, 0.938982  , 0.02251986]],\n",
              "\n",
              "        [[0.03760366, 0.9414382 , 0.02095816],\n",
              "         [0.03760172, 0.9414434 , 0.02095488],\n",
              "         [0.03760172, 0.9414434 , 0.02095488],\n",
              "         ...,\n",
              "         [0.03760172, 0.9414434 , 0.02095488],\n",
              "         [0.03760175, 0.9414434 , 0.02095491],\n",
              "         [0.03762222, 0.941388  , 0.02098974]],\n",
              "\n",
              "        [[0.03760216, 0.9414423 , 0.02095561],\n",
              "         [0.03760172, 0.9414434 , 0.02095488],\n",
              "         [0.03760172, 0.9414434 , 0.02095488],\n",
              "         ...,\n",
              "         [0.03760172, 0.9414434 , 0.02095488],\n",
              "         [0.03760172, 0.9414434 , 0.02095488],\n",
              "         [0.03760402, 0.9414372 , 0.02095878]],\n",
              "\n",
              "        ...,\n",
              "\n",
              "        [[0.06067583, 0.3142474 , 0.6250768 ],\n",
              "         [0.06677216, 0.3947133 , 0.53851455],\n",
              "         [0.06688036, 0.77968985, 0.15342987],\n",
              "         ...,\n",
              "         [0.00792776, 0.01071853, 0.98135376],\n",
              "         [0.00792776, 0.01071855, 0.98135364],\n",
              "         [0.00793021, 0.01072369, 0.9813461 ]],\n",
              "\n",
              "        [[0.05178203, 0.2280491 , 0.7201688 ],\n",
              "         [0.04812379, 0.19886528, 0.7530109 ],\n",
              "         [0.07326473, 0.56218827, 0.36454695],\n",
              "         ...,\n",
              "         [0.00792817, 0.01071939, 0.9813524 ],\n",
              "         [0.00793009, 0.01072344, 0.9813464 ],\n",
              "         [0.00804469, 0.01096518, 0.98099005]],\n",
              "\n",
              "        [[0.05226875, 0.2321609 , 0.71557033],\n",
              "         [0.05399637, 0.24723798, 0.69876564],\n",
              "         [0.06990089, 0.45134205, 0.47875705],\n",
              "         ...,\n",
              "         [0.00902256, 0.01310679, 0.9778707 ],\n",
              "         [0.01152786, 0.0192077 , 0.9692645 ],\n",
              "         [0.03346576, 0.10572889, 0.86080533]]],\n",
              "\n",
              "\n",
              "       [[[0.0695455 , 0.4439425 , 0.48651198],\n",
              "         [0.0540641 , 0.24784519, 0.6980907 ],\n",
              "         [0.04089106, 0.1487284 , 0.8103805 ],\n",
              "         ...,\n",
              "         [0.00792776, 0.01071853, 0.98135376],\n",
              "         [0.00792776, 0.01071853, 0.98135376],\n",
              "         [0.00792776, 0.01071855, 0.98135364]],\n",
              "\n",
              "        [[0.06993651, 0.4521026 , 0.47796082],\n",
              "         [0.02884569, 0.08267968, 0.88847464],\n",
              "         [0.0165556 , 0.03391666, 0.9495277 ],\n",
              "         ...,\n",
              "         [0.00792776, 0.01071853, 0.98135376],\n",
              "         [0.00792776, 0.01071853, 0.98135376],\n",
              "         [0.00792776, 0.01071853, 0.98135376]],\n",
              "\n",
              "        [[0.03838189, 0.13332333, 0.82829475],\n",
              "         [0.01087904, 0.01754561, 0.9715754 ],\n",
              "         [0.00896195, 0.01297001, 0.97806805],\n",
              "         ...,\n",
              "         [0.00792776, 0.01071853, 0.98135376],\n",
              "         [0.00792776, 0.01071853, 0.98135376],\n",
              "         [0.00792776, 0.01071853, 0.98135376]],\n",
              "\n",
              "        ...,\n",
              "\n",
              "        [[0.01016667, 0.015786  , 0.97404736],\n",
              "         [0.00800437, 0.01087989, 0.9811157 ],\n",
              "         [0.00795205, 0.01076961, 0.98127836],\n",
              "         ...,\n",
              "         [0.00848915, 0.01192128, 0.97958964],\n",
              "         [0.0098159 , 0.01494515, 0.975239  ],\n",
              "         [0.03710174, 0.12581739, 0.83708084]],\n",
              "\n",
              "        [[0.01118735, 0.01832841, 0.97048426],\n",
              "         [0.00809715, 0.01107653, 0.98082626],\n",
              "         [0.00798589, 0.0108409 , 0.9811732 ],\n",
              "         ...,\n",
              "         [0.00943401, 0.01404912, 0.97651684],\n",
              "         [0.01266267, 0.02224802, 0.96508926],\n",
              "         [0.05059655, 0.21826869, 0.7311348 ]],\n",
              "\n",
              "        [[0.02236076, 0.05471918, 0.9229201 ],\n",
              "         [0.01039243, 0.01633618, 0.9732714 ],\n",
              "         [0.00931586, 0.01377609, 0.9769081 ],\n",
              "         ...,\n",
              "         [0.03720601, 0.12642004, 0.8363739 ],\n",
              "         [0.0633416 , 0.34628317, 0.59037524],\n",
              "         [0.07240032, 0.67939067, 0.24820903]]],\n",
              "\n",
              "\n",
              "       ...,\n",
              "\n",
              "\n",
              "       [[[0.04780957, 0.90772647, 0.04446396],\n",
              "         [0.04162259, 0.92972547, 0.02865191],\n",
              "         [0.04160091, 0.9297936 , 0.02860554],\n",
              "         ...,\n",
              "         [0.0379144 , 0.13055529, 0.8315303 ],\n",
              "         [0.03915601, 0.13797648, 0.8228676 ],\n",
              "         [0.06081592, 0.31583837, 0.6233457 ]],\n",
              "\n",
              "        [[0.03991892, 0.9349081 , 0.02517296],\n",
              "         [0.03812807, 0.9400081 , 0.02186375],\n",
              "         [0.0381168 , 0.9400392 , 0.021844  ],\n",
              "         ...,\n",
              "         [0.02036781, 0.04712735, 0.9325048 ],\n",
              "         [0.02455222, 0.06360791, 0.9118399 ],\n",
              "         [0.03953402, 0.14028057, 0.82018536]],\n",
              "\n",
              "        [[0.03959098, 0.9358679 , 0.02454114],\n",
              "         [0.03804398, 0.94023937, 0.02171664],\n",
              "         [0.03803547, 0.9402627 , 0.02170181],\n",
              "         ...,\n",
              "         [0.01419875, 0.02662682, 0.95917445],\n",
              "         [0.01769512, 0.03768366, 0.94462126],\n",
              "         [0.0299391 , 0.08789338, 0.8821676 ]],\n",
              "\n",
              "        ...,\n",
              "\n",
              "        [[0.07050649, 0.4648102 , 0.46468326],\n",
              "         [0.0260369 , 0.06995305, 0.9040101 ],\n",
              "         [0.01846989, 0.04033381, 0.9411963 ],\n",
              "         ...,\n",
              "         [0.0376076 , 0.9414275 , 0.02096486],\n",
              "         [0.03761001, 0.941421  , 0.02096897],\n",
              "         [0.03788043, 0.94068694, 0.02143264]],\n",
              "\n",
              "        [[0.06943104, 0.4416277 , 0.48894128],\n",
              "         [0.03141592, 0.09517058, 0.8734135 ],\n",
              "         [0.02151173, 0.05142767, 0.9270606 ],\n",
              "         ...,\n",
              "         [0.03762558, 0.94137895, 0.02099546],\n",
              "         [0.03763371, 0.94135696, 0.0210093 ],\n",
              "         [0.03824474, 0.93968624, 0.02206903]],\n",
              "\n",
              "        [[0.07324915, 0.6408957 , 0.2858551 ],\n",
              "         [0.07225367, 0.51372623, 0.4140201 ],\n",
              "         [0.0700995 , 0.4556303 , 0.47427016],\n",
              "         ...,\n",
              "         [0.03800729, 0.94034004, 0.02165269],\n",
              "         [0.03805053, 0.94022137, 0.0217281 ],\n",
              "         [0.04095232, 0.93180466, 0.027243  ]]],\n",
              "\n",
              "\n",
              "       [[[0.03801527, 0.9403182 , 0.02166659],\n",
              "         [0.03761427, 0.94140947, 0.02097623],\n",
              "         [0.03760588, 0.9414322 , 0.02096195],\n",
              "         ...,\n",
              "         [0.03761085, 0.94141877, 0.02097039],\n",
              "         [0.03763695, 0.9413482 , 0.02101484],\n",
              "         [0.03835589, 0.9393781 , 0.02226593]],\n",
              "\n",
              "        [[0.03761174, 0.9414163 , 0.02097191],\n",
              "         [0.03760175, 0.9414434 , 0.02095491],\n",
              "         [0.03760172, 0.9414434 , 0.02095488],\n",
              "         ...,\n",
              "         [0.03760172, 0.9414434 , 0.02095488],\n",
              "         [0.0376018 , 0.9414432 , 0.02095499],\n",
              "         [0.03761833, 0.9413986 , 0.02098312]],\n",
              "\n",
              "        [[0.03760432, 0.9414363 , 0.0209593 ],\n",
              "         [0.03760172, 0.9414434 , 0.02095488],\n",
              "         [0.03760172, 0.9414434 , 0.02095488],\n",
              "         ...,\n",
              "         [0.03760172, 0.9414434 , 0.02095488],\n",
              "         [0.03760172, 0.9414434 , 0.02095488],\n",
              "         [0.03760706, 0.941429  , 0.02096394]],\n",
              "\n",
              "        ...,\n",
              "\n",
              "        [[0.03761167, 0.94141644, 0.0209718 ],\n",
              "         [0.03760174, 0.9414434 , 0.0209549 ],\n",
              "         [0.03760172, 0.9414434 , 0.02095488],\n",
              "         ...,\n",
              "         [0.03760172, 0.9414434 , 0.02095488],\n",
              "         [0.03760172, 0.9414434 , 0.02095488],\n",
              "         [0.03760806, 0.9414263 , 0.02096565]],\n",
              "\n",
              "        [[0.03764641, 0.9413226 , 0.02103095],\n",
              "         [0.03760196, 0.94144285, 0.02095526],\n",
              "         [0.03760176, 0.94144326, 0.02095493],\n",
              "         ...,\n",
              "         [0.03760172, 0.9414434 , 0.02095488],\n",
              "         [0.03760177, 0.94144326, 0.02095496],\n",
              "         [0.03762308, 0.9413857 , 0.0209912 ]],\n",
              "\n",
              "        [[0.03843044, 0.9391709 , 0.02239866],\n",
              "         [0.0376331 , 0.9413587 , 0.02100827],\n",
              "         [0.03761253, 0.94141424, 0.02097325],\n",
              "         ...,\n",
              "         [0.03760569, 0.9414327 , 0.02096162],\n",
              "         [0.0376124 , 0.94141454, 0.02097303],\n",
              "         [0.03813938, 0.93997705, 0.0218836 ]]],\n",
              "\n",
              "\n",
              "       [[[0.03853778, 0.9388713 , 0.02259084],\n",
              "         [0.03765851, 0.9412899 , 0.02105159],\n",
              "         [0.03762376, 0.9413839 , 0.02099235],\n",
              "         ...,\n",
              "         [0.03771259, 0.9411434 , 0.02114399],\n",
              "         [0.03791838, 0.9405833 , 0.02149828],\n",
              "         [0.03996296, 0.93477833, 0.02525872]],\n",
              "\n",
              "        [[0.03763348, 0.9413576 , 0.02100892],\n",
              "         [0.03760201, 0.94144267, 0.02095536],\n",
              "         [0.03760178, 0.94144326, 0.02095497],\n",
              "         ...,\n",
              "         [0.03760256, 0.9414412 , 0.02095629],\n",
              "         [0.03760689, 0.94142944, 0.02096367],\n",
              "         [0.03782956, 0.9408256 , 0.02134485]],\n",
              "\n",
              "        [[0.03761224, 0.94141495, 0.02097277],\n",
              "         [0.03760177, 0.94144326, 0.02095496],\n",
              "         [0.03760172, 0.9414434 , 0.02095488],\n",
              "         ...,\n",
              "         [0.03760194, 0.94144285, 0.02095523],\n",
              "         [0.03760325, 0.9414394 , 0.02095746],\n",
              "         [0.03771486, 0.9411372 , 0.02114787]],\n",
              "\n",
              "        ...,\n",
              "\n",
              "        [[0.0376169 , 0.9414024 , 0.02098069],\n",
              "         [0.03760177, 0.94144326, 0.02095494],\n",
              "         [0.03760172, 0.9414434 , 0.02095488],\n",
              "         ...,\n",
              "         [0.03760172, 0.9414434 , 0.02095488],\n",
              "         [0.03760175, 0.9414434 , 0.02095491],\n",
              "         [0.03761426, 0.9414096 , 0.0209762 ]],\n",
              "\n",
              "        [[0.03765752, 0.94129264, 0.0210499 ],\n",
              "         [0.03760202, 0.94144267, 0.02095537],\n",
              "         [0.03760177, 0.94144326, 0.02095495],\n",
              "         ...,\n",
              "         [0.03760172, 0.9414434 , 0.02095488],\n",
              "         [0.03760182, 0.9414432 , 0.02095504],\n",
              "         [0.03763054, 0.94136554, 0.02100391]],\n",
              "\n",
              "        [[0.03841724, 0.9392076 , 0.0223751 ],\n",
              "         [0.03762696, 0.94137526, 0.0209978 ],\n",
              "         [0.03760962, 0.94142205, 0.02096831],\n",
              "         ...,\n",
              "         [0.03760466, 0.94143546, 0.02095987],\n",
              "         [0.03761001, 0.941421  , 0.02096897],\n",
              "         [0.03801468, 0.9403197 , 0.02166557]]]], dtype=float32)"
            ]
          },
          "metadata": {},
          "execution_count": 69
        }
      ]
    },
    {
      "cell_type": "code",
      "source": [
        ""
      ],
      "metadata": {
        "id": "a7maktgziSTs"
      },
      "execution_count": null,
      "outputs": []
    },
    {
      "cell_type": "code",
      "execution_count": null,
      "metadata": {
        "id": "9aUlxwWK48jX",
        "colab": {
          "base_uri": "https://localhost:8080/",
          "height": 250
        },
        "outputId": "8924cfb9-2950-4554-d73d-4cc59e66a43d"
      },
      "outputs": [
        {
          "output_type": "stream",
          "name": "stdout",
          "text": [
            "MAX: 0.98135376\n"
          ]
        },
        {
          "output_type": "execute_result",
          "data": {
            "text/plain": [
              "(13200, 32, 32, 3)"
            ]
          },
          "metadata": {},
          "execution_count": 66
        },
        {
          "output_type": "display_data",
          "data": {
            "text/plain": [
              "<Figure size 432x288 with 20 Axes>"
            ],
            "image/png": "[encoded data removed]"
          },
          "metadata": {
            "needs_background": "light"
          }
        },
        {
          "output_type": "display_data",
          "data": {
            "text/plain": [
              "<Figure size 3200x3200 with 0 Axes>"
            ]
          },
          "metadata": {}
        }
      ],
      "source": [
        "fig,ax = plt.subplots(nrows = 2, ncols=10,sharex=True)\n",
        "figure(figsize=(40, 40), dpi=80)\n",
        "for i in range(10):\n",
        "  ax[0][i].imshow(var2[i,:,:,b],cmap=CMAP,norm=NORM)\n",
        "  ax[1][i].imshow(y_test[i,:,:,b],cmap=CMAP,norm=NORM)\n",
        "\n",
        "plt.tight_layout()\n",
        "\n",
        "max = 0\n",
        "for i in np.abs(var1):\n",
        "  if(max<np.amax(i)):\n",
        "    max = np.amax(i)\n",
        "print(\"MAX:\", max)\n",
        "var1.shape"
      ]
    },
    {
      "cell_type": "code",
      "execution_count": null,
      "metadata": {
        "id": "WnnkhIu51PeD",
        "colab": {
          "base_uri": "https://localhost:8080/",
          "height": 283
        },
        "outputId": "1b9adf24-f1af-410a-b288-20a2659f85dd"
      },
      "outputs": [
        {
          "output_type": "execute_result",
          "data": {
            "text/plain": [
              "<matplotlib.image.AxesImage at 0x7fa2340f4850>"
            ]
          },
          "metadata": {},
          "execution_count": 67
        },
        {
          "output_type": "display_data",
          "data": {
            "text/plain": [
              "<Figure size 432x288 with 1 Axes>"
            ],
            "image/png": "[encoded data removed]"
          },
          "metadata": {
            "needs_background": "light"
          }
        }
      ],
      "source": [
        "plt.imshow(labels[0,:,:,0])\n",
        "# labels[0,:,:,0]"
      ]
    },
    {
      "cell_type": "markdown",
      "metadata": {
        "id": "7LNwaycih6Uo"
      },
      "source": [
        "### Model Saving"
      ]
    },
    {
      "cell_type": "code",
      "source": [
        "lossFunc"
      ],
      "metadata": {
        "colab": {
          "base_uri": "https://localhost:8080/",
          "height": 168
        },
        "id": "lTL-kLKArv34",
        "outputId": "953b62ab-51cd-4919-8bd1-722151d0854a"
      },
      "execution_count": null,
      "outputs": [
        {
          "output_type": "error",
          "ename": "NameError",
          "evalue": "ignored",
          "traceback": [
            "\u001b[0;31m---------------------------------------------------------------------------\u001b[0m",
            "\u001b[0;31mNameError\u001b[0m                                 Traceback (most recent call last)",
            "\u001b[0;32m<ipython-input-68-956bd2c28a60>\u001b[0m in \u001b[0;36m<module>\u001b[0;34m()\u001b[0m\n\u001b[0;32m----> 1\u001b[0;31m \u001b[0mlossFunc\u001b[0m\u001b[0;34m\u001b[0m\u001b[0;34m\u001b[0m\u001b[0m\n\u001b[0m",
            "\u001b[0;31mNameError\u001b[0m: name 'lossFunc' is not defined"
          ]
        }
      ]
    },
    {
      "cell_type": "code",
      "source": [
        "# Saving the Model in H5 Format and Loading it (to check if it is same as PB Format)\n",
        "tf.keras.models.save_model(autoencoder, 'autoencoder.h5') # Saving the Model in H5 Format\n",
        "\n",
        "loaded_model_from_h5 = tf.keras.models.load_model('autoencoder.h5',custom_objects={'weighted_cross_entropy': lossFunc}) # Loading the H5 Saved Model\n",
        "print(loaded_model_from_h5.summary())\n"
      ],
      "metadata": {
        "id": "Gm2cGxtdlscA"
      },
      "execution_count": null,
      "outputs": []
    },
    {
      "cell_type": "code",
      "execution_count": null,
      "metadata": {
        "id": "HX91_Mrdh9vd"
      },
      "outputs": [],
      "source": [
        "import pickle\n",
        "def pickleDump(model,name):\n",
        "  with open(name,'wb') as f:\n",
        "    pickle.dump(model,f)\n",
        "def pickleLoad(name):\n",
        "  with open(name,'rb') as f:\n",
        "    m = pickle.load(f)\n",
        "  return m\n",
        "\n",
        "pickleDump(autoencoder,\"autoencoder\")"
      ]
    },
    {
      "cell_type": "markdown",
      "metadata": {
        "id": "eMtBihEVWWxV"
      },
      "source": [
        "## Do not Touch"
      ]
    },
    {
      "cell_type": "markdown",
      "metadata": {
        "id": "uQ2dZNeu6B-L"
      },
      "source": [
        "##### Regression Training"
      ]
    },
    {
      "cell_type": "code",
      "execution_count": null,
      "metadata": {
        "id": "8_naAyAp6M6m"
      },
      "outputs": [],
      "source": [
        "labels_reg = 5 * labels\n",
        "y_test_reg = 5 * y_test\n",
        "np.min(labels1)"
      ]
    },
    {
      "cell_type": "code",
      "execution_count": null,
      "metadata": {
        "id": "-nK6PipyA5eY"
      },
      "outputs": [],
      "source": [
        "def dataProcess(data):\n",
        "  k = []\n",
        "  for i in range(12):\n",
        "    k.append(data[:,:,:,i:i+1])\n",
        "  return k\n",
        "k = dataProcess(inputs)\n",
        "mod_x_test = dataProcess(x_test)"
      ]
    },
    {
      "cell_type": "code",
      "execution_count": null,
      "metadata": {
        "id": "8a25Vn6i6EYe"
      },
      "outputs": [],
      "source": [
        "history_1 = autoencoder.fit(\n",
        "            k, labels,\n",
        "            epochs=300,\n",
        "            validation_data = (mod_x_test,y_test),\n",
        "            batch_size=12,\n",
        "            verbose=2)"
      ]
    }
  ],
  "metadata": {
    "accelerator": "GPU",
    "colab": {
      "collapsed_sections": [
        "uQ2dZNeu6B-L"
      ],
      "machine_shape": "hm",
      "name": "Copy of Sklearn Restored Kai's Exp. readerdataset.ipynb",
      "provenance": [],
      "include_colab_link": true
    },
    "gpuClass": "standard",
    "kernelspec": {
      "display_name": "Python 3",
      "name": "python3"
    },
    "language_info": {
      "name": "python"
    }
  },
  "nbformat": 4,
  "nbformat_minor": 0
}
